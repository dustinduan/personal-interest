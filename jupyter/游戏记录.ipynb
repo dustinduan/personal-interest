{
 "cells": [
  {
   "cell_type": "code",
   "execution_count": null,
   "metadata": {},
   "outputs": [],
   "source": [
    "import os\n",
    "c=input(\"请输入需要记录内容的为游戏名称:(1大航海 2.暗黑2 3.没找到)\")\n",
    "choice={'1':'file1.txt','2':'file2.txt','3':'file3.txt'}\n",
    "target_file=choice[c]\n",
    "os.system('cls')\n",
    "def game_rec(gamefile):\n",
    "    while True:\n",
    "        info=input('请输入需要记录的游戏内容:')+'\\n'\n",
    "        with open(gamefile,'a') as tar:\n",
    "            tar.write(info)\n",
    "game_rec(target_file)\n",
    "\n",
    "    "
   ]
  }
 ],
 "metadata": {
  "kernelspec": {
   "display_name": "Python 3",
   "language": "python",
   "name": "python3"
  },
  "language_info": {
   "codemirror_mode": {
    "name": "ipython",
    "version": 3
   },
   "file_extension": ".py",
   "mimetype": "text/x-python",
   "name": "python",
   "nbconvert_exporter": "python",
   "pygments_lexer": "ipython3",
   "version": "3.7.0"
  }
 },
 "nbformat": 4,
 "nbformat_minor": 2
}
