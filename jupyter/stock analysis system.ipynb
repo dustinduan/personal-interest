{
 "cells": [
  {
   "cell_type": "code",
   "execution_count": null,
   "metadata": {},
   "outputs": [],
   "source": [
    "#股票分析系统实验运行\n"
   ]
  },
  {
   "cell_type": "code",
   "execution_count": null,
   "metadata": {},
   "outputs": [
    {
     "name": "stdout",
     "output_type": "stream",
     "text": [
      "Initializing Stock Analysis System with project path : D:\\personal-interest\\jupyter\n",
      "Load config from D:\\personal-interest\\jupyter\\config.json fail.\n",
      "[Errno 2] No such file or directory: 'D:\\\\personal-interest\\\\jupyter\\\\config.json'\n",
      "Warning: Project path is not available. Please provide a available path in program initialization.\n",
      "Initializing Stock Analysis System with project path : \n",
      "Load config from D:\\personal-interest\\jupyter\\config.json fail.\n",
      "[Errno 2] No such file or directory: 'D:\\\\personal-interest\\\\jupyter\\\\config.json'\n",
      "Load config from config.json fail.\n",
      "[Errno 2] No such file or directory: 'config.json'\n"
     ]
    }
   ],
   "source": [
    "import StockAnalysisSystem.api as sa\n",
    "sa.main()"
   ]
  },
  {
   "cell_type": "code",
   "execution_count": null,
   "metadata": {},
   "outputs": [],
   "source": []
  }
 ],
 "metadata": {
  "kernelspec": {
   "display_name": "Python 3",
   "language": "python",
   "name": "python3"
  },
  "language_info": {
   "codemirror_mode": {
    "name": "ipython",
    "version": 3
   },
   "file_extension": ".py",
   "mimetype": "text/x-python",
   "name": "python",
   "nbconvert_exporter": "python",
   "pygments_lexer": "ipython3",
   "version": "3.7.4"
  }
 },
 "nbformat": 4,
 "nbformat_minor": 4
}
