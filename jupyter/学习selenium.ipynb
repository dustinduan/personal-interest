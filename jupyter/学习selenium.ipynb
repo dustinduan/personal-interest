{
 "cells": [
  {
   "cell_type": "code",
   "execution_count": 2,
   "metadata": {},
   "outputs": [
    {
     "ename": "TimeoutException",
     "evalue": "Message: Timeout loading page after 300000ms\n",
     "output_type": "error",
     "traceback": [
      "\u001b[1;31m---------------------------------------------------------------------------\u001b[0m",
      "\u001b[1;31mTimeoutException\u001b[0m                          Traceback (most recent call last)",
      "\u001b[1;32m<ipython-input-2-2d8d66ad67e1>\u001b[0m in \u001b[0;36m<module>\u001b[1;34m\u001b[0m\n\u001b[0;32m      3\u001b[0m \u001b[0mdriver\u001b[0m\u001b[1;33m.\u001b[0m\u001b[0mimplicitly_wait\u001b[0m\u001b[1;33m(\u001b[0m\u001b[1;36m30\u001b[0m\u001b[1;33m)\u001b[0m\u001b[1;33m\u001b[0m\u001b[1;33m\u001b[0m\u001b[0m\n\u001b[0;32m      4\u001b[0m \u001b[0mdriver\u001b[0m\u001b[1;33m.\u001b[0m\u001b[0mmaximize_window\u001b[0m\u001b[1;33m(\u001b[0m\u001b[1;33m)\u001b[0m\u001b[1;33m\u001b[0m\u001b[1;33m\u001b[0m\u001b[0m\n\u001b[1;32m----> 5\u001b[1;33m \u001b[0mdriver\u001b[0m\u001b[1;33m.\u001b[0m\u001b[0mget\u001b[0m\u001b[1;33m(\u001b[0m\u001b[1;34m\"http://demo.magentocommerce.com/\"\u001b[0m\u001b[1;33m)\u001b[0m\u001b[1;33m\u001b[0m\u001b[1;33m\u001b[0m\u001b[0m\n\u001b[0m\u001b[0;32m      6\u001b[0m \u001b[1;33m\u001b[0m\u001b[0m\n\u001b[0;32m      7\u001b[0m \u001b[0msearch_field\u001b[0m\u001b[1;33m=\u001b[0m\u001b[0mdriver\u001b[0m\u001b[1;33m.\u001b[0m\u001b[0mfind_element_by_name\u001b[0m\u001b[1;33m(\u001b[0m\u001b[1;34m\"q\"\u001b[0m\u001b[1;33m)\u001b[0m\u001b[1;33m\u001b[0m\u001b[1;33m\u001b[0m\u001b[0m\n",
      "\u001b[1;32mi:\\ana\\lib\\site-packages\\selenium\\webdriver\\remote\\webdriver.py\u001b[0m in \u001b[0;36mget\u001b[1;34m(self, url)\u001b[0m\n\u001b[0;32m    331\u001b[0m         \u001b[0mLoads\u001b[0m \u001b[0ma\u001b[0m \u001b[0mweb\u001b[0m \u001b[0mpage\u001b[0m \u001b[1;32min\u001b[0m \u001b[0mthe\u001b[0m \u001b[0mcurrent\u001b[0m \u001b[0mbrowser\u001b[0m \u001b[0msession\u001b[0m\u001b[1;33m.\u001b[0m\u001b[1;33m\u001b[0m\u001b[1;33m\u001b[0m\u001b[0m\n\u001b[0;32m    332\u001b[0m         \"\"\"\n\u001b[1;32m--> 333\u001b[1;33m         \u001b[0mself\u001b[0m\u001b[1;33m.\u001b[0m\u001b[0mexecute\u001b[0m\u001b[1;33m(\u001b[0m\u001b[0mCommand\u001b[0m\u001b[1;33m.\u001b[0m\u001b[0mGET\u001b[0m\u001b[1;33m,\u001b[0m \u001b[1;33m{\u001b[0m\u001b[1;34m'url'\u001b[0m\u001b[1;33m:\u001b[0m \u001b[0murl\u001b[0m\u001b[1;33m}\u001b[0m\u001b[1;33m)\u001b[0m\u001b[1;33m\u001b[0m\u001b[1;33m\u001b[0m\u001b[0m\n\u001b[0m\u001b[0;32m    334\u001b[0m \u001b[1;33m\u001b[0m\u001b[0m\n\u001b[0;32m    335\u001b[0m     \u001b[1;33m@\u001b[0m\u001b[0mproperty\u001b[0m\u001b[1;33m\u001b[0m\u001b[1;33m\u001b[0m\u001b[0m\n",
      "\u001b[1;32mi:\\ana\\lib\\site-packages\\selenium\\webdriver\\remote\\webdriver.py\u001b[0m in \u001b[0;36mexecute\u001b[1;34m(self, driver_command, params)\u001b[0m\n\u001b[0;32m    319\u001b[0m         \u001b[0mresponse\u001b[0m \u001b[1;33m=\u001b[0m \u001b[0mself\u001b[0m\u001b[1;33m.\u001b[0m\u001b[0mcommand_executor\u001b[0m\u001b[1;33m.\u001b[0m\u001b[0mexecute\u001b[0m\u001b[1;33m(\u001b[0m\u001b[0mdriver_command\u001b[0m\u001b[1;33m,\u001b[0m \u001b[0mparams\u001b[0m\u001b[1;33m)\u001b[0m\u001b[1;33m\u001b[0m\u001b[1;33m\u001b[0m\u001b[0m\n\u001b[0;32m    320\u001b[0m         \u001b[1;32mif\u001b[0m \u001b[0mresponse\u001b[0m\u001b[1;33m:\u001b[0m\u001b[1;33m\u001b[0m\u001b[1;33m\u001b[0m\u001b[0m\n\u001b[1;32m--> 321\u001b[1;33m             \u001b[0mself\u001b[0m\u001b[1;33m.\u001b[0m\u001b[0merror_handler\u001b[0m\u001b[1;33m.\u001b[0m\u001b[0mcheck_response\u001b[0m\u001b[1;33m(\u001b[0m\u001b[0mresponse\u001b[0m\u001b[1;33m)\u001b[0m\u001b[1;33m\u001b[0m\u001b[1;33m\u001b[0m\u001b[0m\n\u001b[0m\u001b[0;32m    322\u001b[0m             response['value'] = self._unwrap_value(\n\u001b[0;32m    323\u001b[0m                 response.get('value', None))\n",
      "\u001b[1;32mi:\\ana\\lib\\site-packages\\selenium\\webdriver\\remote\\errorhandler.py\u001b[0m in \u001b[0;36mcheck_response\u001b[1;34m(self, response)\u001b[0m\n\u001b[0;32m    240\u001b[0m                 \u001b[0malert_text\u001b[0m \u001b[1;33m=\u001b[0m \u001b[0mvalue\u001b[0m\u001b[1;33m[\u001b[0m\u001b[1;34m'alert'\u001b[0m\u001b[1;33m]\u001b[0m\u001b[1;33m.\u001b[0m\u001b[0mget\u001b[0m\u001b[1;33m(\u001b[0m\u001b[1;34m'text'\u001b[0m\u001b[1;33m)\u001b[0m\u001b[1;33m\u001b[0m\u001b[1;33m\u001b[0m\u001b[0m\n\u001b[0;32m    241\u001b[0m             \u001b[1;32mraise\u001b[0m \u001b[0mexception_class\u001b[0m\u001b[1;33m(\u001b[0m\u001b[0mmessage\u001b[0m\u001b[1;33m,\u001b[0m \u001b[0mscreen\u001b[0m\u001b[1;33m,\u001b[0m \u001b[0mstacktrace\u001b[0m\u001b[1;33m,\u001b[0m \u001b[0malert_text\u001b[0m\u001b[1;33m)\u001b[0m\u001b[1;33m\u001b[0m\u001b[1;33m\u001b[0m\u001b[0m\n\u001b[1;32m--> 242\u001b[1;33m         \u001b[1;32mraise\u001b[0m \u001b[0mexception_class\u001b[0m\u001b[1;33m(\u001b[0m\u001b[0mmessage\u001b[0m\u001b[1;33m,\u001b[0m \u001b[0mscreen\u001b[0m\u001b[1;33m,\u001b[0m \u001b[0mstacktrace\u001b[0m\u001b[1;33m)\u001b[0m\u001b[1;33m\u001b[0m\u001b[1;33m\u001b[0m\u001b[0m\n\u001b[0m\u001b[0;32m    243\u001b[0m \u001b[1;33m\u001b[0m\u001b[0m\n\u001b[0;32m    244\u001b[0m     \u001b[1;32mdef\u001b[0m \u001b[0m_value_or_default\u001b[0m\u001b[1;33m(\u001b[0m\u001b[0mself\u001b[0m\u001b[1;33m,\u001b[0m \u001b[0mobj\u001b[0m\u001b[1;33m,\u001b[0m \u001b[0mkey\u001b[0m\u001b[1;33m,\u001b[0m \u001b[0mdefault\u001b[0m\u001b[1;33m)\u001b[0m\u001b[1;33m:\u001b[0m\u001b[1;33m\u001b[0m\u001b[1;33m\u001b[0m\u001b[0m\n",
      "\u001b[1;31mTimeoutException\u001b[0m: Message: Timeout loading page after 300000ms\n"
     ]
    }
   ],
   "source": [
    "from selenium import webdriver as we\n",
    "driver=we.Firefox()\n",
    "driver.implicitly_wait(30)\n",
    "driver.maximize_window()\n",
    "driver.get(\"http://demo.magentocommerce.com/\")\n",
    "\n",
    "search_field=driver.find_element_by_name(\"q\")\n",
    "search_field.clear()\n",
    "\n",
    "search_field.send_keys(\"phones\")\n",
    "search_field.submit()\n",
    "#//*[@id=\"content\"]/text()[58]\n",
    "products=driver.find_elements_by_xpath(\"//h2[@class='product-name']/a\")\n",
    "print(\"Found\"+str(len(products))+\"products:\")\n",
    "\n",
    "for i in products:\n",
    "    print(i.text)\n",
    "    \n",
    "driver.quit()"
   ]
  },
  {
   "cell_type": "code",
   "execution_count": 13,
   "metadata": {
    "scrolled": true
   },
   "outputs": [
    {
     "name": "stdout",
     "output_type": "stream",
     "text": [
      "<class 'str'>\n"
     ]
    }
   ],
   "source": [
    "#用于新笔趣阁\n",
    "from selenium import webdriver as we\n",
    "from selenium.webdriver.common.keys import Keys as ky\n",
    "driver=we.Firefox()\n",
    "driver.implicitly_wait(30)\n",
    "driver.maximize_window()\n",
    "\n",
    "url='http://www.xbiquge.la/17/17008/8847394.html  '\n",
    "#//*[@id=\"content\"] //*[@id=\"content\"]\n",
    "driver.get(url)\n",
    "#products=driver.find_elements_by_xpath(\"//*[@id=\"content\"]/text()\")\n",
    "data = driver.find_element_by_id(\"content\").text\n",
    "print(type(data))    "
   ]
  },
  {
   "cell_type": "code",
   "execution_count": 11,
   "metadata": {},
   "outputs": [
    {
     "name": "stdout",
     "output_type": "stream",
     "text": [
      "    相较于赵慕白第一次碰到的猎杀者，如今的这一头猎杀者身形更加纤细的同时，灰黑色流线型的肌肉让它拥有更强的爆发力！\n",
      "\n",
      "    “当啷！”\n",
      "\n",
      "    清脆的钢铁交鸣声响起，赵慕白手中的掠星刃枪竟然如同软鞭一般，在抽打在丧尸的身上后被反冲力弯曲了回来，精巧无比的格挡住了猎杀者的双爪！\n",
      "\n",
      "    掠星刃枪由星界能量凝聚而成，所以拥有着寻常武器所不具有的特性，既可以当做龙枪也可以当做长枪使用，刚柔并济是赵慕白手中这把掠星刃枪的特点之一！\n",
      "\n",
      "    站在队伍的最前方，这一刻赵慕白彻底化身为绞肉机，掠星刃枪在赵慕白的操控下快速旋转，但凡被其刮到的丧尸各种残肢断臂纷飞！\n",
      "\n",
      "    “桀！”\n",
      "\n",
      "    猎杀者一击不中之后立马隐匿在尸群当中，但一双骨节狰狞的利爪之上却被赵慕白给直接用掠星刃枪给劈掉了一大半！\n",
      "\n",
      "    “快！快！快！跟上！”\n",
      "\n",
      "    班长一看似乎有活下去的希望，浑身上下不知道从哪涌出了无穷无尽的力量，手中步枪连连咆哮，点射掉靠近过来的丧尸，跟在赵慕白后面寸步不离！\n",
      "\n",
      "    “班长！我没子弹了！”跟在最后面的一名战士突然喊道！\n",
      "\n",
      "    “接着！”\n",
      "\n",
      "    这名班长将仅存的两个弹匣的其中一个扔了过去，可惜刚刚扔过去没等这名士兵接住，猎杀者竟然再次出现！\n",
      "\n",
      "    “噗嗤！”\n",
      "\n",
      "    断了一半的利爪并没有妨碍到猎杀者的杀戮，另一只完好无损的大手干脆利落的从士兵的胸膛穿过！\n",
      "\n",
      "    一颗猩红色的心脏出现在了猎杀者的手中！\n",
      "\n",
      "    “大个！”\n",
      "\n",
      "    班长目呲俱裂的看着眼前的这一幕，这已经是第四名倒在这个怪物手下的士兵了！转眼自己这个班一半的士兵都牺牲了！\n",
      "\n",
      "    “跟紧我，不要分神！”\n",
      "\n",
      "    最前方的赵慕白手中掠星刃枪如新月般向丧尸横扫过去，所过之处丧尸尽皆被抽成了两半！\n",
      "\n",
      "    “所有人跟上！所有手雷全部都给我扔出去！”\n",
      "\n",
      "    班长听后虎躯一震，也顾不得抹掉眼角的泪花，将已经没有了子弹的步枪快速上弹。\n",
      "\n",
      "    “轰！”“轰！”“轰！”\n",
      "\n",
      "    整整七颗手雷同时爆炸开来，巨大的爆炸威力让黑压压的尸群出现了一片空白，污血夹杂着肉糜如同下雨一般，哗啦啦的落了一地！\n",
      "\n",
      "    “再坚持住，还有不到二十米的距离！”\n",
      "\n",
      "    赵慕白望着前方已经稀松的丧尸群后心中一松，长时间凝聚掠星刃枪是极其消耗体力的，即便是现在的赵慕白也仅仅只能保持两个小时而已！\n",
      "\n",
      "    这还是说他什么都不干，就保持凝聚掠星刃枪！\n",
      "\n",
      "    如今高强度的战斗加上还需要掌控掠星刃枪，已经让赵慕白的体力出现了严重的消耗！\n",
      "\n",
      "    “桀！”\n",
      "\n",
      "    如同跗骨之蛆一般的猎杀者再次来袭，只不过这一次他的目标变成了赵慕白！\n",
      "\n",
      "    “还敢来？”\n",
      "\n",
      "    猎杀者出现的瞬间，赵慕白便发现了他的踪影，能够在尸群当中如此快速奔袭的除了它以外还能有谁？\n",
      "\n",
      "    猎杀者刁钻的从赵慕白侧面杀出，狡猾而又充斥着杀意的眼神让人不寒而栗！一只上面还充满着人血的利爪直接掏向赵慕白的软肋！\n",
      "\n",
      "    赵慕白手中掠星刃枪直接从腋下斜刺而出，湛紫色的枪柄在和猎杀者利爪碰触在一起的同时，强烈的腐蚀性瞬间让猎杀者的利爪变得坑坑巴巴的了！\n",
      "\n",
      "    “给我趴下吧！”\n",
      "\n",
      "    一而再，再而三的偷袭自己，赵慕白怎么能够忍下这口气，正所谓泥人还有三分脾气呢，何况是赵慕白了呢！\n",
      "\n",
      "    双手向手中掠星刃枪施力，莫大的力道顺着掠星刃枪压在猎杀者的利爪之上。\n",
      "\n",
      "    “噗通！”\n",
      "\n",
      "    巨大的力道之下猎杀者直接跪倒在了地上，作为敏捷型丧尸，猎杀者向来都是一击不中立马远遁，何尝与人正面硬拼过！\n",
      "\n",
      "    几番挣扎，但赵慕白手中的掠星刃枪简直就如同大山一般无论它如何使力都纹丝不动！\n",
      "\n",
      "    “死吧！”\n",
      "\n",
      "    赵慕白残忍一笑，掠星刃枪猛地一下压。“咔嚓！”大量的污血从猎杀者的断口出喷涌而出，沾满着鲜血的利爪掉在了地上。\n",
      "\n",
      "    “桀！”\n",
      "\n",
      "    猎杀者最引以为豪的一双利爪，一只被废、另一只干脆被砍掉！这让猎杀者彻底的疯狂了！\n",
      "\n",
      "    但是如今已经失去了双爪的猎杀者根本就是个无牙的老虎，深紫色闪烁着点点黑芒的枪刃一挑。\n",
      "\n",
      "    从胸口到下颌，猎杀者直接被赵慕白给挑了个透心凉！\n",
      "\n",
      "    杀掉了猎杀者，赵慕白也来不及去拾取它头颅内的晶核，自己的体力已经消耗的差不多了，最多还能坚持十分钟，如果十分钟逃不出去，恐怕自己都得折在这里！\n",
      "\n",
      "    单手一拉将一只距离自己仅仅只有半米不到，都已经清晰的可见看见其嘴中蠕动尸蛆的丧尸给拉了过来。\n",
      "\n",
      "    赵慕白干脆将其给当成了沙包，抓住胳膊顺势就给扔了出去！\n",
      "\n",
      "    大量丧尸被撞到的同时，那头被赵慕白当做沙包的倒霉丧尸也在巨力之下给摔成了几截！\n",
      "\n",
      "    掠星刃枪倒提赵慕白一脚踹到眼前的丧尸，豁然弯腰掠星刃枪在后背旋转一圈顺势刮倒一片丧尸！\n",
      "\n",
      "    “噗嗤！”\n",
      "\n",
      "    再次将眼前的最后一头丧尸刺穿脑袋，赵慕白突然感觉眼前豁然一亮，原来自己已经从尸群当中冲了出来！\n",
      "\n",
      "    而此时跟在他后面的几名士兵也陆续跑了出来！\n",
      "\n",
      "    “嗬！嗬！”\n",
      "\n",
      "    丧尸们依旧在不依不饶的跟在众人身后，他们对鲜血和活人的渴望促使着他们快速向赵慕白等人袭来！\n",
      "\n",
      "    单手虚握将掠星刃枪驱散，赵慕白再次将掠空星刃凝聚在手中。\n",
      "\n",
      "    “快点，不要停！跟上我！”\n",
      "\n",
      "    一个闪身躲过一头丧尸的血盆大口赵慕白十分干脆的向前方跑去，此时他们距离边防总队聚集地已经剩下了不到几千米的距离！\n",
      "\n",
      "    远远地甚至都可以看见驻守在门口沙包处荷枪实弹的士兵！\n",
      "\n",
      "    （未完待续）\n",
      "\n",
      "    Ps：就是很无耻的向大家求一下推荐票，请大家给我点动力呗，嘿嘿嘿，还有欢迎大家加入到书友群和我讨论一下剧情哦！\n",
      "\n",
      "亲,点击进去,给个好评呗,分数越高更新越快,据说给新笔趣阁打满分的最后都找到了漂亮的老婆哦!\n",
      "手机站全新改版升级地址：http://m.xbiquge.la，数据和书签与电脑站同步，无广告清新阅读！\n"
     ]
    }
   ],
   "source": [
    "print(data)"
   ]
  },
  {
   "cell_type": "code",
   "execution_count": 12,
   "metadata": {},
   "outputs": [],
   "source": [
    "driver.close()"
   ]
  },
  {
   "cell_type": "code",
   "execution_count": 16,
   "metadata": {},
   "outputs": [],
   "source": [
    "with open('e:/result/save.txt','a') as tar:\n",
    "    tar.write(data)"
   ]
  },
  {
   "cell_type": "code",
   "execution_count": 1,
   "metadata": {},
   "outputs": [],
   "source": [
    "from selenium import webdriver as we\n",
    "from selenium.webdriver.common.keys import Keys as ky\n",
    "driver=we.Firefox()\n",
    "driver.implicitly_wait(30)\n",
    "driver.maximize_window()\n",
    "\n",
    "url='https://www.mzitu.com/236347'\n",
    "\n",
    "driver.get(url)\n",
    "\n"
   ]
  },
  {
   "cell_type": "code",
   "execution_count": null,
   "metadata": {},
   "outputs": [],
   "source": []
  },
  {
   "cell_type": "code",
   "execution_count": 10,
   "metadata": {},
   "outputs": [],
   "source": [
    "data=driver.find_elements_by_tag_name(\"img\")"
   ]
  },
  {
   "cell_type": "code",
   "execution_count": 11,
   "metadata": {},
   "outputs": [
    {
     "name": "stdout",
     "output_type": "stream",
     "text": [
      "<selenium.webdriver.firefox.webelement.FirefoxWebElement (session=\"762bfb96-40dd-409c-9a22-caa80c45fe1b\", element=\"84e9c5c3-8a75-457c-80b8-f709bba0b866\")>\n",
      "<selenium.webdriver.firefox.webelement.FirefoxWebElement (session=\"762bfb96-40dd-409c-9a22-caa80c45fe1b\", element=\"a6003ec5-0e4a-4891-9fb9-85f2b803bc7d\")>\n",
      "<selenium.webdriver.firefox.webelement.FirefoxWebElement (session=\"762bfb96-40dd-409c-9a22-caa80c45fe1b\", element=\"95da1a4c-6b08-4d53-be20-8aa6f2a3a369\")>\n",
      "<selenium.webdriver.firefox.webelement.FirefoxWebElement (session=\"762bfb96-40dd-409c-9a22-caa80c45fe1b\", element=\"fda5525e-38f0-4869-9a01-ed880199b9c7\")>\n",
      "<selenium.webdriver.firefox.webelement.FirefoxWebElement (session=\"762bfb96-40dd-409c-9a22-caa80c45fe1b\", element=\"ab659861-3436-4d29-bee3-a4baf8f3b272\")>\n",
      "<selenium.webdriver.firefox.webelement.FirefoxWebElement (session=\"762bfb96-40dd-409c-9a22-caa80c45fe1b\", element=\"675fa0c8-9a58-4dd0-a620-209aa7d735e3\")>\n",
      "<selenium.webdriver.firefox.webelement.FirefoxWebElement (session=\"762bfb96-40dd-409c-9a22-caa80c45fe1b\", element=\"cbe1c430-fb81-4c00-9ed4-68564e7772e5\")>\n",
      "<selenium.webdriver.firefox.webelement.FirefoxWebElement (session=\"762bfb96-40dd-409c-9a22-caa80c45fe1b\", element=\"ae2df924-1f11-4812-89e6-c67d5e625511\")>\n",
      "<selenium.webdriver.firefox.webelement.FirefoxWebElement (session=\"762bfb96-40dd-409c-9a22-caa80c45fe1b\", element=\"e1536bf4-9e4e-4ed4-bca4-ff5f20a6007d\")>\n",
      "<selenium.webdriver.firefox.webelement.FirefoxWebElement (session=\"762bfb96-40dd-409c-9a22-caa80c45fe1b\", element=\"bf0403ca-f849-4f8f-9d50-8d651dc47402\")>\n",
      "<selenium.webdriver.firefox.webelement.FirefoxWebElement (session=\"762bfb96-40dd-409c-9a22-caa80c45fe1b\", element=\"fefc6dd1-2eec-4007-aea7-64770f9bdd4d\")>\n",
      "<selenium.webdriver.firefox.webelement.FirefoxWebElement (session=\"762bfb96-40dd-409c-9a22-caa80c45fe1b\", element=\"e40df199-7b2e-4c2c-bae0-433cb926a7bc\")>\n",
      "<selenium.webdriver.firefox.webelement.FirefoxWebElement (session=\"762bfb96-40dd-409c-9a22-caa80c45fe1b\", element=\"8dc977b0-ec51-46de-8d15-f3e2defeede0\")>\n"
     ]
    }
   ],
   "source": [
    "for i in data:\n",
    "    print(i)"
   ]
  },
  {
   "cell_type": "code",
   "execution_count": null,
   "metadata": {},
   "outputs": [],
   "source": [
    "<img class=\"\" src=\"https://i3.mmzztt.com/2020/06/16b01.jpg\" alt=\"性感美女安然Maleah情趣空姐主题写真 曼妙身姿妩媚动人\" width=\"700\" height=\"1050\">"
   ]
  }
 ],
 "metadata": {
  "kernelspec": {
   "display_name": "Python 3",
   "language": "python",
   "name": "python3"
  },
  "language_info": {
   "codemirror_mode": {
    "name": "ipython",
    "version": 3
   },
   "file_extension": ".py",
   "mimetype": "text/x-python",
   "name": "python",
   "nbconvert_exporter": "python",
   "pygments_lexer": "ipython3",
   "version": "3.7.4"
  }
 },
 "nbformat": 4,
 "nbformat_minor": 2
}
