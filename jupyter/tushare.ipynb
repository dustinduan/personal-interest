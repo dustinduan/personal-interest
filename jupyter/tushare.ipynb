{
 "cells": [
  {
   "cell_type": "code",
   "execution_count": 1,
   "metadata": {},
   "outputs": [],
   "source": [
    "import tushare as ts"
   ]
  },
  {
   "cell_type": "code",
   "execution_count": 2,
   "metadata": {},
   "outputs": [],
   "source": [
    "in_path='e:/material/'\n",
    "out_path='e:/result/'"
   ]
  },
  {
   "cell_type": "code",
   "execution_count": 3,
   "metadata": {
    "scrolled": true
   },
   "outputs": [
    {
     "name": "stdout",
     "output_type": "stream",
     "text": [
      "请输入需要保存的文件名称:存款利率\n",
      "e:/result/存款利率.csv\n"
     ]
    }
   ],
   "source": [
    "out_file=out_path+input('请输入需要保存的文件名称:')+'.csv'\n",
    "print(out_file)\n",
    "#事先准备输出的额CSV文件"
   ]
  },
  {
   "cell_type": "code",
   "execution_count": 10,
   "metadata": {},
   "outputs": [
    {
     "name": "stdout",
     "output_type": "stream",
     "text": [
      "请输入股票代码:600035\n"
     ]
    }
   ],
   "source": [
    "code=input('请输入股票代码:')\n",
    "out_file=out_path+code+'.csv'\n",
    "df = ts.get_hist_data(code)\n",
    "#直接保存\n",
    "df.to_csv(out_file)\n",
    "\n",
    "#选择保存\n",
    "#df.to_csv(out_file,columns=['open','high','low','close'])"
   ]
  },
  {
   "cell_type": "code",
   "execution_count": null,
   "metadata": {},
   "outputs": [],
   "source": []
  }
 ],
 "metadata": {
  "kernelspec": {
   "display_name": "Python 3",
   "language": "python",
   "name": "python3"
  },
  "language_info": {
   "codemirror_mode": {
    "name": "ipython",
    "version": 3
   },
   "file_extension": ".py",
   "mimetype": "text/x-python",
   "name": "python",
   "nbconvert_exporter": "python",
   "pygments_lexer": "ipython3",
   "version": "3.7.4"
  }
 },
 "nbformat": 4,
 "nbformat_minor": 4
}
