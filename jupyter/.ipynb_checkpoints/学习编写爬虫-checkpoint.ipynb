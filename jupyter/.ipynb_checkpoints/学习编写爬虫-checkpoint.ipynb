{
 "cells": [
  {
   "cell_type": "markdown",
   "metadata": {},
   "source": [
    "网络爬取之前的贮备工作\n",
    "    检查robet.txt文件\n",
    "    检查sitemap文件内容\n",
    "    估算网站大小（渐变方法是通过google搜索site：+网络地址的方法来粗略确认网站的大小）\n",
    "    识别网站使用的技术（builtwith.parse(网络主机地址)）可以显示网站的信息,见下面的例子\n",
    "    寻找网站所有者（通过whois模块）\n",
    "    "
   ]
  },
  {
   "cell_type": "code",
   "execution_count": null,
   "metadata": {},
   "outputs": [],
   "source": [
    "#设定固定的文件夹\n",
    "in_path='D:/material/'\n",
    "out_path='D:/result/'"
   ]
  },
  {
   "cell_type": "code",
   "execution_count": 6,
   "metadata": {},
   "outputs": [],
   "source": [
    "#设定多个agent\n",
    "import urllib.request as ul\n",
    "import requests as rq\n",
    "import urllib\n",
    "from bs4 import BeautifulSoup as bl\n",
    "import random\n",
    "import re\n",
    "auto_headers = [\"Mozilla/5.0 (Windows NT 6.3; WOW64) AppleWebKit/537.36 (KHTML, like Gecko) Chrome/39.0.2171.95 Safari/537.36\",\n",
    "    \"Mozilla/5.0 (Macintosh; Intel Mac OS X 10_9_2) AppleWebKit/537.36 (KHTML, like Gecko) Chrome/35.0.1916.153 Safari/537.36\",\n",
    "    \"Mozilla/5.0 (Windows NT 6.1; WOW64; rv:30.0) Gecko/20100101 Firefox/30.0\",\n",
    "    \"Mozilla/5.0 (Macintosh; Intel Mac OS X 10_9_2) AppleWebKit/537.75.14 (KHTML, like Gecko) Version/7.0.3 Safari/537.75.14\",\n",
    "    \"Mozilla/5.0 (compatible; MSIE 10.0; Windows NT 6.2; Win64; x64; Trident/6.0)\",\n",
    "    'Mozilla/5.0 (Windows; U; Windows NT 5.1; it; rv:1.8.1.11) Gecko/20071127 Firefox/2.0.0.11',\n",
    "    'Opera/9.25 (Windows NT 5.1; U; en)',\n",
    "    'Mozilla/4.0 (compatible; MSIE 6.0; Windows NT 5.1; SV1; .NET CLR 1.1.4322; .NET CLR 2.0.50727)',\n",
    "    'Mozilla/5.0 (compatible; Konqueror/3.5; Linux) KHTML/3.5.5 (like Gecko) (Kubuntu)',\n",
    "    'Mozilla/5.0 (X11; U; Linux i686; en-US; rv:1.8.0.12) Gecko/20070731 Ubuntu/dapper-security Firefox/1.5.0.12',\n",
    "    'Lynx/2.8.5rel.1 libwww-FM/2.14 SSL-MM/1.4.1 GNUTLS/1.2.9',\n",
    "    \"Mozilla/5.0 (X11; Linux i686) AppleWebKit/535.7 (KHTML, like Gecko) Ubuntu/11.04 Chromium/16.0.912.77 Chrome/16.0.912.77 Safari/535.7\",\n",
    "    \"Mozilla/5.0 (X11; Ubuntu; Linux i686; rv:10.0) Gecko/20100101 Firefox/10.0\",\n",
    "    'Mozilla/5.0 (Windows NT 10.0; Win64; x64) AppleWebKit/537.36 (KHTML, like Gecko) Chrome/54.0.2840.99 Safari/537.36']\n",
    "\n",
    "global headers\n",
    "headers = {'User-Agent': random.choice(auto_headers)}"
   ]
  },
  {
   "cell_type": "code",
   "execution_count": null,
   "metadata": {},
   "outputs": [],
   "source": [
    "old_url = 'https://www.sosody.net/v/80806-2-0.html'\n",
    "req = ul.Request(old_url)\n",
    "response = ul.urlopen(req)\n",
    "print ('Old_url:' + old_url)\n",
    "print ('Real_url:' + response.geturl())"
   ]
  },
  {
   "cell_type": "code",
   "execution_count": 9,
   "metadata": {
    "scrolled": false
   },
   "outputs": [
    {
     "name": "stdout",
     "output_type": "stream",
     "text": [
      "['Nginx']\n",
      "['Web2py', 'Twitter Bootstrap']\n",
      "['Python']\n",
      "['jQuery', 'Modernizr', 'jQuery UI']\n",
      "\n",
      "\n",
      "\n",
      "\n"
     ]
    },
    {
     "ename": "timeout",
     "evalue": "timed out",
     "output_type": "error",
     "traceback": [
      "\u001b[1;31m---------------------------------------------------------------------------\u001b[0m",
      "\u001b[1;31mtimeout\u001b[0m                                   Traceback (most recent call last)",
      "\u001b[1;32m<ipython-input-9-55292a8466f2>\u001b[0m in \u001b[0;36m<module>\u001b[1;34m\u001b[0m\n\u001b[0;32m      6\u001b[0m     \u001b[0mprint\u001b[0m\u001b[1;33m(\u001b[0m\u001b[0mdata\u001b[0m\u001b[1;33m[\u001b[0m\u001b[0mi\u001b[0m\u001b[1;33m]\u001b[0m\u001b[1;33m)\u001b[0m\u001b[1;33m\u001b[0m\u001b[1;33m\u001b[0m\u001b[0m\n\u001b[0;32m      7\u001b[0m \u001b[0mprint\u001b[0m\u001b[1;33m(\u001b[0m\u001b[1;34m'\\n\\n\\n'\u001b[0m\u001b[1;33m)\u001b[0m\u001b[1;33m\u001b[0m\u001b[1;33m\u001b[0m\u001b[0m\n\u001b[1;32m----> 8\u001b[1;33m \u001b[0mdata\u001b[0m\u001b[1;33m=\u001b[0m\u001b[0mwhois\u001b[0m\u001b[1;33m.\u001b[0m\u001b[0mwhois\u001b[0m\u001b[1;33m(\u001b[0m\u001b[0mwebsite\u001b[0m\u001b[1;33m)\u001b[0m\u001b[1;33m\u001b[0m\u001b[1;33m\u001b[0m\u001b[0m\n\u001b[0m\u001b[0;32m      9\u001b[0m \u001b[1;32mfor\u001b[0m \u001b[0mi\u001b[0m \u001b[1;32min\u001b[0m \u001b[0mdata\u001b[0m\u001b[1;33m:\u001b[0m\u001b[1;33m\u001b[0m\u001b[1;33m\u001b[0m\u001b[0m\n\u001b[0;32m     10\u001b[0m     \u001b[0mprint\u001b[0m\u001b[1;33m(\u001b[0m\u001b[0mdata\u001b[0m\u001b[1;33m[\u001b[0m\u001b[0mi\u001b[0m\u001b[1;33m]\u001b[0m\u001b[1;33m)\u001b[0m\u001b[1;33m\u001b[0m\u001b[1;33m\u001b[0m\u001b[0m\n",
      "\u001b[1;32md:\\ana\\lib\\site-packages\\whois\\__init__.py\u001b[0m in \u001b[0;36mwhois\u001b[1;34m(url, command, flags)\u001b[0m\n\u001b[0;32m     41\u001b[0m         \u001b[1;31m# try builtin client\u001b[0m\u001b[1;33m\u001b[0m\u001b[1;33m\u001b[0m\u001b[1;33m\u001b[0m\u001b[0m\n\u001b[0;32m     42\u001b[0m         \u001b[0mnic_client\u001b[0m \u001b[1;33m=\u001b[0m \u001b[0mNICClient\u001b[0m\u001b[1;33m(\u001b[0m\u001b[1;33m)\u001b[0m\u001b[1;33m\u001b[0m\u001b[1;33m\u001b[0m\u001b[0m\n\u001b[1;32m---> 43\u001b[1;33m         \u001b[0mtext\u001b[0m \u001b[1;33m=\u001b[0m \u001b[0mnic_client\u001b[0m\u001b[1;33m.\u001b[0m\u001b[0mwhois_lookup\u001b[0m\u001b[1;33m(\u001b[0m\u001b[1;32mNone\u001b[0m\u001b[1;33m,\u001b[0m \u001b[0mdomain\u001b[0m\u001b[1;33m.\u001b[0m\u001b[0mencode\u001b[0m\u001b[1;33m(\u001b[0m\u001b[1;34m'idna'\u001b[0m\u001b[1;33m)\u001b[0m\u001b[1;33m,\u001b[0m \u001b[0mflags\u001b[0m\u001b[1;33m)\u001b[0m\u001b[1;33m\u001b[0m\u001b[1;33m\u001b[0m\u001b[0m\n\u001b[0m\u001b[0;32m     44\u001b[0m     \u001b[1;32mreturn\u001b[0m \u001b[0mWhoisEntry\u001b[0m\u001b[1;33m.\u001b[0m\u001b[0mload\u001b[0m\u001b[1;33m(\u001b[0m\u001b[0mdomain\u001b[0m\u001b[1;33m,\u001b[0m \u001b[0mtext\u001b[0m\u001b[1;33m)\u001b[0m\u001b[1;33m\u001b[0m\u001b[1;33m\u001b[0m\u001b[0m\n\u001b[0;32m     45\u001b[0m \u001b[1;33m\u001b[0m\u001b[0m\n",
      "\u001b[1;32md:\\ana\\lib\\site-packages\\whois\\whois.py\u001b[0m in \u001b[0;36mwhois_lookup\u001b[1;34m(self, options, query_arg, flags)\u001b[0m\n\u001b[0;32m    262\u001b[0m             \u001b[0mnichost\u001b[0m \u001b[1;33m=\u001b[0m \u001b[0mself\u001b[0m\u001b[1;33m.\u001b[0m\u001b[0mchoose_server\u001b[0m\u001b[1;33m(\u001b[0m\u001b[0mquery_arg\u001b[0m\u001b[1;33m)\u001b[0m\u001b[1;33m\u001b[0m\u001b[1;33m\u001b[0m\u001b[0m\n\u001b[0;32m    263\u001b[0m             \u001b[1;32mif\u001b[0m \u001b[0mnichost\u001b[0m \u001b[1;32mis\u001b[0m \u001b[1;32mnot\u001b[0m \u001b[1;32mNone\u001b[0m\u001b[1;33m:\u001b[0m\u001b[1;33m\u001b[0m\u001b[1;33m\u001b[0m\u001b[0m\n\u001b[1;32m--> 264\u001b[1;33m                 \u001b[0mresult\u001b[0m \u001b[1;33m=\u001b[0m \u001b[0mself\u001b[0m\u001b[1;33m.\u001b[0m\u001b[0mwhois\u001b[0m\u001b[1;33m(\u001b[0m\u001b[0mquery_arg\u001b[0m\u001b[1;33m,\u001b[0m \u001b[0mnichost\u001b[0m\u001b[1;33m,\u001b[0m \u001b[0mflags\u001b[0m\u001b[1;33m)\u001b[0m\u001b[1;33m\u001b[0m\u001b[1;33m\u001b[0m\u001b[0m\n\u001b[0m\u001b[0;32m    265\u001b[0m             \u001b[1;32melse\u001b[0m\u001b[1;33m:\u001b[0m\u001b[1;33m\u001b[0m\u001b[1;33m\u001b[0m\u001b[0m\n\u001b[0;32m    266\u001b[0m                 \u001b[0mresult\u001b[0m \u001b[1;33m=\u001b[0m \u001b[1;34m''\u001b[0m\u001b[1;33m\u001b[0m\u001b[1;33m\u001b[0m\u001b[0m\n",
      "\u001b[1;32md:\\ana\\lib\\site-packages\\whois\\whois.py\u001b[0m in \u001b[0;36mwhois\u001b[1;34m(self, query, hostname, flags, many_results)\u001b[0m\n\u001b[0;32m    173\u001b[0m             \u001b[0mnhost\u001b[0m \u001b[1;33m=\u001b[0m \u001b[0mself\u001b[0m\u001b[1;33m.\u001b[0m\u001b[0mfindwhois_server\u001b[0m\u001b[1;33m(\u001b[0m\u001b[0mresponse\u001b[0m\u001b[1;33m,\u001b[0m \u001b[0mhostname\u001b[0m\u001b[1;33m,\u001b[0m \u001b[0mquery\u001b[0m\u001b[1;33m)\u001b[0m\u001b[1;33m\u001b[0m\u001b[1;33m\u001b[0m\u001b[0m\n\u001b[0;32m    174\u001b[0m         \u001b[1;32mif\u001b[0m \u001b[0mnhost\u001b[0m \u001b[1;32mis\u001b[0m \u001b[1;32mnot\u001b[0m \u001b[1;32mNone\u001b[0m\u001b[1;33m:\u001b[0m\u001b[1;33m\u001b[0m\u001b[1;33m\u001b[0m\u001b[0m\n\u001b[1;32m--> 175\u001b[1;33m             \u001b[0mresponse\u001b[0m \u001b[1;33m+=\u001b[0m \u001b[0mself\u001b[0m\u001b[1;33m.\u001b[0m\u001b[0mwhois\u001b[0m\u001b[1;33m(\u001b[0m\u001b[0mquery\u001b[0m\u001b[1;33m,\u001b[0m \u001b[0mnhost\u001b[0m\u001b[1;33m,\u001b[0m \u001b[1;36m0\u001b[0m\u001b[1;33m)\u001b[0m\u001b[1;33m\u001b[0m\u001b[1;33m\u001b[0m\u001b[0m\n\u001b[0m\u001b[0;32m    176\u001b[0m         \u001b[1;32mreturn\u001b[0m \u001b[0mresponse\u001b[0m\u001b[1;33m\u001b[0m\u001b[1;33m\u001b[0m\u001b[0m\n\u001b[0;32m    177\u001b[0m \u001b[1;33m\u001b[0m\u001b[0m\n",
      "\u001b[1;32md:\\ana\\lib\\site-packages\\whois\\whois.py\u001b[0m in \u001b[0;36mwhois\u001b[1;34m(self, query, hostname, flags, many_results)\u001b[0m\n\u001b[0;32m    140\u001b[0m             \u001b[0ms\u001b[0m \u001b[1;33m=\u001b[0m \u001b[0msocket\u001b[0m\u001b[1;33m.\u001b[0m\u001b[0msocket\u001b[0m\u001b[1;33m(\u001b[0m\u001b[0msocket\u001b[0m\u001b[1;33m.\u001b[0m\u001b[0mAF_INET\u001b[0m\u001b[1;33m,\u001b[0m \u001b[0msocket\u001b[0m\u001b[1;33m.\u001b[0m\u001b[0mSOCK_STREAM\u001b[0m\u001b[1;33m)\u001b[0m\u001b[1;33m\u001b[0m\u001b[1;33m\u001b[0m\u001b[0m\n\u001b[0;32m    141\u001b[0m         \u001b[0ms\u001b[0m\u001b[1;33m.\u001b[0m\u001b[0msettimeout\u001b[0m\u001b[1;33m(\u001b[0m\u001b[1;36m10\u001b[0m\u001b[1;33m)\u001b[0m\u001b[1;33m\u001b[0m\u001b[1;33m\u001b[0m\u001b[0m\n\u001b[1;32m--> 142\u001b[1;33m         \u001b[0ms\u001b[0m\u001b[1;33m.\u001b[0m\u001b[0mconnect\u001b[0m\u001b[1;33m(\u001b[0m\u001b[1;33m(\u001b[0m\u001b[0mhostname\u001b[0m\u001b[1;33m,\u001b[0m \u001b[1;36m43\u001b[0m\u001b[1;33m)\u001b[0m\u001b[1;33m)\u001b[0m\u001b[1;33m\u001b[0m\u001b[1;33m\u001b[0m\u001b[0m\n\u001b[0m\u001b[0;32m    143\u001b[0m \u001b[1;33m\u001b[0m\u001b[0m\n\u001b[0;32m    144\u001b[0m         \u001b[1;32mtry\u001b[0m\u001b[1;33m:\u001b[0m\u001b[1;33m\u001b[0m\u001b[1;33m\u001b[0m\u001b[0m\n",
      "\u001b[1;31mtimeout\u001b[0m: timed out"
     ]
    }
   ],
   "source": [
    "import builtwith\n",
    "import whois\n",
    "website='http://example.webscraping.com'\n",
    "data=builtwith.parse(website)\n",
    "for i in data:\n",
    "    print(data[i])\n",
    "print('\\n\\n\\n')\n",
    "data=whois.whois(website)\n",
    "for i in data:\n",
    "    print(data[i])"
   ]
  },
  {
   "cell_type": "markdown",
   "metadata": {},
   "source": [
    "编写第一个网络爬虫"
   ]
  },
  {
   "cell_type": "markdown",
   "metadata": {},
   "source": [
    "学习设置网络代理"
   ]
  },
  {
   "cell_type": "code",
   "execution_count": 10,
   "metadata": {
    "scrolled": true
   },
   "outputs": [
    {
     "name": "stdout",
     "output_type": "stream",
     "text": [
      "Downloading: http://www.xbiquge.la/10/10489/9683462.html\n",
      "[]\n"
     ]
    }
   ],
   "source": [
    "import json\n",
    "def download(website,num_retries=3):#增加自动重新下载的参数num_retries，默认数量为3,user_agent为设置代理\n",
    "    global headers\n",
    "    print(\"Downloading:\",website)\n",
    "    request=ul.Request(website,headers=headers)\n",
    "    try:\n",
    "        html=ul.urlopen(website).read()\n",
    "    except ul.URLError as e:\n",
    "        print(\"download Error:\",e.reason)\n",
    "        html=None\n",
    "        if hasattr(e,'code') and 500<=e.code<=600:\n",
    "            return(download(website,num_retries-1))\n",
    "    return (html)\n",
    "website='http://www.xbiquge.la/10/10489/9683462.html'\n",
    "html=bl(download(website),'lxml')\n",
    "infors=html.find_all('div',id_='content')\n",
    "print(infors)"
   ]
  },
  {
   "cell_type": "markdown",
   "metadata": {},
   "source": [
    "学习使用遍历爬虫"
   ]
  },
  {
   "cell_type": "code",
   "execution_count": null,
   "metadata": {},
   "outputs": [
    {
     "name": "stdout",
     "output_type": "stream",
     "text": [
      "Downloading: http://example.webscraping.com/view/-1\n",
      "http://example.webscraping.com/view/-1\n",
      "\n",
      "\n",
      "Downloading: http://example.webscraping.com/view/-2\n"
     ]
    }
   ],
   "source": [
    "import itertools as it\n",
    "for page in it.count(1):\n",
    "    url='http://example.webscraping.com/view/-%d'% page\n",
    "    html=download(url)\n",
    "    if html is None:\n",
    "        break\n",
    "    else:\n",
    "        print(url)\n",
    "        print('\\n')"
   ]
  },
  {
   "cell_type": "code",
   "execution_count": null,
   "metadata": {},
   "outputs": [],
   "source": [
    "用来爬取链接的简单爬虫"
   ]
  },
  {
   "cell_type": "code",
   "execution_count": null,
   "metadata": {},
   "outputs": [],
   "source": [
    "import re\n",
    "def get_links(html):\n",
    "    webpage_regex=re.compile('<a[^>]+href=[\"\\'](.*?)[\"\\']',re.IGNORECASE)\n",
    "    return(webpage_regex.findall(html))\n",
    "\n",
    "def link_crawler(seed_url,link_regex):\n",
    "    crawl_queue=[seed_url]\n",
    "    while crawl_queue:\n",
    "        url=crawl_queue.pop()\n",
    "        html=download(url)\n",
    "        for link in get_links(html):\n",
    "            if re.match(link_regex,link):\n",
    "                crawl_queue.append(link)\n",
    "    list=set(crawl_queue)\n",
    "    print(list)\n",
    "\n",
    "link_crawler(\"http://example.webscraping.com\",'/(index/view)')"
   ]
  },
  {
   "cell_type": "code",
   "execution_count": null,
   "metadata": {},
   "outputs": [],
   "source": [
    "import sys\n",
    "\n",
    "def ip_search(ip):\n",
    "    host = 'http://saip.market.alicloudapi.com'\n",
    "    path = '/ip'\n",
    "    method = 'GET'\n",
    "    appcode = '91fa754784494761b450672aba2d3efb'\n",
    "    querys = 'ip='+ip\n",
    "    bodys = {}\n",
    "    url = host + path + '?' + querys\n",
    "    head={'Authorization':'APPCODE '+appcode}\n",
    "    request = ul.Request(url,headers=head)\n",
    "    response = ul.urlopen(request)\n",
    "    content = response.read()\n",
    "    info=json.loads(content)\n",
    "    return(info)\n",
    "ip=input('请输入需要查询的IP地址:')\n",
    "info=ip_search(ip)\n",
    "k=info['showapi_res_body']\n",
    "print('IP地址对应的信息如下:'+'\\n')\n",
    "for i in k:\n",
    "    print(i,k[i])\n",
    "c=input('请按任意键结束查询。。。。。。')"
   ]
  },
  {
   "cell_type": "code",
   "execution_count": 8,
   "metadata": {},
   "outputs": [
    {
     "name": "stdout",
     "output_type": "stream",
     "text": [
      "https://www.mzitu.com/209159\n",
      "https://www.mzitu.com/205848\n",
      "https://www.mzitu.com/224623\n",
      "https://www.mzitu.com/208935\n",
      "https://www.mzitu.com/224497\n",
      "https://www.mzitu.com/224097\n",
      "https://www.mzitu.com/208689\n",
      "https://www.mzitu.com/205912\n",
      "https://www.mzitu.com/224042\n",
      "https://www.mzitu.com/224173\n",
      "https://www.mzitu.com/205359\n",
      "https://www.mzitu.com/223616\n",
      "https://www.mzitu.com/223985\n",
      "https://www.mzitu.com/216244\n",
      "https://www.mzitu.com/223776\n",
      "https://www.mzitu.com/205512\n",
      "https://www.mzitu.com/223504\n",
      "https://www.mzitu.com/206012\n",
      "https://www.mzitu.com/223294\n",
      "https://www.mzitu.com/206229\n",
      "https://www.mzitu.com/223090\n",
      "https://www.mzitu.com/221612\n",
      "https://www.mzitu.com/194656\n",
      "https://www.mzitu.com/205789\n"
     ]
    }
   ],
   "source": [
    "url='https://www.mzitu.com/xinggan/page/2/'\n",
    "global headers\n",
    "req=rq.get(url,headers=headers)\n",
    "html=req.text\n",
    "#print(html)\n",
    "uo_list=re.findall('<li><a(.*?)span></li>',html)\n",
    "for i in uo_list:\n",
    "    print(re.findall('https://www.mzitu.com/......',i)[0])"
   ]
  },
  {
   "cell_type": "code",
   "execution_count": null,
   "metadata": {},
   "outputs": [],
   "source": []
  }
 ],
 "metadata": {
  "kernelspec": {
   "display_name": "Python 3",
   "language": "python",
   "name": "python3"
  },
  "language_info": {
   "codemirror_mode": {
    "name": "ipython",
    "version": 3
   },
   "file_extension": ".py",
   "mimetype": "text/x-python",
   "name": "python",
   "nbconvert_exporter": "python",
   "pygments_lexer": "ipython3",
   "version": "3.7.6"
  }
 },
 "nbformat": 4,
 "nbformat_minor": 2
}
