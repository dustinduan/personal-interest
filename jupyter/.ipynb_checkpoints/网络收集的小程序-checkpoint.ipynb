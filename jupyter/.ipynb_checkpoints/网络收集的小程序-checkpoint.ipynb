{
 "cells": [
  {
   "cell_type": "code",
   "execution_count": 13,
   "metadata": {},
   "outputs": [
    {
     "name": "stdout",
     "output_type": "stream",
     "text": [
      "<class 'psutil._common.sdiskpart'>\n",
      "<class 'psutil._common.sdiskpart'>\n",
      "<class 'psutil._common.sdiskpart'>\n",
      "<class 'psutil._common.sdiskpart'>\n",
      "<class 'psutil._common.sdiskpart'>\n"
     ]
    }
   ],
   "source": [
    "#检测盘符或移动硬盘，不限制平台\n",
    "import os\n",
    "import  psutil as pu\n",
    "part=pu.disk_partitions()\n",
    "for i in part:\n",
    "    print(type(i))\n",
    "    #fixted代表本地设备\n"
   ]
  },
  {
   "cell_type": "code",
   "execution_count": 4,
   "metadata": {},
   "outputs": [
    {
     "name": "stdout",
     "output_type": "stream",
     "text": [
      "rw\n",
      "rw\n",
      "rw\n",
      "cdrom\n"
     ]
    }
   ],
   "source": [
    "for i in part:\n",
    "    tmp=i.opts.split(',')[0]\n",
    "    print(tmp)"
   ]
  },
  {
   "cell_type": "code",
   "execution_count": 7,
   "metadata": {},
   "outputs": [
    {
     "name": "stdout",
     "output_type": "stream",
     "text": [
      "System Volume Information\n",
      "personal-interest\n",
      "pycharm-community-2019.3.3.exe\n",
      "康奈尔式的笔记记录法.docx\n",
      "book\n",
      "Cgames\n",
      "green\n",
      "李利春\n",
      "手机备份_51605791\n",
      "IMG_20190120_123005.jpg\n",
      "IMG_20190120_123010.jpg\n",
      "userkey.psw\n",
      "重症医保申请书.docx\n",
      "子女户口投靠父母申请书.docx\n",
      "软件安装\n",
      "note\n",
      "kindle\n"
     ]
    }
   ],
   "source": [
    "flist=os.listdir('h:/')\n",
    "for i in flist:\n",
    "    print(i)"
   ]
  },
  {
   "cell_type": "code",
   "execution_count": 15,
   "metadata": {},
   "outputs": [
    {
     "name": "stdout",
     "output_type": "stream",
     "text": [
      "H:/System Volume Information\n",
      "H:/personal-interest\n",
      "H:/pycharm-community-2019.3.3.exe\n",
      "H:/康奈尔式的笔记记录法.docx\n",
      "H:/book\n",
      "H:/Cgames\n",
      "H:/green\n",
      "H:/李利春\n",
      "H:/手机备份_51605791\n",
      "H:/IMG_20190120_123005.jpg\n",
      "H:/IMG_20190120_123010.jpg\n",
      "H:/userkey.psw\n",
      "H:/重症医保申请书.docx\n",
      "H:/子女户口投靠父母申请书.docx\n",
      "H:/软件安装\n",
      "H:/note\n",
      "H:/kindle\n"
     ]
    }
   ],
   "source": [
    "for i in part:\n",
    "    if 'removable' in i.opts:\n",
    "        flist=os.listdir(i.device)\n",
    "        for j in flist:\n",
    "            print(i.device.split(':')[0]+':/'+j)\n",
    "#os.path.isfile(fname)\n",
    "#if my_file.is_dir():"
   ]
  },
  {
   "cell_type": "code",
   "execution_count": null,
   "metadata": {},
   "outputs": [],
   "source": []
  }
 ],
 "metadata": {
  "kernelspec": {
   "display_name": "Python 3",
   "language": "python",
   "name": "python3"
  },
  "language_info": {
   "codemirror_mode": {
    "name": "ipython",
    "version": 3
   },
   "file_extension": ".py",
   "mimetype": "text/x-python",
   "name": "python",
   "nbconvert_exporter": "python",
   "pygments_lexer": "ipython3",
   "version": "3.7.4"
  }
 },
 "nbformat": 4,
 "nbformat_minor": 4
}
