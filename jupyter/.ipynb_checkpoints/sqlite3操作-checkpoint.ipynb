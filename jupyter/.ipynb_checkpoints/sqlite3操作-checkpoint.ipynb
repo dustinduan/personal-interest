{
 "cells": [
  {
   "cell_type": "code",
   "execution_count": 1,
   "metadata": {},
   "outputs": [],
   "source": [
    "import sqlite3 as sl\n",
    "\n",
    "path='g:/result/'"
   ]
  },
  {
   "cell_type": "code",
   "execution_count": 3,
   "metadata": {},
   "outputs": [
    {
     "name": "stdout",
     "output_type": "stream",
     "text": [
      "请输入需要创建的数据库的名称:my-test\n"
     ]
    }
   ],
   "source": [
    "db_name=input('请输入需要创建的数据库的名称:')\n",
    "db=path+db_name+'.db'"
   ]
  },
  {
   "cell_type": "code",
   "execution_count": 4,
   "metadata": {},
   "outputs": [],
   "source": [
    "con = sl.connect(db)\n",
    "with con:\n",
    "    con.execute(\"\"\"CREATE TABLE USER (\n",
    "            id INTEGER NOT NULL PRIMARY KEY AUTOINCREMENT,\n",
    "            name TEXT,\n",
    "            age INTEGER\n",
    "        ); \"\"\")"
   ]
  },
  {
   "cell_type": "code",
   "execution_count": 5,
   "metadata": {},
   "outputs": [],
   "source": [
    "sql = 'INSERT INTO USER (id, name, age) values(?, ?, ?)'\n",
    "data = [\n",
    "    (1, 'Alice', 21),\n",
    "    (2, 'Bob', 22),\n",
    "    (3, 'Chris', 23)\n",
    "]"
   ]
  },
  {
   "cell_type": "code",
   "execution_count": 6,
   "metadata": {},
   "outputs": [],
   "source": [
    "with con:\n",
    "    con.executemany(sql, data)"
   ]
  },
  {
   "cell_type": "code",
   "execution_count": 8,
   "metadata": {},
   "outputs": [
    {
     "name": "stdout",
     "output_type": "stream",
     "text": [
      "(2, 'Bob', 22)\n"
     ]
    }
   ],
   "source": [
    "with con:\n",
    "    data = con.execute(\"SELECT * FROM USER WHERE name=='Bob'\")\n",
    "    for row in data:\n",
    "        print(row)"
   ]
  },
  {
   "cell_type": "code",
   "execution_count": null,
   "metadata": {},
   "outputs": [],
   "source": []
  }
 ],
 "metadata": {
  "kernelspec": {
   "display_name": "Python 3",
   "language": "python",
   "name": "python3"
  },
  "language_info": {
   "codemirror_mode": {
    "name": "ipython",
    "version": 3
   },
   "file_extension": ".py",
   "mimetype": "text/x-python",
   "name": "python",
   "nbconvert_exporter": "python",
   "pygments_lexer": "ipython3",
   "version": "3.7.4"
  }
 },
 "nbformat": 4,
 "nbformat_minor": 2
}
