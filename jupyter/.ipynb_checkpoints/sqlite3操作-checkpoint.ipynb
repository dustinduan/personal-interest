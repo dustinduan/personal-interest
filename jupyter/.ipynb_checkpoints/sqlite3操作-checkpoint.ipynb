{
 "cells": [
  {
   "cell_type": "code",
   "execution_count": 1,
   "metadata": {},
   "outputs": [],
   "source": [
    "import sqlite3 as sq\n",
    "in_path='D:/material/'\n",
    "out_path='D:/result/'"
   ]
  },
  {
   "cell_type": "code",
   "execution_count": 2,
   "metadata": {},
   "outputs": [
    {
     "name": "stdout",
     "output_type": "stream",
     "text": [
      "请输入数据库的名称:test1\n",
      "<sqlite3.Connection object at 0x000001DBC8219C70>\n"
     ]
    }
   ],
   "source": [
    "db_name=out_path+input('请输入数据库的名称:')+'.db'\n",
    "dx=sq.connect(db_name)\n",
    "print(dx)"
   ]
  },
  {
   "cell_type": "code",
   "execution_count": 3,
   "metadata": {},
   "outputs": [],
   "source": [
    "cu=dx.cursor()\n",
    "cu.execute('create table html_rec(id integer primary key,html_address varchar(255) UNIQUE,html_des varchar(255))')\n",
    "dx.commit()\n",
    "dx.close()\n"
   ]
  },
  {
   "cell_type": "code",
   "execution_count": 4,
   "metadata": {},
   "outputs": [],
   "source": [
    "dx=sq.connect(db_name)\n",
    "cu=dx.cursor()"
   ]
  },
  {
   "cell_type": "code",
   "execution_count": null,
   "metadata": {},
   "outputs": [],
   "source": []
  }
 ],
 "metadata": {
  "kernelspec": {
   "display_name": "Python 3",
   "language": "python",
   "name": "python3"
  },
  "language_info": {
   "codemirror_mode": {
    "name": "ipython",
    "version": 3
   },
   "file_extension": ".py",
   "mimetype": "text/x-python",
   "name": "python",
   "nbconvert_exporter": "python",
   "pygments_lexer": "ipython3",
   "version": "3.7.4"
  }
 },
 "nbformat": 4,
 "nbformat_minor": 2
}
