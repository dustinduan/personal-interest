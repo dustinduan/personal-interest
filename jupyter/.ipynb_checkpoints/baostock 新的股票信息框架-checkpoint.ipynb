{
 "cells": [
  {
   "cell_type": "code",
   "execution_count": 1,
   "metadata": {},
   "outputs": [],
   "source": [
    "import baostock as bs\n",
    "import pandas as pd\n",
    "import matplotlib.pyplot as plt\n"
   ]
  },
  {
   "cell_type": "code",
   "execution_count": 2,
   "metadata": {},
   "outputs": [
    {
     "name": "stdout",
     "output_type": "stream",
     "text": [
      "login success!\n",
      "login respond error_code:0\n",
      "login respond  error_msg:success\n"
     ]
    }
   ],
   "source": [
    "lg = bs.login()\n",
    "# 显示登陆返回信息\n",
    "print('login respond error_code:'+lg.error_code)\n",
    "print('login respond  error_msg:'+lg.error_msg)"
   ]
  },
  {
   "cell_type": "code",
   "execution_count": 3,
   "metadata": {},
   "outputs": [
    {
     "name": "stdout",
     "output_type": "stream",
     "text": [
      "请输入需要查询的股票代码:sh.600004\n",
      "请输入需要查询股票信息的其实日期:2020-01-01\n",
      "请输入需要查询股票信息的终止日期:2020-02-20\n",
      "query_history_k_data_plus respond error_code:0\n",
      "query_history_k_data_plus respond  error_msg:success\n"
     ]
    }
   ],
   "source": [
    "code=input('请输入需要查询的股票代码:')\n",
    "start_date=input('请输入需要查询股票信息的其实日期:')\n",
    "end_date=input('请输入需要查询股票信息的终止日期:')\n",
    "rs = bs.query_history_k_data_plus(code,\n",
    "    \"date,code,open,high,low,close,preclose,volume,amount,pctChg\",\n",
    "    start_date=start_date, end_date=end_date, frequency=\"d\")\n",
    "print('query_history_k_data_plus respond error_code:'+rs.error_code)\n",
    "print('query_history_k_data_plus respond  error_msg:'+rs.error_msg)"
   ]
  },
  {
   "cell_type": "code",
   "execution_count": 4,
   "metadata": {},
   "outputs": [],
   "source": [
    "data_list = []\n",
    "while (rs.error_code == '0') & rs.next():\n",
    "    # 获取一条记录，将记录合并在一起\n",
    "    data_list.append(rs.get_row_data())\n",
    "result = pd.DataFrame(data_list, columns=rs.fields)"
   ]
  },
  {
   "cell_type": "code",
   "execution_count": 5,
   "metadata": {
    "scrolled": true
   },
   "outputs": [
    {
     "name": "stdout",
     "output_type": "stream",
     "text": [
      "          date       code     open     high      low    close preclose  \\\n",
      "0   2020-01-02  sh.600004  17.5600  17.6200  17.4000  17.5200  17.4500   \n",
      "1   2020-01-03  sh.600004  17.6100  17.6200  17.3100  17.3800  17.5200   \n",
      "2   2020-01-06  sh.600004  17.2400  17.2400  16.9500  17.0800  17.3800   \n",
      "3   2020-01-07  sh.600004  17.0600  17.2900  16.9000  17.2600  17.0800   \n",
      "4   2020-01-08  sh.600004  17.2100  17.3300  16.9500  17.0900  17.2600   \n",
      "5   2020-01-09  sh.600004  17.1700  17.3400  17.0000  17.1800  17.0900   \n",
      "6   2020-01-10  sh.600004  17.2500  17.9100  17.0900  17.8500  17.1800   \n",
      "7   2020-01-13  sh.600004  17.8200  18.3000  17.7000  18.1000  17.8500   \n",
      "8   2020-01-14  sh.600004  18.1000  18.1800  17.7200  17.8200  18.1000   \n",
      "9   2020-01-15  sh.600004  17.8000  17.9400  17.6400  17.7900  17.8200   \n",
      "10  2020-01-16  sh.600004  17.7900  17.8400  17.6000  17.6400  17.7900   \n",
      "11  2020-01-17  sh.600004  17.6400  17.8000  17.6100  17.6500  17.6400   \n",
      "12  2020-01-20  sh.600004  17.6000  17.6500  16.7300  17.0800  17.6500   \n",
      "13  2020-01-21  sh.600004  16.7900  16.9700  16.6500  16.7800  17.0800   \n",
      "14  2020-01-22  sh.600004  16.6700  16.9000  16.5900  16.6900  16.7800   \n",
      "15  2020-01-23  sh.600004  16.5000  16.5000  15.0500  15.3400  16.6900   \n",
      "16  2020-02-03  sh.600004  13.8100  14.6000  13.8100  14.4000  15.3400   \n",
      "17  2020-02-04  sh.600004  14.3500  15.3600  14.2500  15.2500  14.4000   \n",
      "18  2020-02-05  sh.600004  15.2500  15.6600  15.1100  15.3300  15.2500   \n",
      "19  2020-02-06  sh.600004  15.3000  15.4800  15.1300  15.3900  15.3300   \n",
      "20  2020-02-07  sh.600004  15.3900  15.6100  15.2000  15.5800  15.3900   \n",
      "21  2020-02-10  sh.600004  15.4900  16.1500  15.3800  16.0000  15.5800   \n",
      "22  2020-02-11  sh.600004  16.0000  16.2000  15.8300  15.9700  16.0000   \n",
      "23  2020-02-12  sh.600004  15.8500  16.1100  15.8100  15.9900  15.9700   \n",
      "24  2020-02-13  sh.600004  16.0000  16.0600  15.6000  15.7000  15.9900   \n",
      "25  2020-02-14  sh.600004  15.7000  15.8100  15.6000  15.8100  15.7000   \n",
      "26  2020-02-17  sh.600004  15.8400  16.0000  15.7500  16.0000  15.8100   \n",
      "27  2020-02-18  sh.600004  16.0000  16.0500  15.7600  15.8800  16.0000   \n",
      "28  2020-02-19  sh.600004  15.8400  16.0400  15.7300  15.8400  15.8800   \n",
      "29  2020-02-20  sh.600004  15.8800  17.2500  15.8600  17.0100  15.8400   \n",
      "\n",
      "      volume          amount     pctChg  \n",
      "0   17792404  311394028.0000   0.401100  \n",
      "1   16314649  284126626.0000  -0.799100  \n",
      "2   21455327  366006757.0000  -1.726100  \n",
      "3   16800760  287242100.0000   1.053900  \n",
      "4   16681509  284963344.0000  -0.984900  \n",
      "5   13289255  228140223.0000   0.526600  \n",
      "6   28620381  502746203.0000   3.899900  \n",
      "7   27538492  498436468.0000   1.400600  \n",
      "8   15483288  276828326.0000  -1.547000  \n",
      "9   10198978  181021968.0000  -0.168300  \n",
      "10   8889679  157448363.0000  -0.843200  \n",
      "11   8847922  156431858.0000   0.056700  \n",
      "12  30944308  525831530.0000  -3.229500  \n",
      "13  22047146  370416611.0000  -1.756400  \n",
      "14  12879071  215292873.0000  -0.536400  \n",
      "15  43961567  690745231.0000  -8.088700  \n",
      "16  58974626  827006876.0000  -6.127800  \n",
      "17  33035754  496923644.0000   5.902800  \n",
      "18  21091787  324625275.0000   0.524600  \n",
      "19  12835665  197032161.0000   0.391400  \n",
      "20  10382232  159265985.0000   1.234600  \n",
      "21  16954462  269599996.0000   2.695800  \n",
      "22   8191794  131025838.0000  -0.187500  \n",
      "23   9055254  144679210.0000   0.125200  \n",
      "24   9914291  156528970.0000  -1.813600  \n",
      "25   5995797   94128033.0000   0.700600  \n",
      "26  11843599  188832533.0000   1.201800  \n",
      "27  11035403  175062615.0000  -0.750000  \n",
      "28  10430481  165694129.0000  -0.251900  \n",
      "29  34459201  577358745.0000   7.386400  \n"
     ]
    }
   ],
   "source": [
    "print(result)"
   ]
  },
  {
   "cell_type": "code",
   "execution_count": 8,
   "metadata": {
    "scrolled": true
   },
   "outputs": [],
   "source": [
    "result.to_excel(\"h:/result/baostock.xlsx\", index=False)"
   ]
  },
  {
   "cell_type": "code",
   "execution_count": 11,
   "metadata": {},
   "outputs": [
    {
     "data": {
      "text/plain": [
       "[<matplotlib.lines.Line2D at 0x29ce9344448>]"
      ]
     },
     "execution_count": 11,
     "metadata": {},
     "output_type": "execute_result"
    },
    {
     "data": {
      "image/png": "[encoded data removed]",
      "text/plain": [
       "<Figure size 432x288 with 1 Axes>"
      ]
     },
     "metadata": {
      "needs_background": "light"
     },
     "output_type": "display_data"
    }
   ],
   "source": [
    "plt.plot(result['date'],result['close'])\n",
    "plt.plot(result['date'],result['open'])\n",
    "plt.show()"
   ]
  },
  {
   "cell_type": "code",
   "execution_count": 19,
   "metadata": {},
   "outputs": [
    {
     "name": "stdout",
     "output_type": "stream",
     "text": [
      "logout success!\n"
     ]
    },
    {
     "data": {
      "text/plain": [
       "<baostock.data.resultset.ResultData at 0x1909afc0bc8>"
      ]
     },
     "execution_count": 19,
     "metadata": {},
     "output_type": "execute_result"
    }
   ],
   "source": [
    "bs.logout()"
   ]
  },
  {
   "cell_type": "code",
   "execution_count": null,
   "metadata": {},
   "outputs": [],
   "source": []
  }
 ],
 "metadata": {
  "kernelspec": {
   "display_name": "Python 3",
   "language": "python",
   "name": "python3"
  },
  "language_info": {
   "codemirror_mode": {
    "name": "ipython",
    "version": 3
   },
   "file_extension": ".py",
   "mimetype": "text/x-python",
   "name": "python",
   "nbconvert_exporter": "python",
   "pygments_lexer": "ipython3",
   "version": "3.7.6"
  }
 },
 "nbformat": 4,
 "nbformat_minor": 4
}
