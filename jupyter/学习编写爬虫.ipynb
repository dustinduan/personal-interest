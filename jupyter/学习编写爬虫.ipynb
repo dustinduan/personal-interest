{
 "cells": [
  {
   "cell_type": "markdown",
   "metadata": {},
   "source": [
    "网络爬取之前的贮备工作\n",
    "    检查robet.txt文件\n",
    "    检查sitemap文件内容\n",
    "    估算网站大小（渐变方法是通过google搜索site：+网络地址的方法来粗略确认网站的大小）\n",
    "    识别网站使用的技术（builtwith.parse(网络主机地址)）可以显示网站的信息,见下面的例子\n",
    "    寻找网站所有者（通过whois模块）\n",
    "    "
   ]
  },
  {
   "cell_type": "code",
   "execution_count": 18,
   "metadata": {},
   "outputs": [],
   "source": [
    "#设定固定的文件夹\n",
    "in_path='D:/material/'\n",
    "out_path='D:/result/'"
   ]
  },
  {
   "cell_type": "code",
   "execution_count": 19,
   "metadata": {},
   "outputs": [],
   "source": [
    "#设定多个agent\n",
    "import urllib.request as ul\n",
    "import requests as rq\n",
    "import urllib\n",
    "from bs4 import BeautifulSoup as bl\n",
    "import random\n",
    "import re\n",
    "import pandas as pd\n",
    "auto_headers = [\"Mozilla/5.0 (Windows NT 6.3; WOW64) AppleWebKit/537.36 (KHTML, like Gecko) Chrome/39.0.2171.95 Safari/537.36\",\n",
    "    \"Mozilla/5.0 (Macintosh; Intel Mac OS X 10_9_2) AppleWebKit/537.36 (KHTML, like Gecko) Chrome/35.0.1916.153 Safari/537.36\",\n",
    "    \"Mozilla/5.0 (Windows NT 6.1; WOW64; rv:30.0) Gecko/20100101 Firefox/30.0\",\n",
    "    \"Mozilla/5.0 (Macintosh; Intel Mac OS X 10_9_2) AppleWebKit/537.75.14 (KHTML, like Gecko) Version/7.0.3 Safari/537.75.14\",\n",
    "    \"Mozilla/5.0 (compatible; MSIE 10.0; Windows NT 6.2; Win64; x64; Trident/6.0)\",\n",
    "    'Mozilla/5.0 (Windows; U; Windows NT 5.1; it; rv:1.8.1.11) Gecko/20071127 Firefox/2.0.0.11',\n",
    "    'Opera/9.25 (Windows NT 5.1; U; en)',\n",
    "    'Mozilla/4.0 (compatible; MSIE 6.0; Windows NT 5.1; SV1; .NET CLR 1.1.4322; .NET CLR 2.0.50727)',\n",
    "    'Mozilla/5.0 (compatible; Konqueror/3.5; Linux) KHTML/3.5.5 (like Gecko) (Kubuntu)',\n",
    "    'Mozilla/5.0 (X11; U; Linux i686; en-US; rv:1.8.0.12) Gecko/20070731 Ubuntu/dapper-security Firefox/1.5.0.12',\n",
    "    'Lynx/2.8.5rel.1 libwww-FM/2.14 SSL-MM/1.4.1 GNUTLS/1.2.9',\n",
    "    \"Mozilla/5.0 (X11; Linux i686) AppleWebKit/535.7 (KHTML, like Gecko) Ubuntu/11.04 Chromium/16.0.912.77 Chrome/16.0.912.77 Safari/535.7\",\n",
    "    \"Mozilla/5.0 (X11; Ubuntu; Linux i686; rv:10.0) Gecko/20100101 Firefox/10.0\",\n",
    "    'Mozilla/5.0 (Windows NT 10.0; Win64; x64) AppleWebKit/537.36 (KHTML, like Gecko) Chrome/54.0.2840.99 Safari/537.36']\n",
    "\n",
    "global headers\n",
    "headers = {'User-Agent': random.choice(auto_headers)}"
   ]
  },
  {
   "cell_type": "code",
   "execution_count": 11,
   "metadata": {},
   "outputs": [
    {
     "name": "stdout",
     "output_type": "stream",
     "text": [
      "Old_url:https://www.sosody.net/v/80806-2-0.html\n",
      "Real_url:https://www.sosody.net/v/80806-2-0.html\n"
     ]
    }
   ],
   "source": [
    "old_url = 'https://www.sosody.net/v/80806-2-0.html'\n",
    "req = ul.Request(old_url)\n",
    "response = ul.urlopen(req)\n",
    "print ('Old_url:' + old_url)\n",
    "print ('Real_url:' + response.geturl())"
   ]
  },
  {
   "cell_type": "code",
   "execution_count": 14,
   "metadata": {
    "scrolled": false
   },
   "outputs": [
    {
     "name": "stdout",
     "output_type": "stream",
     "text": [
      "['ClickHeat']\n",
      "['PHP']\n",
      "['Handlebars', 'jQuery']\n",
      "\n",
      "\n",
      "\n",
      "\n",
      "['QUNAR.COM', 'qunar.com']\n",
      "MarkMonitor, Inc.\n",
      "whois.markmonitor.com\n",
      "None\n",
      "[datetime.datetime(2016, 1, 11, 15, 40, 19), datetime.datetime(2016, 1, 11, 7, 43, 30)]\n",
      "[datetime.datetime(2005, 5, 9, 8, 43, 11), datetime.datetime(2005, 5, 9, 1, 43, 11)]\n",
      "[datetime.datetime(2022, 5, 9, 8, 43, 11), datetime.datetime(2022, 5, 9, 1, 43, 11)]\n",
      "['NS1.QUNAR.COM', 'NS3.QUNAR.COM', 'NS4.QUNAR.COM', 'NS5.QUNAR.COM', 'NS6.QUNAR.COM', 'NS8.QUNAR.COM', 'NS9.QUNAR.COM', 'ns9.qunar.com', 'ns4.qunar.com', 'ns6.qunar.com', 'ns5.qunar.com', 'ns1.qunar.com', 'ns8.qunar.com', 'ns3.qunar.com']\n",
      "['clientDeleteProhibited https://icann.org/epp#clientDeleteProhibited', 'clientTransferProhibited https://icann.org/epp#clientTransferProhibited', 'clientUpdateProhibited https://icann.org/epp#clientUpdateProhibited', 'serverDeleteProhibited https://icann.org/epp#serverDeleteProhibited', 'serverTransferProhibited https://icann.org/epp#serverTransferProhibited', 'serverUpdateProhibited https://icann.org/epp#serverUpdateProhibited', 'clientUpdateProhibited (https://www.icann.org/epp#clientUpdateProhibited)', 'clientTransferProhibited (https://www.icann.org/epp#clientTransferProhibited)', 'clientDeleteProhibited (https://www.icann.org/epp#clientDeleteProhibited)', 'serverUpdateProhibited (https://www.icann.org/epp#serverUpdateProhibited)', 'serverTransferProhibited (https://www.icann.org/epp#serverTransferProhibited)', 'serverDeleteProhibited (https://www.icann.org/epp#serverDeleteProhibited)']\n",
      "['abusecomplaints@markmonitor.com', 'whoisrequest@markmonitor.com']\n",
      "unsigned\n",
      "None\n",
      "北京趣拿信息技术有限公司\n",
      "None\n",
      "None\n",
      "Beijing\n",
      "None\n",
      "CN\n"
     ]
    }
   ],
   "source": [
    "import builtwith\n",
    "import whois\n",
    "website='https://www.qunar.com/'\n",
    "data=builtwith.parse(website)\n",
    "for i in data:\n",
    "    print(data[i])\n",
    "print('\\n\\n\\n')\n",
    "data=whois.whois(website)\n",
    "for i in data:\n",
    "    print(data[i])"
   ]
  },
  {
   "cell_type": "markdown",
   "metadata": {},
   "source": [
    "编写第一个网络爬虫"
   ]
  },
  {
   "cell_type": "markdown",
   "metadata": {},
   "source": [
    "学习设置网络代理"
   ]
  },
  {
   "cell_type": "code",
   "execution_count": 15,
   "metadata": {
    "scrolled": true
   },
   "outputs": [
    {
     "name": "stdout",
     "output_type": "stream",
     "text": [
      "Downloading: http://www.xbiquge.la/10/10489/9683462.html\n",
      "[]\n"
     ]
    }
   ],
   "source": [
    "import json\n",
    "def download(website,num_retries=3):#增加自动重新下载的参数num_retries，默认数量为3,user_agent为设置代理\n",
    "    global headers\n",
    "    print(\"Downloading:\",website)\n",
    "    request=ul.Request(website,headers=headers)\n",
    "    try:\n",
    "        html=ul.urlopen(website).read()\n",
    "    except ul.URLError as e:\n",
    "        print(\"download Error:\",e.reason)\n",
    "        html=None\n",
    "        if hasattr(e,'code') and 500<=e.code<=600:\n",
    "            return(download(website,num_retries-1))\n",
    "    return (html)\n",
    "website='http://www.xbiquge.la/10/10489/9683462.html'\n",
    "html=bl(download(website),'lxml')\n",
    "infors=html.find_all('div',id_='content')\n",
    "print(infors)"
   ]
  },
  {
   "cell_type": "markdown",
   "metadata": {},
   "source": [
    "学习使用遍历爬虫"
   ]
  },
  {
   "cell_type": "code",
   "execution_count": 16,
   "metadata": {},
   "outputs": [
    {
     "name": "stdout",
     "output_type": "stream",
     "text": [
      "Downloading: http://example.webscraping.com/view/-1\n",
      "http://example.webscraping.com/view/-1\n",
      "\n",
      "\n",
      "Downloading: http://example.webscraping.com/view/-2\n",
      "http://example.webscraping.com/view/-2\n",
      "\n",
      "\n",
      "Downloading: http://example.webscraping.com/view/-3\n",
      "http://example.webscraping.com/view/-3\n",
      "\n",
      "\n",
      "Downloading: http://example.webscraping.com/view/-4\n",
      "http://example.webscraping.com/view/-4\n",
      "\n",
      "\n",
      "Downloading: http://example.webscraping.com/view/-5\n",
      "http://example.webscraping.com/view/-5\n",
      "\n",
      "\n",
      "Downloading: http://example.webscraping.com/view/-6\n",
      "http://example.webscraping.com/view/-6\n",
      "\n",
      "\n",
      "Downloading: http://example.webscraping.com/view/-7\n",
      "http://example.webscraping.com/view/-7\n",
      "\n",
      "\n",
      "Downloading: http://example.webscraping.com/view/-8\n",
      "http://example.webscraping.com/view/-8\n",
      "\n",
      "\n",
      "Downloading: http://example.webscraping.com/view/-9\n",
      "http://example.webscraping.com/view/-9\n",
      "\n",
      "\n",
      "Downloading: http://example.webscraping.com/view/-10\n",
      "http://example.webscraping.com/view/-10\n",
      "\n",
      "\n",
      "Downloading: http://example.webscraping.com/view/-11\n",
      "http://example.webscraping.com/view/-11\n",
      "\n",
      "\n",
      "Downloading: http://example.webscraping.com/view/-12\n",
      "download Error: TOO MANY REQUESTS\n"
     ]
    }
   ],
   "source": [
    "import itertools as it\n",
    "for page in it.count(1):\n",
    "    url='http://example.webscraping.com/view/-%d'% page\n",
    "    html=download(url)\n",
    "    if html is None:\n",
    "        break\n",
    "    else:\n",
    "        print(url)\n",
    "        print('\\n')"
   ]
  },
  {
   "cell_type": "code",
   "execution_count": null,
   "metadata": {},
   "outputs": [],
   "source": [
    "用来爬取链接的简单爬虫"
   ]
  },
  {
   "cell_type": "code",
   "execution_count": 17,
   "metadata": {},
   "outputs": [
    {
     "name": "stdout",
     "output_type": "stream",
     "text": [
      "Downloading: http://example.webscraping.com\n",
      "download Error: TOO MANY REQUESTS\n"
     ]
    },
    {
     "ename": "TypeError",
     "evalue": "expected string or bytes-like object",
     "output_type": "error",
     "traceback": [
      "\u001b[1;31m---------------------------------------------------------------------------\u001b[0m",
      "\u001b[1;31mTypeError\u001b[0m                                 Traceback (most recent call last)",
      "\u001b[1;32m<ipython-input-17-4b8e1734a0e0>\u001b[0m in \u001b[0;36m<module>\u001b[1;34m\u001b[0m\n\u001b[0;32m     15\u001b[0m     \u001b[0mprint\u001b[0m\u001b[1;33m(\u001b[0m\u001b[0mlist\u001b[0m\u001b[1;33m)\u001b[0m\u001b[1;33m\u001b[0m\u001b[1;33m\u001b[0m\u001b[0m\n\u001b[0;32m     16\u001b[0m \u001b[1;33m\u001b[0m\u001b[0m\n\u001b[1;32m---> 17\u001b[1;33m \u001b[0mlink_crawler\u001b[0m\u001b[1;33m(\u001b[0m\u001b[1;34m\"http://example.webscraping.com\"\u001b[0m\u001b[1;33m,\u001b[0m\u001b[1;34m'/(index/view)'\u001b[0m\u001b[1;33m)\u001b[0m\u001b[1;33m\u001b[0m\u001b[1;33m\u001b[0m\u001b[0m\n\u001b[0m",
      "\u001b[1;32m<ipython-input-17-4b8e1734a0e0>\u001b[0m in \u001b[0;36mlink_crawler\u001b[1;34m(seed_url, link_regex)\u001b[0m\n\u001b[0;32m      9\u001b[0m         \u001b[0murl\u001b[0m\u001b[1;33m=\u001b[0m\u001b[0mcrawl_queue\u001b[0m\u001b[1;33m.\u001b[0m\u001b[0mpop\u001b[0m\u001b[1;33m(\u001b[0m\u001b[1;33m)\u001b[0m\u001b[1;33m\u001b[0m\u001b[1;33m\u001b[0m\u001b[0m\n\u001b[0;32m     10\u001b[0m         \u001b[0mhtml\u001b[0m\u001b[1;33m=\u001b[0m\u001b[0mdownload\u001b[0m\u001b[1;33m(\u001b[0m\u001b[0murl\u001b[0m\u001b[1;33m)\u001b[0m\u001b[1;33m\u001b[0m\u001b[1;33m\u001b[0m\u001b[0m\n\u001b[1;32m---> 11\u001b[1;33m         \u001b[1;32mfor\u001b[0m \u001b[0mlink\u001b[0m \u001b[1;32min\u001b[0m \u001b[0mget_links\u001b[0m\u001b[1;33m(\u001b[0m\u001b[0mhtml\u001b[0m\u001b[1;33m)\u001b[0m\u001b[1;33m:\u001b[0m\u001b[1;33m\u001b[0m\u001b[1;33m\u001b[0m\u001b[0m\n\u001b[0m\u001b[0;32m     12\u001b[0m             \u001b[1;32mif\u001b[0m \u001b[0mre\u001b[0m\u001b[1;33m.\u001b[0m\u001b[0mmatch\u001b[0m\u001b[1;33m(\u001b[0m\u001b[0mlink_regex\u001b[0m\u001b[1;33m,\u001b[0m\u001b[0mlink\u001b[0m\u001b[1;33m)\u001b[0m\u001b[1;33m:\u001b[0m\u001b[1;33m\u001b[0m\u001b[1;33m\u001b[0m\u001b[0m\n\u001b[0;32m     13\u001b[0m                 \u001b[0mcrawl_queue\u001b[0m\u001b[1;33m.\u001b[0m\u001b[0mappend\u001b[0m\u001b[1;33m(\u001b[0m\u001b[0mlink\u001b[0m\u001b[1;33m)\u001b[0m\u001b[1;33m\u001b[0m\u001b[1;33m\u001b[0m\u001b[0m\n",
      "\u001b[1;32m<ipython-input-17-4b8e1734a0e0>\u001b[0m in \u001b[0;36mget_links\u001b[1;34m(html)\u001b[0m\n\u001b[0;32m      2\u001b[0m \u001b[1;32mdef\u001b[0m \u001b[0mget_links\u001b[0m\u001b[1;33m(\u001b[0m\u001b[0mhtml\u001b[0m\u001b[1;33m)\u001b[0m\u001b[1;33m:\u001b[0m\u001b[1;33m\u001b[0m\u001b[1;33m\u001b[0m\u001b[0m\n\u001b[0;32m      3\u001b[0m     \u001b[0mwebpage_regex\u001b[0m\u001b[1;33m=\u001b[0m\u001b[0mre\u001b[0m\u001b[1;33m.\u001b[0m\u001b[0mcompile\u001b[0m\u001b[1;33m(\u001b[0m\u001b[1;34m'<a[^>]+href=[\"\\'](.*?)[\"\\']'\u001b[0m\u001b[1;33m,\u001b[0m\u001b[0mre\u001b[0m\u001b[1;33m.\u001b[0m\u001b[0mIGNORECASE\u001b[0m\u001b[1;33m)\u001b[0m\u001b[1;33m\u001b[0m\u001b[1;33m\u001b[0m\u001b[0m\n\u001b[1;32m----> 4\u001b[1;33m     \u001b[1;32mreturn\u001b[0m\u001b[1;33m(\u001b[0m\u001b[0mwebpage_regex\u001b[0m\u001b[1;33m.\u001b[0m\u001b[0mfindall\u001b[0m\u001b[1;33m(\u001b[0m\u001b[0mhtml\u001b[0m\u001b[1;33m)\u001b[0m\u001b[1;33m)\u001b[0m\u001b[1;33m\u001b[0m\u001b[1;33m\u001b[0m\u001b[0m\n\u001b[0m\u001b[0;32m      5\u001b[0m \u001b[1;33m\u001b[0m\u001b[0m\n\u001b[0;32m      6\u001b[0m \u001b[1;32mdef\u001b[0m \u001b[0mlink_crawler\u001b[0m\u001b[1;33m(\u001b[0m\u001b[0mseed_url\u001b[0m\u001b[1;33m,\u001b[0m\u001b[0mlink_regex\u001b[0m\u001b[1;33m)\u001b[0m\u001b[1;33m:\u001b[0m\u001b[1;33m\u001b[0m\u001b[1;33m\u001b[0m\u001b[0m\n",
      "\u001b[1;31mTypeError\u001b[0m: expected string or bytes-like object"
     ]
    }
   ],
   "source": [
    "import re\n",
    "def get_links(html):\n",
    "    webpage_regex=re.compile('<a[^>]+href=[\"\\'](.*?)[\"\\']',re.IGNORECASE)\n",
    "    return(webpage_regex.findall(html))\n",
    "\n",
    "def link_crawler(seed_url,link_regex):\n",
    "    crawl_queue=[seed_url]\n",
    "    while crawl_queue:\n",
    "        url=crawl_queue.pop()\n",
    "        html=download(url)\n",
    "        for link in get_links(html):\n",
    "            if re.match(link_regex,link):\n",
    "                crawl_queue.append(link)\n",
    "    list=set(crawl_queue)\n",
    "    print(list)\n",
    "\n",
    "link_crawler(\"http://example.webscraping.com\",'/(index/view)')"
   ]
  },
  {
   "cell_type": "code",
   "execution_count": 18,
   "metadata": {},
   "outputs": [
    {
     "name": "stdout",
     "output_type": "stream",
     "text": [
      "请输入需要查询的IP地址:192.168.0.1\n"
     ]
    },
    {
     "ename": "HTTPError",
     "evalue": "HTTP Error 555: 555",
     "output_type": "error",
     "traceback": [
      "\u001b[1;31m---------------------------------------------------------------------------\u001b[0m",
      "\u001b[1;31mHTTPError\u001b[0m                                 Traceback (most recent call last)",
      "\u001b[1;32m<ipython-input-18-5febf325586e>\u001b[0m in \u001b[0;36m<module>\u001b[1;34m\u001b[0m\n\u001b[0;32m     16\u001b[0m     \u001b[1;32mreturn\u001b[0m\u001b[1;33m(\u001b[0m\u001b[0minfo\u001b[0m\u001b[1;33m)\u001b[0m\u001b[1;33m\u001b[0m\u001b[1;33m\u001b[0m\u001b[0m\n\u001b[0;32m     17\u001b[0m \u001b[0mip\u001b[0m\u001b[1;33m=\u001b[0m\u001b[0minput\u001b[0m\u001b[1;33m(\u001b[0m\u001b[1;34m'请输入需要查询的IP地址:'\u001b[0m\u001b[1;33m)\u001b[0m\u001b[1;33m\u001b[0m\u001b[1;33m\u001b[0m\u001b[0m\n\u001b[1;32m---> 18\u001b[1;33m \u001b[0minfo\u001b[0m\u001b[1;33m=\u001b[0m\u001b[0mip_search\u001b[0m\u001b[1;33m(\u001b[0m\u001b[0mip\u001b[0m\u001b[1;33m)\u001b[0m\u001b[1;33m\u001b[0m\u001b[1;33m\u001b[0m\u001b[0m\n\u001b[0m\u001b[0;32m     19\u001b[0m \u001b[0mk\u001b[0m\u001b[1;33m=\u001b[0m\u001b[0minfo\u001b[0m\u001b[1;33m[\u001b[0m\u001b[1;34m'showapi_res_body'\u001b[0m\u001b[1;33m]\u001b[0m\u001b[1;33m\u001b[0m\u001b[1;33m\u001b[0m\u001b[0m\n\u001b[0;32m     20\u001b[0m \u001b[0mprint\u001b[0m\u001b[1;33m(\u001b[0m\u001b[1;34m'IP地址对应的信息如下:'\u001b[0m\u001b[1;33m+\u001b[0m\u001b[1;34m'\\n'\u001b[0m\u001b[1;33m)\u001b[0m\u001b[1;33m\u001b[0m\u001b[1;33m\u001b[0m\u001b[0m\n",
      "\u001b[1;32m<ipython-input-18-5febf325586e>\u001b[0m in \u001b[0;36mip_search\u001b[1;34m(ip)\u001b[0m\n\u001b[0;32m     11\u001b[0m     \u001b[0mhead\u001b[0m\u001b[1;33m=\u001b[0m\u001b[1;33m{\u001b[0m\u001b[1;34m'Authorization'\u001b[0m\u001b[1;33m:\u001b[0m\u001b[1;34m'APPCODE '\u001b[0m\u001b[1;33m+\u001b[0m\u001b[0mappcode\u001b[0m\u001b[1;33m}\u001b[0m\u001b[1;33m\u001b[0m\u001b[1;33m\u001b[0m\u001b[0m\n\u001b[0;32m     12\u001b[0m     \u001b[0mrequest\u001b[0m \u001b[1;33m=\u001b[0m \u001b[0mul\u001b[0m\u001b[1;33m.\u001b[0m\u001b[0mRequest\u001b[0m\u001b[1;33m(\u001b[0m\u001b[0murl\u001b[0m\u001b[1;33m,\u001b[0m\u001b[0mheaders\u001b[0m\u001b[1;33m=\u001b[0m\u001b[0mhead\u001b[0m\u001b[1;33m)\u001b[0m\u001b[1;33m\u001b[0m\u001b[1;33m\u001b[0m\u001b[0m\n\u001b[1;32m---> 13\u001b[1;33m     \u001b[0mresponse\u001b[0m \u001b[1;33m=\u001b[0m \u001b[0mul\u001b[0m\u001b[1;33m.\u001b[0m\u001b[0murlopen\u001b[0m\u001b[1;33m(\u001b[0m\u001b[0mrequest\u001b[0m\u001b[1;33m)\u001b[0m\u001b[1;33m\u001b[0m\u001b[1;33m\u001b[0m\u001b[0m\n\u001b[0m\u001b[0;32m     14\u001b[0m     \u001b[0mcontent\u001b[0m \u001b[1;33m=\u001b[0m \u001b[0mresponse\u001b[0m\u001b[1;33m.\u001b[0m\u001b[0mread\u001b[0m\u001b[1;33m(\u001b[0m\u001b[1;33m)\u001b[0m\u001b[1;33m\u001b[0m\u001b[1;33m\u001b[0m\u001b[0m\n\u001b[0;32m     15\u001b[0m     \u001b[0minfo\u001b[0m\u001b[1;33m=\u001b[0m\u001b[0mjson\u001b[0m\u001b[1;33m.\u001b[0m\u001b[0mloads\u001b[0m\u001b[1;33m(\u001b[0m\u001b[0mcontent\u001b[0m\u001b[1;33m)\u001b[0m\u001b[1;33m\u001b[0m\u001b[1;33m\u001b[0m\u001b[0m\n",
      "\u001b[1;32md:\\ana\\lib\\urllib\\request.py\u001b[0m in \u001b[0;36murlopen\u001b[1;34m(url, data, timeout, cafile, capath, cadefault, context)\u001b[0m\n\u001b[0;32m    220\u001b[0m     \u001b[1;32melse\u001b[0m\u001b[1;33m:\u001b[0m\u001b[1;33m\u001b[0m\u001b[1;33m\u001b[0m\u001b[0m\n\u001b[0;32m    221\u001b[0m         \u001b[0mopener\u001b[0m \u001b[1;33m=\u001b[0m \u001b[0m_opener\u001b[0m\u001b[1;33m\u001b[0m\u001b[1;33m\u001b[0m\u001b[0m\n\u001b[1;32m--> 222\u001b[1;33m     \u001b[1;32mreturn\u001b[0m \u001b[0mopener\u001b[0m\u001b[1;33m.\u001b[0m\u001b[0mopen\u001b[0m\u001b[1;33m(\u001b[0m\u001b[0murl\u001b[0m\u001b[1;33m,\u001b[0m \u001b[0mdata\u001b[0m\u001b[1;33m,\u001b[0m \u001b[0mtimeout\u001b[0m\u001b[1;33m)\u001b[0m\u001b[1;33m\u001b[0m\u001b[1;33m\u001b[0m\u001b[0m\n\u001b[0m\u001b[0;32m    223\u001b[0m \u001b[1;33m\u001b[0m\u001b[0m\n\u001b[0;32m    224\u001b[0m \u001b[1;32mdef\u001b[0m \u001b[0minstall_opener\u001b[0m\u001b[1;33m(\u001b[0m\u001b[0mopener\u001b[0m\u001b[1;33m)\u001b[0m\u001b[1;33m:\u001b[0m\u001b[1;33m\u001b[0m\u001b[1;33m\u001b[0m\u001b[0m\n",
      "\u001b[1;32md:\\ana\\lib\\urllib\\request.py\u001b[0m in \u001b[0;36mopen\u001b[1;34m(self, fullurl, data, timeout)\u001b[0m\n\u001b[0;32m    529\u001b[0m         \u001b[1;32mfor\u001b[0m \u001b[0mprocessor\u001b[0m \u001b[1;32min\u001b[0m \u001b[0mself\u001b[0m\u001b[1;33m.\u001b[0m\u001b[0mprocess_response\u001b[0m\u001b[1;33m.\u001b[0m\u001b[0mget\u001b[0m\u001b[1;33m(\u001b[0m\u001b[0mprotocol\u001b[0m\u001b[1;33m,\u001b[0m \u001b[1;33m[\u001b[0m\u001b[1;33m]\u001b[0m\u001b[1;33m)\u001b[0m\u001b[1;33m:\u001b[0m\u001b[1;33m\u001b[0m\u001b[1;33m\u001b[0m\u001b[0m\n\u001b[0;32m    530\u001b[0m             \u001b[0mmeth\u001b[0m \u001b[1;33m=\u001b[0m \u001b[0mgetattr\u001b[0m\u001b[1;33m(\u001b[0m\u001b[0mprocessor\u001b[0m\u001b[1;33m,\u001b[0m \u001b[0mmeth_name\u001b[0m\u001b[1;33m)\u001b[0m\u001b[1;33m\u001b[0m\u001b[1;33m\u001b[0m\u001b[0m\n\u001b[1;32m--> 531\u001b[1;33m             \u001b[0mresponse\u001b[0m \u001b[1;33m=\u001b[0m \u001b[0mmeth\u001b[0m\u001b[1;33m(\u001b[0m\u001b[0mreq\u001b[0m\u001b[1;33m,\u001b[0m \u001b[0mresponse\u001b[0m\u001b[1;33m)\u001b[0m\u001b[1;33m\u001b[0m\u001b[1;33m\u001b[0m\u001b[0m\n\u001b[0m\u001b[0;32m    532\u001b[0m \u001b[1;33m\u001b[0m\u001b[0m\n\u001b[0;32m    533\u001b[0m         \u001b[1;32mreturn\u001b[0m \u001b[0mresponse\u001b[0m\u001b[1;33m\u001b[0m\u001b[1;33m\u001b[0m\u001b[0m\n",
      "\u001b[1;32md:\\ana\\lib\\urllib\\request.py\u001b[0m in \u001b[0;36mhttp_response\u001b[1;34m(self, request, response)\u001b[0m\n\u001b[0;32m    639\u001b[0m         \u001b[1;32mif\u001b[0m \u001b[1;32mnot\u001b[0m \u001b[1;33m(\u001b[0m\u001b[1;36m200\u001b[0m \u001b[1;33m<=\u001b[0m \u001b[0mcode\u001b[0m \u001b[1;33m<\u001b[0m \u001b[1;36m300\u001b[0m\u001b[1;33m)\u001b[0m\u001b[1;33m:\u001b[0m\u001b[1;33m\u001b[0m\u001b[1;33m\u001b[0m\u001b[0m\n\u001b[0;32m    640\u001b[0m             response = self.parent.error(\n\u001b[1;32m--> 641\u001b[1;33m                 'http', request, response, code, msg, hdrs)\n\u001b[0m\u001b[0;32m    642\u001b[0m \u001b[1;33m\u001b[0m\u001b[0m\n\u001b[0;32m    643\u001b[0m         \u001b[1;32mreturn\u001b[0m \u001b[0mresponse\u001b[0m\u001b[1;33m\u001b[0m\u001b[1;33m\u001b[0m\u001b[0m\n",
      "\u001b[1;32md:\\ana\\lib\\urllib\\request.py\u001b[0m in \u001b[0;36merror\u001b[1;34m(self, proto, *args)\u001b[0m\n\u001b[0;32m    567\u001b[0m         \u001b[1;32mif\u001b[0m \u001b[0mhttp_err\u001b[0m\u001b[1;33m:\u001b[0m\u001b[1;33m\u001b[0m\u001b[1;33m\u001b[0m\u001b[0m\n\u001b[0;32m    568\u001b[0m             \u001b[0margs\u001b[0m \u001b[1;33m=\u001b[0m \u001b[1;33m(\u001b[0m\u001b[0mdict\u001b[0m\u001b[1;33m,\u001b[0m \u001b[1;34m'default'\u001b[0m\u001b[1;33m,\u001b[0m \u001b[1;34m'http_error_default'\u001b[0m\u001b[1;33m)\u001b[0m \u001b[1;33m+\u001b[0m \u001b[0morig_args\u001b[0m\u001b[1;33m\u001b[0m\u001b[1;33m\u001b[0m\u001b[0m\n\u001b[1;32m--> 569\u001b[1;33m             \u001b[1;32mreturn\u001b[0m \u001b[0mself\u001b[0m\u001b[1;33m.\u001b[0m\u001b[0m_call_chain\u001b[0m\u001b[1;33m(\u001b[0m\u001b[1;33m*\u001b[0m\u001b[0margs\u001b[0m\u001b[1;33m)\u001b[0m\u001b[1;33m\u001b[0m\u001b[1;33m\u001b[0m\u001b[0m\n\u001b[0m\u001b[0;32m    570\u001b[0m \u001b[1;33m\u001b[0m\u001b[0m\n\u001b[0;32m    571\u001b[0m \u001b[1;31m# XXX probably also want an abstract factory that knows when it makes\u001b[0m\u001b[1;33m\u001b[0m\u001b[1;33m\u001b[0m\u001b[1;33m\u001b[0m\u001b[0m\n",
      "\u001b[1;32md:\\ana\\lib\\urllib\\request.py\u001b[0m in \u001b[0;36m_call_chain\u001b[1;34m(self, chain, kind, meth_name, *args)\u001b[0m\n\u001b[0;32m    501\u001b[0m         \u001b[1;32mfor\u001b[0m \u001b[0mhandler\u001b[0m \u001b[1;32min\u001b[0m \u001b[0mhandlers\u001b[0m\u001b[1;33m:\u001b[0m\u001b[1;33m\u001b[0m\u001b[1;33m\u001b[0m\u001b[0m\n\u001b[0;32m    502\u001b[0m             \u001b[0mfunc\u001b[0m \u001b[1;33m=\u001b[0m \u001b[0mgetattr\u001b[0m\u001b[1;33m(\u001b[0m\u001b[0mhandler\u001b[0m\u001b[1;33m,\u001b[0m \u001b[0mmeth_name\u001b[0m\u001b[1;33m)\u001b[0m\u001b[1;33m\u001b[0m\u001b[1;33m\u001b[0m\u001b[0m\n\u001b[1;32m--> 503\u001b[1;33m             \u001b[0mresult\u001b[0m \u001b[1;33m=\u001b[0m \u001b[0mfunc\u001b[0m\u001b[1;33m(\u001b[0m\u001b[1;33m*\u001b[0m\u001b[0margs\u001b[0m\u001b[1;33m)\u001b[0m\u001b[1;33m\u001b[0m\u001b[1;33m\u001b[0m\u001b[0m\n\u001b[0m\u001b[0;32m    504\u001b[0m             \u001b[1;32mif\u001b[0m \u001b[0mresult\u001b[0m \u001b[1;32mis\u001b[0m \u001b[1;32mnot\u001b[0m \u001b[1;32mNone\u001b[0m\u001b[1;33m:\u001b[0m\u001b[1;33m\u001b[0m\u001b[1;33m\u001b[0m\u001b[0m\n\u001b[0;32m    505\u001b[0m                 \u001b[1;32mreturn\u001b[0m \u001b[0mresult\u001b[0m\u001b[1;33m\u001b[0m\u001b[1;33m\u001b[0m\u001b[0m\n",
      "\u001b[1;32md:\\ana\\lib\\urllib\\request.py\u001b[0m in \u001b[0;36mhttp_error_default\u001b[1;34m(self, req, fp, code, msg, hdrs)\u001b[0m\n\u001b[0;32m    647\u001b[0m \u001b[1;32mclass\u001b[0m \u001b[0mHTTPDefaultErrorHandler\u001b[0m\u001b[1;33m(\u001b[0m\u001b[0mBaseHandler\u001b[0m\u001b[1;33m)\u001b[0m\u001b[1;33m:\u001b[0m\u001b[1;33m\u001b[0m\u001b[1;33m\u001b[0m\u001b[0m\n\u001b[0;32m    648\u001b[0m     \u001b[1;32mdef\u001b[0m \u001b[0mhttp_error_default\u001b[0m\u001b[1;33m(\u001b[0m\u001b[0mself\u001b[0m\u001b[1;33m,\u001b[0m \u001b[0mreq\u001b[0m\u001b[1;33m,\u001b[0m \u001b[0mfp\u001b[0m\u001b[1;33m,\u001b[0m \u001b[0mcode\u001b[0m\u001b[1;33m,\u001b[0m \u001b[0mmsg\u001b[0m\u001b[1;33m,\u001b[0m \u001b[0mhdrs\u001b[0m\u001b[1;33m)\u001b[0m\u001b[1;33m:\u001b[0m\u001b[1;33m\u001b[0m\u001b[1;33m\u001b[0m\u001b[0m\n\u001b[1;32m--> 649\u001b[1;33m         \u001b[1;32mraise\u001b[0m \u001b[0mHTTPError\u001b[0m\u001b[1;33m(\u001b[0m\u001b[0mreq\u001b[0m\u001b[1;33m.\u001b[0m\u001b[0mfull_url\u001b[0m\u001b[1;33m,\u001b[0m \u001b[0mcode\u001b[0m\u001b[1;33m,\u001b[0m \u001b[0mmsg\u001b[0m\u001b[1;33m,\u001b[0m \u001b[0mhdrs\u001b[0m\u001b[1;33m,\u001b[0m \u001b[0mfp\u001b[0m\u001b[1;33m)\u001b[0m\u001b[1;33m\u001b[0m\u001b[1;33m\u001b[0m\u001b[0m\n\u001b[0m\u001b[0;32m    650\u001b[0m \u001b[1;33m\u001b[0m\u001b[0m\n\u001b[0;32m    651\u001b[0m \u001b[1;32mclass\u001b[0m \u001b[0mHTTPRedirectHandler\u001b[0m\u001b[1;33m(\u001b[0m\u001b[0mBaseHandler\u001b[0m\u001b[1;33m)\u001b[0m\u001b[1;33m:\u001b[0m\u001b[1;33m\u001b[0m\u001b[1;33m\u001b[0m\u001b[0m\n",
      "\u001b[1;31mHTTPError\u001b[0m: HTTP Error 555: 555"
     ]
    }
   ],
   "source": [
    "import sys\n",
    "\n",
    "def ip_search(ip):\n",
    "    host = 'http://saip.market.alicloudapi.com'\n",
    "    path = '/ip'\n",
    "    method = 'GET'\n",
    "    appcode = '91fa754784494761b450672aba2d3efb'\n",
    "    querys = 'ip='+ip\n",
    "    bodys = {}\n",
    "    url = host + path + '?' + querys\n",
    "    head={'Authorization':'APPCODE '+appcode}\n",
    "    request = ul.Request(url,headers=head)\n",
    "    response = ul.urlopen(request)\n",
    "    content = response.read()\n",
    "    info=json.loads(content)\n",
    "    return(info)\n",
    "ip=input('请输入需要查询的IP地址:')\n",
    "info=ip_search(ip)\n",
    "k=info['showapi_res_body']\n",
    "print('IP地址对应的信息如下:'+'\\n')\n",
    "for i in k:\n",
    "    print(i,k[i])\n",
    "c=input('请按任意键结束查询。。。。。。')"
   ]
  },
  {
   "cell_type": "code",
   "execution_count": 19,
   "metadata": {},
   "outputs": [
    {
     "name": "stdout",
     "output_type": "stream",
     "text": [
      "https://www.mzitu.com/209236\n",
      "https://www.mzitu.com/225312\n",
      "https://www.mzitu.com/209904\n",
      "https://www.mzitu.com/209835\n",
      "https://www.mzitu.com/209421\n",
      "https://www.mzitu.com/224888\n",
      "https://www.mzitu.com/205635\n",
      "https://www.mzitu.com/209159\n",
      "https://www.mzitu.com/205848\n",
      "https://www.mzitu.com/224623\n",
      "https://www.mzitu.com/208935\n",
      "https://www.mzitu.com/224497\n",
      "https://www.mzitu.com/224097\n",
      "https://www.mzitu.com/208689\n",
      "https://www.mzitu.com/205912\n",
      "https://www.mzitu.com/224042\n",
      "https://www.mzitu.com/224173\n",
      "https://www.mzitu.com/205359\n",
      "https://www.mzitu.com/223616\n",
      "https://www.mzitu.com/223985\n",
      "https://www.mzitu.com/216244\n",
      "https://www.mzitu.com/223776\n",
      "https://www.mzitu.com/205512\n",
      "https://www.mzitu.com/223504\n"
     ]
    }
   ],
   "source": [
    "url='https://www.mzitu.com/xinggan/page/2/'\n",
    "global headers\n",
    "req=rq.get(url,headers=headers)\n",
    "html=req.text\n",
    "#print(html)\n",
    "uo_list=re.findall('<li><a(.*?)span></li>',html)\n",
    "for i in uo_list:\n",
    "    print(re.findall('https://www.mzitu.com/......',i)[0])"
   ]
  },
  {
   "cell_type": "code",
   "execution_count": 3,
   "metadata": {},
   "outputs": [],
   "source": [
    "#制造首页地址的汇总\n",
    "filename='pricepage.txt'\n",
    "out_file=in_path+filename\n",
    "count=1         \n",
    "with open(out_file,'a') as tar:\n",
    "    for i in range(1,51):\n",
    "        link='http://www.100ppi.com/mprice/mlist-'+str(count)+'.html\\n'\n",
    "        tar.write(link)\n",
    "        count+=1"
   ]
  },
  {
   "cell_type": "code",
   "execution_count": 9,
   "metadata": {},
   "outputs": [],
   "source": [
    "linkname='link2.txt'\n",
    "final_name=in_path+linkname\n",
    "def get_pic_page(url):\n",
    "    global headers\n",
    "    req=rq.get(url,headers=headers,timeout=30)\n",
    "    html=req.text\n",
    "    uo_list=re.findall('<li><a(.*?)span></li>',html)\n",
    "    with open(final_name,'a') as tar:\n",
    "        count=1\n",
    "        for i in uo_list:\n",
    "            tar.write(re.findall('https://www.mzitu.com/......',i)[0]+'\\n')\n",
    "            count+=1\n",
    "    "
   ]
  },
  {
   "cell_type": "code",
   "execution_count": 10,
   "metadata": {},
   "outputs": [
    {
     "ename": "ConnectionError",
     "evalue": "HTTPSConnectionPool(host='www.mzitu.com', port=443): Max retries exceeded with url: /xinggan/page/2/ (Caused by NewConnectionError('<urllib3.connection.VerifiedHTTPSConnection object at 0x0000000007CC8AC8>: Failed to establish a new connection: [WinError 10060] 由于连接方在一段时间后没有正确答复或连接的主机没有反应，连接尝试失败。'))",
     "output_type": "error",
     "traceback": [
      "\u001b[1;31m---------------------------------------------------------------------------\u001b[0m",
      "\u001b[1;31mTimeoutError\u001b[0m                              Traceback (most recent call last)",
      "\u001b[1;32md:\\ana\\lib\\site-packages\\urllib3\\connection.py\u001b[0m in \u001b[0;36m_new_conn\u001b[1;34m(self)\u001b[0m\n\u001b[0;32m    156\u001b[0m             conn = connection.create_connection(\n\u001b[1;32m--> 157\u001b[1;33m                 \u001b[1;33m(\u001b[0m\u001b[0mself\u001b[0m\u001b[1;33m.\u001b[0m\u001b[0m_dns_host\u001b[0m\u001b[1;33m,\u001b[0m \u001b[0mself\u001b[0m\u001b[1;33m.\u001b[0m\u001b[0mport\u001b[0m\u001b[1;33m)\u001b[0m\u001b[1;33m,\u001b[0m \u001b[0mself\u001b[0m\u001b[1;33m.\u001b[0m\u001b[0mtimeout\u001b[0m\u001b[1;33m,\u001b[0m \u001b[1;33m**\u001b[0m\u001b[0mextra_kw\u001b[0m\u001b[1;33m\u001b[0m\u001b[1;33m\u001b[0m\u001b[0m\n\u001b[0m\u001b[0;32m    158\u001b[0m             )\n",
      "\u001b[1;32md:\\ana\\lib\\site-packages\\urllib3\\util\\connection.py\u001b[0m in \u001b[0;36mcreate_connection\u001b[1;34m(address, timeout, source_address, socket_options)\u001b[0m\n\u001b[0;32m     83\u001b[0m     \u001b[1;32mif\u001b[0m \u001b[0merr\u001b[0m \u001b[1;32mis\u001b[0m \u001b[1;32mnot\u001b[0m \u001b[1;32mNone\u001b[0m\u001b[1;33m:\u001b[0m\u001b[1;33m\u001b[0m\u001b[1;33m\u001b[0m\u001b[0m\n\u001b[1;32m---> 84\u001b[1;33m         \u001b[1;32mraise\u001b[0m \u001b[0merr\u001b[0m\u001b[1;33m\u001b[0m\u001b[1;33m\u001b[0m\u001b[0m\n\u001b[0m\u001b[0;32m     85\u001b[0m \u001b[1;33m\u001b[0m\u001b[0m\n",
      "\u001b[1;32md:\\ana\\lib\\site-packages\\urllib3\\util\\connection.py\u001b[0m in \u001b[0;36mcreate_connection\u001b[1;34m(address, timeout, source_address, socket_options)\u001b[0m\n\u001b[0;32m     73\u001b[0m                 \u001b[0msock\u001b[0m\u001b[1;33m.\u001b[0m\u001b[0mbind\u001b[0m\u001b[1;33m(\u001b[0m\u001b[0msource_address\u001b[0m\u001b[1;33m)\u001b[0m\u001b[1;33m\u001b[0m\u001b[1;33m\u001b[0m\u001b[0m\n\u001b[1;32m---> 74\u001b[1;33m             \u001b[0msock\u001b[0m\u001b[1;33m.\u001b[0m\u001b[0mconnect\u001b[0m\u001b[1;33m(\u001b[0m\u001b[0msa\u001b[0m\u001b[1;33m)\u001b[0m\u001b[1;33m\u001b[0m\u001b[1;33m\u001b[0m\u001b[0m\n\u001b[0m\u001b[0;32m     75\u001b[0m             \u001b[1;32mreturn\u001b[0m \u001b[0msock\u001b[0m\u001b[1;33m\u001b[0m\u001b[1;33m\u001b[0m\u001b[0m\n",
      "\u001b[1;31mTimeoutError\u001b[0m: [WinError 10060] 由于连接方在一段时间后没有正确答复或连接的主机没有反应，连接尝试失败。",
      "\nDuring handling of the above exception, another exception occurred:\n",
      "\u001b[1;31mNewConnectionError\u001b[0m                        Traceback (most recent call last)",
      "\u001b[1;32md:\\ana\\lib\\site-packages\\urllib3\\connectionpool.py\u001b[0m in \u001b[0;36murlopen\u001b[1;34m(self, method, url, body, headers, retries, redirect, assert_same_host, timeout, pool_timeout, release_conn, chunked, body_pos, **response_kw)\u001b[0m\n\u001b[0;32m    671\u001b[0m                 \u001b[0mheaders\u001b[0m\u001b[1;33m=\u001b[0m\u001b[0mheaders\u001b[0m\u001b[1;33m,\u001b[0m\u001b[1;33m\u001b[0m\u001b[1;33m\u001b[0m\u001b[0m\n\u001b[1;32m--> 672\u001b[1;33m                 \u001b[0mchunked\u001b[0m\u001b[1;33m=\u001b[0m\u001b[0mchunked\u001b[0m\u001b[1;33m,\u001b[0m\u001b[1;33m\u001b[0m\u001b[1;33m\u001b[0m\u001b[0m\n\u001b[0m\u001b[0;32m    673\u001b[0m             )\n",
      "\u001b[1;32md:\\ana\\lib\\site-packages\\urllib3\\connectionpool.py\u001b[0m in \u001b[0;36m_make_request\u001b[1;34m(self, conn, method, url, timeout, chunked, **httplib_request_kw)\u001b[0m\n\u001b[0;32m    375\u001b[0m         \u001b[1;32mtry\u001b[0m\u001b[1;33m:\u001b[0m\u001b[1;33m\u001b[0m\u001b[1;33m\u001b[0m\u001b[0m\n\u001b[1;32m--> 376\u001b[1;33m             \u001b[0mself\u001b[0m\u001b[1;33m.\u001b[0m\u001b[0m_validate_conn\u001b[0m\u001b[1;33m(\u001b[0m\u001b[0mconn\u001b[0m\u001b[1;33m)\u001b[0m\u001b[1;33m\u001b[0m\u001b[1;33m\u001b[0m\u001b[0m\n\u001b[0m\u001b[0;32m    377\u001b[0m         \u001b[1;32mexcept\u001b[0m \u001b[1;33m(\u001b[0m\u001b[0mSocketTimeout\u001b[0m\u001b[1;33m,\u001b[0m \u001b[0mBaseSSLError\u001b[0m\u001b[1;33m)\u001b[0m \u001b[1;32mas\u001b[0m \u001b[0me\u001b[0m\u001b[1;33m:\u001b[0m\u001b[1;33m\u001b[0m\u001b[1;33m\u001b[0m\u001b[0m\n",
      "\u001b[1;32md:\\ana\\lib\\site-packages\\urllib3\\connectionpool.py\u001b[0m in \u001b[0;36m_validate_conn\u001b[1;34m(self, conn)\u001b[0m\n\u001b[0;32m    993\u001b[0m         \u001b[1;32mif\u001b[0m \u001b[1;32mnot\u001b[0m \u001b[0mgetattr\u001b[0m\u001b[1;33m(\u001b[0m\u001b[0mconn\u001b[0m\u001b[1;33m,\u001b[0m \u001b[1;34m\"sock\"\u001b[0m\u001b[1;33m,\u001b[0m \u001b[1;32mNone\u001b[0m\u001b[1;33m)\u001b[0m\u001b[1;33m:\u001b[0m  \u001b[1;31m# AppEngine might not have  `.sock`\u001b[0m\u001b[1;33m\u001b[0m\u001b[1;33m\u001b[0m\u001b[0m\n\u001b[1;32m--> 994\u001b[1;33m             \u001b[0mconn\u001b[0m\u001b[1;33m.\u001b[0m\u001b[0mconnect\u001b[0m\u001b[1;33m(\u001b[0m\u001b[1;33m)\u001b[0m\u001b[1;33m\u001b[0m\u001b[1;33m\u001b[0m\u001b[0m\n\u001b[0m\u001b[0;32m    995\u001b[0m \u001b[1;33m\u001b[0m\u001b[0m\n",
      "\u001b[1;32md:\\ana\\lib\\site-packages\\urllib3\\connection.py\u001b[0m in \u001b[0;36mconnect\u001b[1;34m(self)\u001b[0m\n\u001b[0;32m    333\u001b[0m         \u001b[1;31m# Add certificate verification\u001b[0m\u001b[1;33m\u001b[0m\u001b[1;33m\u001b[0m\u001b[1;33m\u001b[0m\u001b[0m\n\u001b[1;32m--> 334\u001b[1;33m         \u001b[0mconn\u001b[0m \u001b[1;33m=\u001b[0m \u001b[0mself\u001b[0m\u001b[1;33m.\u001b[0m\u001b[0m_new_conn\u001b[0m\u001b[1;33m(\u001b[0m\u001b[1;33m)\u001b[0m\u001b[1;33m\u001b[0m\u001b[1;33m\u001b[0m\u001b[0m\n\u001b[0m\u001b[0;32m    335\u001b[0m         \u001b[0mhostname\u001b[0m \u001b[1;33m=\u001b[0m \u001b[0mself\u001b[0m\u001b[1;33m.\u001b[0m\u001b[0mhost\u001b[0m\u001b[1;33m\u001b[0m\u001b[1;33m\u001b[0m\u001b[0m\n",
      "\u001b[1;32md:\\ana\\lib\\site-packages\\urllib3\\connection.py\u001b[0m in \u001b[0;36m_new_conn\u001b[1;34m(self)\u001b[0m\n\u001b[0;32m    168\u001b[0m             raise NewConnectionError(\n\u001b[1;32m--> 169\u001b[1;33m                 \u001b[0mself\u001b[0m\u001b[1;33m,\u001b[0m \u001b[1;34m\"Failed to establish a new connection: %s\"\u001b[0m \u001b[1;33m%\u001b[0m \u001b[0me\u001b[0m\u001b[1;33m\u001b[0m\u001b[1;33m\u001b[0m\u001b[0m\n\u001b[0m\u001b[0;32m    170\u001b[0m             )\n",
      "\u001b[1;31mNewConnectionError\u001b[0m: <urllib3.connection.VerifiedHTTPSConnection object at 0x0000000007CC8AC8>: Failed to establish a new connection: [WinError 10060] 由于连接方在一段时间后没有正确答复或连接的主机没有反应，连接尝试失败。",
      "\nDuring handling of the above exception, another exception occurred:\n",
      "\u001b[1;31mMaxRetryError\u001b[0m                             Traceback (most recent call last)",
      "\u001b[1;32md:\\ana\\lib\\site-packages\\requests\\adapters.py\u001b[0m in \u001b[0;36msend\u001b[1;34m(self, request, stream, timeout, verify, cert, proxies)\u001b[0m\n\u001b[0;32m    448\u001b[0m                     \u001b[0mretries\u001b[0m\u001b[1;33m=\u001b[0m\u001b[0mself\u001b[0m\u001b[1;33m.\u001b[0m\u001b[0mmax_retries\u001b[0m\u001b[1;33m,\u001b[0m\u001b[1;33m\u001b[0m\u001b[1;33m\u001b[0m\u001b[0m\n\u001b[1;32m--> 449\u001b[1;33m                     \u001b[0mtimeout\u001b[0m\u001b[1;33m=\u001b[0m\u001b[0mtimeout\u001b[0m\u001b[1;33m\u001b[0m\u001b[1;33m\u001b[0m\u001b[0m\n\u001b[0m\u001b[0;32m    450\u001b[0m                 )\n",
      "\u001b[1;32md:\\ana\\lib\\site-packages\\urllib3\\connectionpool.py\u001b[0m in \u001b[0;36murlopen\u001b[1;34m(self, method, url, body, headers, retries, redirect, assert_same_host, timeout, pool_timeout, release_conn, chunked, body_pos, **response_kw)\u001b[0m\n\u001b[0;32m    719\u001b[0m             retries = retries.increment(\n\u001b[1;32m--> 720\u001b[1;33m                 \u001b[0mmethod\u001b[0m\u001b[1;33m,\u001b[0m \u001b[0murl\u001b[0m\u001b[1;33m,\u001b[0m \u001b[0merror\u001b[0m\u001b[1;33m=\u001b[0m\u001b[0me\u001b[0m\u001b[1;33m,\u001b[0m \u001b[0m_pool\u001b[0m\u001b[1;33m=\u001b[0m\u001b[0mself\u001b[0m\u001b[1;33m,\u001b[0m \u001b[0m_stacktrace\u001b[0m\u001b[1;33m=\u001b[0m\u001b[0msys\u001b[0m\u001b[1;33m.\u001b[0m\u001b[0mexc_info\u001b[0m\u001b[1;33m(\u001b[0m\u001b[1;33m)\u001b[0m\u001b[1;33m[\u001b[0m\u001b[1;36m2\u001b[0m\u001b[1;33m]\u001b[0m\u001b[1;33m\u001b[0m\u001b[1;33m\u001b[0m\u001b[0m\n\u001b[0m\u001b[0;32m    721\u001b[0m             )\n",
      "\u001b[1;32md:\\ana\\lib\\site-packages\\urllib3\\util\\retry.py\u001b[0m in \u001b[0;36mincrement\u001b[1;34m(self, method, url, response, error, _pool, _stacktrace)\u001b[0m\n\u001b[0;32m    435\u001b[0m         \u001b[1;32mif\u001b[0m \u001b[0mnew_retry\u001b[0m\u001b[1;33m.\u001b[0m\u001b[0mis_exhausted\u001b[0m\u001b[1;33m(\u001b[0m\u001b[1;33m)\u001b[0m\u001b[1;33m:\u001b[0m\u001b[1;33m\u001b[0m\u001b[1;33m\u001b[0m\u001b[0m\n\u001b[1;32m--> 436\u001b[1;33m             \u001b[1;32mraise\u001b[0m \u001b[0mMaxRetryError\u001b[0m\u001b[1;33m(\u001b[0m\u001b[0m_pool\u001b[0m\u001b[1;33m,\u001b[0m \u001b[0murl\u001b[0m\u001b[1;33m,\u001b[0m \u001b[0merror\u001b[0m \u001b[1;32mor\u001b[0m \u001b[0mResponseError\u001b[0m\u001b[1;33m(\u001b[0m\u001b[0mcause\u001b[0m\u001b[1;33m)\u001b[0m\u001b[1;33m)\u001b[0m\u001b[1;33m\u001b[0m\u001b[1;33m\u001b[0m\u001b[0m\n\u001b[0m\u001b[0;32m    437\u001b[0m \u001b[1;33m\u001b[0m\u001b[0m\n",
      "\u001b[1;31mMaxRetryError\u001b[0m: HTTPSConnectionPool(host='www.mzitu.com', port=443): Max retries exceeded with url: /xinggan/page/2/ (Caused by NewConnectionError('<urllib3.connection.VerifiedHTTPSConnection object at 0x0000000007CC8AC8>: Failed to establish a new connection: [WinError 10060] 由于连接方在一段时间后没有正确答复或连接的主机没有反应，连接尝试失败。'))",
      "\nDuring handling of the above exception, another exception occurred:\n",
      "\u001b[1;31mConnectionError\u001b[0m                           Traceback (most recent call last)",
      "\u001b[1;32m<ipython-input-10-e5fcea1ed5d7>\u001b[0m in \u001b[0;36m<module>\u001b[1;34m\u001b[0m\n\u001b[0;32m      2\u001b[0m     \u001b[0mcount\u001b[0m\u001b[1;33m=\u001b[0m\u001b[1;36m1\u001b[0m\u001b[1;33m\u001b[0m\u001b[1;33m\u001b[0m\u001b[0m\n\u001b[0;32m      3\u001b[0m     \u001b[1;32mfor\u001b[0m \u001b[0meachline\u001b[0m \u001b[1;32min\u001b[0m \u001b[0msou\u001b[0m\u001b[1;33m:\u001b[0m\u001b[1;33m\u001b[0m\u001b[1;33m\u001b[0m\u001b[0m\n\u001b[1;32m----> 4\u001b[1;33m         \u001b[0mget_pic_page\u001b[0m\u001b[1;33m(\u001b[0m\u001b[0meachline\u001b[0m\u001b[1;33m.\u001b[0m\u001b[0mstrip\u001b[0m\u001b[1;33m(\u001b[0m\u001b[1;34m'\\n'\u001b[0m\u001b[1;33m)\u001b[0m\u001b[1;33m)\u001b[0m\u001b[1;33m\u001b[0m\u001b[1;33m\u001b[0m\u001b[0m\n\u001b[0m\u001b[0;32m      5\u001b[0m         \u001b[0mcount\u001b[0m\u001b[1;33m+=\u001b[0m\u001b[1;36m1\u001b[0m\u001b[1;33m\u001b[0m\u001b[1;33m\u001b[0m\u001b[0m\n\u001b[0;32m      6\u001b[0m \u001b[0mprint\u001b[0m\u001b[1;33m(\u001b[0m\u001b[0mcount\u001b[0m\u001b[1;33m)\u001b[0m\u001b[1;33m\u001b[0m\u001b[1;33m\u001b[0m\u001b[0m\n",
      "\u001b[1;32m<ipython-input-9-16018380362f>\u001b[0m in \u001b[0;36mget_pic_page\u001b[1;34m(url)\u001b[0m\n\u001b[0;32m      3\u001b[0m \u001b[1;32mdef\u001b[0m \u001b[0mget_pic_page\u001b[0m\u001b[1;33m(\u001b[0m\u001b[0murl\u001b[0m\u001b[1;33m)\u001b[0m\u001b[1;33m:\u001b[0m\u001b[1;33m\u001b[0m\u001b[1;33m\u001b[0m\u001b[0m\n\u001b[0;32m      4\u001b[0m     \u001b[1;32mglobal\u001b[0m \u001b[0mheaders\u001b[0m\u001b[1;33m\u001b[0m\u001b[1;33m\u001b[0m\u001b[0m\n\u001b[1;32m----> 5\u001b[1;33m     \u001b[0mreq\u001b[0m\u001b[1;33m=\u001b[0m\u001b[0mrq\u001b[0m\u001b[1;33m.\u001b[0m\u001b[0mget\u001b[0m\u001b[1;33m(\u001b[0m\u001b[0murl\u001b[0m\u001b[1;33m,\u001b[0m\u001b[0mheaders\u001b[0m\u001b[1;33m=\u001b[0m\u001b[0mheaders\u001b[0m\u001b[1;33m,\u001b[0m\u001b[0mtimeout\u001b[0m\u001b[1;33m=\u001b[0m\u001b[1;36m30\u001b[0m\u001b[1;33m)\u001b[0m\u001b[1;33m\u001b[0m\u001b[1;33m\u001b[0m\u001b[0m\n\u001b[0m\u001b[0;32m      6\u001b[0m     \u001b[0mhtml\u001b[0m\u001b[1;33m=\u001b[0m\u001b[0mreq\u001b[0m\u001b[1;33m.\u001b[0m\u001b[0mtext\u001b[0m\u001b[1;33m\u001b[0m\u001b[1;33m\u001b[0m\u001b[0m\n\u001b[0;32m      7\u001b[0m     \u001b[0muo_list\u001b[0m\u001b[1;33m=\u001b[0m\u001b[0mre\u001b[0m\u001b[1;33m.\u001b[0m\u001b[0mfindall\u001b[0m\u001b[1;33m(\u001b[0m\u001b[1;34m'<li><a(.*?)span></li>'\u001b[0m\u001b[1;33m,\u001b[0m\u001b[0mhtml\u001b[0m\u001b[1;33m)\u001b[0m\u001b[1;33m\u001b[0m\u001b[1;33m\u001b[0m\u001b[0m\n",
      "\u001b[1;32md:\\ana\\lib\\site-packages\\requests\\api.py\u001b[0m in \u001b[0;36mget\u001b[1;34m(url, params, **kwargs)\u001b[0m\n\u001b[0;32m     73\u001b[0m \u001b[1;33m\u001b[0m\u001b[0m\n\u001b[0;32m     74\u001b[0m     \u001b[0mkwargs\u001b[0m\u001b[1;33m.\u001b[0m\u001b[0msetdefault\u001b[0m\u001b[1;33m(\u001b[0m\u001b[1;34m'allow_redirects'\u001b[0m\u001b[1;33m,\u001b[0m \u001b[1;32mTrue\u001b[0m\u001b[1;33m)\u001b[0m\u001b[1;33m\u001b[0m\u001b[1;33m\u001b[0m\u001b[0m\n\u001b[1;32m---> 75\u001b[1;33m     \u001b[1;32mreturn\u001b[0m \u001b[0mrequest\u001b[0m\u001b[1;33m(\u001b[0m\u001b[1;34m'get'\u001b[0m\u001b[1;33m,\u001b[0m \u001b[0murl\u001b[0m\u001b[1;33m,\u001b[0m \u001b[0mparams\u001b[0m\u001b[1;33m=\u001b[0m\u001b[0mparams\u001b[0m\u001b[1;33m,\u001b[0m \u001b[1;33m**\u001b[0m\u001b[0mkwargs\u001b[0m\u001b[1;33m)\u001b[0m\u001b[1;33m\u001b[0m\u001b[1;33m\u001b[0m\u001b[0m\n\u001b[0m\u001b[0;32m     76\u001b[0m \u001b[1;33m\u001b[0m\u001b[0m\n\u001b[0;32m     77\u001b[0m \u001b[1;33m\u001b[0m\u001b[0m\n",
      "\u001b[1;32md:\\ana\\lib\\site-packages\\requests\\api.py\u001b[0m in \u001b[0;36mrequest\u001b[1;34m(method, url, **kwargs)\u001b[0m\n\u001b[0;32m     58\u001b[0m     \u001b[1;31m# cases, and look like a memory leak in others.\u001b[0m\u001b[1;33m\u001b[0m\u001b[1;33m\u001b[0m\u001b[1;33m\u001b[0m\u001b[0m\n\u001b[0;32m     59\u001b[0m     \u001b[1;32mwith\u001b[0m \u001b[0msessions\u001b[0m\u001b[1;33m.\u001b[0m\u001b[0mSession\u001b[0m\u001b[1;33m(\u001b[0m\u001b[1;33m)\u001b[0m \u001b[1;32mas\u001b[0m \u001b[0msession\u001b[0m\u001b[1;33m:\u001b[0m\u001b[1;33m\u001b[0m\u001b[1;33m\u001b[0m\u001b[0m\n\u001b[1;32m---> 60\u001b[1;33m         \u001b[1;32mreturn\u001b[0m \u001b[0msession\u001b[0m\u001b[1;33m.\u001b[0m\u001b[0mrequest\u001b[0m\u001b[1;33m(\u001b[0m\u001b[0mmethod\u001b[0m\u001b[1;33m=\u001b[0m\u001b[0mmethod\u001b[0m\u001b[1;33m,\u001b[0m \u001b[0murl\u001b[0m\u001b[1;33m=\u001b[0m\u001b[0murl\u001b[0m\u001b[1;33m,\u001b[0m \u001b[1;33m**\u001b[0m\u001b[0mkwargs\u001b[0m\u001b[1;33m)\u001b[0m\u001b[1;33m\u001b[0m\u001b[1;33m\u001b[0m\u001b[0m\n\u001b[0m\u001b[0;32m     61\u001b[0m \u001b[1;33m\u001b[0m\u001b[0m\n\u001b[0;32m     62\u001b[0m \u001b[1;33m\u001b[0m\u001b[0m\n",
      "\u001b[1;32md:\\ana\\lib\\site-packages\\requests\\sessions.py\u001b[0m in \u001b[0;36mrequest\u001b[1;34m(self, method, url, params, data, headers, cookies, files, auth, timeout, allow_redirects, proxies, hooks, stream, verify, cert, json)\u001b[0m\n\u001b[0;32m    531\u001b[0m         }\n\u001b[0;32m    532\u001b[0m         \u001b[0msend_kwargs\u001b[0m\u001b[1;33m.\u001b[0m\u001b[0mupdate\u001b[0m\u001b[1;33m(\u001b[0m\u001b[0msettings\u001b[0m\u001b[1;33m)\u001b[0m\u001b[1;33m\u001b[0m\u001b[1;33m\u001b[0m\u001b[0m\n\u001b[1;32m--> 533\u001b[1;33m         \u001b[0mresp\u001b[0m \u001b[1;33m=\u001b[0m \u001b[0mself\u001b[0m\u001b[1;33m.\u001b[0m\u001b[0msend\u001b[0m\u001b[1;33m(\u001b[0m\u001b[0mprep\u001b[0m\u001b[1;33m,\u001b[0m \u001b[1;33m**\u001b[0m\u001b[0msend_kwargs\u001b[0m\u001b[1;33m)\u001b[0m\u001b[1;33m\u001b[0m\u001b[1;33m\u001b[0m\u001b[0m\n\u001b[0m\u001b[0;32m    534\u001b[0m \u001b[1;33m\u001b[0m\u001b[0m\n\u001b[0;32m    535\u001b[0m         \u001b[1;32mreturn\u001b[0m \u001b[0mresp\u001b[0m\u001b[1;33m\u001b[0m\u001b[1;33m\u001b[0m\u001b[0m\n",
      "\u001b[1;32md:\\ana\\lib\\site-packages\\requests\\sessions.py\u001b[0m in \u001b[0;36msend\u001b[1;34m(self, request, **kwargs)\u001b[0m\n\u001b[0;32m    644\u001b[0m \u001b[1;33m\u001b[0m\u001b[0m\n\u001b[0;32m    645\u001b[0m         \u001b[1;31m# Send the request\u001b[0m\u001b[1;33m\u001b[0m\u001b[1;33m\u001b[0m\u001b[1;33m\u001b[0m\u001b[0m\n\u001b[1;32m--> 646\u001b[1;33m         \u001b[0mr\u001b[0m \u001b[1;33m=\u001b[0m \u001b[0madapter\u001b[0m\u001b[1;33m.\u001b[0m\u001b[0msend\u001b[0m\u001b[1;33m(\u001b[0m\u001b[0mrequest\u001b[0m\u001b[1;33m,\u001b[0m \u001b[1;33m**\u001b[0m\u001b[0mkwargs\u001b[0m\u001b[1;33m)\u001b[0m\u001b[1;33m\u001b[0m\u001b[1;33m\u001b[0m\u001b[0m\n\u001b[0m\u001b[0;32m    647\u001b[0m \u001b[1;33m\u001b[0m\u001b[0m\n\u001b[0;32m    648\u001b[0m         \u001b[1;31m# Total elapsed time of the request (approximately)\u001b[0m\u001b[1;33m\u001b[0m\u001b[1;33m\u001b[0m\u001b[1;33m\u001b[0m\u001b[0m\n",
      "\u001b[1;32md:\\ana\\lib\\site-packages\\requests\\adapters.py\u001b[0m in \u001b[0;36msend\u001b[1;34m(self, request, stream, timeout, verify, cert, proxies)\u001b[0m\n\u001b[0;32m    514\u001b[0m                 \u001b[1;32mraise\u001b[0m \u001b[0mSSLError\u001b[0m\u001b[1;33m(\u001b[0m\u001b[0me\u001b[0m\u001b[1;33m,\u001b[0m \u001b[0mrequest\u001b[0m\u001b[1;33m=\u001b[0m\u001b[0mrequest\u001b[0m\u001b[1;33m)\u001b[0m\u001b[1;33m\u001b[0m\u001b[1;33m\u001b[0m\u001b[0m\n\u001b[0;32m    515\u001b[0m \u001b[1;33m\u001b[0m\u001b[0m\n\u001b[1;32m--> 516\u001b[1;33m             \u001b[1;32mraise\u001b[0m \u001b[0mConnectionError\u001b[0m\u001b[1;33m(\u001b[0m\u001b[0me\u001b[0m\u001b[1;33m,\u001b[0m \u001b[0mrequest\u001b[0m\u001b[1;33m=\u001b[0m\u001b[0mrequest\u001b[0m\u001b[1;33m)\u001b[0m\u001b[1;33m\u001b[0m\u001b[1;33m\u001b[0m\u001b[0m\n\u001b[0m\u001b[0;32m    517\u001b[0m \u001b[1;33m\u001b[0m\u001b[0m\n\u001b[0;32m    518\u001b[0m         \u001b[1;32mexcept\u001b[0m \u001b[0mClosedPoolError\u001b[0m \u001b[1;32mas\u001b[0m \u001b[0me\u001b[0m\u001b[1;33m:\u001b[0m\u001b[1;33m\u001b[0m\u001b[1;33m\u001b[0m\u001b[0m\n",
      "\u001b[1;31mConnectionError\u001b[0m: HTTPSConnectionPool(host='www.mzitu.com', port=443): Max retries exceeded with url: /xinggan/page/2/ (Caused by NewConnectionError('<urllib3.connection.VerifiedHTTPSConnection object at 0x0000000007CC8AC8>: Failed to establish a new connection: [WinError 10060] 由于连接方在一段时间后没有正确答复或连接的主机没有反应，连接尝试失败。'))"
     ]
    }
   ],
   "source": [
    "with open(out_file,'r') as sou:\n",
    "    count=1\n",
    "    for eachline in sou:\n",
    "        get_pic_page(eachline.strip('\\n'))\n",
    "        count+=1\n",
    "print(count)"
   ]
  },
  {
   "cell_type": "code",
   "execution_count": null,
   "metadata": {},
   "outputs": [],
   "source": [
    "#抓取彩票数据\n",
    "url=input('请输入双色球历史数据的网络地址:')\n"
   ]
  },
  {
   "cell_type": "code",
   "execution_count": null,
   "metadata": {},
   "outputs": [],
   "source": [
    "global headers\n",
    "req=rq.get(url,headers=headers)\n",
    "print(req.text)"
   ]
  },
  {
   "cell_type": "code",
   "execution_count": null,
   "metadata": {
    "scrolled": true
   },
   "outputs": [],
   "source": [
    "html=bl(req.text,'lxml')"
   ]
  },
  {
   "cell_type": "code",
   "execution_count": null,
   "metadata": {},
   "outputs": [],
   "source": [
    "summery_data=html.find_all('tr',class_=\"t_tr1\")\n",
    "print(summery_data)"
   ]
  },
  {
   "cell_type": "code",
   "execution_count": null,
   "metadata": {},
   "outputs": [],
   "source": [
    "data_list=[]\n",
    "for i in summery_data:\n",
    "    caipiao={}\n",
    "    caipiao['彩票期数']=i.find_all('td')[0].text\n",
    "    caipiao['红球数字1']=i.find_all('td',class_=\"t_cfont2\")[0].text\n",
    "    caipiao['红球数字2']=i.find_all('td',class_=\"t_cfont2\")[1].text\n",
    "    caipiao['红球数字3']=i.find_all('td',class_=\"t_cfont2\")[2].text\n",
    "    caipiao['红球数字4']=i.find_all('td',class_=\"t_cfont2\")[3].text\n",
    "    caipiao['红球数字5']=i.find_all('td',class_=\"t_cfont2\")[4].text\n",
    "    caipiao['红球数字6']=i.find_all('td',class_=\"t_cfont2\")[5].text\n",
    "    caipiao['篮球数字']=i.find_all('td',class_=\"t_cfont4\")[0].text\n",
    "    data_list.append(caipiao)\n",
    "for i in data_list:\n",
    "    print(i)"
   ]
  },
  {
   "cell_type": "code",
   "execution_count": 6,
   "metadata": {},
   "outputs": [],
   "source": [
    "#安居客二手房数据爬取\n",
    "filename='koudaikorea.txt'\n",
    "out_file=in_path+filename\n",
    "count=1         \n",
    "with open(out_file,'a') as tar:\n",
    "    for i in range(1,104):\n",
    "        link='https://www.kdys.cc/search.php?page='+str(count)+'&searchtype=5&tid=28&area=%E9%9F%A9%E5%9B%BD\\n'\n",
    "        tar.write(link)\n",
    "        count+=1"
   ]
  },
  {
   "cell_type": "code",
   "execution_count": null,
   "metadata": {},
   "outputs": [],
   "source": [
    "#生意社最细价格信息抓取和汇总，设计的流程和响应的函数如下\n",
    "##获得对应的页面地址，http://www.100ppi.com/mprice/mlist-51.html（从1-50）------已经完成，输出文件pricepage-txt\n",
    "##编写函数抓取对应页面的价格信息，函数名称price_get(url):\n",
    "###需要使用到的库 requests，time ，os，bs4,random,re------已经加载\n",
    "####需要使用随机的user_agent。------已经有随机的user-agent\n",
    "###如果当前页面抓取失败，需要把抓取失败的页面的信息保存到errorlog里面，方便后面重新抓取\n",
    "##每次抓取一个页面的信息，就讲对应的信息汇总病保存到1个excel数据表里面，表的名称用page 代表\n",
    "##完成所有页面抓取后，汇总所有的数据表的价格信息并输出到一个数据表里面\n",
    "##数据结构包含6个项目 ：品种名称 品牌与规格 报价 报价提供方 发布时间"
   ]
  },
  {
   "cell_type": "code",
   "execution_count": null,
   "metadata": {
    "scrolled": true
   },
   "outputs": [],
   "source": [
    "urls='http://www.100ppi.com/mprice/mlist-1.html'\n",
    "def price_get(url):\n",
    "    global headers\n",
    "    price_list=[]\n",
    "    dic={}\n",
    "    req=rq.get(url,headers=headers,timeout=30)\n",
    "    html=bl(req.text,'lxml')\n",
    "    loc=html.find_all('tr')\n",
    "    del loc[0]\n",
    "    for i in loc:\n",
    "        dic['品种名称']=i.find('td',class_=\"p-name a-blue\")[0].text.replace('\\n','').replace('\\t','').replace('\\r','')\n",
    "        dic['品牌与规格']=i.find_all('td')[1].attrs['title']\n",
    "        dic['报价']=i.find_all('td')[2].text.replace('\\n','').replace('\\t','').replace('\\r','')\n",
    "        dic['报价提供方']=i.find_all('td')[3].text.replace('\\n','').replace('\\t','').replace('\\r','')\n",
    "        dic['发布时间']=i.find_all('td')[4].text.replace('\\n','').replace('\\t','').replace('\\r','')\n",
    "        price_list.append(dic)\n",
    "    print(len(loc))\n",
    "price_get(url=urls)"
   ]
  },
  {
   "cell_type": "code",
   "execution_count": 20,
   "metadata": {},
   "outputs": [
    {
     "name": "stdout",
     "output_type": "stream",
     "text": [
      "<!DOCTYPE html>\n",
      "<html lang=\"zh-cn\"><head><meta charset=\"utf-8\"/><meta content=\"width=device-width,initial-scale=1,user-scalable=no\" name=\"viewport\"/><meta content=\"telephone=no\" name=\"format-detection\"/><link href=\"/templets/default/images/favicon.png\" rel=\"shortcut icon\" type=\"image/x-icon\"/><title>口袋影院 - 最新电影电视剧手机免费在线观看-高级搜索</title><meta content=\"口袋影院,口袋电影网,手机电影网,最新电影,最新电视剧,手机在线观看,好莱坞大片\" name=\"keywords\"/><meta content=\"口袋影院,口袋电影网,手机电影网,最新电影,最新电视剧,手机在线观看,好莱坞大片\" name=\"description\"/> <meta content=\"text/html; charset=utf-8\" http-equiv=\"Content-Type\"/><meta content=\"webkit|ie-comp|ie-stand\" name=\"renderer\"/><meta content=\"IE=edge\" http-equiv=\"X-UA-Compatible\"/><meta content=\"width=device-width, initial-scale=1.0, maximum-scale=1.0, user-scalable=0\" name=\"viewport\"/><meta content=\"no-cache, no-store, must-revalidate\" http-equiv=\"Cache-Control\"/><meta content=\"no-cache\" http-equiv=\"Pragma\"/><meta content=\"0\" http-equiv=\"Expires\"/><link href=\"/favicon.ico\" rel=\"shortcut icon\" type=\"image/x-icon\"/><!--[if lt IE 9]><script src=\"/templets/default/images/html5shiv/3.7.2/html5shiv.min.js\"></script><script src=\"/templets/default/images/respond/1.4.2/respond.min.js\"></script><![endif]--><link href=\"/templets/default/images/css/bootstrap.min.css\" rel=\"stylesheet\" type=\"text/css\"/><link href=\"/templets/default/images/css/swiper.min.css\" rel=\"stylesheet\" type=\"text/css\"/><link href=\"/templets/default/images/font/iconfont.css\" rel=\"stylesheet\" type=\"text/css\"/><link href=\"/templets/default/images/css/color.css\" rel=\"stylesheet\" type=\"text/css\"/><link href=\"/templets/default/images/css/style.min.css\" rel=\"stylesheet\" type=\"text/css\"/><script src=\"/templets/default/images/jquery/1.11.3/jquery.min.js\"></script><script src=\"/templets/default/images/js/bootstrap.min.js\" type=\"text/javascript\"></script><script>var sitePath=''</script><script src=\"/js/common.js\"></script><script src=\"/js/function.js\"></script><script src=\"/templets/default/images/js/LazyLoad.js\" type=\"text/javascript\"></script><script src=\"/templets/default/images/js/swiper.min.js\" type=\"text/javascript\"></script><script src=\"/templets/default/images/js/history.js \" type=\"text/javascript \"></script></head><body class=\"apptop\"><div class=\"hy-head-menu\"><div class=\"container\"><div class=\"row\"><div class=\"item\"><div class=\"logo hidden-sm hidden-xs\"><a class=\"\" href=\"/\"><img src=\"/templets/default/images/logo.png\"/></a></div><div class=\"logo visible-sm visible-xs\"><a class=\"visible-sm visible-xs\" href=\"/\"><img src=\"/templets/default/images/logo_min.png\"/></a></div><div class=\"search\"><li style=\"margin-top:10px;float:right;\"><form action=\"/search.php\" autocomplete=\"off\" id=\"formsearch\" method=\"post\" name=\"formsearch\"><input class=\"form-control\" id=\"keyword\" name=\"searchword\" placeholder=\"输入影片关键词...\" required=\"\" type=\"text\"/><input class=\"hide\" id=\"searchbutton\" type=\"submit\" value=\"\"/><a class=\"btns\" href=\"javascript:\" onclick=\"$('#formsearch').submit();\" style=\"margin-top:10px;\" title=\"搜索\"><i class=\"icon iconfont icon-search\"></i></a></form></li><li class=\"btn btn-sm btn-default\" onmouseout=\"document.getElementById('his').style.display='none';\" onmouseover=\"document.getElementById('his').style.display='block';\" style=\"margin-top:10px; height:35px;margin-right:10px;float:right;background-color:#FCFCFC;color:#666\"><i class=\"icon iconfont icon-record1\"></i> </li><div id=\"his\" onmouseout=\"document.getElementById('his').style.display='none';\" onmouseover=\"document.getElementById('his').style.display='block';\" style=\"position:absolute;right:0px;z-index:999;background-color:#FCFCFC;width:281px;overflow:hidden;padding:15px;border:1px solid #ccc;top:53px;display:none;\">您的观看历史：<script type=\"text/javascript \">\n",
      "\t\t\t\t\t$MH.limit = 10;\n",
      "\t\t\t\t\t$MH.WriteHistoryBox(250, 170, 'font');\n",
      "\t\t\t\t\t\n",
      "\t\t\t\t</script></div><li class=\"btn btn-sm btn-default\" onclick=\"window.location='/member.php'\" style=\"margin-top:10px; height:35px;margin-right:10px;float:right;background-color:#FCFCFC;color:#666\" title=\"会员中心\"><i class=\"icon iconfont icon-member1\"></i> </li></div><ul class=\"menulist hidden-xs\"><li><a href=\"/\">首页</a></li><li><a href=\"/frim/index1.html\">电影</a></li><li><a href=\"/frim/index2.html\">电视剧</a></li><li><a href=\"/frim/index4.html\">动漫</a></li><li><a href=\"/frim/index3.html\">综艺</a></li><li><a href=\"/frim/index29.html\">写真</a></li><li><a href=\"https://www.kdxs.cc/\" rel=\"nofollow\" target=\"_blank\">口袋小说</a></li><li><a href=\"http://www.kdks.cc/\" rel=\"nofollow\" target=\"_blank\">口袋漫画</a></li></ul></div></div></div></div><!--main--><div class=\"container\"><div class=\"row\"><div class=\"hy-cascade clearfix\"><div class=\"content-meun clearfix\"><a aria-expanded=\"false\" class=\"head\" data-target=\"#collapse\" data-toggle=\"collapse\" href=\"javascript:;\"><span class=\"text\">已选择：</span><span>福利</span><span>全部</span><span>韩国\n",
      "</span><span>全部</span><span>全部</span><span class=\"hidden-xs\">全部</span><span class=\"hidden-xs\">全部</span><span class=\"hidden-xs\">全部</span><span class=\"hidden-xs\">全部</span></a><div aria-expanded=\"false\" class=\"item collapse\" id=\"collapse\"><ul class=\"clearfix\"><li class=\"text\"><span class=\"text-muted\">按分类：</span></li><li><a href=\"/search.php?searchtype=5&amp;area=%E9%9F%A9%E5%9B%BD%0A\">全部</a></li><li><a href=\"/search.php?searchtype=5&amp;area=%E9%9F%A9%E5%9B%BD%0A&amp;tid=1\">电影</a></li><li><a href=\"/search.php?searchtype=5&amp;area=%E9%9F%A9%E5%9B%BD%0A&amp;tid=2\">电视剧</a></li><li><a href=\"/search.php?searchtype=5&amp;area=%E9%9F%A9%E5%9B%BD%0A&amp;tid=3\">综艺</a></li><li><a href=\"/search.php?searchtype=5&amp;area=%E9%9F%A9%E5%9B%BD%0A&amp;tid=4\">动漫</a></li><li><a href=\"/search.php?searchtype=5&amp;area=%E9%9F%A9%E5%9B%BD%0A&amp;tid=5\">动作片</a></li><li><a href=\"/search.php?searchtype=5&amp;area=%E9%9F%A9%E5%9B%BD%0A&amp;tid=6\">爱情片</a></li><li><a href=\"/search.php?searchtype=5&amp;area=%E9%9F%A9%E5%9B%BD%0A&amp;tid=7\">科幻片</a></li><li><a href=\"/search.php?searchtype=5&amp;area=%E9%9F%A9%E5%9B%BD%0A&amp;tid=8\">恐怖片</a></li><li><a href=\"/search.php?searchtype=5&amp;area=%E9%9F%A9%E5%9B%BD%0A&amp;tid=9\">战争片</a></li><li><a href=\"/search.php?searchtype=5&amp;area=%E9%9F%A9%E5%9B%BD%0A&amp;tid=10\">喜剧片</a></li><li><a href=\"/search.php?searchtype=5&amp;area=%E9%9F%A9%E5%9B%BD%0A&amp;tid=11\">纪录片</a></li><li><a href=\"/search.php?searchtype=5&amp;area=%E9%9F%A9%E5%9B%BD%0A&amp;tid=12\">剧情片</a></li><li><a href=\"/search.php?searchtype=5&amp;area=%E9%9F%A9%E5%9B%BD%0A&amp;tid=13\">大陆剧</a></li><li><a href=\"/search.php?searchtype=5&amp;area=%E9%9F%A9%E5%9B%BD%0A&amp;tid=14\">港台剧</a></li><li><a href=\"/search.php?searchtype=5&amp;area=%E9%9F%A9%E5%9B%BD%0A&amp;tid=15\">欧美剧</a></li><li><a href=\"/search.php?searchtype=5&amp;area=%E9%9F%A9%E5%9B%BD%0A&amp;tid=16\">日韩剧</a></li><li><a class=\"active\" href=\"/search.php?searchtype=5&amp;area=%E9%9F%A9%E5%9B%BD%0A&amp;tid=28\">福利</a></li><li><a href=\"/search.php?searchtype=5&amp;area=%E9%9F%A9%E5%9B%BD%0A&amp;tid=29\">写真</a></li><li><a href=\"/search.php?searchtype=5&amp;area=%E9%9F%A9%E5%9B%BD%0A&amp;tid=30\">泰国剧</a></li></ul><ul class=\"clearfix\"><li class=\"text\"><span class=\"text-muted\">按剧情：</span></li></ul><ul class=\"clearfix\"><li class=\"text\"><span class=\"text-muted\">按地区：</span></li><li><a href=\"/search.php?searchtype=5&amp;tid=28\">全部</a></li><li><a href=\"/search.php?searchtype=5&amp;tid=28&amp;area=%E5%A4%A7%E9%99%86\">大陆</a></li><li><a href=\"/search.php?searchtype=5&amp;tid=28&amp;area=%E9%A6%99%E6%B8%AF\">香港</a></li><li><a href=\"/search.php?searchtype=5&amp;tid=28&amp;area=%E5%8F%B0%E6%B9%BE\">台湾</a></li><li><a href=\"/search.php?searchtype=5&amp;tid=28&amp;area=%E6%97%A5%E6%9C%AC\">日本</a></li><li><a class=\"active\" href=\"/search.php?searchtype=5&amp;tid=28&amp;area=%E9%9F%A9%E5%9B%BD\">韩国</a></li><li><a href=\"/search.php?searchtype=5&amp;tid=28&amp;area=%E6%AC%A7%E7%BE%8E\">欧美</a></li><li><a href=\"/search.php?searchtype=5&amp;tid=28&amp;area=%E6%B3%B0%E5%9B%BD\">泰国</a></li><li><a href=\"/search.php?searchtype=5&amp;tid=28&amp;area=%E5%85%B6%E4%BB%96\">其他</a></li></ul><ul class=\"clearfix\"><li class=\"text\"><span class=\"text-muted\">按年份：</span></li><li><a class=\"active\" href=\"/search.php?searchtype=5&amp;tid=28&amp;area=%E9%9F%A9%E5%9B%BD%0A\">全部</a></li><li><a href=\"/search.php?searchtype=5&amp;tid=28&amp;area=%E9%9F%A9%E5%9B%BD%0A&amp;year=2020\">2020</a></li><li><a href=\"/search.php?searchtype=5&amp;tid=28&amp;area=%E9%9F%A9%E5%9B%BD%0A&amp;year=2019\">2019</a></li><li><a href=\"/search.php?searchtype=5&amp;tid=28&amp;area=%E9%9F%A9%E5%9B%BD%0A&amp;year=2018\">2018</a></li><li><a href=\"/search.php?searchtype=5&amp;tid=28&amp;area=%E9%9F%A9%E5%9B%BD%0A&amp;year=2017\">2017</a></li><li><a href=\"/search.php?searchtype=5&amp;tid=28&amp;area=%E9%9F%A9%E5%9B%BD%0A&amp;year=2016\">2016</a></li><li><a href=\"/search.php?searchtype=5&amp;tid=28&amp;area=%E9%9F%A9%E5%9B%BD%0A&amp;year=2015\">2015</a></li><li><a href=\"/search.php?searchtype=5&amp;tid=28&amp;area=%E9%9F%A9%E5%9B%BD%0A&amp;year=2014\">2014</a></li><li><a href=\"/search.php?searchtype=5&amp;tid=28&amp;area=%E9%9F%A9%E5%9B%BD%0A&amp;year=2013\">2013</a></li><li><a href=\"/search.php?searchtype=5&amp;tid=28&amp;area=%E9%9F%A9%E5%9B%BD%0A&amp;year=2012\">2012</a></li><li><a href=\"/search.php?searchtype=5&amp;tid=28&amp;area=%E9%9F%A9%E5%9B%BD%0A&amp;year=2011\">2011</a></li><li><a href=\"/search.php?searchtype=5&amp;tid=28&amp;area=%E9%9F%A9%E5%9B%BD%0A&amp;year=2010\">2010</a></li><li><a href=\"/search.php?searchtype=5&amp;tid=28&amp;area=%E9%9F%A9%E5%9B%BD%0A&amp;year=2009\">2009</a></li><li><a href=\"/search.php?searchtype=5&amp;tid=28&amp;area=%E9%9F%A9%E5%9B%BD%0A&amp;year=more\">更早</a></li></ul><ul class=\"clearfix\"><li class=\"text\"><span class=\"text-muted\">按语言：</span></li><li><a class=\"active\" href=\"/search.php?searchtype=5&amp;tid=28&amp;area=%E9%9F%A9%E5%9B%BD%0A\" target=\"_self\">全部</a></li><li><a href=\"/search.php?searchtype=5&amp;tid=28&amp;area=%E9%9F%A9%E5%9B%BD%0A&amp;yuyan=%E5%9B%BD%E8%AF%AD\" target=\"_self\">国语</a></li><li><a href=\"/search.php?searchtype=5&amp;tid=28&amp;area=%E9%9F%A9%E5%9B%BD%0A&amp;yuyan=%E7%B2%A4%E8%AF%AD\" target=\"_self\">粤语</a></li><li><a href=\"/search.php?searchtype=5&amp;tid=28&amp;area=%E9%9F%A9%E5%9B%BD%0A&amp;yuyan=%E8%8B%B1%E8%AF%AD\" target=\"_self\">英语</a></li><li><a href=\"/search.php?searchtype=5&amp;tid=28&amp;area=%E9%9F%A9%E5%9B%BD%0A&amp;yuyan=%E6%97%A5%E8%AF%AD\" target=\"_self\">日语</a></li><li><a href=\"/search.php?searchtype=5&amp;tid=28&amp;area=%E9%9F%A9%E5%9B%BD%0A&amp;yuyan=%E9%9F%A9%E8%AF%AD\" target=\"_self\">韩语</a></li><li><a href=\"/search.php?searchtype=5&amp;tid=28&amp;area=%E9%9F%A9%E5%9B%BD%0A&amp;yuyan=%E6%B3%B0%E8%AF%AD\" target=\"_self\">泰语</a></li><li><a href=\"/search.php?searchtype=5&amp;tid=28&amp;area=%E9%9F%A9%E5%9B%BD%0A&amp;yuyan=%E6%B3%95%E8%AF%AD\" target=\"_self\">法语</a></li></ul><ul class=\"clearfix\"><li class=\"text\"><span class=\"text-muted\">按状态：</span></li><li><a class=\"active\" href=\"/search.php?searchtype=5&amp;tid=28&amp;area=%E9%9F%A9%E5%9B%BD%0A\" target=\"_self\">全部</a></li><li><a href=\"/search.php?searchtype=5&amp;tid=28&amp;area=%E9%9F%A9%E5%9B%BD%0A&amp;state=w\" target=\"_self\">完结</a></li><li><a href=\"/search.php?searchtype=5&amp;tid=28&amp;area=%E9%9F%A9%E5%9B%BD%0A&amp;state=l\" target=\"_self\">连载中</a></li></ul><ul class=\"clearfix\"><li class=\"text\"><span class=\"text-muted\">按收费：</span></li><li><a class=\"active\" href=\"/search.php?searchtype=5&amp;tid=28&amp;area=%E9%9F%A9%E5%9B%BD%0A\">全部</a> </li><li><a href=\"/search.php?searchtype=5&amp;tid=28&amp;area=%E9%9F%A9%E5%9B%BD%0A&amp;money=s\">收费</a> </li><li><a href=\"/search.php?searchtype=5&amp;tid=28&amp;area=%E9%9F%A9%E5%9B%BD%0A&amp;money=m\">免费</a> </li></ul><ul class=\"clearfix\"><li class=\"text\"><span class=\"text-muted\">按版本：</span></li><li><a class=\"active\" href=\"/search.php?searchtype=5&amp;tid=28&amp;area=%E9%9F%A9%E5%9B%BD%0A\" target=\"_self\">全部</a></li><li><a href=\"/search.php?searchtype=5&amp;tid=28&amp;area=%E9%9F%A9%E5%9B%BD%0A&amp;ver=%E9%A2%84%E5%91%8A%E7%89%87\" target=\"_self\">预告片</a></li><li><a href=\"/search.php?searchtype=5&amp;tid=28&amp;area=%E9%9F%A9%E5%9B%BD%0A&amp;ver=%E5%89%A7%E5%9C%BA%E7%89%88\" target=\"_self\">剧场版</a></li><li><a href=\"/search.php?searchtype=5&amp;tid=28&amp;area=%E9%9F%A9%E5%9B%BD%0A&amp;ver=%E9%AB%98%E6%B8%85%E7%89%88\" target=\"_self\">高清版</a></li><li><a href=\"/search.php?searchtype=5&amp;tid=28&amp;area=%E9%9F%A9%E5%9B%BD%0A&amp;ver=%E6%8A%A2%E5%85%88%E7%89%88\" target=\"_self\">抢先版</a></li><li><a href=\"/search.php?searchtype=5&amp;tid=28&amp;area=%E9%9F%A9%E5%9B%BD%0A&amp;ver=OVA\" target=\"_self\">OVA</a></li><li><a href=\"/search.php?searchtype=5&amp;tid=28&amp;area=%E9%9F%A9%E5%9B%BD%0A&amp;ver=TV\" target=\"_self\">TV</a></li><li><a href=\"/search.php?searchtype=5&amp;tid=28&amp;area=%E9%9F%A9%E5%9B%BD%0A&amp;ver=%E5%BD%B1%E9%99%A2%E7%89%88\" target=\"_self\">影院版</a></li></ul><ul class=\"clearfix\"><li class=\"text\"><span class=\"text-muted\">按字母：</span></li><li><a class=\"active\" href=\"/search.php?searchtype=5&amp;tid=28&amp;area=%E9%9F%A9%E5%9B%BD%0A\">全部</a></li><li><a href=\"/search.php?searchtype=5&amp;tid=28&amp;area=%E9%9F%A9%E5%9B%BD%0A&amp;letter=A\">A</a></li><li><a href=\"/search.php?searchtype=5&amp;tid=28&amp;area=%E9%9F%A9%E5%9B%BD%0A&amp;letter=B\">B</a></li><li><a href=\"/search.php?searchtype=5&amp;tid=28&amp;area=%E9%9F%A9%E5%9B%BD%0A&amp;letter=C\">C</a></li><li><a href=\"/search.php?searchtype=5&amp;tid=28&amp;area=%E9%9F%A9%E5%9B%BD%0A&amp;letter=D\">D</a></li><li><a href=\"/search.php?searchtype=5&amp;tid=28&amp;area=%E9%9F%A9%E5%9B%BD%0A&amp;letter=E\">E</a></li><li><a href=\"/search.php?searchtype=5&amp;tid=28&amp;area=%E9%9F%A9%E5%9B%BD%0A&amp;letter=F\">F</a></li><li><a href=\"/search.php?searchtype=5&amp;tid=28&amp;area=%E9%9F%A9%E5%9B%BD%0A&amp;letter=G\">G</a></li><li><a href=\"/search.php?searchtype=5&amp;tid=28&amp;area=%E9%9F%A9%E5%9B%BD%0A&amp;letter=H\">H</a></li><li><a href=\"/search.php?searchtype=5&amp;tid=28&amp;area=%E9%9F%A9%E5%9B%BD%0A&amp;letter=I\">I</a></li><li><a href=\"/search.php?searchtype=5&amp;tid=28&amp;area=%E9%9F%A9%E5%9B%BD%0A&amp;letter=J\">J</a></li><li><a href=\"/search.php?searchtype=5&amp;tid=28&amp;area=%E9%9F%A9%E5%9B%BD%0A&amp;letter=K\">K</a></li><li><a href=\"/search.php?searchtype=5&amp;tid=28&amp;area=%E9%9F%A9%E5%9B%BD%0A&amp;letter=L\">L</a></li><li><a href=\"/search.php?searchtype=5&amp;tid=28&amp;area=%E9%9F%A9%E5%9B%BD%0A&amp;letter=M\">M</a></li><li><a href=\"/search.php?searchtype=5&amp;tid=28&amp;area=%E9%9F%A9%E5%9B%BD%0A&amp;letter=N\">N</a></li><li><a href=\"/search.php?searchtype=5&amp;tid=28&amp;area=%E9%9F%A9%E5%9B%BD%0A&amp;letter=O\">O</a></li><li><a href=\"/search.php?searchtype=5&amp;tid=28&amp;area=%E9%9F%A9%E5%9B%BD%0A&amp;letter=P\">P</a></li><li><a href=\"/search.php?searchtype=5&amp;tid=28&amp;area=%E9%9F%A9%E5%9B%BD%0A&amp;letter=Q\">Q</a></li><li><a href=\"/search.php?searchtype=5&amp;tid=28&amp;area=%E9%9F%A9%E5%9B%BD%0A&amp;letter=R\">R</a></li><li><a href=\"/search.php?searchtype=5&amp;tid=28&amp;area=%E9%9F%A9%E5%9B%BD%0A&amp;letter=S\">S</a></li><li><a href=\"/search.php?searchtype=5&amp;tid=28&amp;area=%E9%9F%A9%E5%9B%BD%0A&amp;letter=T\">T</a></li><li><a href=\"/search.php?searchtype=5&amp;tid=28&amp;area=%E9%9F%A9%E5%9B%BD%0A&amp;letter=U\">U</a></li><li><a href=\"/search.php?searchtype=5&amp;tid=28&amp;area=%E9%9F%A9%E5%9B%BD%0A&amp;letter=V\">V</a></li><li><a href=\"/search.php?searchtype=5&amp;tid=28&amp;area=%E9%9F%A9%E5%9B%BD%0A&amp;letter=W\">W</a></li><li><a href=\"/search.php?searchtype=5&amp;tid=28&amp;area=%E9%9F%A9%E5%9B%BD%0A&amp;letter=X\">X</a></li><li><a href=\"/search.php?searchtype=5&amp;tid=28&amp;area=%E9%9F%A9%E5%9B%BD%0A&amp;letter=Y\">Y</a></li><li><a href=\"/search.php?searchtype=5&amp;tid=28&amp;area=%E9%9F%A9%E5%9B%BD%0A&amp;letter=Z\">Z</a></li><li><a href=\"/search.php?searchtype=5&amp;tid=28&amp;area=%E9%9F%A9%E5%9B%BD%0A&amp;letter=0-9\">0-9</a></li></ul></div></div></div><div class=\"hy-layout clearfix\" style=\"margin-top: 0;\"><div class=\"hy-switch-tabs active clearfix\"><span class=\"text-muted pull-right hidden-xs\">共有<span class=\"text-color\">“0”</span>个影片,当前第<span class=\"text-color\">“0”</span>页</span><ul class=\"nav nav-tabs\"><li class=\"active\"><a href=\"https://www.kdys.cc/search.php?page=1&amp;searchtype=5&amp;order=time&amp;tid=28&amp;area=韩国\n",
      "&amp;year=&amp;letter=&amp;yuyan=&amp;state=&amp;money=&amp;ver=&amp;jq=\">按时间</a></li><li class=\"\"><a href=\"https://www.kdys.cc/search.php?page=1&amp;searchtype=5&amp;order=hit&amp;tid=28&amp;area=韩国\n",
      "&amp;year=&amp;letter=&amp;yuyan=&amp;state=&amp;money=&amp;ver=&amp;jq=\">按人气</a></li><li class=\"\"><a href=\"https://www.kdys.cc/search.php?page=1&amp;searchtype=5&amp;order=score&amp;tid=28&amp;area=韩国\n",
      "&amp;year=&amp;letter=&amp;yuyan=&amp;state=&amp;money=&amp;ver=&amp;jq=\">按推荐</a></li></ul></div><div class=\"hy-video-list\"><div class=\"item\"><ul class=\"clearfix\"></ul></div></div><div class=\"hy-page clearfix\"><ul class=\"cleafix\"><li><a href=\"?page=1&amp;searchtype=5&amp;tid=28&amp;area=%E9%9F%A9%E5%9B%BD%0A\">首页</a></li><li><a href=\"?page=-1&amp;searchtype=5&amp;tid=28&amp;area=%E9%9F%A9%E5%9B%BD%0A\">上一页</a></li> <li class=\"hidden-xs\"><a href=\"?page=1&amp;searchtype=5&amp;tid=28&amp;area=%E9%9F%A9%E5%9B%BD%0A\">1</a></li> <li><a href=\"?page=1&amp;searchtype=5&amp;tid=28&amp;area=%E9%9F%A9%E5%9B%BD%0A\">下一页</a></li><li><a href=\"?page=1&amp;searchtype=5&amp;tid=28&amp;area=%E9%9F%A9%E5%9B%BD%0A\">尾页</a></li></ul></div></div></div></div><script type=\"text/javascript\">\r\n",
      "    var w = document.documentElement ? document.documentElement.clientWidth : document.body.clientWidth;\r\n",
      "    if (w > 640) {\r\n",
      "        $(\".collapse\").addClass(\"in\");\r\n",
      "\t\t }else{\r\n",
      "        $(\".content-meun\").css(\"min-height\",\"100%\");\r\n",
      "    }\r\n",
      "    </script><div class=\"tabbar visible-xs\"><a class=\"item active\" href=\"/\"><i class=\"icon iconfont icon-home\"></i><p class=\"text\">首页</p></a><a class=\"item\" href=\"/frim/index1.html\"><i class=\"icon iconfont icon-film\"></i><p class=\"text\">电影 </p></a><a class=\"item\" href=\"/frim/index2.html\"><i class=\"icon iconfont icon-show\"></i><p class=\"text\">电视剧 </p></a><a class=\"item\" href=\"/frim/index3.html\"><i class=\"icon iconfont icon-flag\"></i><p class=\"text\">综艺 </p></a><a class=\"item\" href=\"/frim/index4.html\"><i class=\"icon iconfont icon-mallanimation\"></i><p class=\"text\">动漫 </p></a><a class=\"item\" href=\"http://www.kdks.cc/\" target=\"_blank\"><i class=\"icon iconfont icon-member1\"></i><p class=\"text\">更多</p></a></div><div class=\"container\"><div class=\"row\"><div class=\"hy-footer clearfix\"><p class=\"margin-0 text-muted\">版权声明：口袋影院所有内容来源于互联网相关站点搜索整理的资源链接地址，相关链接已经注明来源。<br/>\r\n",
      "免责声明：口袋影院并不提供影片资源存储，也不参与录制、上传，若本站收录的节目无意侵犯了贵司版权，请给kdys@foxmail.com来信，我们将尽快删除相关内容，谢谢！</p></div></div></div><div class=\"hidden-xs\"><a href=\"#\" id=\"back-to-top\" title=\"Back to top\">↑↑↑</a></div><span style=\"display:none\"><script>\r\n",
      "var _hmt = _hmt || [];\r\n",
      "(function() {\r\n",
      "  var hm = document.createElement(\"script\");\r\n",
      "  hm.src = \"https://hm.baidu.com/hm.js?397a1ce82f01e4db821da8f5d56943c1\";\r\n",
      "  var s = document.getElementsByTagName(\"script\")[0]; \r\n",
      "  s.parentNode.insertBefore(hm, s);\r\n",
      "})();\r\n",
      "</script>\n",
      "</span><script charset=\"utf-8\" type=\"text/javascript\">\n",
      "    $(function() {\n",
      "        $(\".videopic.lazy\").lazyload({effect: \"fadeIn\"});  \n",
      "        $(\"[data-toggle='tooltip']\").tooltip();\n",
      "    });\n",
      "</script><script>\n",
      "        if ($('#back-to-top').length) {\n",
      "            var scrollTrigger = 100; // px\n",
      "\n",
      "            // $(window).scrollTop()与 $(document).scrollTop()产生结果一样\n",
      "            // 一般使用document注册事件，window使用情况如 scroll, scrollTop, resize\n",
      "            $(window).on('scroll', function () {\n",
      "                if ($(window).scrollTop() > scrollTrigger) {\n",
      "                    $('#back-to-top').addClass('show');\n",
      "                } else {\n",
      "                    $('#back-to-top').removeClass('show');\n",
      "                }\n",
      "            });\n",
      "\n",
      "            $('#back-to-top').on('click', function (e) {\n",
      "                // html,body 都写是为了兼容浏览器\n",
      "                $('html,body').animate({\n",
      "                    scrollTop: 0\n",
      "                }, 700);\n",
      "\n",
      "                return false;\n",
      "            });\n",
      "        }\n",
      "    </script></body></html>\n",
      "\n"
     ]
    }
   ],
   "source": [
    "with open(out_file,'r') as sou:\n",
    "    urls=sou.readline()\n",
    "global headers\n",
    "req=rq.get(urls,headers=headers,timeout=30)\n",
    "html=bl(req.text,'lxml')\n",
    "print(html)"
   ]
  },
  {
   "cell_type": "code",
   "execution_count": 24,
   "metadata": {},
   "outputs": [
    {
     "name": "stdout",
     "output_type": "stream",
     "text": [
      "0\n"
     ]
    }
   ],
   "source": [
    "video_list=re.findall('/movie/index.*?.html',req.text)"
   ]
  },
  {
   "cell_type": "code",
   "execution_count": null,
   "metadata": {},
   "outputs": [],
   "source": []
  }
 ],
 "metadata": {
  "kernelspec": {
   "display_name": "Python 3",
   "language": "python",
   "name": "python3"
  },
  "language_info": {
   "codemirror_mode": {
    "name": "ipython",
    "version": 3
   },
   "file_extension": ".py",
   "mimetype": "text/x-python",
   "name": "python",
   "nbconvert_exporter": "python",
   "pygments_lexer": "ipython3",
   "version": "3.7.4"
  }
 },
 "nbformat": 4,
 "nbformat_minor": 2
}
