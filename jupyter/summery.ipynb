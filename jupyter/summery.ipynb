{
 "cells": [
  {
   "cell_type": "code",
   "execution_count": null,
   "metadata": {},
   "outputs": [],
   "source": [
    "#PYTHON使用CSV文件"
   ]
  },
  {
   "cell_type": "code",
   "execution_count": 1,
   "metadata": {},
   "outputs": [],
   "source": [
    "import csv\n",
    "import os"
   ]
  },
  {
   "cell_type": "code",
   "execution_count": 1,
   "metadata": {},
   "outputs": [],
   "source": [
    "in_path='e:/material/'\n",
    "out_path='e:/result/'"
   ]
  },
  {
   "cell_type": "code",
   "execution_count": 3,
   "metadata": {},
   "outputs": [],
   "source": [
    "filename='cashflow.csv'"
   ]
  },
  {
   "cell_type": "code",
   "execution_count": 4,
   "metadata": {},
   "outputs": [
    {
     "name": "stdout",
     "output_type": "stream",
     "text": [
      "no\n"
     ]
    }
   ],
   "source": [
    "if os.path.exists(out_path+filename):\n",
    "    print('ok')\n",
    "else:\n",
    "    print('no')"
   ]
  },
  {
   "cell_type": "code",
   "execution_count": 5,
   "metadata": {},
   "outputs": [
    {
     "ename": "FileNotFoundError",
     "evalue": "[Errno 2] No such file or directory: 'e:/result/cashflow.csv'",
     "output_type": "error",
     "traceback": [
      "\u001b[1;31m---------------------------------------------------------------------------\u001b[0m",
      "\u001b[1;31mFileNotFoundError\u001b[0m                         Traceback (most recent call last)",
      "\u001b[1;32m<ipython-input-5-abc91be7a4b2>\u001b[0m in \u001b[0;36m<module>\u001b[1;34m\u001b[0m\n\u001b[1;32m----> 1\u001b[1;33m \u001b[1;32mwith\u001b[0m \u001b[0mopen\u001b[0m\u001b[1;33m(\u001b[0m\u001b[0mout_path\u001b[0m\u001b[1;33m+\u001b[0m\u001b[0mfilename\u001b[0m\u001b[1;33m,\u001b[0m\u001b[0mencoding\u001b[0m\u001b[1;33m=\u001b[0m\u001b[1;34m'utf-8'\u001b[0m\u001b[1;33m)\u001b[0m \u001b[1;32mas\u001b[0m \u001b[0mf\u001b[0m\u001b[1;33m:\u001b[0m\u001b[1;33m\u001b[0m\u001b[1;33m\u001b[0m\u001b[0m\n\u001b[0m\u001b[0;32m      2\u001b[0m     \u001b[0mreader\u001b[0m\u001b[1;33m=\u001b[0m\u001b[0mcsv\u001b[0m\u001b[1;33m.\u001b[0m\u001b[0mDictReader\u001b[0m\u001b[1;33m(\u001b[0m\u001b[0mf\u001b[0m\u001b[1;33m)\u001b[0m\u001b[1;33m\u001b[0m\u001b[1;33m\u001b[0m\u001b[0m\n\u001b[0;32m      3\u001b[0m     \u001b[1;32mfor\u001b[0m \u001b[0mi\u001b[0m \u001b[1;32min\u001b[0m \u001b[0mreader\u001b[0m\u001b[1;33m:\u001b[0m\u001b[1;33m\u001b[0m\u001b[1;33m\u001b[0m\u001b[0m\n\u001b[0;32m      4\u001b[0m         \u001b[0mprint\u001b[0m\u001b[1;33m(\u001b[0m\u001b[0mi\u001b[0m\u001b[1;33m[\u001b[0m\u001b[1;34m'code'\u001b[0m\u001b[1;33m]\u001b[0m\u001b[1;33m)\u001b[0m\u001b[1;33m\u001b[0m\u001b[1;33m\u001b[0m\u001b[0m\n",
      "\u001b[1;31mFileNotFoundError\u001b[0m: [Errno 2] No such file or directory: 'e:/result/cashflow.csv'"
     ]
    }
   ],
   "source": [
    "with open(out_path+filename,encoding='utf-8') as f:\n",
    "    reader=csv.DictReader(f)\n",
    "    for i in reader:\n",
    "        print(i['code'])"
   ]
  },
  {
   "cell_type": "code",
   "execution_count": null,
   "metadata": {},
   "outputs": [],
   "source": [
    "#numpy绘图实验"
   ]
  },
  {
   "cell_type": "code",
   "execution_count": 1,
   "metadata": {},
   "outputs": [],
   "source": [
    "import numpy as np\n",
    "import pandas as pd\n",
    "import matplotlib.pyplot as plt"
   ]
  },
  {
   "cell_type": "code",
   "execution_count": 7,
   "metadata": {},
   "outputs": [],
   "source": [
    "def f(x):\n",
    "    return (x**3-5*x**2+9)"
   ]
  },
  {
   "cell_type": "code",
   "execution_count": 8,
   "metadata": {},
   "outputs": [
    {
     "name": "stdout",
     "output_type": "stream",
     "text": [
      "-9\n"
     ]
    }
   ],
   "source": [
    "print(f(3))"
   ]
  },
  {
   "cell_type": "code",
   "execution_count": 10,
   "metadata": {},
   "outputs": [],
   "source": [
    "def exp(x):\n",
    "    return (np.e**x)"
   ]
  },
  {
   "cell_type": "code",
   "execution_count": 11,
   "metadata": {},
   "outputs": [
    {
     "data": {
      "text/plain": [
       "[<matplotlib.lines.Line2D at 0x2345f7bf948>]"
      ]
     },
     "execution_count": 11,
     "metadata": {},
     "output_type": "execute_result"
    },
    {
     "data": {
      "image/png": "[encoded data removed]",
      "text/plain": [
       "<Figure size 432x288 with 1 Axes>"
      ]
     },
     "metadata": {
      "needs_background": "light"
     },
     "output_type": "display_data"
    }
   ],
   "source": [
    "x=np.linspace(-5,5,num=100)\n",
    "y=exp(x)\n",
    "plt.plot(x,y)"
   ]
  },
  {
   "cell_type": "code",
   "execution_count": 12,
   "metadata": {},
   "outputs": [
    {
     "name": "stderr",
     "output_type": "stream",
     "text": [
      "d:\\ana\\lib\\site-packages\\ipykernel_launcher.py:2: RuntimeWarning: invalid value encountered in log\n",
      "  \n",
      "d:\\ana\\lib\\site-packages\\ipykernel_launcher.py:3: RuntimeWarning: invalid value encountered in log2\n",
      "  This is separate from the ipykernel package so we can avoid doing imports until\n",
      "d:\\ana\\lib\\site-packages\\ipykernel_launcher.py:4: RuntimeWarning: invalid value encountered in log10\n",
      "  after removing the cwd from sys.path.\n"
     ]
    },
    {
     "data": {
      "text/plain": [
       "[<matplotlib.lines.Line2D at 0x23461f90508>,\n",
       " <matplotlib.lines.Line2D at 0x23461f97e88>,\n",
       " <matplotlib.lines.Line2D at 0x23461fa1108>]"
      ]
     },
     "execution_count": 12,
     "metadata": {},
     "output_type": "execute_result"
    },
    {
     "data": {
      "image/png": "[encoded data removed]",
      "text/plain": [
       "<Figure size 432x288 with 1 Axes>"
      ]
     },
     "metadata": {
      "needs_background": "light"
     },
     "output_type": "display_data"
    }
   ],
   "source": [
    "a=np.linspace(0,10,100,endpoint=True)\n",
    "y1=np.log(x)\n",
    "y2=np.log2(x)\n",
    "y3=np.log10(x)\n",
    "plt.plot(a,y1,'red',a,y2,'yellow',a,y3,'black')"
   ]
  },
  {
   "cell_type": "code",
   "execution_count": 13,
   "metadata": {},
   "outputs": [
    {
     "data": {
      "text/plain": [
       "[<matplotlib.lines.Line2D at 0x2346200d888>,\n",
       " <matplotlib.lines.Line2D at 0x2346200dac8>]"
      ]
     },
     "execution_count": 13,
     "metadata": {},
     "output_type": "execute_result"
    },
    {
     "data": {
      "image/png": "[encoded data removed]",
      "text/plain": [
       "<Figure size 432x288 with 1 Axes>"
      ]
     },
     "metadata": {
      "needs_background": "light"
     },
     "output_type": "display_data"
    }
   ],
   "source": [
    "plt.plot(np.linspace(-5*np.pi,2*np.pi),np.sin(np.linspace(-5*np.pi,2*np.pi)),'brown',a,y1,'green')"
   ]
  },
  {
   "cell_type": "code",
   "execution_count": 14,
   "metadata": {},
   "outputs": [],
   "source": [
    "#股票分析系统实验运行"
   ]
  },
  {
   "cell_type": "code",
   "execution_count": null,
   "metadata": {
    "scrolled": true
   },
   "outputs": [
    {
     "name": "stdout",
     "output_type": "stream",
     "text": [
      "Initializing Stock Analysis System with project path : D:\\personal-interest\\jupyter\n",
      "Clear proxy: HTTP_PROXY\n",
      "Execution failed on sql 'select name, reason, comments, last_update from gray_table': no such table: gray_table\n",
      "Execution failed on sql 'select name, reason, comments, last_update from focus_table': no such table: focus_table\n",
      "Execution failed on sql 'select name, reason, comments, last_update from black_table': no such table: black_table\n",
      "Mongodb config error.\n",
      "localhost:27017: [WinError 10061] 由于目标计算机积极拒绝，无法连接。\n",
      "Traceback (most recent call last):\n",
      "  File \"d:\\ana\\lib\\site-packages\\StockAnalysisSystem\\core\\Database\\DatabaseEntry.py\", line 90, in config_nosql_db\n",
      "    self.__mongo_db_client.server_info()\n",
      "  File \"d:\\ana\\lib\\site-packages\\pymongo\\mongo_client.py\", line 1868, in server_info\n",
      "    session=session)\n",
      "  File \"d:\\ana\\lib\\site-packages\\pymongo\\database.py\", line 730, in command\n",
      "    read_preference, session) as (sock_info, slave_ok):\n",
      "  File \"d:\\ana\\lib\\contextlib.py\", line 112, in __enter__\n",
      "    return next(self.gen)\n",
      "  File \"d:\\ana\\lib\\site-packages\\pymongo\\mongo_client.py\", line 1298, in _socket_for_reads\n",
      "    server = self._select_server(read_preference, session)\n",
      "  File \"d:\\ana\\lib\\site-packages\\pymongo\\mongo_client.py\", line 1253, in _select_server\n",
      "    server = topology.select_server(server_selector)\n",
      "  File \"d:\\ana\\lib\\site-packages\\pymongo\\topology.py\", line 235, in select_server\n",
      "    address))\n",
      "  File \"d:\\ana\\lib\\site-packages\\pymongo\\topology.py\", line 193, in select_servers\n",
      "    selector, server_timeout, address)\n",
      "  File \"d:\\ana\\lib\\site-packages\\pymongo\\topology.py\", line 209, in _select_servers_loop\n",
      "    self._error_message(selector))\n",
      "pymongo.errors.ServerSelectionTimeoutError: localhost:27017: [WinError 10061] 由于目标计算机积极拒绝，无法连接。\n",
      "\n",
      "Warning: Project path is not available. Please provide a available path in program initialization.\n",
      "Initializing Stock Analysis System with project path : \n",
      "Clear proxy: HTTP_PROXY\n",
      "Execution failed on sql 'select name, reason, comments, last_update from gray_table': no such table: gray_table\n",
      "Execution failed on sql 'select name, reason, comments, last_update from focus_table': no such table: focus_table\n",
      "Execution failed on sql 'select name, reason, comments, last_update from black_table': no such table: black_table\n",
      "Mongodb config error.\n",
      "localhost:27017: [WinError 10061] 由于目标计算机积极拒绝，无法连接。\n",
      "Traceback (most recent call last):\n",
      "  File \"d:\\ana\\lib\\site-packages\\StockAnalysisSystem\\core\\Database\\DatabaseEntry.py\", line 90, in config_nosql_db\n",
      "    self.__mongo_db_client.server_info()\n",
      "  File \"d:\\ana\\lib\\site-packages\\pymongo\\mongo_client.py\", line 1868, in server_info\n",
      "    session=session)\n",
      "  File \"d:\\ana\\lib\\site-packages\\pymongo\\database.py\", line 730, in command\n",
      "    read_preference, session) as (sock_info, slave_ok):\n",
      "  File \"d:\\ana\\lib\\contextlib.py\", line 112, in __enter__\n",
      "    return next(self.gen)\n",
      "  File \"d:\\ana\\lib\\site-packages\\pymongo\\mongo_client.py\", line 1298, in _socket_for_reads\n",
      "    server = self._select_server(read_preference, session)\n",
      "  File \"d:\\ana\\lib\\site-packages\\pymongo\\mongo_client.py\", line 1253, in _select_server\n",
      "    server = topology.select_server(server_selector)\n",
      "  File \"d:\\ana\\lib\\site-packages\\pymongo\\topology.py\", line 235, in select_server\n",
      "    address))\n",
      "  File \"d:\\ana\\lib\\site-packages\\pymongo\\topology.py\", line 193, in select_servers\n",
      "    selector, server_timeout, address)\n",
      "  File \"d:\\ana\\lib\\site-packages\\pymongo\\topology.py\", line 209, in _select_servers_loop\n",
      "    self._error_message(selector))\n",
      "pymongo.errors.ServerSelectionTimeoutError: localhost:27017: [WinError 10061] 由于目标计算机积极拒绝，无法连接。\n",
      "\n",
      "Warning: Project path is not available. Please provide a available path in program initialization.\n",
      "Initializing Stock Analysis System with project path : \n",
      "Clear proxy: HTTP_PROXY\n",
      "Execution failed on sql 'select name, reason, comments, last_update from gray_table': no such table: gray_table\n",
      "Execution failed on sql 'select name, reason, comments, last_update from focus_table': no such table: focus_table\n",
      "Execution failed on sql 'select name, reason, comments, last_update from black_table': no such table: black_table\n",
      "Mongodb config error.\n",
      "localhost:27017: [WinError 10061] 由于目标计算机积极拒绝，无法连接。\n",
      "Traceback (most recent call last):\n",
      "  File \"d:\\ana\\lib\\site-packages\\StockAnalysisSystem\\core\\Database\\DatabaseEntry.py\", line 90, in config_nosql_db\n",
      "    self.__mongo_db_client.server_info()\n",
      "  File \"d:\\ana\\lib\\site-packages\\pymongo\\mongo_client.py\", line 1868, in server_info\n",
      "    session=session)\n",
      "  File \"d:\\ana\\lib\\site-packages\\pymongo\\database.py\", line 730, in command\n",
      "    read_preference, session) as (sock_info, slave_ok):\n",
      "  File \"d:\\ana\\lib\\contextlib.py\", line 112, in __enter__\n",
      "    return next(self.gen)\n",
      "  File \"d:\\ana\\lib\\site-packages\\pymongo\\mongo_client.py\", line 1298, in _socket_for_reads\n",
      "    server = self._select_server(read_preference, session)\n",
      "  File \"d:\\ana\\lib\\site-packages\\pymongo\\mongo_client.py\", line 1253, in _select_server\n",
      "    server = topology.select_server(server_selector)\n",
      "  File \"d:\\ana\\lib\\site-packages\\pymongo\\topology.py\", line 235, in select_server\n",
      "    address))\n",
      "  File \"d:\\ana\\lib\\site-packages\\pymongo\\topology.py\", line 193, in select_servers\n",
      "    selector, server_timeout, address)\n",
      "  File \"d:\\ana\\lib\\site-packages\\pymongo\\topology.py\", line 209, in _select_servers_loop\n",
      "    self._error_message(selector))\n",
      "pymongo.errors.ServerSelectionTimeoutError: localhost:27017: [WinError 10061] 由于目标计算机积极拒绝，无法连接。\n",
      "\n",
      "Warning: Project path is not available. Please provide a available path in program initialization.\n",
      "Initializing Stock Analysis System with project path : \n",
      "Clear proxy: HTTP_PROXY\n",
      "Execution failed on sql 'select name, reason, comments, last_update from gray_table': no such table: gray_table\n",
      "Execution failed on sql 'select name, reason, comments, last_update from focus_table': no such table: focus_table\n",
      "Execution failed on sql 'select name, reason, comments, last_update from black_table': no such table: black_table\n"
     ]
    }
   ],
   "source": [
    "import StockAnalysisSystem.api as sa\n",
    "sa.main()"
   ]
  },
  {
   "cell_type": "code",
   "execution_count": null,
   "metadata": {},
   "outputs": [],
   "source": [
    "python 图像库PIL详解\n",
    "PIL详细文档\n",
    "\n",
    "The most important class in the Python Imaging Library is the Image class, defined in the module with the same name. You can create instances of this class in several ways; either by loading images from files, processing other images, or creating images from scratch.\n",
    "解释：Python映像库中最重要的类是Image类，定义在具有相同名称的模块中。您可以通过多种方式创建该类的实例；通过从文件加载图像，处理其他图像，或从头创建图像/。\n",
    "\n",
    "1、简单实用Image函数\n",
    "从文件加载图像，用Image函数的open方法\n",
    ">>> from PIL import Image\n",
    ">>> im = Image.open(\"hopper.ppm\")\n",
    "\n",
    "如果成功，这个函数将返回一个图像对象。现在您可以使用实例属性来检查文件内容\n",
    ">>> from __future__ import print_function\n",
    ">>> print(im.format, im.size, im.mode)\n",
    "PPM (512, 512) RGB\n",
    "\n",
    "format属性识别图形的源，若图片不是从文件读取的将显示None；\n",
    "size属性是一个包含宽度和高度的二元数组(以像素为单位)；\n",
    "mode属性定义了图像中波段的数量和名称，以及像素类型和深度\n",
    "save 要保存文件，请使用Image类的save()方法\n",
    "常见的模式是“L”(亮度)用于灰度图像，“RGB”用于真正的彩色图像，以及“CMYK”用于预压图像\n",
    "\n",
    "一旦有了Image类的实例，就可以使用该类定义的方法来处理和操作图像\n",
    ">>> im.show() #显示刚刚加载的图像\n",
    "\n",
    "show()的标准版本不是很有效，因为它将图像保存到一个临时文件中，并调用xv实用程序来显示图像。如果你没有安装xv，它甚至不会工作。但是，当它确实起作用时，它对于调试和测试非常方便。\n",
    "\n",
    "例子：创建图片的缩略图\n",
    "im = Image.open('bossimg.jpg') \n",
    "print im.format,im.size,im.mode\n",
    "size = (30,40)\n",
    "im.thumbnail(size) #大小是元组长和宽\n",
    "im.save('boss.png','PNG') #以png格式保存缩略图\n",
    "\n",
    "2、读写图片\n",
    "\n",
    "1）将文件转换成JPEG\n",
    "from __future__ import print_function\n",
    "import os, sys\n",
    "from PIL import Image\n",
    "\n",
    "for infile in sys.argv[1:]:\n",
    "f, e = os.path.splitext(infile)\n",
    "outfile = f + \".jpg\"\n",
    "if infile != outfile:\n",
    "try:\n",
    "Image.open(infile).save(outfile)\n",
    "except IOError:\n",
    "print(\"cannot convert\", infile)\n",
    "\n",
    "2）创建JPEG缩略图\n",
    "from __future__ import print_function\n",
    "import os, sys\n",
    "from PIL import Image\n",
    "\n",
    "size = (128, 128)\n",
    "\n",
    "for infile in sys.argv[1:]:\n",
    "outfile = os.path.splitext(infile)[0] + \".thumbnail\"\n",
    "if infile != outfile:\n",
    "try:\n",
    "im = Image.open(infile)\n",
    "im.thumbnail(size)\n",
    "im.save(outfile, \"JPEG\")\n",
    "except IOError:\n",
    "print(\"cannot create thumbnail for\", infile)\n",
    "\n",
    "3）识别图像文件\n",
    "from __future__ import print_function\n",
    "import sys\n",
    "from PIL import Image\n",
    "\n",
    "for infile in sys.argv[1:]:\n",
    "try:\n",
    "with Image.open(infile) as im:\n",
    "print(infile, im.format, \"%dx%d\" % im.size, im.mode)\n",
    "except IOError:\n",
    "pass\n",
    "\n",
    "3、剪切、粘贴和合并图像\n",
    "1）从图像中复制子矩形\n",
    "box = (100, 100, 400, 400)\n",
    "region = im.crop(box)\n",
    "该区域由一个4元组定义，其中坐标为(左、上、右、下)。Python映像库使用左上角的(0,0)坐标系统。还要注意，坐标是指像素之间的位置，所以上面例子中的区域正好是300x300像素。\n",
    "\n",
    "2）处理一个子矩形，并将其粘贴回去\n",
    "region = region.transpose(Image.ROTATE_180)\n",
    "im.paste(region, box)\n",
    "\n",
    "当粘贴区域返回时，区域的大小必须与给定区域完全匹配。此外，该区域不能扩展到图像之外。然而，原始图像的模式和区域不需要匹配。如果不这样做，在粘贴之前，该区域会自动转换(详情请参阅下面的颜色转换部分)。\n",
    "\n",
    "3）滚动一个图像\n",
    "def roll(image, delta):\n",
    "\"Roll an image sideways\"\n",
    "\n",
    "xsize, ysize = image.size\n",
    "\n",
    "delta = delta % xsize\n",
    "if delta == 0: return image\n",
    "\n",
    "part1 = image.crop((0, 0, delta, ysize))\n",
    "part2 = image.crop((delta, 0, xsize, ysize))\n",
    "part1.load()\n",
    "part2.load()\n",
    "image.paste(part2, (0, 0, xsize-delta, ysize))\n",
    "image.paste(part1, (xsize-delta, 0, xsize, ysize))\n",
    "\n",
    "return image\n",
    "\n",
    "对于更高级的技巧，paste方法还可以使用透明掩码作为可选参数。在该掩码中，值255表示粘贴图像在该位置是不透明的(也就是说，粘贴的图像应该被使用)。值0表示粘贴的图像是完全透明的。中间值表示不同级别的透明性。例如，粘贴一个RGBA图像并使用它作为掩码会粘贴图像的不透明部分，而不是它的透明背景。\n",
    "\n",
    "4）分裂和合并图像\n",
    "r, g, b = im.split()\n",
    "im = Image.merge(\"RGB\", (b, g, r))\n",
    "\n",
    "注意，对于单个带图像，split()返回图像本身。要使用单独的颜色组合，您可能需要先将图像转换为“RGB”。\n",
    "\n",
    "4、几何变换\n",
    "PIL.Image。Image类包含了调整()和旋转()图像的方法。前者采用一个元组来给出新的尺寸，后者是逆时针方向的角度。\n",
    "The PIL.Image.Image class contains methods to resize() and rotate() an image. The former takes a tuple giving the new size, the latter the angle in degrees counter-clockwise.\n",
    "\n",
    "1)简单的几何变换\n",
    "out = im.resize((128, 128))\n",
    "out = im.rotate(45) # degrees counter-clockwise\n",
    "\n",
    "要在90度的步骤中旋转图像，您可以使用rotate()方法或转置()方法。后者也可以用来在水平或垂直轴上翻转图像。\n",
    "To rotate the image in 90 degree steps, you can either use the rotate() method or the transpose() method. The latter can also be used to flip an image around its horizontal or vertical axis.\n",
    "2)移位一个图像\n",
    "out = im.transpose(Image.FLIP_LEFT_RIGHT)\n",
    "out = im.transpose(Image.FLIP_TOP_BOTTOM)\n",
    "out = im.transpose(Image.ROTATE_90)\n",
    "out = im.transpose(Image.ROTATE_180)\n",
    "out = im.transpose(Image.ROTATE_270)\n",
    "\n",
    "一种更一般的图像转换可以通过transform()方法进行。\n",
    "\n",
    "5、颜色转换\n",
    "Python图像库允许使用convert()方法在不同的像素表示之间转换图像\n",
    "\n",
    "模式之间的转换\n",
    "from PIL import Image\n",
    "im = Image.open(\"hopper.ppm\").convert(\"L\")\n",
    "\n",
    "库支持每个受支持的模式和“L”和“RGB”模式之间的转换。要在其他模式之间转换，您可能需要使用中间图像(通常是“RGB”图像)。\n",
    "\n",
    "6、图象增强\n",
    "Python图像库提供了许多方法和模块，可用于增强图像。\n",
    "1）过滤\n",
    "ImageFilter模块包含许多预先定义的增强过滤器，可以与filter()方法一起使用\n",
    "from PIL import ImageFilter\n",
    "out = im.filter(ImageFilter.DETAIL)\n",
    "2）点运算\n",
    "point()方法可以用来翻译图像的像素值(如图像对比度处理)。在大多数情况下，期望一个参数的函数对象可以传递给这个方法。每个像素都是按照该功能进行处理的。\n",
    "# multiply each pixel by 1.2\n",
    "out = im.point(lambda i: i * 1.2)\n",
    "\n",
    "使用上述技术，您可以快速地将任何简单的表达式应用到图像中。还可以将point()和paste()方法组合为有选择地修改图像\n",
    "\n",
    "3）处理单个的图像频段\n",
    "# split the image into individual bands\n",
    "source = im.split()\n",
    "\n",
    "R, G, B = 0, 1, 2\n",
    "\n",
    "# select regions where red is less than 100\n",
    "mask = source[R].point(lambda i: i < 100 and 255)\n",
    "\n",
    "# process the green band\n",
    "out = source[G].point(lambda i: i * 0.7)\n",
    "\n",
    "# paste the processed band back, but only where red was < 100\n",
    "source[G].paste(out, None, mask)\n",
    "\n",
    "# build a new multiband image\n",
    "im = Image.merge(im.mode, source)\n",
    "\n",
    "创建掩码的语法：\n",
    "imout = im.point(lambda i: expression and 255)\n",
    "\n",
    "4）增强或者优化处理\n",
    "Python只计算逻辑表达式的部分，以确定结果，并返回作为表达式结果检查的最后一个值。因此，如果上面的表达式为false(0)，Python就不会查看第二个操作数，因此返回0。否则,它将返回255\n",
    "\n",
    "from PIL import ImageEnhance\n",
    "\n",
    "enh = ImageEnhance.Contrast(im)\n",
    "enh.enhance(1.3).show(\"30% more contrast\")\n",
    "\n",
    "7、图像序列\n",
    "\n",
    "Python映像库包含对图像序列(也称为动画格式)的一些基本支持。支持的序列格式包括FLI / FLC、GIF和一些实验格式。TIFF文件也可以包含多个帧。\n",
    "当打开一个序列文件时，PIL会自动加载序列中的第一帧。您可以使用seek和tell方法在不同的帧之间移动\n",
    "1）读序列\n",
    "from PIL import Image\n",
    "\n",
    "im = Image.open(\"animation.gif\")\n",
    "im.seek(1) # skip to the second frame\n",
    "\n",
    "try:\n",
    "while 1:\n",
    "im.seek(im.tell()+1)\n",
    "im.show() \n",
    "# do something to im\n",
    "except EOFError:\n",
    "pass # end of sequence\n",
    "\n",
    "如本例中所示，当序列结束时，您将得到一个EOFError异常\n",
    "下面的类让您使用for - statement来对序列进行循环\n",
    "Using the ImageSequence Iterator class\n",
    "from PIL import ImageSequence\n",
    "for frame in ImageSequence.Iterator(im):\n",
    "# ...do something to frame...\n",
    "\n",
    "8、图像打印\n",
    "Python映像库包括用于在Postscript打印机上打印图像、文本和图形的函数\n",
    "下面是一个简单的列子简答说明\n",
    "from PIL import Image\n",
    "from PIL import PSDraw\n",
    "\n",
    "im = Image.open(\"hopper.ppm\")\n",
    "title = \"hopper\"\n",
    "box = (1*72, 2*72, 7*72, 10*72) # in points\n",
    "\n",
    "ps = PSDraw.PSDraw() # default is sys.stdout\n",
    "ps.begin_document(title)\n",
    "\n",
    "# draw the image (75 dpi)\n",
    "ps.image(box, im, 75)\n",
    "ps.rectangle(box)\n",
    "\n",
    "# draw title\n",
    "ps.setfont(\"HelveticaNarrow-Bold\", 36)\n",
    "ps.text((3*72, 4*72), title)\n",
    "\n",
    "ps.end_document()\n",
    "\n",
    "9、更多的读取图像\n",
    "您可以使用类似文件的对象而不是文件名。对象必须实现read()、seek()和tell()方法，并以二进制模式打开。\n",
    "1）从打开的文件中读取\n",
    "from PIL import Image\n",
    "with open(\"hopper.ppm\", \"rb\") as fp:\n",
    "im = Image.open(fp)\n",
    "\n",
    "2）从字符串阅读\n",
    "import StringIO\n",
    "\n",
    "im = Image.open(StringIO.StringIO(buffer))\n",
    "\n",
    "注意，在读取图像标题之前，库会对文件进行重卷(使用查找(0))。此外，当读取图像数据时，也会使用seek(通过load方法)。如果图像文件嵌入到一个较大的文件中，比如tar文件，那么可以使用ContainerIO或TarIO模块来访问它\n",
    "3）从tar压缩文件中读取\n",
    "from PIL import Image, TarIO\n",
    "\n",
    "fp = TarIO.TarIO(\"Tests/images/hopper.tar\", \"hopper.jpg\")\n",
    "im = Image.open(fp)\n",
    "\n",
    "10、控制译码器\n",
    "一些解码器允许您在读取文件时对图像进行操作。在创建缩略图(通常速度比质量更重要)和打印到单色激光打印机(只需要一个灰度版本的图像)时，这通常可以用来加速解码。\n",
    "The draft() method manipulates an opened but not yet loaded image so it as closely as possible matches the given mode and size. This is done by reconfiguring the image decoder.\n",
    "1) 阅读草稿模式\n",
    "这只适用于JPEG和MPO文件\n",
    "from PIL import Image\n",
    "from __future__ import print_function\n",
    "im = Image.open(file)\n",
    "print(\"original =\", im.mode, im.size)\n",
    "\n",
    "im.draft(\"L\", (100, 100))\n",
    "print(\"draft =\", im.mode, im.size)\n",
    "\n",
    "上述执行打印出类似下面：\n",
    "original = RGB (512, 512)\n",
    "draft = L (128, 128)"
   ]
  },
  {
   "cell_type": "code",
   "execution_count": null,
   "metadata": {},
   "outputs": [
    {
     "name": "stdout",
     "output_type": "stream",
     "text": [
      "JPEG (899, 1500) RGB\n"
     ]
    }
   ],
   "source": [
    "from PIL import Image as img\n",
    "im=img.open('33.jpg')\n",
    "im.show()\n",
    "print(im.format, im.size, im.mode)\n",
    "out = im.resize((1798, 3000))\n",
    "out.show()"
   ]
  },
  {
   "cell_type": "code",
   "execution_count": null,
   "metadata": {},
   "outputs": [],
   "source": [
    "#学习操作selenium"
   ]
  },
  {
   "cell_type": "code",
   "execution_count": 2,
   "metadata": {},
   "outputs": [],
   "source": [
    "from selenium import webdriver as we\n",
    "from selenium.webdriver.common.keys import Keys as ky"
   ]
  },
  {
   "cell_type": "code",
   "execution_count": 3,
   "metadata": {},
   "outputs": [
    {
     "ename": "NoSuchWindowException",
     "evalue": "Message: Browsing context has been discarded\n",
     "output_type": "error",
     "traceback": [
      "\u001b[1;31m---------------------------------------------------------------------------\u001b[0m",
      "\u001b[1;31mNoSuchWindowException\u001b[0m                     Traceback (most recent call last)",
      "\u001b[1;32m<ipython-input-3-eddebda9dbe8>\u001b[0m in \u001b[0;36m<module>\u001b[1;34m\u001b[0m\n\u001b[0;32m      4\u001b[0m \u001b[0mdriver\u001b[0m\u001b[1;33m.\u001b[0m\u001b[0mget\u001b[0m\u001b[1;33m(\u001b[0m\u001b[1;34m\"http://demo.magentocommerce.com/\"\u001b[0m\u001b[1;33m)\u001b[0m\u001b[1;33m\u001b[0m\u001b[1;33m\u001b[0m\u001b[0m\n\u001b[0;32m      5\u001b[0m \u001b[1;33m\u001b[0m\u001b[0m\n\u001b[1;32m----> 6\u001b[1;33m \u001b[0msearch_field\u001b[0m\u001b[1;33m=\u001b[0m\u001b[0mdriver\u001b[0m\u001b[1;33m.\u001b[0m\u001b[0mfind_element_by_name\u001b[0m\u001b[1;33m(\u001b[0m\u001b[1;34m\"q\"\u001b[0m\u001b[1;33m)\u001b[0m\u001b[1;33m\u001b[0m\u001b[1;33m\u001b[0m\u001b[0m\n\u001b[0m\u001b[0;32m      7\u001b[0m \u001b[0msearch_field\u001b[0m\u001b[1;33m.\u001b[0m\u001b[0mclear\u001b[0m\u001b[1;33m(\u001b[0m\u001b[1;33m)\u001b[0m\u001b[1;33m\u001b[0m\u001b[1;33m\u001b[0m\u001b[0m\n\u001b[0;32m      8\u001b[0m \u001b[1;33m\u001b[0m\u001b[0m\n",
      "\u001b[1;32md:\\ana\\lib\\site-packages\\selenium\\webdriver\\remote\\webdriver.py\u001b[0m in \u001b[0;36mfind_element_by_name\u001b[1;34m(self, name)\u001b[0m\n\u001b[0;32m    494\u001b[0m             \u001b[0melement\u001b[0m \u001b[1;33m=\u001b[0m \u001b[0mdriver\u001b[0m\u001b[1;33m.\u001b[0m\u001b[0mfind_element_by_name\u001b[0m\u001b[1;33m(\u001b[0m\u001b[1;34m'foo'\u001b[0m\u001b[1;33m)\u001b[0m\u001b[1;33m\u001b[0m\u001b[1;33m\u001b[0m\u001b[0m\n\u001b[0;32m    495\u001b[0m         \"\"\"\n\u001b[1;32m--> 496\u001b[1;33m         \u001b[1;32mreturn\u001b[0m \u001b[0mself\u001b[0m\u001b[1;33m.\u001b[0m\u001b[0mfind_element\u001b[0m\u001b[1;33m(\u001b[0m\u001b[0mby\u001b[0m\u001b[1;33m=\u001b[0m\u001b[0mBy\u001b[0m\u001b[1;33m.\u001b[0m\u001b[0mNAME\u001b[0m\u001b[1;33m,\u001b[0m \u001b[0mvalue\u001b[0m\u001b[1;33m=\u001b[0m\u001b[0mname\u001b[0m\u001b[1;33m)\u001b[0m\u001b[1;33m\u001b[0m\u001b[1;33m\u001b[0m\u001b[0m\n\u001b[0m\u001b[0;32m    497\u001b[0m \u001b[1;33m\u001b[0m\u001b[0m\n\u001b[0;32m    498\u001b[0m     \u001b[1;32mdef\u001b[0m \u001b[0mfind_elements_by_name\u001b[0m\u001b[1;33m(\u001b[0m\u001b[0mself\u001b[0m\u001b[1;33m,\u001b[0m \u001b[0mname\u001b[0m\u001b[1;33m)\u001b[0m\u001b[1;33m:\u001b[0m\u001b[1;33m\u001b[0m\u001b[1;33m\u001b[0m\u001b[0m\n",
      "\u001b[1;32md:\\ana\\lib\\site-packages\\selenium\\webdriver\\remote\\webdriver.py\u001b[0m in \u001b[0;36mfind_element\u001b[1;34m(self, by, value)\u001b[0m\n\u001b[0;32m    976\u001b[0m         return self.execute(Command.FIND_ELEMENT, {\n\u001b[0;32m    977\u001b[0m             \u001b[1;34m'using'\u001b[0m\u001b[1;33m:\u001b[0m \u001b[0mby\u001b[0m\u001b[1;33m,\u001b[0m\u001b[1;33m\u001b[0m\u001b[1;33m\u001b[0m\u001b[0m\n\u001b[1;32m--> 978\u001b[1;33m             'value': value})['value']\n\u001b[0m\u001b[0;32m    979\u001b[0m \u001b[1;33m\u001b[0m\u001b[0m\n\u001b[0;32m    980\u001b[0m     \u001b[1;32mdef\u001b[0m \u001b[0mfind_elements\u001b[0m\u001b[1;33m(\u001b[0m\u001b[0mself\u001b[0m\u001b[1;33m,\u001b[0m \u001b[0mby\u001b[0m\u001b[1;33m=\u001b[0m\u001b[0mBy\u001b[0m\u001b[1;33m.\u001b[0m\u001b[0mID\u001b[0m\u001b[1;33m,\u001b[0m \u001b[0mvalue\u001b[0m\u001b[1;33m=\u001b[0m\u001b[1;32mNone\u001b[0m\u001b[1;33m)\u001b[0m\u001b[1;33m:\u001b[0m\u001b[1;33m\u001b[0m\u001b[1;33m\u001b[0m\u001b[0m\n",
      "\u001b[1;32md:\\ana\\lib\\site-packages\\selenium\\webdriver\\remote\\webdriver.py\u001b[0m in \u001b[0;36mexecute\u001b[1;34m(self, driver_command, params)\u001b[0m\n\u001b[0;32m    319\u001b[0m         \u001b[0mresponse\u001b[0m \u001b[1;33m=\u001b[0m \u001b[0mself\u001b[0m\u001b[1;33m.\u001b[0m\u001b[0mcommand_executor\u001b[0m\u001b[1;33m.\u001b[0m\u001b[0mexecute\u001b[0m\u001b[1;33m(\u001b[0m\u001b[0mdriver_command\u001b[0m\u001b[1;33m,\u001b[0m \u001b[0mparams\u001b[0m\u001b[1;33m)\u001b[0m\u001b[1;33m\u001b[0m\u001b[1;33m\u001b[0m\u001b[0m\n\u001b[0;32m    320\u001b[0m         \u001b[1;32mif\u001b[0m \u001b[0mresponse\u001b[0m\u001b[1;33m:\u001b[0m\u001b[1;33m\u001b[0m\u001b[1;33m\u001b[0m\u001b[0m\n\u001b[1;32m--> 321\u001b[1;33m             \u001b[0mself\u001b[0m\u001b[1;33m.\u001b[0m\u001b[0merror_handler\u001b[0m\u001b[1;33m.\u001b[0m\u001b[0mcheck_response\u001b[0m\u001b[1;33m(\u001b[0m\u001b[0mresponse\u001b[0m\u001b[1;33m)\u001b[0m\u001b[1;33m\u001b[0m\u001b[1;33m\u001b[0m\u001b[0m\n\u001b[0m\u001b[0;32m    322\u001b[0m             response['value'] = self._unwrap_value(\n\u001b[0;32m    323\u001b[0m                 response.get('value', None))\n",
      "\u001b[1;32md:\\ana\\lib\\site-packages\\selenium\\webdriver\\remote\\errorhandler.py\u001b[0m in \u001b[0;36mcheck_response\u001b[1;34m(self, response)\u001b[0m\n\u001b[0;32m    240\u001b[0m                 \u001b[0malert_text\u001b[0m \u001b[1;33m=\u001b[0m \u001b[0mvalue\u001b[0m\u001b[1;33m[\u001b[0m\u001b[1;34m'alert'\u001b[0m\u001b[1;33m]\u001b[0m\u001b[1;33m.\u001b[0m\u001b[0mget\u001b[0m\u001b[1;33m(\u001b[0m\u001b[1;34m'text'\u001b[0m\u001b[1;33m)\u001b[0m\u001b[1;33m\u001b[0m\u001b[1;33m\u001b[0m\u001b[0m\n\u001b[0;32m    241\u001b[0m             \u001b[1;32mraise\u001b[0m \u001b[0mexception_class\u001b[0m\u001b[1;33m(\u001b[0m\u001b[0mmessage\u001b[0m\u001b[1;33m,\u001b[0m \u001b[0mscreen\u001b[0m\u001b[1;33m,\u001b[0m \u001b[0mstacktrace\u001b[0m\u001b[1;33m,\u001b[0m \u001b[0malert_text\u001b[0m\u001b[1;33m)\u001b[0m\u001b[1;33m\u001b[0m\u001b[1;33m\u001b[0m\u001b[0m\n\u001b[1;32m--> 242\u001b[1;33m         \u001b[1;32mraise\u001b[0m \u001b[0mexception_class\u001b[0m\u001b[1;33m(\u001b[0m\u001b[0mmessage\u001b[0m\u001b[1;33m,\u001b[0m \u001b[0mscreen\u001b[0m\u001b[1;33m,\u001b[0m \u001b[0mstacktrace\u001b[0m\u001b[1;33m)\u001b[0m\u001b[1;33m\u001b[0m\u001b[1;33m\u001b[0m\u001b[0m\n\u001b[0m\u001b[0;32m    243\u001b[0m \u001b[1;33m\u001b[0m\u001b[0m\n\u001b[0;32m    244\u001b[0m     \u001b[1;32mdef\u001b[0m \u001b[0m_value_or_default\u001b[0m\u001b[1;33m(\u001b[0m\u001b[0mself\u001b[0m\u001b[1;33m,\u001b[0m \u001b[0mobj\u001b[0m\u001b[1;33m,\u001b[0m \u001b[0mkey\u001b[0m\u001b[1;33m,\u001b[0m \u001b[0mdefault\u001b[0m\u001b[1;33m)\u001b[0m\u001b[1;33m:\u001b[0m\u001b[1;33m\u001b[0m\u001b[1;33m\u001b[0m\u001b[0m\n",
      "\u001b[1;31mNoSuchWindowException\u001b[0m: Message: Browsing context has been discarded\n"
     ]
    }
   ],
   "source": [
    "driver=we.Firefox()\n",
    "driver.implicitly_wait(30)\n",
    "driver.maximize_window()\n",
    "driver.get(\"http://demo.magentocommerce.com/\")\n",
    "\n",
    "search_field=driver.find_element_by_name(\"q\")\n",
    "search_field.clear()\n",
    "\n",
    "search_field.send_keys(\"phones\")\n",
    "search_field.submit()\n",
    "#//*[@id=\"content\"]/text()[58]\n",
    "products=driver.find_elements_by_xpath(\"//h2[@class='product-name']/a\")\n",
    "print(\"Found\"+str(len(products))+\"products:\")\n",
    "\n",
    "for i in products:\n",
    "    print(i.text)\n",
    "    \n",
    "driver.quit()"
   ]
  },
  {
   "cell_type": "code",
   "execution_count": 4,
   "metadata": {},
   "outputs": [
    {
     "name": "stdout",
     "output_type": "stream",
     "text": [
      "<class 'str'>\n"
     ]
    }
   ],
   "source": [
    "driver=we.Firefox()\n",
    "driver.implicitly_wait(30)\n",
    "driver.maximize_window()\n",
    "\n",
    "url='http://www.xbiquge.la/17/17008/8847394.html  '\n",
    "#//*[@id=\"content\"] //*[@id=\"content\"]\n",
    "driver.get(url)\n",
    "#products=driver.find_elements_by_xpath(\"//*[@id=\"content\"]/text()\")\n",
    "data = driver.find_element_by_id(\"content\").text\n",
    "print(type(data)) "
   ]
  },
  {
   "cell_type": "code",
   "execution_count": 5,
   "metadata": {},
   "outputs": [
    {
     "name": "stdout",
     "output_type": "stream",
     "text": [
      "    相较于赵慕白第一次碰到的猎杀者，如今的这一头猎杀者身形更加纤细的同时，灰黑色流线型的肌肉让它拥有更强的爆发力！\n",
      "\n",
      "    “当啷！”\n",
      "\n",
      "    清脆的钢铁交鸣声响起，赵慕白手中的掠星刃枪竟然如同软鞭一般，在抽打在丧尸的身上后被反冲力弯曲了回来，精巧无比的格挡住了猎杀者的双爪！\n",
      "\n",
      "    掠星刃枪由星界能量凝聚而成，所以拥有着寻常武器所不具有的特性，既可以当做龙枪也可以当做长枪使用，刚柔并济是赵慕白手中这把掠星刃枪的特点之一！\n",
      "\n",
      "    站在队伍的最前方，这一刻赵慕白彻底化身为绞肉机，掠星刃枪在赵慕白的操控下快速旋转，但凡被其刮到的丧尸各种残肢断臂纷飞！\n",
      "\n",
      "    “桀！”\n",
      "\n",
      "    猎杀者一击不中之后立马隐匿在尸群当中，但一双骨节狰狞的利爪之上却被赵慕白给直接用掠星刃枪给劈掉了一大半！\n",
      "\n",
      "    “快！快！快！跟上！”\n",
      "\n",
      "    班长一看似乎有活下去的希望，浑身上下不知道从哪涌出了无穷无尽的力量，手中步枪连连咆哮，点射掉靠近过来的丧尸，跟在赵慕白后面寸步不离！\n",
      "\n",
      "    “班长！我没子弹了！”跟在最后面的一名战士突然喊道！\n",
      "\n",
      "    “接着！”\n",
      "\n",
      "    这名班长将仅存的两个弹匣的其中一个扔了过去，可惜刚刚扔过去没等这名士兵接住，猎杀者竟然再次出现！\n",
      "\n",
      "    “噗嗤！”\n",
      "\n",
      "    断了一半的利爪并没有妨碍到猎杀者的杀戮，另一只完好无损的大手干脆利落的从士兵的胸膛穿过！\n",
      "\n",
      "    一颗猩红色的心脏出现在了猎杀者的手中！\n",
      "\n",
      "    “大个！”\n",
      "\n",
      "    班长目呲俱裂的看着眼前的这一幕，这已经是第四名倒在这个怪物手下的士兵了！转眼自己这个班一半的士兵都牺牲了！\n",
      "\n",
      "    “跟紧我，不要分神！”\n",
      "\n",
      "    最前方的赵慕白手中掠星刃枪如新月般向丧尸横扫过去，所过之处丧尸尽皆被抽成了两半！\n",
      "\n",
      "    “所有人跟上！所有手雷全部都给我扔出去！”\n",
      "\n",
      "    班长听后虎躯一震，也顾不得抹掉眼角的泪花，将已经没有了子弹的步枪快速上弹。\n",
      "\n",
      "    “轰！”“轰！”“轰！”\n",
      "\n",
      "    整整七颗手雷同时爆炸开来，巨大的爆炸威力让黑压压的尸群出现了一片空白，污血夹杂着肉糜如同下雨一般，哗啦啦的落了一地！\n",
      "\n",
      "    “再坚持住，还有不到二十米的距离！”\n",
      "\n",
      "    赵慕白望着前方已经稀松的丧尸群后心中一松，长时间凝聚掠星刃枪是极其消耗体力的，即便是现在的赵慕白也仅仅只能保持两个小时而已！\n",
      "\n",
      "    这还是说他什么都不干，就保持凝聚掠星刃枪！\n",
      "\n",
      "    如今高强度的战斗加上还需要掌控掠星刃枪，已经让赵慕白的体力出现了严重的消耗！\n",
      "\n",
      "    “桀！”\n",
      "\n",
      "    如同跗骨之蛆一般的猎杀者再次来袭，只不过这一次他的目标变成了赵慕白！\n",
      "\n",
      "    “还敢来？”\n",
      "\n",
      "    猎杀者出现的瞬间，赵慕白便发现了他的踪影，能够在尸群当中如此快速奔袭的除了它以外还能有谁？\n",
      "\n",
      "    猎杀者刁钻的从赵慕白侧面杀出，狡猾而又充斥着杀意的眼神让人不寒而栗！一只上面还充满着人血的利爪直接掏向赵慕白的软肋！\n",
      "\n",
      "    赵慕白手中掠星刃枪直接从腋下斜刺而出，湛紫色的枪柄在和猎杀者利爪碰触在一起的同时，强烈的腐蚀性瞬间让猎杀者的利爪变得坑坑巴巴的了！\n",
      "\n",
      "    “给我趴下吧！”\n",
      "\n",
      "    一而再，再而三的偷袭自己，赵慕白怎么能够忍下这口气，正所谓泥人还有三分脾气呢，何况是赵慕白了呢！\n",
      "\n",
      "    双手向手中掠星刃枪施力，莫大的力道顺着掠星刃枪压在猎杀者的利爪之上。\n",
      "\n",
      "    “噗通！”\n",
      "\n",
      "    巨大的力道之下猎杀者直接跪倒在了地上，作为敏捷型丧尸，猎杀者向来都是一击不中立马远遁，何尝与人正面硬拼过！\n",
      "\n",
      "    几番挣扎，但赵慕白手中的掠星刃枪简直就如同大山一般无论它如何使力都纹丝不动！\n",
      "\n",
      "    “死吧！”\n",
      "\n",
      "    赵慕白残忍一笑，掠星刃枪猛地一下压。“咔嚓！”大量的污血从猎杀者的断口出喷涌而出，沾满着鲜血的利爪掉在了地上。\n",
      "\n",
      "    “桀！”\n",
      "\n",
      "    猎杀者最引以为豪的一双利爪，一只被废、另一只干脆被砍掉！这让猎杀者彻底的疯狂了！\n",
      "\n",
      "    但是如今已经失去了双爪的猎杀者根本就是个无牙的老虎，深紫色闪烁着点点黑芒的枪刃一挑。\n",
      "\n",
      "    从胸口到下颌，猎杀者直接被赵慕白给挑了个透心凉！\n",
      "\n",
      "    杀掉了猎杀者，赵慕白也来不及去拾取它头颅内的晶核，自己的体力已经消耗的差不多了，最多还能坚持十分钟，如果十分钟逃不出去，恐怕自己都得折在这里！\n",
      "\n",
      "    单手一拉将一只距离自己仅仅只有半米不到，都已经清晰的可见看见其嘴中蠕动尸蛆的丧尸给拉了过来。\n",
      "\n",
      "    赵慕白干脆将其给当成了沙包，抓住胳膊顺势就给扔了出去！\n",
      "\n",
      "    大量丧尸被撞到的同时，那头被赵慕白当做沙包的倒霉丧尸也在巨力之下给摔成了几截！\n",
      "\n",
      "    掠星刃枪倒提赵慕白一脚踹到眼前的丧尸，豁然弯腰掠星刃枪在后背旋转一圈顺势刮倒一片丧尸！\n",
      "\n",
      "    “噗嗤！”\n",
      "\n",
      "    再次将眼前的最后一头丧尸刺穿脑袋，赵慕白突然感觉眼前豁然一亮，原来自己已经从尸群当中冲了出来！\n",
      "\n",
      "    而此时跟在他后面的几名士兵也陆续跑了出来！\n",
      "\n",
      "    “嗬！嗬！”\n",
      "\n",
      "    丧尸们依旧在不依不饶的跟在众人身后，他们对鲜血和活人的渴望促使着他们快速向赵慕白等人袭来！\n",
      "\n",
      "    单手虚握将掠星刃枪驱散，赵慕白再次将掠空星刃凝聚在手中。\n",
      "\n",
      "    “快点，不要停！跟上我！”\n",
      "\n",
      "    一个闪身躲过一头丧尸的血盆大口赵慕白十分干脆的向前方跑去，此时他们距离边防总队聚集地已经剩下了不到几千米的距离！\n",
      "\n",
      "    远远地甚至都可以看见驻守在门口沙包处荷枪实弹的士兵！\n",
      "\n",
      "    （未完待续）\n",
      "\n",
      "    Ps：就是很无耻的向大家求一下推荐票，请大家给我点动力呗，嘿嘿嘿，还有欢迎大家加入到书友群和我讨论一下剧情哦！\n",
      "\n",
      "亲,点击进去,给个好评呗,分数越高更新越快,据说给新笔趣阁打满分的最后都找到了漂亮的老婆哦!\n",
      "手机站全新改版升级地址：http://m.xbiquge.la，数据和书签与电脑站同步，无广告清新阅读！\n"
     ]
    }
   ],
   "source": [
    "print(data)"
   ]
  },
  {
   "cell_type": "code",
   "execution_count": 7,
   "metadata": {},
   "outputs": [],
   "source": [
    "#Xpayh定位讲解，链接    https://www.jianshu.com/p/530b1cb0871b\n",
    "#https://www.cnblogs.com/hanmk/p/8997786.html"
   ]
  },
  {
   "cell_type": "code",
   "execution_count": 14,
   "metadata": {},
   "outputs": [],
   "source": [
    "import pandas as pd\n",
    "import html5lib"
   ]
  },
  {
   "cell_type": "code",
   "execution_count": 16,
   "metadata": {},
   "outputs": [
    {
     "ename": "ImportError",
     "evalue": "html5lib not found, please install it",
     "output_type": "error",
     "traceback": [
      "\u001b[1;31m---------------------------------------------------------------------------\u001b[0m",
      "\u001b[1;31mImportError\u001b[0m                               Traceback (most recent call last)",
      "\u001b[1;32m<ipython-input-16-da13b3fc75ed>\u001b[0m in \u001b[0;36m<module>\u001b[1;34m\u001b[0m\n\u001b[0;32m      1\u001b[0m \u001b[0murl\u001b[0m\u001b[1;33m=\u001b[0m\u001b[1;34m'http://quote.eastmoney.com/center/whsc.html'\u001b[0m\u001b[1;33m\u001b[0m\u001b[1;33m\u001b[0m\u001b[0m\n\u001b[1;32m----> 2\u001b[1;33m \u001b[0mdata\u001b[0m\u001b[1;33m=\u001b[0m\u001b[0mpd\u001b[0m\u001b[1;33m.\u001b[0m\u001b[0mread_html\u001b[0m\u001b[1;33m(\u001b[0m\u001b[0murl\u001b[0m\u001b[1;33m)\u001b[0m\u001b[1;33m\u001b[0m\u001b[1;33m\u001b[0m\u001b[0m\n\u001b[0m\u001b[0;32m      3\u001b[0m \u001b[0mprint\u001b[0m\u001b[1;33m(\u001b[0m\u001b[0mlen\u001b[0m\u001b[1;33m(\u001b[0m\u001b[0mdata\u001b[0m\u001b[1;33m)\u001b[0m\u001b[1;33m)\u001b[0m\u001b[1;33m\u001b[0m\u001b[1;33m\u001b[0m\u001b[0m\n",
      "\u001b[1;32md:\\ana\\lib\\site-packages\\pandas\\io\\html.py\u001b[0m in \u001b[0;36mread_html\u001b[1;34m(io, match, flavor, header, index_col, skiprows, attrs, parse_dates, thousands, encoding, decimal, converters, na_values, keep_default_na, displayed_only)\u001b[0m\n\u001b[0;32m   1098\u001b[0m         \u001b[0mna_values\u001b[0m\u001b[1;33m=\u001b[0m\u001b[0mna_values\u001b[0m\u001b[1;33m,\u001b[0m\u001b[1;33m\u001b[0m\u001b[1;33m\u001b[0m\u001b[0m\n\u001b[0;32m   1099\u001b[0m         \u001b[0mkeep_default_na\u001b[0m\u001b[1;33m=\u001b[0m\u001b[0mkeep_default_na\u001b[0m\u001b[1;33m,\u001b[0m\u001b[1;33m\u001b[0m\u001b[1;33m\u001b[0m\u001b[0m\n\u001b[1;32m-> 1100\u001b[1;33m         \u001b[0mdisplayed_only\u001b[0m\u001b[1;33m=\u001b[0m\u001b[0mdisplayed_only\u001b[0m\u001b[1;33m,\u001b[0m\u001b[1;33m\u001b[0m\u001b[1;33m\u001b[0m\u001b[0m\n\u001b[0m\u001b[0;32m   1101\u001b[0m     )\n",
      "\u001b[1;32md:\\ana\\lib\\site-packages\\pandas\\io\\html.py\u001b[0m in \u001b[0;36m_parse\u001b[1;34m(flavor, io, match, attrs, encoding, displayed_only, **kwargs)\u001b[0m\n\u001b[0;32m    889\u001b[0m     \u001b[0mretained\u001b[0m \u001b[1;33m=\u001b[0m \u001b[1;32mNone\u001b[0m\u001b[1;33m\u001b[0m\u001b[1;33m\u001b[0m\u001b[0m\n\u001b[0;32m    890\u001b[0m     \u001b[1;32mfor\u001b[0m \u001b[0mflav\u001b[0m \u001b[1;32min\u001b[0m \u001b[0mflavor\u001b[0m\u001b[1;33m:\u001b[0m\u001b[1;33m\u001b[0m\u001b[1;33m\u001b[0m\u001b[0m\n\u001b[1;32m--> 891\u001b[1;33m         \u001b[0mparser\u001b[0m \u001b[1;33m=\u001b[0m \u001b[0m_parser_dispatch\u001b[0m\u001b[1;33m(\u001b[0m\u001b[0mflav\u001b[0m\u001b[1;33m)\u001b[0m\u001b[1;33m\u001b[0m\u001b[1;33m\u001b[0m\u001b[0m\n\u001b[0m\u001b[0;32m    892\u001b[0m         \u001b[0mp\u001b[0m \u001b[1;33m=\u001b[0m \u001b[0mparser\u001b[0m\u001b[1;33m(\u001b[0m\u001b[0mio\u001b[0m\u001b[1;33m,\u001b[0m \u001b[0mcompiled_match\u001b[0m\u001b[1;33m,\u001b[0m \u001b[0mattrs\u001b[0m\u001b[1;33m,\u001b[0m \u001b[0mencoding\u001b[0m\u001b[1;33m,\u001b[0m \u001b[0mdisplayed_only\u001b[0m\u001b[1;33m)\u001b[0m\u001b[1;33m\u001b[0m\u001b[1;33m\u001b[0m\u001b[0m\n\u001b[0;32m    893\u001b[0m \u001b[1;33m\u001b[0m\u001b[0m\n",
      "\u001b[1;32md:\\ana\\lib\\site-packages\\pandas\\io\\html.py\u001b[0m in \u001b[0;36m_parser_dispatch\u001b[1;34m(flavor)\u001b[0m\n\u001b[0;32m    838\u001b[0m     \u001b[1;32mif\u001b[0m \u001b[0mflavor\u001b[0m \u001b[1;32min\u001b[0m \u001b[1;33m(\u001b[0m\u001b[1;34m\"bs4\"\u001b[0m\u001b[1;33m,\u001b[0m \u001b[1;34m\"html5lib\"\u001b[0m\u001b[1;33m)\u001b[0m\u001b[1;33m:\u001b[0m\u001b[1;33m\u001b[0m\u001b[1;33m\u001b[0m\u001b[0m\n\u001b[0;32m    839\u001b[0m         \u001b[1;32mif\u001b[0m \u001b[1;32mnot\u001b[0m \u001b[0m_HAS_HTML5LIB\u001b[0m\u001b[1;33m:\u001b[0m\u001b[1;33m\u001b[0m\u001b[1;33m\u001b[0m\u001b[0m\n\u001b[1;32m--> 840\u001b[1;33m             \u001b[1;32mraise\u001b[0m \u001b[0mImportError\u001b[0m\u001b[1;33m(\u001b[0m\u001b[1;34m\"html5lib not found, please install it\"\u001b[0m\u001b[1;33m)\u001b[0m\u001b[1;33m\u001b[0m\u001b[1;33m\u001b[0m\u001b[0m\n\u001b[0m\u001b[0;32m    841\u001b[0m         \u001b[1;32mif\u001b[0m \u001b[1;32mnot\u001b[0m \u001b[0m_HAS_BS4\u001b[0m\u001b[1;33m:\u001b[0m\u001b[1;33m\u001b[0m\u001b[1;33m\u001b[0m\u001b[0m\n\u001b[0;32m    842\u001b[0m             \u001b[1;32mraise\u001b[0m \u001b[0mImportError\u001b[0m\u001b[1;33m(\u001b[0m\u001b[1;34m\"BeautifulSoup4 (bs4) not found, please install it\"\u001b[0m\u001b[1;33m)\u001b[0m\u001b[1;33m\u001b[0m\u001b[1;33m\u001b[0m\u001b[0m\n",
      "\u001b[1;31mImportError\u001b[0m: html5lib not found, please install it"
     ]
    }
   ],
   "source": [
    "url='http://quote.eastmoney.com/center/whsc.html'\n",
    "data=pd.read_html(url)\n",
    "print(len(data))"
   ]
  },
  {
   "cell_type": "code",
   "execution_count": 6,
   "metadata": {},
   "outputs": [
    {
     "name": "stdout",
     "output_type": "stream",
     "text": [
      "    0  1    2  3    4  5    6  7     8  9   \\\n",
      "0  今开：  -  最高：  -  涨停：  -  换手：  -  成交量：  -   \n",
      "1  昨收：  -  最低：  -  跌停：  -  量比：  -  成交额：  -   \n",
      "\n",
      "                                                  10 11     12 13  \n",
      "0  市盈(动)  动态市盈率：-  总市值除以全年预估净利润，例如当前一季度净利润1000万,则...  -   总市值：  -  \n",
      "1                                                市净：  -  流通市值：  -  \n",
      "        0       1       2\n",
      "0  加载中...  加载中...  加载中...\n",
      "        0       1       2\n",
      "0  加载中...  加载中...  加载中...\n",
      "             0                                                  1\n",
      "0  08-28  2020                  ●  预约披露日  2020年半年报预约2020年08月28日披露\n",
      "1  08-07  2020  ●  股权质押  截止2020年08月07日质押总比例0.02%，质押总股数318.05万股...\n",
      "2  08-04  2020    ●  大宗交易  2020年08月04日共有1笔大宗交易，成交量120万股，成交额1704万元\n",
      "        0         1         2         3\n",
      "0      公募        私募        社保      QFII\n",
      "1   1家(1)     0家(0)     1家(1)     0家(0)\n",
      "2    股东情况  20-03-31  20-03-31  19-12-31\n",
      "3    股东户数    39.74万    39.74万    32.29万\n",
      "4  较上期(%)    16.567    16.567     7.636\n",
      "Empty DataFrame\n",
      "Columns: [名称, 涨跌幅, 领涨股]\n",
      "Index: []\n",
      "Empty DataFrame\n",
      "Columns: [阶段, 平安银行, 银行]\n",
      "Index: []\n",
      "  股票涨跌幅排行  股票涨跌幅排行  股票涨跌排行  股票成交额排行  股票成交量排行  5分钟涨跌幅排行  量比排行        \n",
      "                                                          名称 最新价 涨跌幅\n",
      "0                                                  -           -   -\n",
      "1                                                  -           -   -\n",
      "2                                                  -           -   -\n",
      "3                                                  -           -   -\n",
      "4                                                  -           -   -\n",
      "               0             1             2             3\n",
      "0             卖五             -             -           NaN\n",
      "1             卖四             -             -           NaN\n",
      "2             卖三             -             -           NaN\n",
      "3             卖二             -             -           NaN\n",
      "4             卖一             -             -           NaN\n",
      "5   DK点自动提示涨跌信号！  DK点自动提示涨跌信号！  DK点自动提示涨跌信号！  DK点自动提示涨跌信号！\n",
      "6             买一             -             -           NaN\n",
      "7             买二             -             -           NaN\n",
      "8             买三             -             -           NaN\n",
      "9             买四             -             -           NaN\n",
      "10            买五             -             -           NaN\n",
      "  (万元) 流入 流出\n",
      "0   超大  -  -\n",
      "1   大单  -  -\n",
      "2   中单  -  -\n",
      "3   小单  -  -\n",
      "      0     1\n",
      "0  最新：-  均价：-\n",
      "1  涨幅：-  涨跌：-\n",
      "2  总手：-  金额：-\n",
      "3  换手：-  量比：-\n",
      "4  最高：-  最低：-\n",
      "5  今开：-  昨收：-\n",
      "6  涨停：-  跌停：-\n",
      "7  外盘：-  内盘：-\n",
      "            0           1           2\n",
      "0      加载中...      加载中...      加载中...\n",
      "1  点击查看更多分时成交  点击查看更多分时成交  点击查看更多分时成交\n",
      "           0          1          2\n",
      "0       暂无数据       暂无数据       暂无数据\n",
      "1  点击查看更多>>>  点击查看更多>>>  点击查看更多>>>\n",
      "           0          1          2\n",
      "0     加载中...     加载中...     加载中...\n",
      "1  点击查看更多>>>  点击查看更多>>>  点击查看更多>>>\n",
      "    0                       1\n",
      "0  银行  --  --  --  --  --  --\n",
      "Empty DataFrame\n",
      "Columns: [Unnamed: 0, 总市值, 净资产, 净利润, 市盈率(动), 市净率, 毛利率, 净利率, ROE]\n",
      "Index: []\n",
      "    0   1   2\n",
      "0  机构  评级  研报\n",
      "    0   1   2\n",
      "0  机构  评级  研报\n",
      "       0      1\n",
      "0     看涨    NaN\n",
      "1     看跌    NaN\n",
      "2     投票     投票\n",
      "3  统计时间:  统计时间:\n",
      "                                                  流入  \\\n",
      "0  超大单(-万元)  超大单(-万元)  大单(-万元)  大单(-万元)  中单(-万元) ...   \n",
      "\n",
      "                                                  流出  \n",
      "0  超大单(-万元)  超大单(-万元)  大单(-万元)  大单(-万元)  中单(-万元) ...  \n",
      "                                    0                                   1  \\\n",
      "0  主力净流入  超大单净流入  大单净流入  中单净流入  小单净流入  主力净流入  超大单净流入  大单净流入  中单净流入  小单净流入   \n",
      "1                            今日主力净流入：                                 -万元   \n",
      "2                           今日超大单净流入：                                 -万元   \n",
      "3                            今日小单净流入：                                 -万元   \n",
      "\n",
      "                                    2                                   3  \\\n",
      "0  主力净流入  超大单净流入  大单净流入  中单净流入  小单净流入  主力净流入  超大单净流入  大单净流入  中单净流入  小单净流入   \n",
      "1                               主力净比：                                   -   \n",
      "2                              超大单净比：                                   -   \n",
      "3                               小单净比：                                   -   \n",
      "\n",
      "                                    4                                   5  \\\n",
      "0  主力净流入  超大单净流入  大单净流入  中单净流入  小单净流入  主力净流入  超大单净流入  大单净流入  中单净流入  小单净流入   \n",
      "1                            今日中单净流入：                                 -万元   \n",
      "2                            今日大单净流入：                                 -万元   \n",
      "3                                 NaN                                 NaN   \n",
      "\n",
      "                                    6                                   7  \n",
      "0  主力净流入  超大单净流入  大单净流入  中单净流入  小单净流入  主力净流入  超大单净流入  大单净流入  中单净流入  小单净流入  \n",
      "1                               中单净比：                                   -  \n",
      "2                               大单净比：                                   -  \n",
      "3                                 NaN                                 NaN  \n",
      "                                    0                                   1  \\\n",
      "0  主力净流入  超大单净流入  大单净流入  中单净流入  小单净流入  主力净流入  超大单净流入  大单净流入  中单净流入  小单净流入   \n",
      "\n",
      "                                    2                                   3  \\\n",
      "0  主力净流入  超大单净流入  大单净流入  中单净流入  小单净流入  主力净流入  超大单净流入  大单净流入  中单净流入  小单净流入   \n",
      "\n",
      "                                    4                                   5  \\\n",
      "0  主力净流入  超大单净流入  大单净流入  中单净流入  小单净流入  主力净流入  超大单净流入  大单净流入  中单净流入  小单净流入   \n",
      "\n",
      "                                    6                                   7  \n",
      "0  主力净流入  超大单净流入  大单净流入  中单净流入  小单净流入  主力净流入  超大单净流入  大单净流入  中单净流入  小单净流入  \n"
     ]
    }
   ],
   "source": [
    "for i in data:\n",
    "    print(i)"
   ]
  },
  {
   "cell_type": "code",
   "execution_count": null,
   "metadata": {},
   "outputs": [],
   "source": []
  }
 ],
 "metadata": {
  "kernelspec": {
   "display_name": "Python 3",
   "language": "python",
   "name": "python3"
  },
  "language_info": {
   "codemirror_mode": {
    "name": "ipython",
    "version": 3
   },
   "file_extension": ".py",
   "mimetype": "text/x-python",
   "name": "python",
   "nbconvert_exporter": "python",
   "pygments_lexer": "ipython3",
   "version": "3.7.4"
  }
 },
 "nbformat": 4,
 "nbformat_minor": 4
}
