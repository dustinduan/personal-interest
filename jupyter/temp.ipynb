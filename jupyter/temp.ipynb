{
 "cells": [
  {
   "cell_type": "code",
   "execution_count": 3,
   "metadata": {},
   "outputs": [
    {
     "name": "stdout",
     "output_type": "stream",
     "text": [
      "data missing\n"
     ]
    }
   ],
   "source": [
    "lst=['1:条','1:条','1:条','1:条','1:条','1:条','1:条','1:条','1:条']\n",
    "def fcm(s):\n",
    "    if '条' in s:\n",
    "        return (s.split(':')[0])\n",
    "    else:\n",
    "        return('data missing')\n",
    "k=fcm(lst)\n",
    "print(k)"
   ]
  },
  {
   "cell_type": "code",
   "execution_count": 1,
   "metadata": {},
   "outputs": [
    {
     "name": "stdout",
     "output_type": "stream",
     "text": [
      "请输入需要查询的内容:大昭寺\n",
      "<!DOCTYPE html>\n",
      "\n",
      "<html lang=\"zh-CN\">\n",
      "<head>\n",
      "<meta charset=\"utf-8\"/>\n",
      "<title>百度安全验证</title>\n",
      "<meta content=\"text/html; charset=utf-8\" http-equiv=\"Content-Type\"/>\n",
      "<meta content=\"yes\" name=\"apple-mobile-web-app-capable\"/>\n",
      "<meta content=\"black\" name=\"apple-mobile-web-app-status-bar-style\"/>\n",
      "<meta content=\"width=device-width, user-scalable=no, initial-scale=1.0, minimum-scale=1.0, maximum-scale=1.0\" name=\"viewport\"/>\n",
      "<meta content=\"telephone=no, email=no\" name=\"format-detection\"/>\n",
      "<link href=\"https://www.baidu.com/favicon.ico\" rel=\"shortcut icon\" type=\"image/x-icon\"/>\n",
      "<link href=\"https://www.baidu.com/img/baidu.svg\" mask=\"\" rel=\"icon\" sizes=\"any\"/>\n",
      "<meta content=\"IE=Edge\" http-equiv=\"X-UA-Compatible\"/>\n",
      "<meta content=\"upgrade-insecure-requests\" http-equiv=\"Content-Security-Policy\"/>\n",
      "<link href=\"https://wappass.bdimg.com/static/touch/css/api/mkdjump_8befa48.css\" rel=\"stylesheet\">\n",
      "</link></head>\n",
      "<body>\n",
      "<div class=\"timeout hide\">\n",
      "<div class=\"timeout-img\"></div>\n",
      "<div class=\"timeout-title\">网络不给力，请稍后重试</div>\n",
      "<button class=\"timeout-button\" type=\"button\">返回首页</button>\n",
      "</div>\n",
      "<div class=\"timeout-feedback hide\">\n",
      "<div class=\"timeout-feedback-icon\"></div>\n",
      "<p class=\"timeout-feedback-title\">问题反馈</p>\n",
      "</div>\n",
      "<script src=\"https://wappass.baidu.com/static/machine/js/api/mkd.js\"></script>\n",
      "<script src=\"https://wappass.bdimg.com/static/touch/js/mkdjump_2e06726.js\"></script>\n",
      "</body>\n",
      "</html>\n"
     ]
    }
   ],
   "source": [
    "import requests as rq\n",
    "from bs4 import BeautifulSoup as bl\n",
    "import shutil\n",
    "import os\n",
    "import time\n",
    "import random\n",
    "\n",
    "meizi_headers = [\"Mozilla/5.0 (Windows NT 6.3; WOW64) AppleWebKit/537.36 (KHTML, like Gecko) Chrome/39.0.2171.95 Safari/537.36\",\n",
    "    \"Mozilla/5.0 (Macintosh; Intel Mac OS X 10_9_2) AppleWebKit/537.36 (KHTML, like Gecko) Chrome/35.0.1916.153 Safari/537.36\",\n",
    "    \"Mozilla/5.0 (Windows NT 6.1; WOW64; rv:30.0) Gecko/20100101 Firefox/30.0\",\n",
    "    \"Mozilla/5.0 (Macintosh; Intel Mac OS X 10_9_2) AppleWebKit/537.75.14 (KHTML, like Gecko) Version/7.0.3 Safari/537.75.14\",\n",
    "    \"Mozilla/5.0 (compatible; MSIE 10.0; Windows NT 6.2; Win64; x64; Trident/6.0)\",\n",
    "    'Mozilla/5.0 (Windows; U; Windows NT 5.1; it; rv:1.8.1.11) Gecko/20071127 Firefox/2.0.0.11',\n",
    "    'Opera/9.25 (Windows NT 5.1; U; en)',\n",
    "    'Mozilla/4.0 (compatible; MSIE 6.0; Windows NT 5.1; SV1; .NET CLR 1.1.4322; .NET CLR 2.0.50727)',\n",
    "    'Mozilla/5.0 (compatible; Konqueror/3.5; Linux) KHTML/3.5.5 (like Gecko) (Kubuntu)',\n",
    "    'Mozilla/5.0 (X11; U; Linux i686; en-US; rv:1.8.0.12) Gecko/20070731 Ubuntu/dapper-security Firefox/1.5.0.12',\n",
    "    'Lynx/2.8.5rel.1 libwww-FM/2.14 SSL-MM/1.4.1 GNUTLS/1.2.9',\n",
    "    \"Mozilla/5.0 (X11; Linux i686) AppleWebKit/535.7 (KHTML, like Gecko) Ubuntu/11.04 Chromium/16.0.912.77 Chrome/16.0.912.77 Safari/535.7\",\n",
    "    \"Mozilla/5.0 (X11; Ubuntu; Linux i686; rv:10.0) Gecko/20100101 Firefox/10.0\",\n",
    "    'Mozilla/5.0 (Windows NT 10.0; Win64; x64) AppleWebKit/537.36 (KHTML, like Gecko) Chrome/54.0.2840.99 Safari/537.36']\n",
    "\n",
    "global headers\n",
    "headers = {'User-Agent': random.choice(meizi_headers)}\n",
    "\n",
    "url='https://www.baidu.com/s?wd='+input('请输入需要查询的内容:')+'&rsv_spt=1&rsv_iqid=0xe2fefb27000acd89&issp=1&f=8&rsv_bp=1&rsv_idx=2&ie=utf-8&tn=baiduhome_pg&rsv_enter=0&rsv_dl=tb&rsv_sug3=14&rsv_sug1=12&rsv_sug7=100&prefixsug=%25E5%25A4%25A7%25E5%2585%25A5%25E9%2581%2593&rsp=0&inputT=10048&rsv_sug4=10979'\n",
    "\n",
    "r=rq.get(url,headers=headers)\n",
    "html=r.content\n",
    "soup=bl(html,'html.parser')\n",
    "print(soup)"
   ]
  },
  {
   "cell_type": "code",
   "execution_count": 1,
   "metadata": {},
   "outputs": [
    {
     "name": "stdout",
     "output_type": "stream",
     "text": [
      "'hello, world!' \n",
      "\\hello, world!\\\n"
     ]
    }
   ],
   "source": [
    "s1 = '\\'hello, world!\\''\n",
    "s2 = '\\n\\\\hello, world!\\\\\\n'\n",
    "print(s1, s2, end='')"
   ]
  },
  {
   "cell_type": "code",
   "execution_count": 2,
   "metadata": {},
   "outputs": [
    {
     "name": "stdout",
     "output_type": "stream",
     "text": [
      "abcabc 骆昊\n"
     ]
    }
   ],
   "source": [
    "s1 = '\\141\\142\\143\\x61\\x62\\x63'\n",
    "s2 = '\\u9a86\\u660a'\n",
    "print(s1, s2)"
   ]
  },
  {
   "cell_type": "code",
   "execution_count": 3,
   "metadata": {},
   "outputs": [
    {
     "name": "stdout",
     "output_type": "stream",
     "text": [
      "5 * 10 = 50\n"
     ]
    }
   ],
   "source": [
    "a, b = 5, 10\n",
    "print('{0} * {1} = {2}'.format(a, b, a * b))"
   ]
  },
  {
   "cell_type": "code",
   "execution_count": 4,
   "metadata": {},
   "outputs": [
    {
     "name": "stdout",
     "output_type": "stream",
     "text": [
      "5 * 10 = 50\n"
     ]
    }
   ],
   "source": [
    "a, b = 5, 10\n",
    "print(f'{a} * {b} = {a * b}')"
   ]
  },
  {
   "cell_type": "code",
   "execution_count": 2,
   "metadata": {},
   "outputs": [
    {
     "name": "stdout",
     "output_type": "stream",
     "text": [
      "{'a': '1', 'b': '2', 'c': '3'}\n"
     ]
    }
   ],
   "source": [
    "items2 = dict(zip(['a', 'b', 'c'], '123'))\n",
    "print(items2)"
   ]
  },
  {
   "cell_type": "code",
   "execution_count": 3,
   "metadata": {},
   "outputs": [
    {
     "name": "stdout",
     "output_type": "stream",
     "text": [
      "{1: 1, 2: 4, 3: 9, 4: 16, 5: 25, 6: 36, 7: 49, 8: 64, 9: 81}\n"
     ]
    }
   ],
   "source": [
    "items3 = {num: num ** 2 for num in range(1, 10)}\n",
    "print(items3)"
   ]
  },
  {
   "cell_type": "code",
   "execution_count": null,
   "metadata": {},
   "outputs": [
    {
     "name": "stdout",
     "output_type": "stream",
     "text": [
      "北京欢迎你为你开天辟地…………\n",
      "京欢迎你为你开天辟地…………北\n",
      "欢迎你为你开天辟地…………北京\n",
      "迎你为你开天辟地…………北京欢\n",
      "你为你开天辟地…………北京欢迎\n",
      "为你开天辟地…………北京欢迎你\n",
      "你开天辟地…………北京欢迎你为\n",
      "开天辟地…………北京欢迎你为你\n",
      "天辟地…………北京欢迎你为你开\n",
      "辟地…………北京欢迎你为你开天\n",
      "地…………北京欢迎你为你开天辟\n",
      "…………北京欢迎你为你开天辟地\n",
      "………北京欢迎你为你开天辟地…\n",
      "……北京欢迎你为你开天辟地……\n",
      "…北京欢迎你为你开天辟地………\n",
      "北京欢迎你为你开天辟地…………\n",
      "京欢迎你为你开天辟地…………北\n",
      "欢迎你为你开天辟地…………北京\n",
      "迎你为你开天辟地…………北京欢\n",
      "你为你开天辟地…………北京欢迎\n",
      "为你开天辟地…………北京欢迎你\n",
      "你开天辟地…………北京欢迎你为\n",
      "开天辟地…………北京欢迎你为你\n",
      "天辟地…………北京欢迎你为你开\n",
      "辟地…………北京欢迎你为你开天\n",
      "地…………北京欢迎你为你开天辟\n",
      "…………北京欢迎你为你开天辟地\n",
      "………北京欢迎你为你开天辟地…\n",
      "……北京欢迎你为你开天辟地……\n",
      "…北京欢迎你为你开天辟地………\n",
      "北京欢迎你为你开天辟地…………\n",
      "京欢迎你为你开天辟地…………北\n",
      "欢迎你为你开天辟地…………北京\n",
      "迎你为你开天辟地…………北京欢\n",
      "你为你开天辟地…………北京欢迎\n",
      "为你开天辟地…………北京欢迎你\n",
      "你开天辟地…………北京欢迎你为\n",
      "开天辟地…………北京欢迎你为你\n",
      "天辟地…………北京欢迎你为你开\n",
      "辟地…………北京欢迎你为你开天\n",
      "地…………北京欢迎你为你开天辟\n",
      "…………北京欢迎你为你开天辟地\n",
      "………北京欢迎你为你开天辟地…\n",
      "……北京欢迎你为你开天辟地……\n",
      "…北京欢迎你为你开天辟地………\n",
      "北京欢迎你为你开天辟地…………\n",
      "京欢迎你为你开天辟地…………北\n",
      "欢迎你为你开天辟地…………北京\n",
      "迎你为你开天辟地…………北京欢\n",
      "你为你开天辟地…………北京欢迎\n",
      "为你开天辟地…………北京欢迎你\n",
      "你开天辟地…………北京欢迎你为\n",
      "开天辟地…………北京欢迎你为你\n",
      "天辟地…………北京欢迎你为你开\n",
      "辟地…………北京欢迎你为你开天\n",
      "地…………北京欢迎你为你开天辟\n",
      "…………北京欢迎你为你开天辟地\n",
      "………北京欢迎你为你开天辟地…\n",
      "……北京欢迎你为你开天辟地……\n",
      "…北京欢迎你为你开天辟地………\n",
      "北京欢迎你为你开天辟地…………\n",
      "京欢迎你为你开天辟地…………北\n",
      "欢迎你为你开天辟地…………北京\n",
      "迎你为你开天辟地…………北京欢\n",
      "你为你开天辟地…………北京欢迎\n",
      "为你开天辟地…………北京欢迎你\n",
      "你开天辟地…………北京欢迎你为\n",
      "开天辟地…………北京欢迎你为你\n",
      "天辟地…………北京欢迎你为你开\n",
      "辟地…………北京欢迎你为你开天\n",
      "地…………北京欢迎你为你开天辟\n",
      "…………北京欢迎你为你开天辟地\n",
      "………北京欢迎你为你开天辟地…\n",
      "……北京欢迎你为你开天辟地……\n",
      "…北京欢迎你为你开天辟地………\n",
      "北京欢迎你为你开天辟地…………\n",
      "京欢迎你为你开天辟地…………北\n",
      "欢迎你为你开天辟地…………北京\n",
      "迎你为你开天辟地…………北京欢\n",
      "你为你开天辟地…………北京欢迎\n",
      "为你开天辟地…………北京欢迎你\n",
      "你开天辟地…………北京欢迎你为\n"
     ]
    }
   ],
   "source": [
    "import os,time\n",
    "content = '北京欢迎你为你开天辟地…………'\n",
    "while True:\n",
    "    # 清理屏幕上的输出\n",
    "    os.system('cls')  # os.system('clear')\n",
    "    print(content)\n",
    "    # 休眠200毫秒\n",
    "    time.sleep(0.2)\n",
    "    content = content[1:] + content[0]"
   ]
  },
  {
   "cell_type": "code",
   "execution_count": null,
   "metadata": {},
   "outputs": [],
   "source": []
  }
 ],
 "metadata": {
  "kernelspec": {
   "display_name": "Python 3",
   "language": "python",
   "name": "python3"
  },
  "language_info": {
   "codemirror_mode": {
    "name": "ipython",
    "version": 3
   },
   "file_extension": ".py",
   "mimetype": "text/x-python",
   "name": "python",
   "nbconvert_exporter": "python",
   "pygments_lexer": "ipython3",
   "version": "3.7.6"
  }
 },
 "nbformat": 4,
 "nbformat_minor": 2
}
