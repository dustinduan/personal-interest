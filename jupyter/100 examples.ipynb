{
 "cells": [
  {
   "cell_type": "code",
   "execution_count": 5,
   "metadata": {},
   "outputs": [
    {
     "name": "stdout",
     "output_type": "stream",
     "text": [
      "123\n",
      "124\n",
      "132\n",
      "134\n",
      "142\n",
      "143\n",
      "213\n",
      "214\n",
      "231\n",
      "234\n",
      "241\n",
      "243\n",
      "312\n",
      "314\n",
      "321\n",
      "324\n",
      "341\n",
      "342\n",
      "412\n",
      "413\n",
      "421\n",
      "423\n",
      "431\n",
      "432\n"
     ]
    }
   ],
   "source": [
    "#不同的3位数\n",
    "for i in range(1,5):\n",
    "    for j in range(1,5):\n",
    "        for k in range(1,5):\n",
    "            if (i!=j) and (j!=k) and (i!=k):\n",
    "                print(i*100+j*10+k)"
   ]
  },
  {
   "cell_type": "code",
   "execution_count": 7,
   "metadata": {},
   "outputs": [
    {
     "name": "stdout",
     "output_type": "stream",
     "text": [
      "请输入需要排序的数字:34\n",
      "请输入需要排序的数字:13\n",
      "请输入需要排序的数字:45\n",
      "[13, 34, 45]\n"
     ]
    }
   ],
   "source": [
    "#排列数据\n",
    "l=[]\n",
    "for i in range(3):\n",
    "    l.append(int(input('请输入需要排序的数字:')))\n",
    "l.sort()\n",
    "print(l)"
   ]
  },
  {
   "cell_type": "code",
   "execution_count": 16,
   "metadata": {},
   "outputs": [
    {
     "name": "stdout",
     "output_type": "stream",
     "text": [
      "\n",
      "\n",
      "1*1=1   \n",
      "\n",
      "2*1=2   2*2=4   \n",
      "\n",
      "3*1=3   3*2=6   3*3=9   \n",
      "\n",
      "4*1=4   4*2=8   4*3=12   4*4=16   \n",
      "\n",
      "5*1=5   5*2=10   5*3=15   5*4=20   5*5=25   \n",
      "\n",
      "6*1=6   6*2=12   6*3=18   6*4=24   6*5=30   6*6=36   \n",
      "\n",
      "7*1=7   7*2=14   7*3=21   7*4=28   7*5=35   7*6=42   7*7=49   \n",
      "\n",
      "8*1=8   8*2=16   8*3=24   8*4=32   8*5=40   8*6=48   8*7=56   8*8=64   \n",
      "\n",
      "9*1=9   9*2=18   9*3=27   9*4=36   9*5=45   9*6=54   9*7=63   9*8=72   9*9=81   "
     ]
    }
   ],
   "source": [
    "for i in range(1,10):\n",
    "    print('\\n')\n",
    "    for j in range(1,i+1):\n",
    "        print(\"%d*%d=%d\"%(i,j,i*j),end=\"   \")"
   ]
  },
  {
   "cell_type": "code",
   "execution_count": null,
   "metadata": {},
   "outputs": [],
   "source": []
  }
 ],
 "metadata": {
  "kernelspec": {
   "display_name": "Python 3",
   "language": "python",
   "name": "python3"
  },
  "language_info": {
   "codemirror_mode": {
    "name": "ipython",
    "version": 3
   },
   "file_extension": ".py",
   "mimetype": "text/x-python",
   "name": "python",
   "nbconvert_exporter": "python",
   "pygments_lexer": "ipython3",
   "version": "3.7.6"
  }
 },
 "nbformat": 4,
 "nbformat_minor": 2
}
