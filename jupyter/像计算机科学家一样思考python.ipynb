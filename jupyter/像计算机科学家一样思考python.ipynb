{
 "cells": [
  {
   "cell_type": "code",
   "execution_count": 1,
   "metadata": {},
   "outputs": [
    {
     "data": {
      "text/plain": [
       "str"
      ]
     },
     "execution_count": 1,
     "metadata": {},
     "output_type": "execute_result"
    }
   ],
   "source": [
    "type('hello wprld')"
   ]
  },
  {
   "cell_type": "code",
   "execution_count": 6,
   "metadata": {},
   "outputs": [
    {
     "data": {
      "text/plain": [
       "'codecodecode'"
      ]
     },
     "execution_count": 6,
     "metadata": {},
     "output_type": "execute_result"
    }
   ],
   "source": [
    "zipcode='code'\n",
    "zipcode*3"
   ]
  },
  {
   "cell_type": "code",
   "execution_count": null,
   "metadata": {},
   "outputs": [],
   "source": [
    "#在定义函数的时候，可以尝试用返回值来帮助调试程式\n",
    "#尝试使用增量开发的形式逐步调试程式\n",
    "#通过函数返回布尔值得形式来隐藏函数内部复杂的检测\n",
    "#在函数开始的地方，可以输出实参的值来进行调试\n",
    "#在return之前输出返回值，可以确认返回值是否正确\n",
    "#"
   ]
  },
  {
   "cell_type": "code",
   "execution_count": 2,
   "metadata": {},
   "outputs": [
    {
     "name": "stdout",
     "output_type": "stream",
     "text": [
      "False\n"
     ]
    }
   ],
   "source": [
    "print(isinstance(3.5,int))"
   ]
  },
  {
   "cell_type": "code",
   "execution_count": 1,
   "metadata": {},
   "outputs": [
    {
     "name": "stdout",
     "output_type": "stream",
     "text": [
      "hello\n"
     ]
    },
    {
     "ename": "TypeError",
     "evalue": "'str' object does not support item assignment",
     "output_type": "error",
     "traceback": [
      "\u001b[1;31m---------------------------------------------------------------------------\u001b[0m",
      "\u001b[1;31mTypeError\u001b[0m                                 Traceback (most recent call last)",
      "\u001b[1;32m<ipython-input-1-eee3bf7c606c>\u001b[0m in \u001b[0;36m<module>\u001b[1;34m\u001b[0m\n\u001b[0;32m      1\u001b[0m \u001b[0mls\u001b[0m\u001b[1;33m=\u001b[0m\u001b[1;34m'hello'\u001b[0m\u001b[1;33m\u001b[0m\u001b[0m\n\u001b[0;32m      2\u001b[0m \u001b[0mprint\u001b[0m\u001b[1;33m(\u001b[0m\u001b[0mls\u001b[0m\u001b[1;33m)\u001b[0m\u001b[1;33m\u001b[0m\u001b[0m\n\u001b[1;32m----> 3\u001b[1;33m \u001b[0mls\u001b[0m\u001b[1;33m[\u001b[0m\u001b[1;36m0\u001b[0m\u001b[1;33m]\u001b[0m\u001b[1;33m=\u001b[0m\u001b[1;34m'j'\u001b[0m\u001b[1;33m\u001b[0m\u001b[0m\n\u001b[0m\u001b[0;32m      4\u001b[0m \u001b[0mprint\u001b[0m\u001b[1;33m(\u001b[0m\u001b[0mls\u001b[0m\u001b[1;33m)\u001b[0m\u001b[1;33m\u001b[0m\u001b[0m\n",
      "\u001b[1;31mTypeError\u001b[0m: 'str' object does not support item assignment"
     ]
    }
   ],
   "source": [
    "ls='hello'\n",
    "print(ls)\n",
    "ls[0]='j'\n",
    "print(ls)"
   ]
  },
  {
   "cell_type": "code",
   "execution_count": 10,
   "metadata": {},
   "outputs": [
    {
     "name": "stdout",
     "output_type": "stream",
     "text": [
      "6\n"
     ]
    }
   ],
   "source": [
    "def lfind(word,letter):\n",
    "    index=1\n",
    "    for index in range(len(word)):\n",
    "        if word[index]==letter:\n",
    "            return (index)\n",
    "        index=index+1\n",
    "    return (-1)\n",
    "print(lfind('hello jack','j'))"
   ]
  },
  {
   "cell_type": "code",
   "execution_count": 9,
   "metadata": {},
   "outputs": [
    {
     "name": "stdout",
     "output_type": "stream",
     "text": [
      "dustinduan2010@163.com\n",
      "moc.361@0102naudnitsud\n"
     ]
    }
   ],
   "source": [
    "def str_rever(word):\n",
    "    index=1\n",
    "    lis=''\n",
    "    while index<=len(word):\n",
    "        lis=lis+word[0-index]\n",
    "        index=index+1\n",
    "    return(lis)\n",
    "kk=\"dustinduan2010@163.com\"\n",
    "print(kk)\n",
    "print(str_rever(kk))"
   ]
  },
  {
   "cell_type": "code",
   "execution_count": 22,
   "metadata": {},
   "outputs": [
    {
     "name": "stdout",
     "output_type": "stream",
     "text": [
      "5\n"
     ]
    }
   ],
   "source": [
    "word='aaaaa bbbbb ccccc ddddd eeeee fgfgfgfhfghf asdasfsafgsdgsdgsdsdf'\n",
    "def char_count(letter,word):\n",
    "    count=0\n",
    "    for char in word:\n",
    "        if char==letter:\n",
    "            count=count+1\n",
    "    return(count)\n",
    "def word_cut(letter,lis):\n",
    "    count=0\n",
    "    ore=lis.split(' ')\n",
    "    for i in ore:\n",
    "        count=count+char_count(letter,i)\n",
    "    return(count)\n",
    "print(word_cut('e',word))"
   ]
  },
  {
   "cell_type": "code",
   "execution_count": 4,
   "metadata": {},
   "outputs": [
    {
     "name": "stdout",
     "output_type": "stream",
     "text": [
      "['a', 'b', 'c', 'd', 'e', 'f', 'g', 'h', 'i', 'j', 'k']\n",
      "acanyoubelieve\n",
      "bcanyoubelieve\n",
      "ccanyoubelieve\n",
      "dcanyoubelieve\n",
      "ecanyoubelieve\n",
      "fcanyoubelieve\n",
      "gcanyoubelieve\n",
      "hcanyoubelieve\n",
      "icanyoubelieve\n",
      "jcanyoubelieve\n",
      "k\n"
     ]
    }
   ],
   "source": [
    "t='abcdefghijk'\n",
    "lis=list(t)\n",
    "print(lis)\n",
    "diame='canyoubelieve\\n'\n",
    "print(diame.join(lis))"
   ]
  },
  {
   "cell_type": "code",
   "execution_count": null,
   "metadata": {},
   "outputs": [],
   "source": [
    "d=dict()\n",
    "def histogram(s):#直方图函数\n",
    "        for c in s:\n",
    "            if c in d:\n",
    "                d[c]+=1\n",
    "            else:\n",
    "                d[c]=1\n",
    "        \n",
    "s='sdfkjsdfhskljdfhasldfhsjlfhklsjfhksdjfhskdjlfhwioehflfnsdukfhsdklfhsdkljf'\n",
    "print(histogram(s))"
   ]
  },
  {
   "cell_type": "code",
   "execution_count": null,
   "metadata": {},
   "outputs": [],
   "source": [
    "#编写一个函数sumall,接收任意格式的参数来进行贾总并且返回贾总的值\n",
    "def sumall(tul):\n",
    "    sum=0\n",
    "    for i in tul:\n",
    "        sum+=i\n",
    "    return(sum)\n",
    "ltr=(1,2,3,4,5,6,7,8,9,10)\n",
    "print(sumall(ltr))"
   ]
  },
  {
   "cell_type": "code",
   "execution_count": 9,
   "metadata": {},
   "outputs": [
    {
     "ename": "AttributeError",
     "evalue": "'zip' object has no attribute 'item'",
     "output_type": "error",
     "traceback": [
      "\u001b[1;31m---------------------------------------------------------------------------\u001b[0m",
      "\u001b[1;31mAttributeError\u001b[0m                            Traceback (most recent call last)",
      "\u001b[1;32m<ipython-input-9-2d19280128b6>\u001b[0m in \u001b[0;36m<module>\u001b[1;34m\u001b[0m\n\u001b[0;32m      3\u001b[0m \u001b[0mr\u001b[0m\u001b[1;33m=\u001b[0m\u001b[1;33m(\u001b[0m\u001b[1;34m'w'\u001b[0m\u001b[1;33m,\u001b[0m\u001b[1;34m't'\u001b[0m\u001b[1;33m,\u001b[0m\u001b[1;34m'o'\u001b[0m\u001b[1;33m)\u001b[0m\u001b[1;33m\u001b[0m\u001b[0m\n\u001b[0;32m      4\u001b[0m \u001b[0mz\u001b[0m\u001b[1;33m=\u001b[0m\u001b[0mzip\u001b[0m\u001b[1;33m(\u001b[0m\u001b[0ms\u001b[0m\u001b[1;33m,\u001b[0m\u001b[0mt\u001b[0m\u001b[1;33m)\u001b[0m\u001b[1;33m\u001b[0m\u001b[0m\n\u001b[1;32m----> 5\u001b[1;33m \u001b[0mz\u001b[0m\u001b[1;33m.\u001b[0m\u001b[0mitem\u001b[0m\u001b[1;33m(\u001b[0m\u001b[1;33m)\u001b[0m\u001b[1;33m\u001b[0m\u001b[0m\n\u001b[0m",
      "\u001b[1;31mAttributeError\u001b[0m: 'zip' object has no attribute 'item'"
     ]
    }
   ],
   "source": [
    "s=('a','b','c')\n",
    "t=[0,1,2]\n",
    "r=('w','t','o')\n",
    "z=zip(s,t)\n",
    "z.item()"
   ]
  },
  {
   "cell_type": "code",
   "execution_count": 1,
   "metadata": {},
   "outputs": [
    {
     "name": "stdout",
     "output_type": "stream",
     "text": [
      "!\"#$%&'()*+,-./:;<=>?@[\\]^_`{|}~\n"
     ]
    }
   ],
   "source": [
    "#在文件丹姐解析的时候需要删除下面的白字符\n",
    "import string\n",
    "print (string.punctuation)"
   ]
  },
  {
   "cell_type": "code",
   "execution_count": null,
   "metadata": {},
   "outputs": [],
   "source": [
    "white_char='!\"#$%&'()*+,-./:;<=>?@[\\]^_`{|}~'\n",
    "word=dict()\n",
    "def charana(s):#直方图函数\n",
    "        for c in s:\n",
    "            if c in d:\n",
    "                word[c]+=1\n",
    "            else:\n",
    "                word[c]=1\n",
    "\n",
    "with open('pg60713.txt','r') as sou:\n",
    "    for eachline in sou:\n",
    "        stre=eachline.split(' ')\n",
    "        charana(stre)\n",
    "print(word)"
   ]
  },
  {
   "cell_type": "code",
   "execution_count": null,
   "metadata": {},
   "outputs": [],
   "source": []
  }
 ],
 "metadata": {
  "kernelspec": {
   "display_name": "Python 3",
   "language": "python",
   "name": "python3"
  },
  "language_info": {
   "codemirror_mode": {
    "name": "ipython",
    "version": 3
   },
   "file_extension": ".py",
   "mimetype": "text/x-python",
   "name": "python",
   "nbconvert_exporter": "python",
   "pygments_lexer": "ipython3",
   "version": "3.7.0"
  }
 },
 "nbformat": 4,
 "nbformat_minor": 2
}
