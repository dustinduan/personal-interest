{
 "cells": [
  {
   "cell_type": "code",
   "execution_count": 9,
   "metadata": {},
   "outputs": [],
   "source": [
    "url='http://www.100ppi.com/mprice/mlist-1.html'"
   ]
  },
  {
   "cell_type": "code",
   "execution_count": 11,
   "metadata": {},
   "outputs": [
    {
     "name": "stdout",
     "output_type": "stream",
     "text": [
      "      品种名称                                                 品牌  \\\n",
      "0       槽钢      \\t唐钢\\n\\r\\n\\t\\t\\t\\t\\t    \\t\\t材质:Q235B ;形状:冷...   \n",
      "1       槽钢      \\t唐钢\\n\\r\\n\\t\\t\\t\\t\\t    \\t\\t材质:Q235B ;形状:冷...   \n",
      "2       槽钢      \\t唐钢\\n\\r\\n\\t\\t\\t\\t\\t    \\t\\t材质:Q235B ;形状:冷...   \n",
      "3       槽钢      \\t唐钢\\n\\r\\n\\t\\t\\t\\t\\t    \\t\\t材质:Q235B ;形状:冷...   \n",
      "4       槽钢      \\t唐钢\\n\\r\\n\\t\\t\\t\\t\\t    \\t\\t材质:Q235B ;形状:冷...   \n",
      "5       槽钢      \\t津西\\n\\r\\n\\t\\t\\t\\t\\t    \\t\\t材质:Q235B ;形状:冷...   \n",
      "6      镀锌板      \\t本钢\\n\\r\\n\\t\\t\\t\\t\\t    \\t\\t品种:热镀锌板;牌号:DX5...   \n",
      "7      镀锌板      \\t武钢\\n\\r\\n\\t\\t\\t\\t\\t    \\t\\t品种:热镀锌板;牌号:DX5...   \n",
      "8       槽钢      \\t鞍山宝得\\n\\r\\n\\t\\t\\t\\t\\t    \\t\\t材质:Q235B ;形状...   \n",
      "9      镀锌板      \\t武钢\\n\\r\\n\\t\\t\\t\\t\\t    \\t\\t品种:热镀锌板;牌号:DX5...   \n",
      "10     镀锌板      \\t邯钢\\n\\r\\n\\t\\t\\t\\t\\t    \\t\\t品种:热镀锌板;牌号:DX5...   \n",
      "11     镀锌板      \\t邯钢\\n\\r\\n\\t\\t\\t\\t\\t    \\t\\t品种:热镀锌板;牌号:DX5...   \n",
      "12     镀锌板      \\t攀华\\n\\r\\n\\t\\t\\t\\t\\t    \\t\\t品种:热镀锌板;牌号:DX5...   \n",
      "13     镀锌板      \\t邯钢\\n\\r\\n\\t\\t\\t\\t\\t    \\t\\t品种:热镀锌板;牌号:DX5...   \n",
      "14     镀锌板      \\t武钢\\n\\r\\n\\t\\t\\t\\t\\t    \\t\\t品种:热镀锌板;牌号:DX5...   \n",
      "15      槽钢      \\t马钢\\n\\r\\n\\t\\t\\t\\t\\t    \\t\\t材质:Q235B ;形状:冷...   \n",
      "16      槽钢      \\t马钢\\n\\r\\n\\t\\t\\t\\t\\t    \\t\\t材质:Q235B ;形状:冷...   \n",
      "17      角钢      \\t唐钢\\n\\r\\n\\t\\t\\t\\t\\t    \\t\\t规格: 5#;材质:Q235...   \n",
      "18  铁矿石(印)      \\t青岛港\\n\\r\\n\\t\\t\\t\\t\\t    \\t\\t品种:粉矿;产地:印度;品...   \n",
      "19  铁矿石(印)      \\t日照港\\n\\r\\n\\t\\t\\t\\t\\t    \\t\\t品种:粉矿;产地:印度;品...   \n",
      "20  铁矿石(印)      \\t京唐港\\n\\r\\n\\t\\t\\t\\t\\t    \\t\\t品种:粉矿;产地:印度;品...   \n",
      "21  铁矿石(印)      \\t天津港\\n\\r\\n\\t\\t\\t\\t\\t    \\t\\t品种:粉矿;产地:印度;品...   \n",
      "22  铁矿石(印)      \\t曹妃甸港\\n\\r\\n\\t\\t\\t\\t\\t    \\t\\t品种:粉矿;产地:印度;...   \n",
      "23  铁矿石(印)      \\t江阴港\\n\\r\\n\\t\\t\\t\\t\\t    \\t\\t品种:粉矿;产地:印度;品...   \n",
      "24  铁矿石(巴)      \\t日照港\\n\\r\\n\\t\\t\\t\\t\\t    \\t\\t品种:粗粉;产地:巴西;品...   \n",
      "25  铁矿石(巴)      \\t青岛港\\n\\r\\n\\t\\t\\t\\t\\t    \\t\\t品种:粗粉;产地:巴西;品...   \n",
      "26  铁矿石(巴)      \\t京唐港\\n\\r\\n\\t\\t\\t\\t\\t    \\t\\t品种:粗粉;产地:巴西;品...   \n",
      "27  铁矿石(巴)      \\t防城港\\n\\r\\n\\t\\t\\t\\t\\t    \\t\\t品种:粗粉;产地:巴西;品...   \n",
      "28  铁矿石(巴)      \\t北仑港\\n\\r\\n\\t\\t\\t\\t\\t    \\t\\t品种:粗粉;产地:巴西;品...   \n",
      "29  铁矿石(巴)      \\t天津港\\n\\r\\n\\t\\t\\t\\t\\t    \\t\\t品种:粗粉;产地:巴西;品...   \n",
      "\n",
      "                                         规格  \\\n",
      "0            材质:Q235B ;形状:冷弯等边槽钢 ;规格: 20#A;   \n",
      "1            材质:Q235B ;形状:冷弯等边槽钢 ;规格: 20#A;   \n",
      "2            材质:Q235B ;形状:冷弯等边槽钢 ;规格: 20#A;   \n",
      "3            材质:Q235B ;形状:冷弯等边槽钢 ;规格: 20#A;   \n",
      "4            材质:Q235B ;形状:冷弯等边槽钢 ;规格: 20#A;   \n",
      "5            材质:Q235B ;形状:冷弯等边槽钢 ;规格: 20#A;   \n",
      "6   品种:热镀锌板;牌号:DX51D+Z;规格:1.0*1250*C;锌层:Z80   \n",
      "7   品种:热镀锌板;牌号:DX51D+Z;规格:1.0*1250*C;锌层:Z80   \n",
      "8            材质:Q235B ;形状:冷弯等边槽钢 ;规格: 20#A;   \n",
      "9   品种:热镀锌板;牌号:DX51D+Z;规格:1.0*1250*C;锌层:Z80   \n",
      "10  品种:热镀锌板;牌号:DX51D+Z;规格:1.0*1250*C;锌层:Z80   \n",
      "11  品种:热镀锌板;牌号:DX51D+Z;规格:1.0*1250*C;锌层:Z80   \n",
      "12  品种:热镀锌板;牌号:DX51D+Z;规格:1.0*1250*C;锌层:Z80   \n",
      "13  品种:热镀锌板;牌号:DX51D+Z;规格:1.0*1250*C;锌层:Z80   \n",
      "14  品种:热镀锌板;牌号:DX51D+Z;规格:1.0*1250*C;锌层:Z80   \n",
      "15           材质:Q235B ;形状:冷弯等边槽钢 ;规格: 20#A;   \n",
      "16           材质:Q235B ;形状:冷弯等边槽钢 ;规格: 20#A;   \n",
      "17               规格: 5#;材质:Q235B ;品种:等边角钢 ;   \n",
      "18                   品种:粉矿;产地:印度;品位:62%;湿吨;   \n",
      "19                   品种:粉矿;产地:印度;品位:62%;湿吨;   \n",
      "20                   品种:粉矿;产地:印度;品位:62%;湿吨;   \n",
      "21                   品种:粉矿;产地:印度;品位:62%;湿吨;   \n",
      "22                   品种:粉矿;产地:印度;品位:62%;湿吨;   \n",
      "23                   品种:粉矿;产地:印度;品位:62%;湿吨;   \n",
      "24                 品种:粗粉;产地:巴西;品位:63.5%;湿吨;   \n",
      "25                 品种:粗粉;产地:巴西;品位:63.5%;湿吨;   \n",
      "26                 品种:粗粉;产地:巴西;品位:63.5%;湿吨;   \n",
      "27                 品种:粗粉;产地:巴西;品位:63.5%;湿吨;   \n",
      "28                 品种:粗粉;产地:巴西;品位:63.5%;湿吨;   \n",
      "29                 品种:粗粉;产地:巴西;品位:63.5%;湿吨;   \n",
      "\n",
      "                                                   报价           报价提供方  \\\n",
      "0       \\t市场价\\r\\n\\t\\t\\t\\t\\t    \\t3790元/吨\\r\\n\\t\\t\\t...    无锡乐源金属材料有限公司   \n",
      "1       \\t市场价\\r\\n\\t\\t\\t\\t\\t    \\t3460元/吨\\r\\n\\t\\t\\t...  唐山市丰润区合鑫贸易有限公司   \n",
      "2       \\t市场价\\r\\n\\t\\t\\t\\t\\t    \\t3690元/吨\\r\\n\\t\\t\\t...      上海卓厚实业有限公司   \n",
      "3       \\t市场价\\r\\n\\t\\t\\t\\t\\t    \\t3760元/吨\\r\\n\\t\\t\\t...      上海锦旺钢铁有限公司   \n",
      "4       \\t市场价\\r\\n\\t\\t\\t\\t\\t    \\t3400元/吨\\r\\n\\t\\t\\t...      上海长轶实业有限公司   \n",
      "5       \\t市场价\\r\\n\\t\\t\\t\\t\\t    \\t3500元/吨\\r\\n\\t\\t\\t...    邯郸市和共元贸易有限公司   \n",
      "6       \\t市场价\\r\\n\\t\\t\\t\\t\\t    \\t4350元/吨\\r\\n\\t\\t\\t...  上海济闽（渊德）实业有限公司   \n",
      "7       \\t市场价\\r\\n\\t\\t\\t\\t\\t    \\t4520元/吨\\r\\n\\t\\t\\t...      上海苏竞实业有限公司   \n",
      "8       \\t市场价\\r\\n\\t\\t\\t\\t\\t    \\t3390元/吨\\r\\n\\t\\t\\t...      鞍山宝得钢铁有限公司   \n",
      "9       \\t市场价\\r\\n\\t\\t\\t\\t\\t    \\t4520元/吨\\r\\n\\t\\t\\t...      上海皖众实业有限公司   \n",
      "10      \\t市场价\\r\\n\\t\\t\\t\\t\\t    \\t4330元/吨\\r\\n\\t\\t\\t...      上海意翔贸易有限公司   \n",
      "11      \\t市场价\\r\\n\\t\\t\\t\\t\\t    \\t4300元/吨\\r\\n\\t\\t\\t...   上海宝源钢国际贸易有限公司   \n",
      "12      \\t市场价\\r\\n\\t\\t\\t\\t\\t    \\t4200元/吨\\r\\n\\t\\t\\t...        攀华集团有限公司   \n",
      "13      \\t市场价\\r\\n\\t\\t\\t\\t\\t    \\t4350元/吨\\r\\n\\t\\t\\t...   邯郸市宝鼎钢铁贸易有限公司   \n",
      "14      \\t市场价\\r\\n\\t\\t\\t\\t\\t    \\t4620元/吨\\r\\n\\t\\t\\t...     武汉市晓俊物资有限公司   \n",
      "15      \\t市场价\\r\\n\\t\\t\\t\\t\\t    \\t3750元/吨\\r\\n\\t\\t\\t...   江苏智恒达钢铁贸易有限公司   \n",
      "16      \\t市场价\\r\\n\\t\\t\\t\\t\\t    \\t3650元/吨\\r\\n\\t\\t\\t...     佛山市联骏贸易有限公司   \n",
      "17      \\t市场价\\r\\n\\t\\t\\t\\t\\t    \\t3720元/吨\\r\\n\\t\\t\\t...    无锡乐源金属材料有限公司   \n",
      "18      \\t市场价\\r\\n\\t\\t\\t\\t\\t    \\t611元/吨\\r\\n\\t\\t\\t\\...             青岛港   \n",
      "19      \\t市场价\\r\\n\\t\\t\\t\\t\\t    \\t611元/吨\\r\\n\\t\\t\\t\\...             日照港   \n",
      "20      \\t市场价\\r\\n\\t\\t\\t\\t\\t    \\t590元/吨\\r\\n\\t\\t\\t\\...             京唐港   \n",
      "21      \\t市场价\\r\\n\\t\\t\\t\\t\\t    \\t600元/吨\\r\\n\\t\\t\\t\\...             天津港   \n",
      "22      \\t市场价\\r\\n\\t\\t\\t\\t\\t    \\t590元/吨\\r\\n\\t\\t\\t\\...            曹妃甸港   \n",
      "23      \\t市场价\\r\\n\\t\\t\\t\\t\\t    \\t613元/吨\\r\\n\\t\\t\\t\\...             江阴港   \n",
      "24      \\t市场价\\r\\n\\t\\t\\t\\t\\t    \\t688元/吨\\r\\n\\t\\t\\t\\...             日照港   \n",
      "25      \\t市场价\\r\\n\\t\\t\\t\\t\\t    \\t688元/吨\\r\\n\\t\\t\\t\\...             青岛港   \n",
      "26      \\t市场价\\r\\n\\t\\t\\t\\t\\t    \\t687元/吨\\r\\n\\t\\t\\t\\...             京唐港   \n",
      "27      \\t市场价\\r\\n\\t\\t\\t\\t\\t    \\t680元/吨\\r\\n\\t\\t\\t\\...             防城港   \n",
      "28      \\t市场价\\r\\n\\t\\t\\t\\t\\t    \\t700元/吨\\r\\n\\t\\t\\t\\...             北仑港   \n",
      "29      \\t市场价\\r\\n\\t\\t\\t\\t\\t    \\t707元/吨\\r\\n\\t\\t\\t\\...             天津港   \n",
      "\n",
      "          发布时间  \n",
      "0   2020-03-13  \n",
      "1   2020-03-13  \n",
      "2   2020-03-13  \n",
      "3   2020-03-13  \n",
      "4   2020-03-13  \n",
      "5   2020-03-13  \n",
      "6   2020-03-13  \n",
      "7   2020-03-13  \n",
      "8   2020-03-13  \n",
      "9   2020-03-13  \n",
      "10  2020-03-13  \n",
      "11  2020-03-13  \n",
      "12  2020-03-13  \n",
      "13  2020-03-13  \n",
      "14  2020-03-13  \n",
      "15  2020-03-13  \n",
      "16  2020-03-13  \n",
      "17  2020-03-13  \n",
      "18  2020-03-13  \n",
      "19  2020-03-13  \n",
      "20  2020-03-13  \n",
      "21  2020-03-13  \n",
      "22  2020-03-13  \n",
      "23  2020-03-13  \n",
      "24  2020-03-13  \n",
      "25  2020-03-13  \n",
      "26  2020-03-13  \n",
      "27  2020-03-13  \n",
      "28  2020-03-13  \n",
      "29  2020-03-13  \n"
     ]
    }
   ],
   "source": [
    "import requests as rq\n",
    "from bs4 import BeautifulSoup as bp\n",
    "import itertools as it\n",
    "import pandas as pd\n",
    "import openpyxl\n",
    "import xlwt\n",
    "def page_price_get(url):\n",
    "    r=rq.get(url)\n",
    "    soup=bp(r.text,'lxml')\n",
    "    infors=soup.find_all('tr')\n",
    "    lst=[]\n",
    "    for infor in infors:\n",
    "        if infor.td==None:\n",
    "            pass\n",
    "        else:\n",
    "            dic={}\n",
    "            dic['品种名称']=infor.find('td',class_=\"p-name a-blue\").text.strip('\\r').strip('\\n').strip('\\t')\n",
    "            dic['品牌']=infor.find_all('td')[1].text.strip('\\r').strip('\\n').strip('\\t')\n",
    "            dic['规格']=infor.find_all('td')[1].attrs['title'].strip('\\r').strip('\\n').strip('\\t')\n",
    "            dic['报价']=infor.find_all('td')[2].text.strip('\\r').strip('\\n').strip('\\t')\n",
    "            dic['报价提供方']=infor.find_all('td')[3].attrs['title'].strip('\\r').strip('\\n').strip('\\t')\n",
    "            dic['发布时间']=infor.find_all('td')[4].text\n",
    "            lst.append(dic)\n",
    "    data=pd.DataFrame(lst)\n",
    "    print(data)\n",
    "url='http://www.100ppi.com/mprice/mlist-1.html'\n",
    "page_price_get(url)"
   ]
  },
  {
   "cell_type": "markdown",
   "metadata": {},
   "source": [
    " <th class=\"tind10 tal\" width=\"18%\">品种名称</th>\n",
    " <th class=\"tal\" width=\"35%\">品牌与规格</th>\n",
    " <th class=\"tal\" width=\"15%\">报价</th>\n",
    " <th class=\"tal\" width=\"15%\">报价提供方</th>\n",
    " <th class=\"tal\" width=\"13%\">发布时间</th>"
   ]
  },
  {
   "cell_type": "code",
   "execution_count": 9,
   "metadata": {},
   "outputs": [],
   "source": [
    "import requests as rq\n",
    "from bs4 import BeautifulSoup as bp\n",
    "import itertools as it\n",
    "import pandas as pd\n",
    "def page_price_get(url):\n",
    "    r=rq.get(url)\n",
    "    soup=bp(r.text,'lxml')\n",
    "    infors=soup.find_all('tr')\n",
    "    print(infos)"
   ]
  },
  {
   "cell_type": "code",
   "execution_count": 1,
   "metadata": {},
   "outputs": [
    {
     "name": "stdout",
     "output_type": "stream",
     "text": [
      "\n",
      "\n",
      "\n",
      "\n",
      "\n",
      "\n",
      "\n",
      "\n",
      "\n",
      "\n",
      "\n",
      "\n",
      "\n",
      "\n",
      "\n",
      "\n",
      "\n",
      "\n",
      "\n",
      "\n",
      "\n",
      "\n",
      "\n",
      "\n",
      "\n",
      "\n",
      "\n",
      "\n",
      "\n",
      "\n",
      "\n",
      "\n",
      "\n",
      "\n",
      "\n",
      "\n",
      "\n",
      "\n",
      "\n",
      "\n",
      "\n",
      "\n",
      "\n",
      "\n",
      "\n",
      "\n",
      "\n",
      "\n",
      "\n",
      "\n",
      "\n",
      "\n",
      "\n",
      "\n",
      "\n",
      "\n",
      "\n",
      "\n",
      "\n",
      "\n",
      "\n",
      "\n",
      "\n",
      "\n",
      "\n",
      "\n",
      "\n",
      "\n",
      "\n",
      "\n",
      "\n",
      "\n",
      "\n",
      "\n",
      "\n",
      "\n",
      "\n",
      "\n",
      "\n",
      "\n",
      "\n",
      "\n",
      "\n",
      "\n",
      "\n",
      "\n",
      "\n",
      "\n",
      "\n",
      "\n",
      "\n",
      "\n",
      "\n",
      "\n",
      "\n",
      "\n",
      "\n",
      "\n",
      "\n",
      "\n",
      "\n",
      "\n",
      "\n",
      "\n",
      "\n",
      "\n",
      "\n",
      "\n",
      "\n",
      "\n",
      "\n",
      "\n",
      "\n",
      "\n",
      "\n",
      "\n",
      "\n",
      "\n",
      "\n",
      "\n",
      "\n",
      "\n",
      "\n",
      "\n",
      "\n",
      "\n",
      "\n",
      "\n",
      "\n",
      "\n",
      "\n",
      "\n",
      "\n",
      "\n",
      "\n",
      "\n",
      "\n",
      "\n",
      "\n",
      "\n",
      "\n",
      "\n",
      "\n",
      "\n",
      "\n",
      "\n",
      "\n",
      "\n",
      "\n",
      "\n",
      "\n",
      "\n",
      "\n",
      "\n",
      "\n",
      "\n",
      "\n",
      "\n",
      "\n",
      "\n",
      "\n",
      "\n",
      "\n",
      "\n",
      "\n",
      "\n",
      "\n",
      "\n",
      "\n",
      "\n",
      "\n",
      "\n",
      "\n"
     ]
    }
   ],
   "source": [
    "import requests as rq\n",
    "from bs4 import BeautifulSoup as bp\n",
    "import json\n",
    "import itertools as it\n",
    "\n",
    "def page_get(url):\n",
    "    r=rq.get(url)\n",
    "    soup=bp(r.text,'lxml')\n",
    "    infors=soup.find_all('br')\n",
    "    for i in infors:\n",
    "        print(i.text)\n",
    "\n",
    "url='https://www.biqugex.com/book_90481/466321262.html'\n",
    "page_get(url)"
   ]
  },
  {
   "cell_type": "code",
   "execution_count": 12,
   "metadata": {},
   "outputs": [
    {
     "name": "stdout",
     "output_type": "stream",
     "text": [
      "2020-03-13\n"
     ]
    }
   ],
   "source": [
    "import time\n",
    "def t_today():\n",
    "    return(time.strftime('%Y-%m-%d',time.localtime(time.time())))\n",
    "print(t_today())\n"
   ]
  },
  {
   "cell_type": "code",
   "execution_count": 16,
   "metadata": {},
   "outputs": [
    {
     "name": "stdout",
     "output_type": "stream",
     "text": [
      "请输入需要查询的历史数据起始日期:2019-09-12\n",
      "请输入需要查询的股票代码:300510\n",
      "<class 'pandas.core.frame.DataFrame'>\n"
     ]
    }
   ],
   "source": [
    "import tushare as ts\n",
    "start_date=input(\"请输入需要查询的历史数据起始日期:\")\n",
    "stock=input(\"请输入需要查询的股票代码:\")\n",
    "end=t_today()\n",
    "df=ts.get_hist_data(stock,start=start_date,end=end)\n",
    "df[['high','low']]"
   ]
  },
  {
   "cell_type": "code",
   "execution_count": 2,
   "metadata": {},
   "outputs": [
    {
     "ename": "Terminator",
     "evalue": "",
     "output_type": "error",
     "traceback": [
      "\u001b[1;31m---------------------------------------------------------------------------\u001b[0m",
      "\u001b[1;31mTerminator\u001b[0m                                Traceback (most recent call last)",
      "\u001b[1;32m<ipython-input-2-5bb12a0d14f3>\u001b[0m in \u001b[0;36m<module>\u001b[1;34m\u001b[0m\n\u001b[0;32m      1\u001b[0m \u001b[1;32mimport\u001b[0m \u001b[0mturtle\u001b[0m\u001b[1;33m\u001b[0m\u001b[1;33m\u001b[0m\u001b[0m\n\u001b[0;32m      2\u001b[0m \u001b[1;33m\u001b[0m\u001b[0m\n\u001b[1;32m----> 3\u001b[1;33m \u001b[0mturtle\u001b[0m\u001b[1;33m.\u001b[0m\u001b[0mpensize\u001b[0m\u001b[1;33m(\u001b[0m\u001b[1;36m4\u001b[0m\u001b[1;33m)\u001b[0m\u001b[1;33m\u001b[0m\u001b[1;33m\u001b[0m\u001b[0m\n\u001b[0m\u001b[0;32m      4\u001b[0m \u001b[0mturtle\u001b[0m\u001b[1;33m.\u001b[0m\u001b[0mpencolor\u001b[0m\u001b[1;33m(\u001b[0m\u001b[1;34m'red'\u001b[0m\u001b[1;33m)\u001b[0m\u001b[1;33m\u001b[0m\u001b[1;33m\u001b[0m\u001b[0m\n\u001b[0;32m      5\u001b[0m \u001b[1;33m\u001b[0m\u001b[0m\n",
      "\u001b[1;32md:\\ana\\lib\\turtle.py\u001b[0m in \u001b[0;36mpensize\u001b[1;34m(width)\u001b[0m\n",
      "\u001b[1;31mTerminator\u001b[0m: "
     ]
    }
   ],
   "source": [
    "import turtle\n",
    "\n",
    "turtle.pensize(4)\n",
    "turtle.pencolor('red')\n",
    "\n",
    "turtle.forward(100)\n",
    "turtle.right(90)\n",
    "turtle.forward(100)\n",
    "turtle.right(90)\n",
    "turtle.forward(100)\n",
    "turtle.right(90)\n",
    "turtle.forward(100)\n",
    "\n",
    "turtle.mainloop()"
   ]
  },
  {
   "cell_type": "code",
   "execution_count": 3,
   "metadata": {},
   "outputs": [
    {
     "name": "stdout",
     "output_type": "stream",
     "text": [
      "153\n",
      "370\n",
      "371\n",
      "407\n"
     ]
    }
   ],
   "source": [
    "#水仙花数\n",
    "for num in range(100, 1000):\n",
    "    low = num % 10\n",
    "    mid = num // 10 % 10\n",
    "    high = num // 100\n",
    "    if num == low ** 3 + mid ** 3 + high ** 3:\n",
    "        print(num)"
   ]
  },
  {
   "cell_type": "code",
   "execution_count": 4,
   "metadata": {},
   "outputs": [
    {
     "name": "stdout",
     "output_type": "stream",
     "text": [
      "num = 37580\n",
      "8573\n"
     ]
    }
   ],
   "source": [
    "#正整数的反转\n",
    "num = int(input('num = '))\n",
    "reversed_num = 0\n",
    "while num > 0:\n",
    "    reversed_num = reversed_num * 10 + num % 10\n",
    "    num //= 10\n",
    "print(reversed_num)"
   ]
  },
  {
   "cell_type": "code",
   "execution_count": 5,
   "metadata": {},
   "outputs": [
    {
     "name": "stdout",
     "output_type": "stream",
     "text": [
      "m = 12\n",
      "n = 8\n",
      "495\n"
     ]
    }
   ],
   "source": [
    "def factorial(num):\n",
    "    \"\"\"求阶乘\"\"\"\n",
    "    result = 1\n",
    "    for n in range(1, num + 1):\n",
    "        result *= n\n",
    "    return result\n",
    "\n",
    "\n",
    "m = int(input('m = '))\n",
    "n = int(input('n = '))\n",
    "# 当需要计算阶乘的时候不用再写循环求阶乘而是直接调用已经定义好的函数\n",
    "print(factorial(m) // factorial(n) // factorial(m - n))"
   ]
  },
  {
   "cell_type": "code",
   "execution_count": 8,
   "metadata": {},
   "outputs": [
    {
     "name": "stdout",
     "output_type": "stream",
     "text": [
      "8\n",
      "12\n",
      "0\n",
      "1\n",
      "3\n",
      "6\n",
      "350\n"
     ]
    }
   ],
   "source": [
    "from random import randint\n",
    "\n",
    "\n",
    "def roll_dice(n=2):\n",
    "    \"\"\"摇色子\"\"\"\n",
    "    total = 0\n",
    "    for _ in range(n):\n",
    "        total += randint(1, 6)\n",
    "    return total\n",
    "\n",
    "\n",
    "def add(a=0, b=0, c=0):\n",
    "    \"\"\"三个数相加\"\"\"\n",
    "    return a + b + c\n",
    "\n",
    "\n",
    "# 如果没有指定参数那么使用默认值摇两颗色子\n",
    "print(roll_dice())\n",
    "# 摇三颗色子\n",
    "print(roll_dice(3))\n",
    "print(add())\n",
    "print(add(1))\n",
    "print(add(1, 2))\n",
    "print(add(1, 2, 3))\n",
    "# 传递参数时可以不按照设定的顺序进行传递\n",
    "print(add(c=50, a=100, b=200))"
   ]
  },
  {
   "cell_type": "code",
   "execution_count": 9,
   "metadata": {},
   "outputs": [
    {
     "name": "stdout",
     "output_type": "stream",
     "text": [
      "0\n",
      "1\n",
      "3\n",
      "6\n",
      "25\n"
     ]
    }
   ],
   "source": [
    "def add(*args):\n",
    "    total = 0\n",
    "    for val in args:\n",
    "        total += val\n",
    "    return total\n",
    "\n",
    "\n",
    "# 在调用add函数时可以传入0个或多个参数\n",
    "print(add())\n",
    "print(add(1))\n",
    "print(add(1, 2))\n",
    "print(add(1, 2, 3))\n",
    "print(add(1, 3, 5, 7, 9))"
   ]
  },
  {
   "cell_type": "code",
   "execution_count": 2,
   "metadata": {},
   "outputs": [
    {
     "name": "stdout",
     "output_type": "stream",
     "text": [
      "13\n",
      "Hello, world!\n",
      "Hello, World!\n",
      "HELLO, WORLD!\n",
      "8\n",
      "-1\n",
      "False\n",
      "True\n",
      "True\n",
      "******************hello, world!*******************\n",
      "                                     hello, world!\n",
      "False\n",
      "False\n",
      "True\n",
      "  jackfrued@126.com \n",
      "jackfrued@126.com\n"
     ]
    }
   ],
   "source": [
    "str1 = 'hello, world!'\n",
    "# 通过内置函数len计算字符串的长度\n",
    "print(len(str1)) # 13\n",
    "# 获得字符串首字母大写的拷贝\n",
    "print(str1.capitalize()) # Hello, world!\n",
    "# 获得字符串每个单词首字母大写的拷贝\n",
    "print(str1.title()) # Hello, World!\n",
    "# 获得字符串变大写后的拷贝\n",
    "print(str1.upper()) # HELLO, WORLD!\n",
    "# 从字符串中查找子串所在位置\n",
    "print(str1.find('or')) # 8\n",
    "print(str1.find('shit')) # -1\n",
    "# 与find类似但找不到子串时会引发异常\n",
    "# print(str1.index('or'))\n",
    "# print(str1.index('shit'))\n",
    "# 检查字符串是否以指定的字符串开头\n",
    "print(str1.startswith('He')) # False\n",
    "print(str1.startswith('hel')) # True\n",
    "# 检查字符串是否以指定的字符串结尾\n",
    "print(str1.endswith('!')) # True\n",
    "# 将字符串以指定的宽度居中并在两侧填充指定的字符\n",
    "print(str1.center(50, '*'))\n",
    "# 将字符串以指定的宽度靠右放置左侧填充指定的字符\n",
    "print(str1.rjust(50, ' '))\n",
    "str2 = 'abc123456'\n",
    "# 检查字符串是否由数字构成\n",
    "print(str2.isdigit())  # False\n",
    "# 检查字符串是否以字母构成\n",
    "print(str2.isalpha())  # False\n",
    "# 检查字符串是否以数字和字母构成\n",
    "print(str2.isalnum())  # True\n",
    "str3 = '  jackfrued@126.com '\n",
    "print(str3)\n",
    "# 获得字符串修剪左右两侧空格之后的拷贝\n",
    "print(str3.strip())"
   ]
  },
  {
   "cell_type": "code",
   "execution_count": null,
   "metadata": {
    "scrolled": true
   },
   "outputs": [
    {
     "name": "stdout",
     "output_type": "stream",
     "text": [
      "<VideoCapture 0000000005FA0670>\n"
     ]
    }
   ],
   "source": [
    "import cv2\n",
    "cap=cv2.VideoCapture(0)\n",
    "print(cap)\n",
    "while (1):\n",
    "    ret, frame = cap.read()\n",
    "    cv2.imshow(\"capture\", frame)"
   ]
  },
  {
   "cell_type": "code",
   "execution_count": 1,
   "metadata": {},
   "outputs": [
    {
     "name": "stdout",
     "output_type": "stream",
     "text": [
      "                             title         ptime  rcounts\n",
      "0                       A股扛住了 玄机乍现  03月13日 15:08   1808.0\n",
      "1                        全球资产跌出新高度  03月13日 12:11   1672.0\n",
      "2                           市场周五邂逅  03月13日 08:12   1986.0\n",
      "3                   转机近在眼前珍惜当前大好时光  03月13日 08:16   2042.0\n",
      "4                   外资抛压能否砸出中线黄金坑？                    0.0\n",
      "5                  放眼全球股市 大A股独特的魅力  03月13日 08:48   1954.0\n",
      "6             宽幅震荡底部探明  科技股比权重更有弹性  03月13日 15:31   2034.0\n",
      "7                     下周A股能否继续独善其中  03月13日 15:35   2235.0\n",
      "8          券商股的价值回归 就在今年放开外资持股比例之时                    0.0\n",
      "9           A股10年罕见地原地踏步必迎来罕见的爆发 个  03月13日 11:52   1915.0\n",
      "10     外围不是很理想，关键看我们开盘，如果开盘大盘跌4%以上                    0.0\n",
      "11  辽宁成大近日屡遭粤民投等众机构巨量扫货冲板！一文读透辽宁成大                    0.0\n",
      "12             国际疫情扩散，国际经济必然受到严重影响                    0.0\n",
      "13     1、松炀资源，上涨速率较快，明显放量，接近时间周期尾端                    0.0\n",
      "14  银河证券：建议布局长期投资以5G网络建设为核心的新基建腾讯自                    0.0\n",
      "15             针对你提出的问题，松炀资源继续持有看涨                    0.0\n",
      "16         老朋友，你的仓位也不高，可以适当减一点就可以了                    0.0\n",
      "17                      沪股通竟然又是加仓？                    0.0\n"
     ]
    }
   ],
   "source": [
    "import tushare as ts\n",
    "df=ts.guba_sina()\n",
    "print(df)"
   ]
  },
  {
   "cell_type": "code",
   "execution_count": 7,
   "metadata": {},
   "outputs": [
    {
     "name": "stdout",
     "output_type": "stream",
     "text": [
      "[Getting data:]##########################################################################        code  name type report_date  pre_eps         range\n",
      "0     002538   司尔特   预降  2020-03-13   0.4200        -20.58\n",
      "1     002941  新疆交建   预降  2020-03-13   0.6000        -49.35\n",
      "2     002244  滨江集团   预升  2020-03-13   0.3900          34.6\n",
      "3     002590  万安科技   预盈  2020-03-13  -0.0700         501.7\n",
      "4     603557  起步股份   预降  2020-03-13   0.3845        -18.76\n",
      "...      ...   ...  ...         ...      ...           ...\n",
      "4433  601099   太平洋   预警  2019-08-17  -0.1940             0\n",
      "4434  600988  赤峰黄金   预盈  2019-07-26  -0.0900             0\n",
      "4435  603687   大胜达   预升  2019-06-17   0.3900  7.31%~15.22%\n",
      "4436  600399  ST抚钢   预减  2019-04-30   2.0100             0\n",
      "4437  600662  强生控股    0  2019-04-27   0.0615             0\n",
      "\n",
      "[4438 rows x 6 columns]\n"
     ]
    }
   ],
   "source": [
    "df2=ts.forecast_data(2019,4)\n",
    "print(df2)\n",
    "df2.to_excel('d:/fore.xlsx')"
   ]
  },
  {
   "cell_type": "code",
   "execution_count": 1,
   "metadata": {},
   "outputs": [],
   "source": [
    "#设定多个agent\n",
    "import urllib.request as ul\n",
    "import requests as rq\n",
    "import urllib\n",
    "from bs4 import BeautifulSoup as bl\n",
    "import random,json\n",
    "import re\n",
    "auto_headers = [\"Mozilla/5.0 (Windows NT 6.3; WOW64) AppleWebKit/537.36 (KHTML, like Gecko) Chrome/39.0.2171.95 Safari/537.36\",\n",
    "    \"Mozilla/5.0 (Macintosh; Intel Mac OS X 10_9_2) AppleWebKit/537.36 (KHTML, like Gecko) Chrome/35.0.1916.153 Safari/537.36\",\n",
    "    \"Mozilla/5.0 (Windows NT 6.1; WOW64; rv:30.0) Gecko/20100101 Firefox/30.0\",\n",
    "    \"Mozilla/5.0 (Macintosh; Intel Mac OS X 10_9_2) AppleWebKit/537.75.14 (KHTML, like Gecko) Version/7.0.3 Safari/537.75.14\",\n",
    "    \"Mozilla/5.0 (compatible; MSIE 10.0; Windows NT 6.2; Win64; x64; Trident/6.0)\",\n",
    "    'Mozilla/5.0 (Windows; U; Windows NT 5.1; it; rv:1.8.1.11) Gecko/20071127 Firefox/2.0.0.11',\n",
    "    'Opera/9.25 (Windows NT 5.1; U; en)',\n",
    "    'Mozilla/4.0 (compatible; MSIE 6.0; Windows NT 5.1; SV1; .NET CLR 1.1.4322; .NET CLR 2.0.50727)',\n",
    "    'Mozilla/5.0 (compatible; Konqueror/3.5; Linux) KHTML/3.5.5 (like Gecko) (Kubuntu)',\n",
    "    'Mozilla/5.0 (X11; U; Linux i686; en-US; rv:1.8.0.12) Gecko/20070731 Ubuntu/dapper-security Firefox/1.5.0.12',\n",
    "    'Lynx/2.8.5rel.1 libwww-FM/2.14 SSL-MM/1.4.1 GNUTLS/1.2.9',\n",
    "    \"Mozilla/5.0 (X11; Linux i686) AppleWebKit/535.7 (KHTML, like Gecko) Ubuntu/11.04 Chromium/16.0.912.77 Chrome/16.0.912.77 Safari/535.7\",\n",
    "    \"Mozilla/5.0 (X11; Ubuntu; Linux i686; rv:10.0) Gecko/20100101 Firefox/10.0\",\n",
    "    'Mozilla/5.0 (Windows NT 10.0; Win64; x64) AppleWebKit/537.36 (KHTML, like Gecko) Chrome/54.0.2840.99 Safari/537.36']\n",
    "\n",
    "global headers\n",
    "headers = {'User-Agent': random.choice(auto_headers)}"
   ]
  },
  {
   "cell_type": "code",
   "execution_count": 2,
   "metadata": {},
   "outputs": [
    {
     "name": "stdout",
     "output_type": "stream",
     "text": [
      "亲请输入需要下载的小说页面地址http://www.xbiquge.la/43/43572/19454213.html\n"
     ]
    }
   ],
   "source": [
    "url=input('亲请输入需要下载的小说页面地址')"
   ]
  },
  {
   "cell_type": "code",
   "execution_count": 3,
   "metadata": {},
   "outputs": [
    {
     "name": "stdout",
     "output_type": "stream",
     "text": [
      "b'<!DOCTYPE html>\\r\\n<html>\\r\\n<head>\\r\\n  <meta charset=\"UTF-8\">\\r\\n  <meta http-equiv=\"X-UA-Compatible\" content=\"IE=Edge,chrome=1\" />\\r\\n  <meta name=\"viewport\" content=\"width=device-width, initial-scale=1.0\">\\r\\n  <!-- make at 4/13/2020, 7:04:41 PM, s_num: 22\\xef\\xbc\\x8cuse 8ms -->\\r\\n  <meta name=\"keywords\" content=\"\\xe5\\x93\\x88\\xe5\\xb0\\x94\\xe8\\xbd\\xac\\xe5\\x80\\xba(128073),\\xe4\\xb8\\x9c\\xe6\\x96\\xb9\\xe8\\xb4\\xa2\\xe5\\xaf\\x8c\\xe7\\xbd\\x91,\\xe7\\xa7\\x91\\xe5\\x88\\x9b\\xe6\\x9d\\xbf,\\xe8\\x82\\xa1\\xe7\\xa5\\xa8\\xe8\\xa1\\x8c\\xe6\\x83\\x85,\\xe8\\xa1\\x8c\\xe6\\x83\\x85\\xe4\\xb8\\xad\\xe5\\xbf\\x83,\\xe5\\xae\\x9e\\xe6\\x97\\xb6\\xe8\\xa1\\x8c\\xe6\\x83\\x85,\\xe4\\xba\\x94\\xe6\\xa1\\xa3\\xe7\\x9b\\x98\\xe5\\x8f\\xa3,\\xe9\\x80\\x90\\xe7\\xac\\x94\\xe4\\xba\\xa4\\xe6\\x98\\x93,\\xe4\\xb8\\xaa\\xe8\\x82\\xa1\\xe6\\xa1\\xa3\\xe6\\xa1\\x88,\\xe5\\x85\\xac\\xe5\\x8f\\xb8\\xe7\\xae\\x80\\xe4\\xbb\\x8b,\\xe4\\xb8\\xbb\\xe5\\x8a\\x9b\\xe5\\x8a\\xa8\\xe5\\x90\\x91,\\xe8\\xb4\\xa2\\xe5\\x8a\\xa1\\xe6\\x95\\xb0\\xe6\\x8d\\xae,\\xe7\\x89\\xb9\\xe8\\x89\\xb2\\xe6\\x95\\xb0\\xe6\\x8d\\xae,\\xe9\\x98\\xb6\\xe6\\xae\\xb5\\xe6\\xb6\\xa8\\xe5\\xb9\\x85,\\xe6\\x89\\x80\\xe5\\xb1\\x9e\\xe6\\x9d\\xbf\\xe5\\x9d\\x97,\\xe8\\x82\\xa1\\xe6\\x9d\\x83\\xe5\\x88\\x86\\xe6\\x9e\\x90,\\xe5\\x88\\x86\\xe7\\xba\\xa2\\xe8\\x9e\\x8d\\xe8\\xb5\\x84,\\xe8\\x82\\xa1\\xe5\\xb8\\x82\\xe5\\xa4\\x87\\xe5\\xbf\\x98,\\xe8\\xb5\\x84\\xe9\\x87\\x91\\xe6\\xb5\\x81\\xe5\\x85\\xa5,\\xe4\\xb8\\xbb\\xe5\\x8a\\x9b\\xe6\\x8e\\xa7\\xe7\\x9b\\x98\\xe7\\xa8\\x8b\\xe5\\xba\\xa6,\\xe6\\x9c\\xba\\xe6\\x9e\\x84\\xe8\\xb5\\x84\\xe9\\x87\\x91\\xe4\\xb8\\x8e\\xe6\\x95\\xa3\\xe6\\x88\\xb7\\xe8\\xb5\\x84\\xe9\\x87\\x91\\xe5\\xaf\\xb9\\xe6\\xaf\\x94,\\xe4\\xba\\xa4\\xe6\\x98\\x93\\xe6\\x95\\xb0\\xe6\\x8d\\xae\\xe6\\x8e\\x92\\xe8\\xa1\\x8c,\\xe5\\xb8\\x82\\xe7\\x9b\\x88\\xe7\\x8e\\x87\\xe6\\x8e\\x92\\xe8\\xa1\\x8c,\\xe8\\xb4\\xa2\\xe5\\x8a\\xa1\\xe6\\x8c\\x87\\xe6\\xa0\\x87\\xe6\\x8e\\x92\\xe8\\xa1\\x8c,\\xe6\\xb5\\x81\\xe9\\x80\\x9a\\xe8\\x82\\xa1\\xe6\\x9c\\xac,\\xe6\\xaf\\x8f\\xe8\\x82\\xa1\\xe6\\x94\\xb6\\xe7\\x9b\\x8a,\\xe4\\xb8\\xbb\\xe8\\x90\\xa5\\xe4\\xb8\\x9a\\xe5\\x8a\\xa1\\xe6\\x94\\xb6\\xe5\\x85\\xa5,\\xe4\\xb8\\xaa\\xe8\\x82\\xa1\\xe7\\xa0\\x94\\xe6\\x8a\\xa5,\\xe7\\x9b\\x88\\xe5\\x88\\xa9\\xe9\\xa2\\x84\\xe6\\xb5\\x8b,\\xe7\\xa0\\x94\\xe6\\x8a\\xa5,\\xe8\\xb5\\x84\\xe9\\x87\\x91\\xe6\\xb5\\x81\\xe5\\x90\\x91,\\xe8\\x82\\xa1\\xe5\\x90\\xa7\" />\\r\\n  <meta name=\"description\" content=\"\\xe6\\x8f\\x90\\xe4\\xbe\\x9b\\xe5\\x93\\x88\\xe5\\xb0\\x94\\xe8\\xbd\\xac\\xe5\\x80\\xba(128073)\\xe8\\x82\\xa1\\xe7\\xa5\\xa8\\xe7\\x9a\\x84\\xe8\\xa1\\x8c\\xe6\\x83\\x85\\xe8\\xb5\\xb0\\xe5\\x8a\\xbf\\xe3\\x80\\x81\\xe4\\xba\\x94\\xe6\\xa1\\xa3\\xe7\\x9b\\x98\\xe5\\x8f\\xa3\\xe3\\x80\\x81\\xe9\\x80\\x90\\xe7\\xac\\x94\\xe4\\xba\\xa4\\xe6\\x98\\x93\\xe7\\xad\\x89\\xe5\\xae\\x9e\\xe6\\x97\\xb6\\xe8\\xa1\\x8c\\xe6\\x83\\x85\\xe6\\x95\\xb0\\xe6\\x8d\\xae\\xef\\xbc\\x8c\\xe5\\x8f\\x8a\\xe5\\x93\\x88\\xe5\\xb0\\x94\\xe8\\xbd\\xac\\xe5\\x80\\xba(128073)\\xe7\\x9a\\x84\\xe8\\xb5\\x84\\xe8\\xae\\xaf\\xe3\\x80\\x81\\xe5\\x85\\xac\\xe5\\x8f\\xb8\\xe5\\x85\\xac\\xe5\\x91\\x8a\\xe3\\x80\\x81\\xe7\\xa0\\x94\\xe7\\xa9\\xb6\\xe6\\x8a\\xa5\\xe5\\x91\\x8a\\xe3\\x80\\x81\\xe8\\xa1\\x8c\\xe4\\xb8\\x9a\\xe7\\xa0\\x94\\xe6\\x8a\\xa5\\xe3\\x80\\x81F10\\xe8\\xb5\\x84\\xe6\\x96\\x99\\xe3\\x80\\x81\\xe8\\xa1\\x8c\\xe4\\xb8\\x9a\\xe8\\xb5\\x84\\xe8\\xae\\xaf\\xe3\\x80\\x81\\xe8\\xb5\\x84\\xe9\\x87\\x91\\xe6\\xb5\\x81\\xe5\\x88\\x86\\xe6\\x9e\\x90\\xe3\\x80\\x81\\xe9\\x98\\xb6\\xe6\\xae\\xb5\\xe6\\xb6\\xa8\\xe5\\xb9\\x85\\xe3\\x80\\x81\\xe6\\x89\\x80\\xe5\\xb1\\x9e\\xe6\\x9d\\xbf\\xe5\\x9d\\x97\\xe3\\x80\\x81\\xe8\\xb4\\xa2\\xe5\\x8a\\xa1\\xe6\\x8c\\x87\\xe6\\xa0\\x87\\xe3\\x80\\x81\\xe6\\x9c\\xba\\xe6\\x9e\\x84\\xe8\\xa7\\x82\\xe7\\x82\\xb9\\xe3\\x80\\x81\\xe8\\xa1\\x8c\\xe4\\xb8\\x9a\\xe6\\x8e\\x92\\xe5\\x90\\x8d\\xe3\\x80\\x81\\xe4\\xbc\\xb0\\xe5\\x80\\xbc\\xe6\\xb0\\xb4\\xe5\\xb9\\xb3\\xe3\\x80\\x81\\xe8\\x82\\xa1\\xe5\\x90\\xa7\\xe4\\xba\\x92\\xe5\\x8a\\xa8\\xe7\\xad\\x89\\xe4\\xb8\\x8e\\xe5\\x93\\x88\\xe5\\xb0\\x94\\xe8\\xbd\\xac\\xe5\\x80\\xba(128073)\\xe6\\x9c\\x89\\xe5\\x85\\xb3\\xe7\\x9a\\x84\\xe4\\xbf\\xa1\\xe6\\x81\\xaf\\xe5\\x92\\x8c\\xe6\\x9c\\x8d\\xe5\\x8a\\xa1\\xe3\\x80\\x82\" />\\r\\n  <title>\\xe5\\x93\\x88\\xe5\\xb0\\x94\\xe8\\xbd\\xac\\xe5\\x80\\xba(128073)_\\xe8\\xa1\\x8c\\xe6\\x83\\x85\\xe4\\xb8\\xad\\xe5\\xbf\\x83_\\xe4\\xb8\\x9c\\xe6\\x96\\xb9\\xe8\\xb4\\xa2\\xe5\\xaf\\x8c\\xe7\\xbd\\x91</title>\\r\\n  <link rel=\"stylesheet\" href=\"../newstatic/css/old/qphf.css\">\\r\\n  <link rel=\"stylesheet\" href=\"../newstatic/css/old/common.min.css\">\\r\\n  <link rel=\"stylesheet\" href=\"../newstatic/css/old/bond2.min.css\">\\r\\n\\t<link rel=\"stylesheet\" href=\"../newstatic/css/old/bonddraw.css\">\\r\\n</head>\\r\\n<body>\\r\\n  <div style=\"margin-top: 32px;\">\\r\\n      <div class=\"qphox\">\\r\\n\\t<div class=\"tmbox\">\\r\\n        <ul><li><a target=\"_blank\" href=\"http://finance.eastmoney.com/\" >\\xe8\\xb4\\xa2\\xe7\\xbb\\x8f</a></li><li class=\"i\">|</li><li><a target=\"_blank\" href=\"http://finance.eastmoney.com/yaowen.html\" >\\xe7\\x84\\xa6\\xe7\\x82\\xb9</a></li><li class=\"i\">|</li><li><a target=\"_blank\" href=\"http://stock.eastmoney.com/\" >\\xe8\\x82\\xa1\\xe7\\xa5\\xa8</a></li><li class=\"i\">|</li><li><span class=\"red\"><a target=\"_blank\" href=\"http://stock.eastmoney.com/newstock.html\" >\\xe6\\x96\\xb0\\xe8\\x82\\xa1</a></span></li><li class=\"i\">|</li><li><a target=\"_blank\" href=\"http://stock.eastmoney.com/gzqh.html\" >\\xe6\\x9c\\x9f\\xe6\\x8c\\x87</a></li><li class=\"i\">|</li><li><a target=\"_blank\" href=\"http://option.eastmoney.com/\" >\\xe6\\x9c\\x9f\\xe6\\x9d\\x83</a></li><li class=\"i\">|</li><li><span class=\"red\"><a target=\"_blank\" href=\"http://quote.eastmoney.com/flash/sz300059.html\" >\\xe8\\xa1\\x8c\\xe6\\x83\\x85</a></span></li><li class=\"i\">|</li><li><a target=\"_blank\" href=\"http://data.eastmoney.com/\" >\\xe6\\x95\\xb0\\xe6\\x8d\\xae</a></li><li class=\"i\">|</li><li><a target=\"_blank\" href=\"http://stock.eastmoney.com/global.html\" >\\xe5\\x85\\xa8\\xe7\\x90\\x83</a></li><li class=\"i\">|</li><li><a target=\"_blank\" href=\"http://stock.eastmoney.com/america.html\" >\\xe7\\xbe\\x8e\\xe8\\x82\\xa1</a></li><li class=\"i\">|</li><li><a target=\"_blank\" href=\"http://hk.eastmoney.com/\" >\\xe6\\xb8\\xaf\\xe8\\x82\\xa1</a></li><li class=\"i\">|</li><li><a target=\"_blank\" href=\"http://futures.eastmoney.com/\" >\\xe6\\x9c\\x9f\\xe8\\xb4\\xa7</a></li><li class=\"i\">|</li><li><a target=\"_blank\" href=\"http://forex.eastmoney.com/\" >\\xe5\\xa4\\x96\\xe6\\xb1\\x87</a></li><li class=\"i\">|</li><li><a target=\"_blank\" href=\"http://gold.eastmoney.com\" >\\xe9\\xbb\\x84\\xe9\\x87\\x91</a></li><li class=\"i\">|</li><li><a target=\"_blank\" href=\"http://bank.eastmoney.com/\" >\\xe9\\x93\\xb6\\xe8\\xa1\\x8c</a></li><li class=\"i\">|</li><li><a target=\"_blank\" href=\"http://www.1234567.com.cn/\" >\\xe5\\x9f\\xba\\xe9\\x87\\x91</a></li><li class=\"i\">|</li><li><a target=\"_blank\" href=\"http://money.eastmoney.com/\" >\\xe7\\x90\\x86\\xe8\\xb4\\xa2</a></li><li class=\"i\">|</li><li><a target=\"_blank\" href=\"http://insurance.eastmoney.com/\" >\\xe4\\xbf\\x9d\\xe9\\x99\\xa9</a></li><li class=\"i\">|</li><li><a target=\"_blank\" href=\"http://bond.eastmoney.com/\" >\\xe5\\x80\\xba\\xe5\\x88\\xb8</a></li><li class=\"i\">|</li><li><a target=\"_blank\" href=\"http://video.eastmoney.com/\" >\\xe8\\xa7\\x86\\xe9\\xa2\\x91</a></li><li class=\"i\">|</li><li><span class=\"red\"><a target=\"_blank\" href=\"http://gb.eastmoney.com/\" >\\xe8\\x82\\xa1\\xe5\\x90\\xa7</a></span></li><li class=\"i\">|</li><li><a target=\"_blank\" href=\"http://fund2.eastmoney.com/\" >\\xe5\\x9f\\xba\\xe9\\x87\\x91\\xe5\\x90\\xa7</a></li><li class=\"i\">|</li><li><a target=\"_blank\" href=\"http://blog.eastmoney.com/\" >\\xe5\\x8d\\x9a\\xe5\\xae\\xa2</a></li><li class=\"i\">|</li><li><a target=\"_blank\" href=\"http://so.eastmoney.com/\" >\\xe6\\x90\\x9c\\xe7\\xb4\\xa2</a></li></ul>\\r\\n    </div>\\t\\r\\n</div>\\r\\n<div class=\"qphox\">\\r\\n    <div class=\"QVspace\"></div>\\r\\n    <div class=\"adbox\" id=\"ifhqheadad\">\\r\\n        \\t\\r\\n            <ul>\\r\\n        \\t<li><!-- AdSame ShowCode: \\xe4\\xb8\\x9c\\xe6\\x96\\xb9\\xe8\\xb4\\xa2\\xe5\\xaf\\x8c\\xe7\\xbd\\x91 / \\xe8\\xa1\\x8c\\xe6\\x83\\x85 / \\xe8\\xa1\\x8c\\xe6\\x83\\x85\\xe4\\xb8\\x80\\xe5\\xb1\\x8f\\xe5\\xb7\\xa6\\xe6\\x8c\\x89\\xe9\\x92\\xae Begin -->\\r\\n            <iframe width=\"175\" height=\"90\" frameborder=\"0\" scrolling=\"no\" marginwidth=\"0\" marginheight=\"0\" src=\"https://same.eastmoney.com/s?z=eastmoney&c=22&op=1\" id=\"Iframe1\" ></iframe>\\r\\n            <!-- AdSame ShowCode: \\xe4\\xb8\\x9c\\xe6\\x96\\xb9\\xe8\\xb4\\xa2\\xe5\\xaf\\x8c\\xe7\\xbd\\x91 / \\xe8\\xa1\\x8c\\xe6\\x83\\x85 / \\xe8\\xa1\\x8c\\xe6\\x83\\x85\\xe4\\xb8\\x80\\xe5\\xb1\\x8f\\xe5\\xb7\\xa6\\xe6\\x8c\\x89\\xe9\\x92\\xae End --></li>\\r\\n            <li id=\"ov10\" style=\"width:636px;height:90px;\"><!-- AdSame ShowCode: \\xe4\\xb8\\x9c\\xe6\\x96\\xb9\\xe8\\xb4\\xa2\\xe5\\xaf\\x8c\\xe7\\xbd\\x91 / \\xe8\\xa1\\x8c\\xe6\\x83\\x85 / \\xe8\\xa1\\x8c\\xe6\\x83\\x85\\xe4\\xb8\\x80\\xe5\\xb1\\x8f\\xe5\\x8f\\xb3\\xe6\\x8c\\x89\\xe9\\x92\\xae Begin -->\\r\\n            <iframe width=\"636\" height=\"90\" frameborder=\"0\" scrolling=\"no\" marginwidth=\"0\" marginheight=\"0\" src=\"https://same.eastmoney.com/s?z=eastmoney&c=174&op=1\" id=\"Iframe2\" ></iframe>\\r\\n            <!-- AdSame ShowCode: \\xe4\\xb8\\x9c\\xe6\\x96\\xb9\\xe8\\xb4\\xa2\\xe5\\xaf\\x8c\\xe7\\xbd\\x91 / \\xe8\\xa1\\x8c\\xe6\\x83\\x85 / \\xe8\\xa1\\x8c\\xe6\\x83\\x85\\xe4\\xb8\\x80\\xe5\\xb1\\x8f\\xe5\\x8f\\xb3\\xe6\\x8c\\x89\\xe9\\x92\\xae End --></li>\\r\\n            <li class=\"last\"><!-- AdSame ShowCode: \\xe4\\xb8\\x9c\\xe6\\x96\\xb9\\xe8\\xb4\\xa2\\xe5\\xaf\\x8c\\xe7\\xbd\\x91 / \\xe8\\xa1\\x8c\\xe6\\x83\\x85 / \\xe8\\xa1\\x8c\\xe6\\x83\\x85\\xe4\\xb8\\x80\\xe5\\xb1\\x8f\\xe5\\x8f\\xb3\\xe6\\x8c\\x89\\xe9\\x92\\xae Begin -->\\r\\n            <iframe width=\"175\" height=\"90\" frameborder=\"0\" scrolling=\"no\" marginwidth=\"0\" marginheight=\"0\" src=\"https://same.eastmoney.com/s?z=eastmoney&c=23&op=1\" id=\"Iframe3\" ></iframe>\\r\\n            <!-- AdSame ShowCode: \\xe4\\xb8\\x9c\\xe6\\x96\\xb9\\xe8\\xb4\\xa2\\xe5\\xaf\\x8c\\xe7\\xbd\\x91 / \\xe8\\xa1\\x8c\\xe6\\x83\\x85 / \\xe8\\xa1\\x8c\\xe6\\x83\\x85\\xe4\\xb8\\x80\\xe5\\xb1\\x8f\\xe5\\x8f\\xb3\\xe6\\x8c\\x89\\xe9\\x92\\xae End --></li>\\r\\n            </ul>\\r\\n            \\r\\n    </div>\\r\\n</div>\\r\\n<div class=\"qphox\">\\r\\n    <div class=\"QVspace\"></div>\\r\\n    <div class=\"lgbox\">\\r\\n    \\t<div class=\"lbox\">\\r\\n        \\t<div class=\"logo \"><a target=\"_blank\" href=\"http://www.eastmoney.com\"><span title=\"\\xe4\\xb8\\x9c\\xe6\\x96\\xb9\\xe8\\xb4\\xa2\\xe5\\xaf\\x8c\\xe7\\xbd\\x91\"></span></a><a target=\"_blank\" href=\"http://quote.eastmoney.com/center/\"><span title=\"\\xe8\\xa1\\x8c\\xe6\\x83\\x85\\xe4\\xb8\\xad\\xe5\\xbf\\x83\"></span></a></div>\\r\\n            <div class=\"ogo\">\\r\\n            \\t<ul>\\r\\n                \\t<li><div class=\"a\"></div><a target=\"_blank\" href=\"http://kuaixun.eastmoney.com/\">\\xe5\\x85\\xa8\\xe7\\x90\\x83\\xe8\\xb4\\xa2\\xe7\\xbb\\x8f\\xe5\\xbf\\xab\\xe8\\xae\\xaf</a></li>\\r\\n                    <li><div class=\"b\"></div><a target=\"_blank\" href=\"http://data.eastmoney.com/center/\">\\xe6\\x95\\xb0\\xe6\\x8d\\xae\\xe4\\xb8\\xad\\xe5\\xbf\\x83</a></li>\\r\\n                    <li><div class=\"c\"></div><a target=\"_blank\" href=\"http://wap.eastmoney.com/\">\\xe6\\x89\\x8b\\xe6\\x9c\\xba\\xe7\\xab\\x99</a></li>\\r\\n                    <li><div class=\"d\"></div><a target=\"_blank\" href=\"https://acttg.eastmoney.com/pub/pctg_hskh_act_wysfpcb_01_01_01_0\">\\xe5\\xae\\xa2\\xe6\\x88\\xb7\\xe7\\xab\\xaf</a></li>\\r\\n                    <li><div class=\"e\"></div><a target=\"_blank\" href=\"http://choice.eastmoney.com/?adid=953\">Choice\\xe6\\x95\\xb0\\xe6\\x8d\\xae</a></li>\\r\\n                    <li class=\"last\"><div class=\"f\"></div><a target=\"_blank\" href=\"http://fundact.eastmoney.com/app/?spm=100003.mjj\">\\xe6\\x89\\x8b\\xe6\\x9c\\xba\\xe4\\xb9\\xb0\\xe5\\x9f\\xba\\xe9\\x87\\x91 \\xe7\\x89\\x9b\\xe5\\xb8\\x82\\xe8\\xb5\\x9a\\xe4\\xb8\\x8d\\xe5\\x81\\x9c></a></li>\\r\\n                </ul>\\r\\n            </div>\\r\\n        </div>\\r\\n    </div>\\r\\n</div>\\r\\n<div class=\"qphox\">\\r\\n    <div class=\"QVspace\"></div>\\r\\n    <div class=\"mainnbox\">\\r\\n        <div class=\"title\"><div class=\"tit\"><b></b><div class=\"nm\"><a href=\"http://quote.eastmoney.com/center/\" target=\"_blank\">\\xe8\\xa1\\x8c\\xe6\\x83\\x85\\xe4\\xb8\\xad\\xe5\\xbf\\x83</a></div></div></div>\\r\\n        <div class=\"qmbox\">\\r\\n    \\t    <div class=\"nbox\">\\r\\n        \\t    <div class=\"lbox\">\\r\\n            \\t    <ul>\\r\\n                        <li><a href=\"http://quote.eastmoney.com/center/hszs.html\" target=\"_blank\">\\xe6\\x8c\\x87\\xe6\\x95\\xb0</a></li><li>|</li>\\r\\n                        <li><a href=\"http://quote.eastmoney.com/center/gridlist.html#futures_cffex\" target=\"_blank\">\\xe6\\x9c\\x9f\\xe6\\x8c\\x87</a></li><li>|</li>\\r\\n                        <li><a href=\"http://quote.eastmoney.com/center/qqsc.html\" target=\"_blank\">\\xe6\\x9c\\x9f\\xe6\\x9d\\x83</a></li><li>|</li>\\r\\n                        <li><a href=\"http://quote.eastmoney.com/\" target=\"_blank\">\\xe4\\xb8\\xaa\\xe8\\x82\\xa1</a></li><li>|</li>\\r\\n                        <li><a href=\"http://quote.eastmoney.com/center/hsbk.html\" target=\"_blank\">\\xe6\\x9d\\xbf\\xe5\\x9d\\x97</a></li><li>|</li>\\r\\n                        <li><a href=\"http://quote.eastmoney.com/center/gridlist.html#hs_a_board\" target=\"_blank\">\\xe6\\x8e\\x92\\xe8\\xa1\\x8c</a></li><li>|</li>\\r\\n                        <li><a href=\"http://quote.eastmoney.com/center/gridlist.html#newshares\" target=\"_blank\">\\xe6\\x96\\xb0\\xe8\\x82\\xa1</a></li><li>|</li>\\r\\n                        <li><a href=\"http://quote.eastmoney.com/center/jjsc.html\" target=\"_blank\">\\xe5\\x9f\\xba\\xe9\\x87\\x91</a></li><li>|</li>\\r\\n                        <li><a href=\"http://quote.eastmoney.com/center/ggsc.html\" target=\"_blank\">\\xe6\\xb8\\xaf\\xe8\\x82\\xa1</a></li><li>|</li>\\r\\n                        <li><a href=\"http://quote.eastmoney.com/center/mgsc.html\" target=\"_blank\">\\xe7\\xbe\\x8e\\xe8\\x82\\xa1</a></li><li>|</li>\\r\\n                        <li><a href=\"http://quote.eastmoney.com/center/futures.html\" target=\"_blank\">\\xe6\\x9c\\x9f\\xe8\\xb4\\xa7</a></li><li>|</li>\\r\\n                        <li><a href=\"http://quote.eastmoney.com/center/whsc.html\" target=\"_blank\">\\xe5\\xa4\\x96\\xe6\\xb1\\x87</a></li><li>|</li>\\r\\n                        <li><a href=\"http://quote.eastmoney.com/center/hjsc.html\" target=\"_blank\">\\xe9\\xbb\\x84\\xe9\\x87\\x91</a></li><li>|</li>\\r\\n                        <li><a href=\"http://quote.eastmoney.com/zixuan/\" target=\"_blank\">\\xe8\\x87\\xaa\\xe9\\x80\\x89\\xe8\\x82\\xa1</a></li><li>|</li>\\r\\n                        <li><a href=\"http://favor.fund.eastmoney.com/\" target=\"_blank\">\\xe8\\x87\\xaa\\xe9\\x80\\x89\\xe5\\x9f\\xba\\xe9\\x87\\x91</a></li>\\r\\n                    </ul>\\r\\n                </div>\\r\\n                <div class=\"rbox\">\\r\\n                    <form class=\"search-box\" method=\"get\" target=\"_blank\">\\r\\n                        <input type=\"text\" name=\"StockCode\" id=\"search_box\"><input type=\"submit\" value=\"\\xe6\\x90\\x9c\\xe7\\xb4\\xa2\" />\\r\\n                    </form>\\r\\n                </div>\\r\\n            </div>\\r\\n        </div>\\r\\n    </div>\\r\\n</div>\\r\\n<div class=\"qphox\">\\r\\n    <div class=\"aide\">\\r\\n        <div class=\"global\">\\r\\n            <div class=\"lbox\"><div class=\"tit\"><b></b><a href=\"http://quote.eastmoney.com/center/global.html#global_3\" target=\"_blank\">\\xe5\\x85\\xa8\\xe7\\x90\\x83\\xe8\\x82\\xa1\\xe5\\xb8\\x82</a></div></div>\\r\\n            <div class=\"mbox\"><b id=\"btn_down\" class=\"up\" title=\"\\xe4\\xb8\\x8b\\xe6\\xbb\\x9a\"></b><b id=\"btn_up\" class=\"down\" title=\"\\xe4\\xb8\\x8a\\xe6\\xbb\\x9a\"></b></div>\\r\\n            <div class=\"rbox\">\\r\\n                <div id=\"qqgscont\" xvs=\"0\">\\r\\n                <ul><li><a href=\"http://quote.eastmoney.com/zs000001.html\" target=\"_blank\" class=\"blue\"><strong>\\xe4\\xb8\\x8a\\xe8\\xaf\\x81</strong></a>\\xef\\xbc\\x9a<span><b>-</b> <b>-</b>  <b>-</b></span>(\\xe6\\xb6\\xa8:<b>-</b>\\xe5\\xb9\\xb3:<b>-</b> \\xe8\\xb7\\x8c:<b>-</b>)<a href=\"http://quote.eastmoney.com/zs399001.html\" target=\"_blank\" class=\"blue\"><strong>\\xe6\\xb7\\xb1\\xe8\\xaf\\x81</strong></a>\\xef\\xbc\\x9a<span><b>-</b> <b>-</b>  <b>-</b></span>(\\xe6\\xb6\\xa8:<b>-</b>\\xe5\\xb9\\xb3:<b>-</b> \\xe8\\xb7\\x8c:<b>-</b>)</li></ul>\\r\\n                </div>\\r\\n            </div>\\r\\n        </div>\\r\\n    </div>\\r\\n</div>\\r\\n<div class=\"qphox\">\\r\\n    <div class=\"aide nt\">\\r\\n        <div class=\"dcer\">\\r\\n        <div class=\"lbox\"><div class=\"tit\"><b></b><a href=\"http://js1.eastmoney.com/tg.aspx?ID=517\" target=\"_blank\">\\xe6\\x95\\xb0\\xe6\\x8d\\xae\\xe4\\xb8\\xad\\xe5\\xbf\\x83</a></div></div>\\r\\n            <div class=\"rbox\">\\r\\n                <ul><li><a href=\"http://js1.eastmoney.com/tg.aspx?ID=520\" target=\"_blank\" >\\xe6\\x96\\xb0\\xe8\\x82\\xa1\\xe7\\x94\\xb3\\xe8\\xb4\\xad</a></li><li><a href=\"http://js1.eastmoney.com/tg.aspx?ID=522\" target=\"_blank\" >\\xe6\\x96\\xb0\\xe8\\x82\\xa1\\xe6\\x97\\xa5\\xe5\\x8e\\x86</a></li><li><a href=\"http://js1.eastmoney.com/tg.aspx?ID=525\" target=\"_blank\" >\\xe8\\xb5\\x84\\xe9\\x87\\x91\\xe6\\xb5\\x81\\xe5\\x90\\x91</a></li><li><a href=\"http://quote.eastmoney.com/center/list.html#ah_1\\t\" target=\"_blank\" class=\"red\">AH\\xe8\\x82\\xa1\\xe6\\xaf\\x94\\xe4\\xbb\\xb7</a></li><li><a href=\"http://js1.eastmoney.com/tg.aspx?ID=540\" target=\"_blank\" >\\xe4\\xb8\\xbb\\xe5\\x8a\\x9b\\xe6\\x8e\\x92\\xe5\\x90\\x8d</a></li><li><a href=\"http://js1.eastmoney.com/tg.aspx?ID=615\" target=\"_blank\" >\\xe6\\x9d\\xbf\\xe5\\x9d\\x97\\xe8\\xb5\\x84\\xe9\\x87\\x91</a></li><li><a href=\"http://js1.eastmoney.com/tg.aspx?ID=616\" target=\"_blank\" >\\xe4\\xb8\\xaa\\xe8\\x82\\xa1\\xe7\\xa0\\x94\\xe6\\x8a\\xa5</a></li><li><a href=\"http://js1.eastmoney.com/tg.aspx?ID=631\" target=\"_blank\" >\\xe8\\xa1\\x8c\\xe4\\xb8\\x9a\\xe7\\xa0\\x94\\xe6\\x8a\\xa5</a></li><li><a href=\"http://js1.eastmoney.com/tg.aspx?ID=635\" target=\"_blank\" >\\xe7\\x9b\\x88\\xe5\\x88\\xa9\\xe9\\xa2\\x84\\xe6\\xb5\\x8b</a></li><li><a href=\"http://data.eastmoney.com/stockcomment/\" target=\"_blank\" >\\xe5\\x8d\\x83\\xe8\\x82\\xa1\\xe5\\x8d\\x83\\xe8\\xaf\\x84</a></li><li><a href=\"http://data.eastmoney.com/bbsj/\" target=\"_blank\" >\\xe5\\xb9\\xb4\\xe6\\x8a\\xa5\\xe5\\xad\\xa3\\xe6\\x8a\\xa5</a></li><li><a href=\"http://js1.eastmoney.com/tg.aspx?ID=693\" target=\"_blank\" >\\xe9\\xbe\\x99\\xe8\\x99\\x8e\\xe6\\xa6\\x9c\\xe5\\x8d\\x95</a></li><li><a href=\"http://js1.eastmoney.com/tg.aspx?ID=695\" target=\"_blank\" >\\xe9\\x99\\x90\\xe5\\x94\\xae\\xe8\\xa7\\xa3\\xe7\\xa6\\x81</a></li><li><a href=\"http://js1.eastmoney.com/tg.aspx?ID=731\" target=\"_blank\" >\\xe5\\xa4\\xa7\\xe5\\xae\\x97\\xe4\\xba\\xa4\\xe6\\x98\\x93</a></li><li><a href=\"http://js1.eastmoney.com/tg.aspx?ID=748\" target=\"_blank\" >\\xe6\\x9c\\x9f\\xe6\\x8c\\x87\\xe6\\x8c\\x81\\xe4\\xbb\\x93</a></li><li class=\"last\"><a href=\"http://js1.eastmoney.com/tg.aspx?ID=609\" target=\"_blank\" >\\xe8\\x9e\\x8d\\xe8\\xb5\\x84\\xe8\\x9e\\x8d\\xe5\\x88\\xb8</a></li></ul>\\r\\n            </div>\\r\\n        </div>\\r\\n    </div>\\r\\n</div>\\r\\n<div class=\"qphox\">\\r\\n    <div class=\"aide nt\">\\r\\n        <div class=\"hgt\">\\r\\n            <div class=\"lbox\">\\r\\n                <div class=\"tit\"><b></b><a href=\"http://quote.eastmoney.com/center/hgtstock.html#_12\" target=\"_blank\">\\xe6\\xb2\\xaa\\xe6\\xb7\\xb1\\xe6\\xb8\\xaf\\xe9\\x80\\x9a</a>\\r\\n                </div>\\r\\n            </div>\\r\\n            <div class=\"rbox\">\\r\\n                <div style=\"margin-left: 2px; float: left; padding: 0 2px; width: 215px; text-align: center; position: relative;\">\\r\\n                    <a href=\"http://quote.eastmoney.com/center/list.html#28003707_12_2\" target=\"_blank\" class=\"sg\">\\xe6\\xb2\\xaa\\xe8\\x82\\xa1\\xe9\\x80\\x9a</a>\\r\\n                    <span class=\"run\" id=\"hgtrun\"></span><a style=\"color: #039; text-decoration: underline;\" href=\"http://data.eastmoney.com/hsgt/index.html\" target=\"_blank\">\\xe8\\xb5\\x84\\xe9\\x87\\x91\\xe6\\xb5\\x81\\xe5\\x85\\xa5</a><span style=\"text-decoration: underline;\" id=\"hgtzj\">-</span>\\r\\n                    <span class=\"lx\" style=\"position: absolute; right: 0;\">|</span>\\r\\n                </div>\\r\\n                <div style=\"float: left; padding: 0 2px; width: 215px; text-align: center; position: relative;\">\\r\\n                    <a href=\"http://quote.eastmoney.com/center/list.html#28013804_12_3\" target=\"_blank\" class=\"sg\">\\xe6\\xb7\\xb1\\xe8\\x82\\xa1\\xe9\\x80\\x9a</a>\\r\\n                    <span class=\"run\" id=\"sgtrun\"></span><a style=\"color: #039; text-decoration: underline;\" href=\"http://data.eastmoney.com/hsgt/index.html\" target=\"_blank\">\\xe8\\xb5\\x84\\xe9\\x87\\x91\\xe6\\xb5\\x81\\xe5\\x85\\xa5</a><span style=\"text-decoration: underline;\" id=\"sgtzj\">-</span>\\r\\n                    <span class=\"lx\" style=\"position: absolute; right: 0;\">|</span>\\r\\n                </div>\\r\\n                <div style=\"float: left; padding: 0 2px; width: 232px; text-align: center; position: relative;\">\\r\\n                    <a href=\"http://quote.eastmoney.com/center/list.html#mk0144_12\" target=\"_blank\" class=\"sg\">\\xe6\\xb8\\xaf\\xe8\\x82\\xa1\\xe9\\x80\\x9a(\\xe6\\xb2\\xaa)</a>\\r\\n                    <span class=\"run\" id=\"ggthrun\"></span><a style=\"color: #039; text-decoration: underline;\" href=\"http://data.eastmoney.com/hsgt/index.html\" target=\"_blank\">\\xe8\\xb5\\x84\\xe9\\x87\\x91\\xe6\\xb5\\x81\\xe5\\x85\\xa5</a><span style=\"text-decoration: underline;\" id=\"ggthzj\">-</span>\\r\\n                    <span class=\"lx\" style=\"position: absolute; right: 0;\">|</span>\\r\\n                </div>\\r\\n                <div style=\"float: left; padding: 0 2px; width: 232px; text-align: center; position: relative;\">\\r\\n                    <a href=\"http://quote.eastmoney.com/center/list.html#mk0146_12\" target=\"_blank\" class=\"sg\">\\xe6\\xb8\\xaf\\xe8\\x82\\xa1\\xe9\\x80\\x9a(\\xe6\\xb7\\xb1)</a>\\r\\n                    <span class=\"run\" id=\"ggtsrun\"></span><a style=\"color: #039; text-decoration: underline;\" href=\"http://data.eastmoney.com/hsgt/index.html\" target=\"_blank\">\\xe8\\xb5\\x84\\xe9\\x87\\x91\\xe6\\xb5\\x81\\xe5\\x85\\xa5</a><span style=\"text-decoration: underline;\" id=\"ggtszj\">-</span>\\r\\n                </div>\\r\\n            </div>\\r\\n        </div>\\r\\n    </div>\\r\\n</div>\\r\\n<div class=\"qphox\">\\r\\n    <div class=\"aide nb\">\\r\\n        <div class=\"hisacc\">\\r\\n            <div id=\"histit\" class=\"tit\">\\xe6\\x9c\\x80\\xe8\\xbf\\x91\\xe8\\xae\\xbf\\xe9\\x97\\xae\\xef\\xbc\\x9a</div>\\r\\n            <div id=\"historyest\" class=\"list tile\"></div>\\r\\n        </div>\\r\\n    </div>\\r\\n</div>\\r\\n  </div>\\r\\n  <input type=\"hidden\" id=\"GetHotGuba\" value=\"/web/api/StockApi/GetHotGuba\" />\\r\\n\\r\\n<!-- title begin-->\\r\\n<div class=\"pge_box\">\\r\\n    <div class=\"quote_title\">\\r\\n        <span class=\"quote_title_0 wryh\">\\xe5\\x93\\x88\\xe5\\xb0\\x94\\xe8\\xbd\\xac\\xe5\\x80\\xba</span>\\r\\n        <span class=\"quote_title_1 wryh\">128073</span>\\r\\n        <span class=\"color666 stock_time\">(2020-04-13 19:04:41)</span>\\r\\n        <!-- \\xe5\\x8a\\xa0\\xe8\\x87\\xaa\\xe9\\x80\\x89 -->\\r\\n        <span id=\"addMyStock\" style=\"margin: 12px 0 0 10px;\">\\r\\n            <a target=\"_self\" href=\"javascript:;\" class=\"linktab\" id=\"addZXTag\" data-code=\"128073\"\\r\\n                data-market=\"0\">+\\xe5\\x8a\\xa0\\xe8\\x87\\xaa\\xe9\\x80\\x89</a>\\r\\n        </span>\\r\\n        <!-- \\xe5\\x8f\\xb3\\xe4\\xbe\\xa7\\xe9\\x93\\xbe\\xe6\\x8e\\xa5 -->\\r\\n        <a href=\"http://bond.eastmoney.com/\" target=\"_blank\">\\xe5\\x80\\xba\\xe5\\x88\\xb8\\xe9\\xa2\\x91\\xe9\\x81\\x93</a>\\r\\n        <a href=\"//quote.eastmoney.com/center/list.html#14.1.1_8_0\" target=\"_blank\">\\xe5\\x80\\xba\\xe5\\x88\\xb8\\xe8\\xa1\\x8c\\xe6\\x83\\x85</a>\\r\\n        <a href=\"//quote.eastmoney.com/center/list.html#bondIndex_8\" target=\"_blank\">\\xe5\\x80\\xba\\xe5\\x88\\xb8\\xe6\\x8c\\x87\\xe6\\x95\\xb0</a>\\r\\n    </div>\\r\\n</div>\\r\\n<!-- title end-->\\r\\n<!-- brief begin-->\\r\\n<div class=\"qphox layout clearfix\" style=\"border-bottom:solid 1px #bbd4e8;\">\\r\\n    <div class=\"fl xt1 data-left\">\\r\\n        <div id=\"arrowud\">\\r\\n            <strong class=\"xp1 wryh zxj\">-</strong>\\r\\n            <i id=\"arrow-find\" class=\"xp2\"></i>\\r\\n        </div>\\r\\n        <span class=\"xp34\">\\r\\n            <b class=\"xp3 zde\">-</b>\\r\\n            <b class=\"xp4 zdf\">-</b>\\r\\n        </span>\\r\\n    </div>\\r\\n    <div class=\"data-middle fl\">\\r\\n        <ul class=\"clearfix\">\\r\\n            <li><span>\\xe4\\xbb\\x8a\\xe5\\xbc\\x80:</span><span class=\"jk\">-</span></li>\\r\\n            <li><span>\\xe6\\x9c\\x80\\xe9\\xab\\x98:</span><span class=\"zgj\">-</span></li>\\r\\n            <li><span>\\xe6\\x88\\x90\\xe4\\xba\\xa4\\xe9\\x87\\x8f:</span><span class=\"cjl\">-</span></li>\\r\\n            <li><span>\\xe4\\xb9\\xb0\\xe5\\x85\\xa5\\xe4\\xbb\\xb7:</span><span class=\"mrj\">-</span></li>\\r\\n            <li><span>\\xe5\\x86\\x85\\xe7\\x9b\\x98:</span><span class=\"np\">-</span></li>\\r\\n            <li><span>\\xe6\\x8c\\xaf\\xe5\\xb9\\x85:</span><span class=\"zf\">-</span></li>\\r\\n        </ul>\\r\\n        <ul class=\"clearfix\">\\r\\n            <li><span>\\xe6\\x98\\xa8\\xe6\\x94\\xb6:</span><span class=\"zs\">-</span></li>\\r\\n            <li><span>\\xe6\\x9c\\x80\\xe4\\xbd\\x8e:</span><span class=\"zdj\">-</span></li>\\r\\n            <li><span>\\xe6\\x88\\x90\\xe4\\xba\\xa4\\xe9\\xa2\\x9d:</span><span class=\"cje\">-</span></li>\\r\\n            <li><span>\\xe5\\x8d\\x96\\xe5\\x87\\xba\\xe4\\xbb\\xb7:</span><span class=\"mcj\">-</span></li>\\r\\n            <li><span>\\xe5\\xa4\\x96\\xe7\\x9b\\x98:</span><span class=\"wp\">-</span></li>\\r\\n            <li><span>\\xe9\\x87\\x8f\\xe6\\xaf\\x94:</span><span class=\"lb\">-</span></li>\\r\\n        </ul>\\r\\n    </div>\\r\\n    <div class=\"data-right fr\">\\r\\n        <strong class=\"zgmc\"></strong>\\r\\n        <div class=\"zgxj\">-</div>\\r\\n        <span class=\"zhguZde\">-</span><span class=\"zhguZdf\">-</span>\\r\\n    </div> \\r\\n    <span class=\"kzhzh\" style=\"display:none;\"></span>\\r\\n</div>\\r\\n<!-- brief end-->\\r\\n\\r\\n<!-- \\xe9\\x87\\x8d\\xe8\\xa6\\x81\\xe9\\x80\\x9a\\xe7\\x9f\\xa5-->\\r\\n<div class=\"clearfix qphox  layout noticeBox\">\\r\\n    <div class=\"row scoll_news \">\\r\\n        <a class=\"notice_title fl\">\\xe9\\x87\\x8d\\xe8\\xa6\\x81\\xe9\\x80\\x9a\\xe7\\x9f\\xa5</a>\\r\\n        <div id=\"scrollnews-container\" class=\"msg-content fl\">\\r\\n            <div class=\"msg-content-box\"></div>\\r\\n        </div>\\r\\n    </div>\\r\\n</div>\\r\\n<!-- \\xe9\\x87\\x8d\\xe8\\xa6\\x81\\xe9\\x80\\x9a\\xe7\\x9f\\xa5\\xe7\\xbb\\x93\\xe6\\x9d\\x9f-->\\r\\n\\r\\n<div class=\"pge_box clearfix\">\\r\\n    <div class=\"side\">\\r\\n        \\r\\n            <div class=\"side_box\">\\r\\n                <div class=\"header clearfix\">\\r\\n                    <a href=\"http://data.eastmoney.com/kzz/default.html\" class=\"more fr\" target=\"_blank\">\\xe6\\x9b\\xb4\\xe5\\xa4\\x9a</a>\\r\\n                    <h2 class=\"title fl\">\\r\\n                        <a href=\"http://data.eastmoney.com/kzz/default.html\" class=\"titleCon\" target=\"_blank\">\\xe5\\x8f\\xaf\\xe8\\xbd\\xac\\xe5\\x80\\xba\\xe7\\x94\\xb3\\xe8\\xb4\\xad</a>\\r\\n                    </h2>\\r\\n                </div>\\r\\n                <div class=\"info_list \">\\r\\n                    <table class=\"list\" id=\"kzzsg_table\">\\r\\n                        <thead>\\r\\n                            <tr><th class=\"mingchengLeft\">\\xe7\\x94\\xb3\\xe8\\xb4\\xad\\xe4\\xbb\\xa3\\xe7\\xa0\\x81</th><th>\\xe5\\x80\\xba\\xe5\\x88\\xb8\\xe7\\xae\\x80\\xe7\\xa7\\xb0</th><th>\\xe7\\x94\\xb3\\xe8\\xb4\\xad\\xe6\\x97\\xa5\\xe6\\x9c\\x9f</th></tr>\\r\\n                        </thead>\\r\\n                        <tbody>\\r\\n                            <tr><td>-</td><td>-</td><td>-</td></tr><tr><td>-</td><td>-</td><td>-</td></tr><tr><td>-</td><td>-</td><td>-</td></tr><tr><td>-</td><td>-</td><td>-</td></tr><tr><td>-</td><td>-</td><td>-</td></tr><tr><td>-</td><td>-</td><td>-</td></tr><tr><td>-</td><td>-</td><td>-</td></tr><tr><td>-</td><td>-</td><td>-</td></tr><tr><td>-</td><td>-</td><td>-</td></tr><tr><td>-</td><td>-</td><td>-</td></tr><tr><td>-</td><td>-</td><td>-</td></tr>\\r\\n                        </tbody>\\r\\n                    </table>\\r\\n                </div>\\r\\n            </div>\\r\\n            <div class=\"side_box\">\\r\\n                <div class=\"header clearfix\">\\r\\n                    <a href=\"http://quote.eastmoney.com/center/fullscreenlist.html?st=zgYjb&sr=1#convertible_comparison\" class=\"more fr\" target=\"_blank\">\\xe6\\x9b\\xb4\\xe5\\xa4\\x9a</a>\\r\\n                    <h2 class=\"title fl\">\\r\\n                        <a href=\"http://quote.eastmoney.com/center/fullscreenlist.html?st=zgYjb&sr=1#convertible_comparison\" class=\"titleCon\" target=\"_blank\">\\xe5\\x8f\\xaf\\xe8\\xbd\\xac\\xe5\\x80\\xba\\xe5\\xa5\\x97\\xe5\\x88\\xa9\\xe6\\x9c\\xba\\xe4\\xbc\\x9a</a>\\r\\n                    </h2>\\r\\n                </div>\\r\\n                <div class=\"info_list \">\\r\\n                    <table class=\"list\" id=\"kzztljh_table\">\\r\\n                        <thead>\\r\\n                            <tr><th class=\"mingchengLeft\">\\xe5\\x90\\x8d\\xe7\\xa7\\xb0</th><th>\\xe6\\x9c\\x80\\xe6\\x96\\xb0\\xe4\\xbb\\xb7</th><th>\\xe8\\xbd\\xac\\xe8\\x82\\xa1\\xe6\\xba\\xa2\\xe4\\xbb\\xb7\\xe7\\x8e\\x87</th></tr>\\r\\n                        </thead>\\r\\n                        <tbody> <tr><td>-</td><td>-</td><td>-</td></tr><tr><td>-</td><td>-</td><td>-</td></tr><tr><td>-</td><td>-</td><td>-</td></tr><tr><td>-</td><td>-</td><td>-</td></tr><tr><td>-</td><td>-</td><td>-</td></tr><tr><td>-</td><td>-</td><td>-</td></tr><tr><td>-</td><td>-</td><td>-</td></tr><tr><td>-</td><td>-</td><td>-</td></tr><tr><td>-</td><td>-</td><td>-</td></tr><tr><td>-</td><td>-</td><td>-</td></tr><tr><td>-</td><td>-</td><td>-</td></tr><tr><td>-</td><td>-</td><td>-</td></tr></tbody>\\r\\n                    </table>\\r\\n                </div>\\r\\n            </div>\\r\\n            <div class=\"side_box\">\\r\\n                <div class=\"header clearfix\">\\r\\n                    <a href=\"http://quote.eastmoney.com/center/fullscreenlist.html?st=ChangePercent&sr=-1#convertible_comparison\" class=\"more fr\" target=\"_blank\">\\xe6\\x9b\\xb4\\xe5\\xa4\\x9a</a>\\r\\n                    <h2 class=\"title fl\">\\r\\n                        <a href=\"http://quote.eastmoney.com/center/fullscreenlist.html?st=ChangePercent&sr=-1#convertible_comparison\" class=\"titleCon\" target=\"_blank\">\\xe5\\x8f\\xaf\\xe8\\xbd\\xac\\xe5\\x80\\xba\\xe6\\xb6\\xa8\\xe5\\xb9\\x85\\xe6\\x8e\\x92\\xe8\\xa1\\x8c</a>\\r\\n                    </h2>\\r\\n                </div>\\r\\n                <div class=\"info_list \">\\r\\n                    <table class=\"list\" id=\"kzzzfph_table\">\\r\\n                        <thead>\\r\\n                            <tr><th class=\"mingchengLeft\">\\xe5\\x90\\x8d\\xe7\\xa7\\xb0</th><th>\\xe6\\x9c\\x80\\xe6\\x96\\xb0\\xe4\\xbb\\xb7</th><th>\\xe6\\xb6\\xa8\\xe8\\xb7\\x8c\\xe5\\xb9\\x85</th></tr>\\r\\n                        </thead>\\r\\n                        <tbody> <tr><td>-</td><td>-</td><td>-</td></tr><tr><td>-</td><td>-</td><td>-</td></tr><tr><td>-</td><td>-</td><td>-</td></tr><tr><td>-</td><td>-</td><td>-</td></tr><tr><td>-</td><td>-</td><td>-</td></tr><tr><td>-</td><td>-</td><td>-</td></tr><tr><td>-</td><td>-</td><td>-</td></tr><tr><td>-</td><td>-</td><td>-</td></tr><tr><td>-</td><td>-</td><td>-</td></tr><tr><td>-</td><td>-</td><td>-</td></tr><tr><td>-</td><td>-</td><td>-</td></tr><tr><td>-</td><td>-</td><td>-</td></tr></tbody>\\r\\n                    </table>\\r\\n                </div>\\r\\n            </div>            \\r\\n            \\r\\n        \\r\\n    </div>\\r\\n    <div class=\"main fl chart \">\\r\\n        <div class=\"global_zhibo\">\\r\\n            <span>\\xe5\\x80\\xba\\xe5\\x88\\xb8\\xe6\\xbb\\x9a\\xe5\\x8a\\xa8</span>\\r\\n            <ul class=\"clearfix ScrollMIIRBox\"></ul>\\r\\n        </div>\\r\\n        <ul class=\"topnav\">\\r\\n            <li class=\"a\"><b></b><a href=\"http://gb.eastmoney.com/list,zq.html\" target=\"_blank\">\\xe5\\x80\\xba\\xe5\\x88\\xb8\\xe5\\x90\\xa7</a></li>\\r\\n        </ul>\\r\\n        <div id=\"chartimg_select\" class=\"clearfix chartimg_select\">\\r\\n            <a href=\"javascript:;\" id=\"image_show\" class=\"fr header-title-b cur\"><b></b>\\xe5\\x9b\\xbe\\xe7\\x89\\x87\\xe7\\x89\\x88</a>\\r\\n            <a href=\"javascript:;\" id=\"h5_show\" class=\"fr header-title-b \"><b></b>H5\\xe7\\x89\\x88</a>\\r\\n        </div>\\r\\n        <div id=\"img_container\">\\r\\n            <div id=\"picr\">\\r\\n                <img src=\"//webquotepic.eastmoney.com/GetPic.aspx?id=1280732&imageType=rf&token=44c9d251add88e27b65ed86506f6e5da\"\\r\\n                     width=\"578\" height=\"276\">\\r\\n            </div>\\r\\n            <div class=\"pktopnav\" style=\"*margin-bottom: 4px; *margin-top: 3px; margin: 4px;\">\\r\\n                <div class=\"fl pryxz \" id=\"pictit\">\\r\\n                    <span class=\"cur\" type=\"\" index=\"0\">\\r\\n                        <div></div>\\r\\n                        \\xe6\\x97\\xa5K\\r\\n                    </span>\\r\\n                    <span type=\"W\" index=\"1\">\\r\\n                        <div></div>\\r\\n                        \\xe5\\x91\\xa8K\\r\\n                    </span>\\r\\n                    <span type=\"M\" index=\"2\">\\r\\n                        <div></div>\\r\\n                        \\xe6\\x9c\\x88K\\r\\n                    </span>\\r\\n                </div>\\r\\n                <div class=\"fr\">\\r\\n                    <span id=\"picklc\" class=\"fr header-title-a  h22 b2F5\">\\xe7\\xbc\\xa9\\xe7\\x9f\\xadK\\xe7\\xba\\xbf</span>\\r\\n                    <span id=\"picksd\" class=\"fr header-title-a  h22 mr10 b2F5\">\\xe6\\x8b\\x89\\xe9\\x95\\xbfK\\xe7\\xba\\xbf</span>\\r\\n                </div>\\r\\n            </div>\\r\\n            <div class=\"pickbox mb7 w578 \">\\r\\n                <div class=\"tox\">\\r\\n                    <div id=\"pick\" class=\"pick fl\">\\r\\n                        <img border=\"0\" width=\"520\" height=\"365\" id=\"hkpic\" src=\"http://webquoteklinepic.eastmoney.com/GetPic.aspx?ID=1280732&UnitWidth=-6&imageType=KXL&EF=&Formula=RSI&AT=&type=&token=44c9d251add88e27b65ed86506f6e5da\" />\\r\\n                    </div>\\r\\n                    <div class=\"rox fr\">\\r\\n                        <ul id=\"zkeya\">\\r\\n                            <li>\\xe4\\xb8\\xbb\\xe8\\xa6\\x81\\xe6\\x8c\\x87\\xe6\\xa0\\x87</li>\\r\\n                            <li class=\"at\" type=\"\"><b></b>\\xe5\\x9d\\x87\\xe7\\xba\\xbf</li>\\r\\n                            <li type=\"EXTENDED_MA\"><b></b>EXPMA</li>\\r\\n                            <li type=\"EXTENDED_BOLL\"><b></b>BOLL</li>\\r\\n                            <li type=\"EXTENDED_SAR\"><b></b>SAR</li>\\r\\n                            <li type=\"EXTENDED_BBI\"><b></b>BBI</li>\\r\\n                        </ul>\\r\\n                        <ul id=\"zkeyb\" class=\"bottom\">\\r\\n                            <li class=\"at\" type=\"RSI\"><b></b>RSI</li>\\r\\n                            <li type=\"KDJ\"><b></b>KDJ</li>\\r\\n                            <li type=\"MACD\"><b></b>MACD</li>\\r\\n                            <li type=\"WR\"><b></b>W&R</li>\\r\\n                            <li type=\"DMI\"><b></b>DMI</li>\\r\\n                            <li type=\"BIAS\"><b></b>BIAS</li>\\r\\n                            <li type=\"OBV\"><b></b>OBV</li>\\r\\n                            <li type=\"CCI\"><b></b>CCI</li>\\r\\n                            <li type=\"ROC\"><b></b>ROC</li>\\r\\n                            <li type=\"CR\"><b></b>CR</li>\\r\\n                            <li type=\"BOll\"><b></b>BOLL</li>\\r\\n                        </ul>\\r\\n                    </div>\\r\\n                </div>\\r\\n                <ul class=\"bom\" id=\"zkeyc\">\\r\\n                    <li class=\"at\" type=\"RSI\"><b></b>RSI</li>\\r\\n                    <li type=\"KDJ\"><b></b>KDJ</li>\\r\\n                    <li type=\"MACD\"><b></b>MACD</li>\\r\\n                    <li type=\"WR\"><b></b>W&R</li>\\r\\n                    <li type=\"DMI\"><b></b>DMI</li>\\r\\n                    <li type=\"BIAS\"><b></b>BIAS</li>\\r\\n                    <li type=\"OBV\"><b></b>OBV</li>\\r\\n                    <li type=\"CCI\"><b></b>CCI</li>\\r\\n                    <li type=\"ROC\"><b></b>ROC</li>\\r\\n                    <li type=\"CR\"><b></b>CR</li>\\r\\n                    <li type=\"BOll\"><b></b>BOLL</li>\\r\\n                </ul>\\r\\n            </div>\\r\\n        </div>\\r\\n        <div id=\"h5_container\" class=\"chart\" style=\"display: none;\">\\r\\n            <div class=\"picrbox emchart\">\\r\\n                <div id=\"emchart-0\" class=\"em-tab\">\\r\\n                </div>\\r\\n                <div id=\"emchart-1\" class=\"em-tab\">\\r\\n                </div>\\r\\n                <div id=\"emchart-2\" class=\"em-tab\">\\r\\n                </div>\\r\\n                <div id=\"emchart-3\" class=\"em-tab\">\\r\\n                </div>\\r\\n            </div>\\r\\n            <div class=\"h22\" style=\"margin: 7px 0;\">\\r\\n                <div class=\"fl pryxz\" id=\"changektab\">\\r\\n                    <span class=\"cur\" value=\"D\">\\xe6\\x97\\xa5K</span>\\r\\n                    <span class=\"\" value=\"W\">\\xe5\\x91\\xa8K</span>\\r\\n                    <span class=\"\" value=\"M\">\\xe6\\x9c\\x88K</span>\\r\\n                </div>\\r\\n                <div class=\"fr myselect w79 \" id=\"beforeBackRight\">\\r\\n                    <i></i>\\r\\n                    <span>\\xe4\\xb8\\x8d\\xe5\\xa4\\x8d\\xe6\\x9d\\x83</span>\\r\\n                    <dl>\\r\\n                        <dd value=\"\">\\xe4\\xb8\\x8d\\xe5\\xa4\\x8d\\xe6\\x9d\\x83</dd>\\r\\n                        <dd value=\"before\">\\xe5\\x89\\x8d\\xe5\\xa4\\x8d\\xe6\\x9d\\x83</dd>\\r\\n                        <dd value=\"back\">\\xe5\\x90\\x8e\\xe5\\xa4\\x8d\\xe6\\x9d\\x83</dd>\\r\\n                    </dl>\\r\\n                </div>\\r\\n                <span id=\"scale-plus\" class=\"fr header-title-a  h22 mr10 b2F5\">\\xe7\\xbc\\xa9\\xe7\\x9f\\xadK\\xe7\\xba\\xbf</span>\\r\\n                <span id=\"scale-minus\" class=\"fr header-title-a  h22 b2F5\">\\xe6\\x8b\\x89\\xe9\\x95\\xbfK\\xe7\\xba\\xbf</span>\\r\\n            </div>\\r\\n            <div class=\"flsk\" style=\"margin-left: -5px;\" id=\"emchartk\">\\r\\n                <div id=\"emchartk-0\" class=\"em-tab\" style=\"*margin-bottom: 10px;\">\\r\\n                </div>\\r\\n                <div id=\"emchartk-1\" class=\"em-tab\">\\r\\n                </div>\\r\\n                <div id=\"emchartk-2\" class=\"em-tab\">\\r\\n                </div>\\r\\n                <div id=\"emchartk-3\" class=\"em-tab\">\\r\\n                </div>\\r\\n                <div id=\"emchartk-4\" class=\"em-tab\">\\r\\n                </div>\\r\\n                <div id=\"emchartk-5\" class=\"em-tab\">\\r\\n                </div>\\r\\n                <div id=\"emchartk-6\" class=\"em-tab\">\\r\\n                </div>\\r\\n            </div>\\r\\n        </div>\\r\\n\\r\\n        <table class=\"related_varieties\" width=\"100%\">\\r\\n            <tbody>\\r\\n                <tr>\\r\\n                    <td rowspan=\"2\" class=\"titleTd\">\\xe7\\x9b\\xb8\\xe5\\x85\\xb3\\xe5\\x93\\x81\\xe7\\xa7\\x8d</td>\\r\\n                    <td class=\"tdList0\">\\r\\n                        <a href=\"#\" target=\"_blank\">-</a>\\r\\n                        <span>(<em>-</em> <em>-</em>)</span>\\r\\n                    </td>\\r\\n                    <td class=\"tdList1\">\\r\\n                        <a href=\"#\" target=\"_blank\">-</a>\\r\\n                        <span>(<em>-</em> <em>-</em>)</span>\\r\\n                    </td>\\r\\n                    <td class=\"tdList2\">\\r\\n                        <a href=\"#\" target=\"_blank\">-</a>\\r\\n                        <span>(<em>-</em> <em>-</em>)</span>\\r\\n                    </td>\\r\\n                </tr>\\r\\n                <tr>\\r\\n                    <td class=\"tdList3\">\\r\\n                        <a href=\"#\" target=\"_blank\">-</a>\\r\\n                        <span>(<em>-</em> <em>-</em>)</span>\\r\\n                    </td>\\r\\n                    <td class=\"tdList4\">\\r\\n                        <a href=\"#\" target=\"_blank\">-</a>\\r\\n                        <span>(<em>-</em> <em>-</em>)</span>\\r\\n                    </td>\\r\\n                    <td class=\"tdList5\">\\r\\n                        <a href=\"#\" target=\"_blank\">-</a>\\r\\n                        <span>(<em>-</em> <em>-</em>)</span>\\r\\n                    </td>\\r\\n                </tr>\\r\\n            </tbody>\\r\\n\\r\\n        </table>\\r\\n\\r\\n\\r\\n        \\r\\n    </div>\\r\\n    <div class=\"fr side side_right\">\\r\\n        <div class=\"side_box\">\\r\\n            <div class=\"header clearfix\">\\r\\n                <h2 class=\"title fl\">\\r\\n                    <span class=\"titleCon\">\\xe8\\xa1\\x8c\\xe6\\x83\\x85\\xe6\\x8a\\xa5\\xe4\\xbb\\xb7</span>\\r\\n                </h2>\\r\\n            </div>\\r\\n            <div class=\"info_list\" style=\"min-height: 295px;\">\\r\\n                <table class=\"list\">\\r\\n                    <tr>\\r\\n                        <td>\\r\\n                            <span>\\xe5\\xa7\\x94\\xe6\\xaf\\x94</span> <span class=\"wb\">-</span>\\r\\n                        </td>\\r\\n                        <td> <span>\\xe5\\xa7\\x94\\xe5\\xb7\\xae</span> <span class=\"wc\">-</span></td>\\r\\n                    </tr>\\r\\n                </table>\\r\\n                <table class=\"list\" id=\"sell_table\">\\r\\n                    <tbody>\\r\\n                        <tr>\\r\\n                            <td class=\"tac\">\\xe5\\x8d\\x96\\xe4\\xba\\x94</td>\\r\\n                            <td class=\"sell0\">-</td>\\r\\n                            <td class=\"sell_0\">-</td>\\r\\n                        </tr>\\r\\n                        <tr>\\r\\n                            <td class=\"tac\">\\xe5\\x8d\\x96\\xe5\\x9b\\x9b</td>\\r\\n                            <td class=\"sell1\">-</td>\\r\\n                            <td class=\"sell_1\">-</td>\\r\\n                        </tr>\\r\\n                        <tr>\\r\\n                            <td class=\"tac\">\\xe5\\x8d\\x96\\xe4\\xb8\\x89</td>\\r\\n                            <td class=\"sell2\">-</td>\\r\\n                            <td class=\"sell_2\">-</td>\\r\\n                        </tr>\\r\\n                        <tr>\\r\\n                            <td class=\"tac\">\\xe5\\x8d\\x96\\xe4\\xba\\x8c</td>\\r\\n                            <td class=\"sell3\">-</td>\\r\\n                            <td class=\"sell_3\">-</td>\\r\\n                        </tr>\\r\\n                        <tr>\\r\\n                            <td class=\"tac\">\\xe5\\x8d\\x96\\xe4\\xb8\\x80</td>\\r\\n                            <td class=\"sell4\">-</td>\\r\\n                            <td class=\"sell_4\">-</td>\\r\\n                        </tr>\\r\\n                    </tbody>\\r\\n                </table>\\r\\n                <table class=\"list\" id=\"buy_table\">\\r\\n                    <tbody>\\r\\n                        <tr>\\r\\n                            <td class=\"tac\">\\xe4\\xb9\\xb0\\xe4\\xb8\\x80</td>\\r\\n                            <td class=\"buy0\">-</td>\\r\\n                            <td class=\"buy_0\">-</td>\\r\\n                        </tr>\\r\\n                        <tr>\\r\\n                            <td class=\"tac\">\\xe4\\xb9\\xb0\\xe4\\xba\\x8c</td>\\r\\n                            <td class=\"buy1\">-</td>\\r\\n                            <td class=\"buy_1\">-</td>\\r\\n                        </tr>\\r\\n                        <tr>\\r\\n                            <td class=\"tac\">\\xe4\\xb9\\xb0\\xe4\\xb8\\x89</td>\\r\\n                            <td class=\"buy2\">-</td>\\r\\n                            <td class=\"buy_2\">-</td>\\r\\n                        </tr>\\r\\n                        <tr>\\r\\n                            <td class=\"tac\">\\xe4\\xb9\\xb0\\xe5\\x9b\\x9b</td>\\r\\n                            <td class=\"buy3\">-</td>\\r\\n                            <td class=\"buy_3\">-</td>\\r\\n                        </tr>\\r\\n                        <tr>\\r\\n                            <td class=\"tac\">\\xe4\\xb9\\xb0\\xe4\\xba\\x94</td>\\r\\n                            <td class=\"buy4\">-</td>\\r\\n                            <td class=\"buy_4\">-</td>\\r\\n                        </tr>\\r\\n                    </tbody>\\r\\n                </table>\\r\\n            </div>\\r\\n            <div class=\"box-x1 line24\" style=\"min-height: 182px;\">\\r\\n                <table cellspacing=\"0\" cellpadding=\"0\" class=\"w100p list text-indent10\">\\r\\n                    <tbody>\\r\\n                        <tr>\\r\\n                            <td>\\xe6\\x9c\\x80\\xe6\\x96\\xb0\\xef\\xbc\\x9a<span class=\"zxj\">-</span></td>\\r\\n                            <td>\\xe5\\x9d\\x87\\xe4\\xbb\\xb7\\xef\\xbc\\x9a<span class=\"jj\">-</span></td>\\r\\n                        </tr>\\r\\n                        <tr>\\r\\n                            <td>\\xe6\\xb6\\xa8\\xe5\\xb9\\x85\\xef\\xbc\\x9a<span class=\"zdf\">-</span></td>\\r\\n                            <td>\\xe6\\xb6\\xa8\\xe8\\xb7\\x8c\\xef\\xbc\\x9a<span class=\"zde\">-</span></td>\\r\\n                        </tr>\\r\\n                        <tr>\\r\\n                            <td>\\xe6\\x80\\xbb\\xe6\\x89\\x8b\\xef\\xbc\\x9a<span class=\"cjl\">-</span></td>\\r\\n                            <td>\\xe9\\x87\\x91\\xe9\\xa2\\x9d\\xef\\xbc\\x9a<span class=\"cje\">-</span></td>\\r\\n                        </tr>\\r\\n                        <tr>\\r\\n                            <td>\\xe6\\x8c\\xaf\\xe5\\xb9\\x85\\xef\\xbc\\x9a<span class=\"zf\">-</span></td>\\r\\n                            <td>\\xe9\\x87\\x8f\\xe6\\xaf\\x94\\xef\\xbc\\x9a<span class=\"lb\">-</span></td>\\r\\n                        </tr>\\r\\n                        <tr>\\r\\n                            <td>\\xe6\\x9c\\x80\\xe9\\xab\\x98\\xef\\xbc\\x9a<span class=\"zgj\">-</span></td>\\r\\n                            <td>\\xe6\\x9c\\x80\\xe4\\xbd\\x8e\\xef\\xbc\\x9a<span class=\"zdj\">-</span></td>\\r\\n                        </tr>\\r\\n                        <tr>\\r\\n                            <td>\\xe4\\xbb\\x8a\\xe5\\xbc\\x80\\xef\\xbc\\x9a<span class=\"jk\">-</span></td>\\r\\n                            <td>\\xe6\\x98\\xa8\\xe6\\x94\\xb6\\xef\\xbc\\x9a<span class=\"zs\">-</span></td>\\r\\n                        </tr>\\r\\n                        <tr>\\r\\n                            <td>\\xe5\\xa4\\x96\\xe7\\x9b\\x98\\xef\\xbc\\x9a<span class=\"wp\">-</span></td>\\r\\n                            <td>\\xe5\\x86\\x85\\xe7\\x9b\\x98\\xef\\xbc\\x9a<span class=\"np\">-</span></td>\\r\\n                        </tr>\\r\\n                    </tbody>\\r\\n                </table>\\r\\n            </div>\\r\\n        </div>\\r\\n        <div class=\"side_box \" style=\"margin-top:13px;*margin-top:-1px;\">\\r\\n            <div class=\"header clearfix\">\\r\\n                <h2 class=\"title fl\">\\r\\n                    <span class=\"titleCon\">\\xe5\\x88\\x86\\xe6\\x97\\xb6\\xe6\\x88\\x90\\xe4\\xba\\xa4</span>\\r\\n                </h2>\\r\\n            </div>\\r\\n            <div class=\"info_list\" style=\"min-height: 292px;\">\\r\\n                <table id=\"deal_detail\" class=\"list side_right_table3\">\\r\\n                    <tbody>\\r\\n                        <tr>\\r\\n                            <td>-:-:-</td>\\r\\n                            <td>-</td>\\r\\n                            <td class=\"chjl\">-</td>\\r\\n                        </tr>\\r\\n                        <tr>\\r\\n                            <td>-:-:-</td>\\r\\n                            <td>-</td>\\r\\n                            <td class=\"chjl\">-</td>\\r\\n                        </tr>\\r\\n                        <tr>\\r\\n                            <td>-:-:-</td>\\r\\n                            <td>-</td>\\r\\n                            <td class=\"chjl\">-</td>\\r\\n                        </tr>\\r\\n                        <tr>\\r\\n                            <td>-:-:-</td>\\r\\n                            <td>-</td>\\r\\n                            <td class=\"chjl\">-</td>\\r\\n                        </tr>\\r\\n                        <tr>\\r\\n                            <td>-:-:-</td>\\r\\n                            <td>-</td>\\r\\n                            <td class=\"chjl\">-</td>\\r\\n                        </tr>\\r\\n                        <tr>\\r\\n                            <td>-:-:-</td>\\r\\n                            <td>-</td>\\r\\n                            <td class=\"chjl\">-</td>\\r\\n                        </tr>\\r\\n                        <tr>\\r\\n                            <td>-:-:-</td>\\r\\n                            <td>-</td>\\r\\n                            <td class=\"chjl\">-</td>\\r\\n                        </tr>\\r\\n                        <tr>\\r\\n                            <td>-:-:-</td>\\r\\n                            <td>-</td>\\r\\n                            <td class=\"chjl\">-</td>\\r\\n                        </tr>\\r\\n                        <tr>\\r\\n                            <td>-:-:-</td>\\r\\n                            <td>-</td>\\r\\n                            <td class=\"chjl\">-</td>\\r\\n                        </tr>\\r\\n                        <tr>\\r\\n                            <td>-:-:-</td>\\r\\n                            <td>-</td>\\r\\n                            <td class=\"chjl\">-</td>\\r\\n                        </tr>\\r\\n                        <tr>\\r\\n                            <td>-:-:-</td>\\r\\n                            <td>-</td>\\r\\n                            <td class=\"chjl\">-</td>\\r\\n                        </tr>\\r\\n                        <tr>\\r\\n                            <td>-:-:-</td>\\r\\n                            <td>-</td>\\r\\n                            <td class=\"chjl\">-</td>\\r\\n                        </tr>\\r\\n                    </tbody>\\r\\n                </table>\\r\\n            </div>\\r\\n        </div>\\r\\n\\r\\n    </div> \\r\\n    \\r\\n    <div style=\"width: 800px; height: 184px; float: left; padding-top: 26px;\">\\r\\n        <div class=\"news news_list mL10 fr\">\\r\\n            <a href=\"http://so.eastmoney.com/News/s?keyword=%E5%93%88%E5%B0%94%E6%96%AF\" target=\"_blank\" class=\"more fr f12\">\\xe6\\x9b\\xb4\\xe5\\xa4\\x9a</a>\\r\\n            <div class=\"clearfix\" style=\"*line-height:26px;\">\\r\\n                <a href=\"http://so.eastmoney.com/News/s?keyword=%E5%93%88%E5%B0%94%E6%96%AF\" target=\"_blank\"><h2 class=\"fl\">\\xe6\\xad\\xa3\\xe8\\x82\\xa1\\xe8\\xb5\\x84\\xe8\\xae\\xaf</h2></a>\\r\\n            </div>\\r\\n             \\r\\n    <ul class=\"article_list nlist\">\\r\\n  \\r\\n    <li class=\"clearfix\">\\r\\n        <a href=\"http://finance.eastmoney.com/a/202004081447534246.html\" target=\"_blank\" class=\"fl\" title=\"\\xe6\\x88\\x91\\xe4\\xbf\\xa9\\xe9\\xa2\\x86\\xe8\\xaf\\x81\\xe4\\xba\\x86 \\xe4\\xbd\\x86\\xe4\\xbb\\x80\\xe4\\xb9\\x88\\xe9\\x83\\xbd\\xe6\\xb2\\xa1\\xe5\\x8f\\x91\\xe7\\x94\\x9f\\xef\\xbc\\x81\\xe5\\x93\\x88\\xe5\\xb0\\x94\\xe6\\x96\\xaf\\xe8\\xbf\\x99\\xe6\\xa0\\xb7\\xe8\\xaf\\xb4\\xe5\\xae\\x83\\xe4\\xb8\\x8e\\xe7\\x91\\x9e\\xe5\\xb9\\xb8\\xe7\\x9a\\x84\\xe5\\x85\\xb3\\xe7\\xb3\\xbb\">\\xc2\\xb7\\xe6\\x88\\x91\\xe4\\xbf\\xa9\\xe9\\xa2\\x86\\xe8\\xaf\\x81\\xe4\\xba\\x86 \\xe4\\xbd\\x86\\xe4\\xbb\\x80\\xe4\\xb9\\x88\\xe9\\x83\\xbd\\xe6\\xb2\\xa1\\xe5\\x8f\\x91\\xe7\\x94\\x9f\\xef\\xbc\\x81\\xe5\\x93\\x88\\xe5\\xb0\\x94\\xe6\\x96\\xaf\\xe8\\xbf\\x99\\xe6\\xa0\\xb7\\xe8\\xaf\\xb4\\xe5\\xae\\x83\\xe4\\xb8\\x8e\\xe7\\x91\\x9e...</a>\\r\\n        <i class=\"fr\">04-08</i>\\r\\n    </li>\\r\\n    \\r\\n    <li class=\"clearfix\">\\r\\n        <a href=\"http://finance.eastmoney.com/a/202004081447330211.html\" target=\"_blank\" class=\"fl\" title=\"\\xe4\\xbb\\x85\\xe7\\xad\\xbe\\xe7\\xbd\\xb2\\xe5\\x90\\x88\\xe4\\xbd\\x9c\\xe6\\xa1\\x86\\xe6\\x9e\\xb6\\xe5\\x8d\\x8f\\xe8\\xae\\xae \\xe5\\x93\\x88\\xe5\\xb0\\x94\\xe6\\x96\\xaf\\xe7\\xa7\\xb0\\xe6\\x9c\\xaa\\xe4\\xb8\\x8e\\xe7\\x91\\x9e\\xe5\\xb9\\xb8\\xe5\\x92\\x96\\xe5\\x95\\xa1\\xe5\\xbb\\xba\\xe7\\xab\\x8b\\xe5\\xae\\x9e\\xe8\\xb4\\xa8\\xe4\\xb8\\x9a\\xe5\\x8a\\xa1\\xe5\\xbe\\x80\\xe6\\x9d\\xa5\">\\xc2\\xb7\\xe4\\xbb\\x85\\xe7\\xad\\xbe\\xe7\\xbd\\xb2\\xe5\\x90\\x88\\xe4\\xbd\\x9c\\xe6\\xa1\\x86\\xe6\\x9e\\xb6\\xe5\\x8d\\x8f\\xe8\\xae\\xae \\xe5\\x93\\x88\\xe5\\xb0\\x94\\xe6\\x96\\xaf\\xe7\\xa7\\xb0\\xe6\\x9c\\xaa\\xe4\\xb8\\x8e\\xe7\\x91\\x9e\\xe5\\xb9\\xb8\\xe5\\x92\\x96\\xe5\\x95\\xa1\\xe5\\xbb\\xba\\xe7\\xab\\x8b\\xe5\\xae\\x9e...</a>\\r\\n        <i class=\"fr\">04-08</i>\\r\\n    </li>\\r\\n    \\r\\n    <li class=\"clearfix\">\\r\\n        <a href=\"http://finance.eastmoney.com/a/202004071445924833.html\" target=\"_blank\" class=\"fl\" title=\"\\xe5\\x8d\\x96\\xe4\\xbf\\x9d\\xe6\\xb8\\xa9\\xe6\\x9d\\xaf\\xe7\\x9a\\x84\\xe5\\x93\\x88\\xe5\\xb0\\x94\\xe6\\x96\\xaf\\xe4\\xb8\\x8e\\xe7\\x91\\x9e\\xe5\\xb9\\xb8\\xe5\\x92\\x96\\xe5\\x95\\xa1\\xe6\\x92\\x87\\xe6\\xb8\\x85\\xe5\\x85\\xb3\\xe7\\xb3\\xbb\\xef\\xbc\\x9a\\xe5\\xb0\\x9a\\xe6\\x97\\xa0\\xe5\\xae\\x9e\\xe8\\xb4\\xa8\\xe4\\xb8\\x9a\\xe5\\x8a\\xa1\\xe5\\xbe\\x80\\xe6\\x9d\\xa5\">\\xc2\\xb7\\xe5\\x8d\\x96\\xe4\\xbf\\x9d\\xe6\\xb8\\xa9\\xe6\\x9d\\xaf\\xe7\\x9a\\x84\\xe5\\x93\\x88\\xe5\\xb0\\x94\\xe6\\x96\\xaf\\xe4\\xb8\\x8e\\xe7\\x91\\x9e\\xe5\\xb9\\xb8\\xe5\\x92\\x96\\xe5\\x95\\xa1\\xe6\\x92\\x87\\xe6\\xb8\\x85\\xe5\\x85\\xb3\\xe7\\xb3\\xbb\\xef\\xbc\\x9a\\xe5\\xb0\\x9a\\xe6\\x97\\xa0\\xe5\\xae\\x9e\\xe8\\xb4\\xa8...</a>\\r\\n        <i class=\"fr\">04-07</i>\\r\\n    </li>\\r\\n    \\r\\n    <li class=\"clearfix\">\\r\\n        <a href=\"http://stock.eastmoney.com/a/202004071445827638.html\" target=\"_blank\" class=\"fl\" title=\"\\xe5\\x93\\x88\\xe5\\xb0\\x94\\xe6\\x96\\xaf\\xef\\xbc\\x9a\\xe5\\x85\\xac\\xe5\\x8f\\xb8\\xe4\\xb8\\x8e\\xe7\\x91\\x9e\\xe5\\xb9\\xb8\\xe5\\x92\\x96\\xe5\\x95\\xa1\\xe5\\xb0\\x9a\\xe6\\x9c\\xaa\\xe5\\xbb\\xba\\xe7\\xab\\x8b\\xe5\\xae\\x9e\\xe8\\xb4\\xa8\\xe4\\xb8\\x8a\\xe7\\x9a\\x84\\xe4\\xb8\\x9a\\xe5\\x8a\\xa1\\xe5\\xbe\\x80\\xe6\\x9d\\xa5\">\\xc2\\xb7\\xe5\\x93\\x88\\xe5\\xb0\\x94\\xe6\\x96\\xaf\\xef\\xbc\\x9a\\xe5\\x85\\xac\\xe5\\x8f\\xb8\\xe4\\xb8\\x8e\\xe7\\x91\\x9e\\xe5\\xb9\\xb8\\xe5\\x92\\x96\\xe5\\x95\\xa1\\xe5\\xb0\\x9a\\xe6\\x9c\\xaa\\xe5\\xbb\\xba\\xe7\\xab\\x8b\\xe5\\xae\\x9e\\xe8\\xb4\\xa8\\xe4\\xb8\\x8a\\xe7\\x9a\\x84\\xe4\\xb8\\x9a\\xe5\\x8a\\xa1\\xe5\\xbe\\x80...</a>\\r\\n        <i class=\"fr\">04-07</i>\\r\\n    </li>\\r\\n    \\r\\n    <li class=\"clearfix\">\\r\\n        <a href=\"http://finance.eastmoney.com/a/202004061444574053.html\" target=\"_blank\" class=\"fl\" title=\"A\\xe8\\x82\\xa12\\xe5\\xae\\xb6\\xe4\\xb8\\x8a\\xe5\\xb8\\x82\\xe5\\x85\\xac\\xe5\\x8f\\xb8\\xe4\\xb9\\x9f\\xe8\\xa2\\xab\\xe7\\x91\\x9e\\xe5\\xb9\\xb8\\xe5\\x92\\x96\\xe5\\x95\\xa1\\xe2\\x80\\x9c\\xe7\\x89\\xb5\\xe8\\xbf\\x9e\\xe2\\x80\\x9d\">\\xc2\\xb7A\\xe8\\x82\\xa12\\xe5\\xae\\xb6\\xe4\\xb8\\x8a\\xe5\\xb8\\x82\\xe5\\x85\\xac\\xe5\\x8f\\xb8\\xe4\\xb9\\x9f\\xe8\\xa2\\xab\\xe7\\x91\\x9e\\xe5\\xb9\\xb8\\xe5\\x92\\x96\\xe5\\x95\\xa1\\xe2\\x80\\x9c\\xe7\\x89\\xb5\\xe8\\xbf\\x9e\\xe2\\x80\\x9d</a>\\r\\n        <i class=\"fr\">04-06</i>\\r\\n    </li>\\r\\n    \\r\\n    </ul>\\r\\n\\r\\n\\r\\n\\r\\n\\r\\n        </div>\\r\\n        <div class=\"news news_list mL10 fr\">\\r\\n            <a href=\"http://data.eastmoney.com/notices/stock/002615.html\" target=\"_blank\" class=\"more fr f12\">\\xe6\\x9b\\xb4\\xe5\\xa4\\x9a</a>\\r\\n            <div class=\"clearfix\" style=\"*line-height:26px;\">\\r\\n                <a href=\"http://data.eastmoney.com/notices/stock/002615.html\" target=\"_blank\"><h2 class=\"fl\">\\xe6\\xad\\xa3\\xe8\\x82\\xa1\\xe5\\x85\\xac\\xe5\\x91\\x8a</h2></a>\\r\\n            </div>\\r\\n             \\r\\n    <ul class=\"article_list nlist\">\\r\\n  \\r\\n    <li class=\"clearfix\">\\r\\n        <a href=\"http://data.eastmoney.com/notices/detail/002615/AN202004071377703899,JWU1JTkzJTg4JWU1JWIwJTk0JWU2JTk2JWFm.html\" target=\"_blank\" class=\"fl\" title=\"\\xe5\\x93\\x88\\xe5\\xb0\\x94\\xe6\\x96\\xaf:\\xe5\\x85\\xb3\\xe4\\xba\\x8e\\xe6\\x9c\\x89\\xe5\\x85\\xb3\\xe5\\xaa\\x92\\xe4\\xbd\\x93\\xe6\\x8a\\xa5\\xe9\\x81\\x93\\xe4\\xba\\x8b\\xe9\\xa1\\xb9\\xe8\\xaf\\xb4\\xe6\\x98\\x8e\\xe7\\x9a\\x84\\xe5\\x85\\xac\\xe5\\x91\\x8a\">\\xc2\\xb7\\xe5\\x93\\x88\\xe5\\xb0\\x94\\xe6\\x96\\xaf:\\xe5\\x85\\xb3\\xe4\\xba\\x8e\\xe6\\x9c\\x89\\xe5\\x85\\xb3\\xe5\\xaa\\x92\\xe4\\xbd\\x93\\xe6\\x8a\\xa5\\xe9\\x81\\x93\\xe4\\xba\\x8b\\xe9\\xa1\\xb9\\xe8\\xaf\\xb4\\xe6\\x98\\x8e\\xe7\\x9a\\x84\\xe5\\x85\\xac\\xe5\\x91\\x8a</a>\\r\\n        <i class=\"fr\">04-08</i>\\r\\n    </li>\\r\\n    \\r\\n    <li class=\"clearfix\">\\r\\n        <a href=\"http://data.eastmoney.com/notices/detail/002615/AN202004011377388646,JWU1JTkzJTg4JWU1JWIwJTk0JWU2JTk2JWFm.html\" target=\"_blank\" class=\"fl\" title=\"\\xe5\\x93\\x88\\xe5\\xb0\\x94\\xe6\\x96\\xaf:2020\\xe5\\xb9\\xb4\\xe7\\xac\\xac\\xe4\\xb8\\x80\\xe5\\xad\\xa3\\xe5\\xba\\xa6\\xe5\\x8f\\xaf\\xe8\\xbd\\xac\\xe6\\x8d\\xa2\\xe5\\x85\\xac\\xe5\\x8f\\xb8\\xe5\\x80\\xba\\xe5\\x88\\xb8\\xe8\\xbd\\xac\\xe8\\x82\\xa1\\xe6\\x83\\x85\\xe5\\x86\\xb5\\xe5\\x85\\xac\\xe5\\x91\\x8a\">\\xc2\\xb7\\xe5\\x93\\x88\\xe5\\xb0\\x94\\xe6\\x96\\xaf:2020\\xe5\\xb9\\xb4\\xe7\\xac\\xac\\xe4\\xb8\\x80\\xe5\\xad\\xa3\\xe5\\xba\\xa6\\xe5\\x8f\\xaf\\xe8\\xbd\\xac\\xe6\\x8d\\xa2\\xe5\\x85\\xac\\xe5\\x8f\\xb8\\xe5\\x80\\xba\\xe5\\x88\\xb8\\xe8\\xbd\\xac\\xe8\\x82\\xa1\\xe6\\x83\\x85\\xe5\\x86\\xb5\\xe5\\x85\\xac...</a>\\r\\n        <i class=\"fr\">04-02</i>\\r\\n    </li>\\r\\n    \\r\\n    <li class=\"clearfix\">\\r\\n        <a href=\"http://data.eastmoney.com/notices/detail/002615/AN202003241376879198,JWU1JTkzJTg4JWU1JWIwJTk0JWU2JTk2JWFm.html\" target=\"_blank\" class=\"fl\" title=\"\\xe5\\x93\\x88\\xe5\\xb0\\x94\\xe6\\x96\\xaf:\\xe8\\x82\\xa1\\xe7\\xa5\\xa8\\xe4\\xba\\xa4\\xe6\\x98\\x93\\xe5\\xbc\\x82\\xe5\\xb8\\xb8\\xe6\\xb3\\xa2\\xe5\\x8a\\xa8\\xe5\\x85\\xac\\xe5\\x91\\x8a\">\\xc2\\xb7\\xe5\\x93\\x88\\xe5\\xb0\\x94\\xe6\\x96\\xaf:\\xe8\\x82\\xa1\\xe7\\xa5\\xa8\\xe4\\xba\\xa4\\xe6\\x98\\x93\\xe5\\xbc\\x82\\xe5\\xb8\\xb8\\xe6\\xb3\\xa2\\xe5\\x8a\\xa8\\xe5\\x85\\xac\\xe5\\x91\\x8a</a>\\r\\n        <i class=\"fr\">03-25</i>\\r\\n    </li>\\r\\n    \\r\\n    <li class=\"clearfix\">\\r\\n        <a href=\"http://data.eastmoney.com/notices/detail/002615/AN202003121376189876,JWU1JTkzJTg4JWU1JWIwJTk0JWU2JTk2JWFm.html\" target=\"_blank\" class=\"fl\" title=\"\\xe5\\x93\\x88\\xe5\\xb0\\x94\\xe6\\x96\\xaf:2020\\xe5\\xb9\\xb4\\xe7\\xac\\xac\\xe4\\xb8\\x80\\xe6\\xac\\xa1\\xe4\\xb8\\xb4\\xe6\\x97\\xb6\\xe8\\x82\\xa1\\xe4\\xb8\\x9c\\xe5\\xa4\\xa7\\xe4\\xbc\\x9a\\xe5\\x86\\xb3\\xe8\\xae\\xae\\xe5\\x85\\xac\\xe5\\x91\\x8a\">\\xc2\\xb7\\xe5\\x93\\x88\\xe5\\xb0\\x94\\xe6\\x96\\xaf:2020\\xe5\\xb9\\xb4\\xe7\\xac\\xac\\xe4\\xb8\\x80\\xe6\\xac\\xa1\\xe4\\xb8\\xb4\\xe6\\x97\\xb6\\xe8\\x82\\xa1\\xe4\\xb8\\x9c\\xe5\\xa4\\xa7\\xe4\\xbc\\x9a\\xe5\\x86\\xb3\\xe8\\xae\\xae\\xe5\\x85\\xac\\xe5\\x91\\x8a</a>\\r\\n        <i class=\"fr\">03-13</i>\\r\\n    </li>\\r\\n    \\r\\n    <li class=\"clearfix\">\\r\\n        <a href=\"http://data.eastmoney.com/notices/detail/002615/AN202003121376189877,JWU1JTkzJTg4JWU1JWIwJTk0JWU2JTk2JWFm.html\" target=\"_blank\" class=\"fl\" title=\"\\xe5\\x93\\x88\\xe5\\xb0\\x94\\xe6\\x96\\xaf:2020\\xe5\\xb9\\xb4\\xe7\\xac\\xac\\xe4\\xb8\\x80\\xe6\\xac\\xa1\\xe4\\xb8\\xb4\\xe6\\x97\\xb6\\xe8\\x82\\xa1\\xe4\\xb8\\x9c\\xe5\\xa4\\xa7\\xe4\\xbc\\x9a\\xe6\\xb3\\x95\\xe5\\xbe\\x8b\\xe6\\x84\\x8f\\xe8\\xa7\\x81\\xe4\\xb9\\xa6\">\\xc2\\xb7\\xe5\\x93\\x88\\xe5\\xb0\\x94\\xe6\\x96\\xaf:2020\\xe5\\xb9\\xb4\\xe7\\xac\\xac\\xe4\\xb8\\x80\\xe6\\xac\\xa1\\xe4\\xb8\\xb4\\xe6\\x97\\xb6\\xe8\\x82\\xa1\\xe4\\xb8\\x9c\\xe5\\xa4\\xa7\\xe4\\xbc\\x9a\\xe6\\xb3\\x95\\xe5\\xbe\\x8b\\xe6\\x84\\x8f\\xe8\\xa7\\x81\\xe4\\xb9\\xa6</a>\\r\\n        <i class=\"fr\">03-13</i>\\r\\n    </li>\\r\\n    \\r\\n    </ul>\\r\\n\\r\\n\\r\\n\\r\\n\\r\\n        </div>        \\r\\n    </div>\\r\\n    \\r\\n</div>\\r\\n<div class=\"pge_box clearfix\">\\r\\n    <div class=\"fl clearfix bkzhzhBox\">\\r\\n        <div id=\"itffo-wrapper\" class=\"side_box fl\">\\r\\n            <div class=\"header clearfix\">\\r\\n                <a href=\"//quote.eastmoney.com/center/gridlist.html#futures_cffex-_TS\" class=\"more fr\" target=\"_blank\">\\xe6\\x9b\\xb4\\xe5\\xa4\\x9a</a>\\r\\n                <h2 class=\"title fl\">\\r\\n                    <a href=\"//quote.eastmoney.com/center/gridlist.html#futures_cffex-_TS\" class=\"titleCon\" target=\"_blank\">\\xe5\\x9b\\xbd\\xe5\\x80\\xba\\xe6\\x9c\\x9f\\xe8\\xb4\\xa7</a>\\r\\n                </h2>\\r\\n            </div>\\r\\n            <div class=\"info_list\" style=\"min-height:180px;\">\\r\\n                <table class=\"list\" id=\"debt_index_rank\">\\r\\n                    <thead>\\r\\n                        <tr>\\r\\n                            <th class=\"mingchengLeft\">\\xe5\\x90\\x8d\\xe7\\xa7\\xb0</th>\\r\\n                            <th>\\xe6\\x9c\\x80\\xe6\\x96\\xb0\\xe4\\xbb\\xb7</th>\\r\\n                            <th>\\xe6\\xb6\\xa8\\xe8\\xb7\\x8c\\xe5\\xb9\\x85</th>\\r\\n                        </tr>\\r\\n                    </thead>\\r\\n                    <tbody id=\"gzhFuture\">\\r\\n                        <tr>\\r\\n                            <td><a href=\"#\" target=\"_blank\">-</a></td>\\r\\n                            <td>-</td>\\r\\n                            <td>-</td>\\r\\n                        </tr>\\r\\n                        <tr>\\r\\n                            <td><a href=\"#\" target=\"_blank\">-</a></td>\\r\\n                            <td>-</td>\\r\\n                            <td>-</td>\\r\\n                        </tr>\\r\\n                        <tr>\\r\\n                            <td><a href=\"#\" target=\"_blank\">-</a></td>\\r\\n                            <td>-</td>\\r\\n                            <td>-</td>\\r\\n                        </tr>\\r\\n                        <tr>\\r\\n                            <td><a href=\"#\" target=\"_blank\">-</a></td>\\r\\n                            <td>-</td>\\r\\n                            <td>-</td>\\r\\n                        </tr>\\r\\n                        <tr>\\r\\n                            <td><a href=\"#\" target=\"_blank\">-</a></td>\\r\\n                            <td>-</td>\\r\\n                            <td>-</td>\\r\\n                        </tr>\\r\\n                        <tr>\\r\\n                            <td><a href=\"#\" target=\"_blank\">-</a></td>\\r\\n                            <td>-</td>\\r\\n                            <td>-</td>\\r\\n                        </tr>\\r\\n                    </tbody>\\r\\n                </table>\\r\\n            </div>\\r\\n        </div>\\r\\n        <div id=\"basic-info\" class=\"jbzl_div report fl\">\\r\\n            <p>\\xe5\\x9f\\xba\\xe6\\x9c\\xac\\xe8\\xb5\\x84\\xe6\\x96\\x99</p>\\r\\n            <div class=\"info_list\" style=\"min-height: 180px;\">\\r\\n                <table class=\"jbzl_table\">\\r\\n                    <tr>\\r\\n                        <td class=\"border0 \"><strong>\\xe5\\x80\\xba\\xe5\\x88\\xb8\\xe5\\x85\\xa8\\xe7\\xa7\\xb0</strong></td>\\r\\n                        <td class=\"FNAME \">-</td>\\r\\n                        <td><strong>\\xe5\\x80\\xba\\xe5\\x88\\xb8\\xe7\\xae\\x80\\xe7\\xa7\\xb0</strong></td>\\r\\n                        <td class=\"SNAME\">-</td>\\r\\n                        <td><strong>\\xe5\\x80\\xba\\xe5\\x88\\xb8\\xe4\\xbb\\xa3\\xe7\\xa0\\x81</strong></td>\\r\\n                        <td class=\"BONDCODE\">-</td>\\r\\n                    </tr>\\r\\n                    <tr class=\"tr_bg\">\\r\\n                        <td class=\"border0\"><strong>\\xe5\\x8f\\x91\\xe8\\xa1\\x8c\\xe9\\x87\\x8f</strong></td>\\r\\n                        <td class=\"ISSUEVOL \">-</td>\\r\\n                        <td><strong>\\xe5\\x8f\\x91\\xe8\\xa1\\x8c\\xe4\\xbb\\xb7</strong></td>\\r\\n                        <td class=\"ISSUEPRICE\">-</td>\\r\\n                        <td><strong>\\xe8\\xae\\xa1\\xe6\\x81\\xaf\\xe6\\x96\\xb9\\xe5\\xbc\\x8f</strong></td>\\r\\n                        <td class=\"COUPONTYPE\">-</td>\\r\\n                    </tr>\\r\\n                    <tr>\\r\\n                        <td class=\"border0\"><strong>\\xe6\\x9c\\x9f\\xe9\\x99\\x90</strong></td>\\r\\n                        <td class=\"BONDPERIOD\">-</td>\\r\\n                        <td><strong>\\xe5\\x8f\\x91\\xe8\\xa1\\x8c\\xe7\\xa5\\xa8\\xe9\\x9d\\xa2\\xe5\\x88\\xa9\\xe7\\x8e\\x87</strong></td>\\r\\n                        <td class=\"COUPONRATE \">-</td>\\r\\n                        <td><strong>\\xe4\\xba\\xa4\\xe6\\x98\\x93\\xe5\\xb8\\x82\\xe5\\x9c\\xba</strong></td>\\r\\n                        <td class=\"TEXCH\">-</td>\\r\\n                    </tr>\\r\\n                    <tr class=\"tr_bg\">\\r\\n                        <td class=\"border0 \"><strong>\\xe8\\xb5\\xb7\\xe6\\x81\\xaf\\xe6\\x97\\xa5\\xe6\\x9c\\x9f</strong></td>\\r\\n                        <td class=\"FRSTVALUEDATE\">-</td>\\r\\n                        <td><strong>\\xe5\\x88\\xb0\\xe6\\x9c\\x9f\\xe6\\x97\\xa5\\xe6\\x9c\\x9f</strong></td>\\r\\n                        <td class=\"MRTYDATE \">-</td>\\r\\n                        <td><strong>\\xe5\\x8f\\x91\\xe8\\xa1\\x8c\\xe8\\xb5\\xb7\\xe5\\xa7\\x8b\\xe6\\x97\\xa5</strong></td>\\r\\n                        <td class=\"ISSUEDATE\">-</td>\\r\\n                    </tr>\\r\\n                    <tr>\\r\\n                        <td class=\"border0\"><strong>\\xe4\\xb8\\x8a\\xe5\\xb8\\x82\\xe6\\x97\\xa5\\xe6\\x9c\\x9f</strong></td>\\r\\n                        <td class=\"LISTDATE\">-</td>\\r\\n                        <td><strong>\\xe5\\x8f\\x91\\xe8\\xa1\\x8c\\xe5\\x8d\\x95\\xe4\\xbd\\x8d</strong></td>\\r\\n                        <td class=\"ISSUERNAME\">-</td>\\r\\n                        <td><strong>\\xe4\\xbb\\x98\\xe6\\x81\\xaf\\xe6\\x96\\xb9\\xe5\\xbc\\x8f</strong></td>\\r\\n                        <td class=\"PAYTYPE \">-</td>\\r\\n                    </tr>\\r\\n                    <tr class=\"tr_bg\">\\r\\n                        <td class=\"border0\"><strong>\\xe5\\xb8\\x81\\xe7\\xa7\\x8d</strong></td>\\r\\n                        <td class=\"CURRENCY \">-</td>\\r\\n                        <td><strong>\\xe5\\x89\\xa9\\xe4\\xbd\\x99\\xe6\\x9c\\x9f\\xe9\\x99\\x90</strong></td>\\r\\n                        <td class=\"SYQX\">-</td>\\r\\n                        <td><strong>\\xe6\\xaf\\x8f\\xe5\\xb9\\xb4\\xe4\\xbb\\x98\\xe6\\x81\\xaf\\xe6\\x97\\xa5</strong></td>\\r\\n                        <td class=\"PAYDAY \">-</td>\\r\\n                    </tr>\\r\\n                </table>\\r\\n            </div>\\r\\n        </div>\\r\\n    </div>\\r\\n    <div id=\"conversion-info\" class=\"jbzl_div fl kzhzhBox\" style=\"width:100%; display:none\">\\r\\n<p class=\"pheader\"><a href=\"#\" class=\"kezhuan_ziliao\" target=\"_blank\" >\\xe5\\x8f\\xaf\\xe8\\xbd\\xac\\xe5\\x80\\xba\\xe5\\x9f\\xba\\xe6\\x9c\\xac\\xe8\\xb5\\x84\\xe6\\x96\\x99</a> <a href=\"#\" class=\"kezhuan_ziliao more\" target=\"_blank\" >\\xe6\\x9b\\xb4\\xe5\\xa4\\x9a</a></p>\\r\\n        <div class=\"info_list\" style=\"min-height: 180px;\">\\r\\n            <table class=\"jbzl_table\" id=\"kzz_jbzl\">\\r\\n               <tr>\\r\\n                        <td class=\"border0 \"><strong>\\xe5\\x80\\xba\\xe5\\x88\\xb8\\xe5\\x85\\xa8\\xe7\\xa7\\xb0</strong></td>\\r\\n                        <td class=\"FNAME \">-</td>\\r\\n                        <td><strong>\\xe5\\x80\\xba\\xe5\\x88\\xb8\\xe7\\xae\\x80\\xe7\\xa7\\xb0</strong></td>\\r\\n                        <td class=\"SNAME\">-</td>\\r\\n                        <td><strong>\\xe5\\x80\\xba\\xe5\\x88\\xb8\\xe4\\xbb\\xa3\\xe7\\xa0\\x81</strong></td>\\r\\n                        <td class=\"BONDCODE\">-</td>\\r\\n                        <td><strong>\\xe6\\x9c\\x9f\\xe9\\x99\\x90</strong></td>\\r\\n                        <td class=\"BONDPERIOD\">-</td>\\r\\n                    </tr>\\r\\n                    <tr class=\"tr_bg\">\\r\\n                        <td class=\"border0\"><strong>\\xe5\\x8f\\x91\\xe8\\xa1\\x8c\\xe9\\x87\\x8f</strong></td>\\r\\n                        <td class=\"ISSUEVOL \">-</td>\\r\\n                        <td><strong>\\xe5\\x8f\\x91\\xe8\\xa1\\x8c\\xe4\\xbb\\xb7</strong></td>\\r\\n                        <td class=\"ISSUEPRICE\">-</td>\\r\\n                        <td><strong>\\xe8\\xae\\xa1\\xe6\\x81\\xaf\\xe6\\x96\\xb9\\xe5\\xbc\\x8f</strong></td>\\r\\n                        <td class=\"COUPONTYPE\">-</td>\\r\\n                        <td><strong>\\xe7\\xa5\\xa8\\xe9\\x9d\\xa2\\xe5\\x88\\xa9\\xe7\\x8e\\x87\\xef\\xbc\\x88\\xe5\\xbd\\x93\\xe6\\x9c\\x9f\\xef\\xbc\\x89</strong></td>\\r\\n                        <td class=\"COUPONRATE \">-</td>\\r\\n                    </tr>\\r\\n                <tr>\\r\\n                    <td class=\"border0\"><strong>\\xe4\\xb8\\x8a\\xe5\\xb8\\x82\\xe6\\x97\\xa5\\xe6\\x9c\\x9f</strong></td>\\r\\n                    <td class=\"LISTDATE\">-</td>\\r\\n                    <td><strong>\\xe5\\x8f\\x91\\xe8\\xa1\\x8c\\xe5\\x8d\\x95\\xe4\\xbd\\x8d</strong></td>\\r\\n                    <td class=\"ISSUERNAME\">-</td>\\r\\n                    <td><strong>\\xe4\\xbb\\x98\\xe6\\x81\\xaf\\xe6\\x96\\xb9\\xe5\\xbc\\x8f</strong></td>\\r\\n                    <td class=\"PAYTYPE \">-</td>                   \\r\\n                    <td><strong>\\xe4\\xba\\xa4\\xe6\\x98\\x93\\xe5\\xb8\\x82\\xe5\\x9c\\xba</strong></td>\\r\\n                    <td class=\"TEXCH\">-</td>                  \\r\\n                </tr>\\r\\n                <tr class=\"tr_bg\">\\r\\n                    <td class=\"border0 \"><strong>\\xe8\\xb5\\xb7\\xe6\\x81\\xaf\\xe6\\x97\\xa5\\xe6\\x9c\\x9f</strong></td>\\r\\n                    <td class=\"FRSTVALUEDATE\">-</td>\\r\\n                    <td><strong>\\xe5\\x88\\xb0\\xe6\\x9c\\x9f\\xe6\\x97\\xa5\\xe6\\x9c\\x9f</strong></td>\\r\\n                    <td class=\"MRTYDATE \">-</td>\\r\\n                    <td><strong>\\xe5\\x8f\\x91\\xe8\\xa1\\x8c\\xe8\\xb5\\xb7\\xe5\\xa7\\x8b\\xe6\\x97\\xa5</strong></td>\\r\\n                    <td class=\"ISSUEDATE\">-</td>\\r\\n                    <td><strong>\\xe5\\x89\\xa9\\xe4\\xbd\\x99\\xe6\\x9c\\x9f\\xe9\\x99\\x90</strong></td>\\r\\n                    <td class=\"SYQX\">-</td>\\r\\n                </tr>\\r\\n                <tr>\\r\\n                    <td class=\"border0\"><strong>\\xe5\\xb8\\x81\\xe7\\xa7\\x8d</strong></td>\\r\\n                    <td class=\"CURRENCY \">-</td>\\r\\n                    <td><strong>\\xe6\\xaf\\x8f\\xe5\\xb9\\xb4\\xe4\\xbb\\x98\\xe6\\x81\\xaf\\xe6\\x97\\xa5</strong></td>\\r\\n                    <td class=\"PAYDAY \">-</td>\\r\\n                    <td><strong>\\xe6\\xad\\xa3\\xe8\\x82\\xa1\\xe5\\x90\\x8d\\xe7\\xa7\\xb0</strong></td>\\r\\n                    <td class=\"zgmc\"><a href=\"#\" target=\"_blank\">-</a></td>   \\r\\n                    <td><strong>\\xe6\\xad\\xa3\\xe8\\x82\\xa1\\xe7\\x8e\\xb0\\xe4\\xbb\\xb7</strong></td>\\r\\n                    <td class=\"zgxj\">-</td>                       \\r\\n                </tr>                \\r\\n                <tr class=\"tr_bg\">\\r\\n                    <td class=\"border0\"><strong>\\xe5\\xbc\\x80\\xe5\\xa7\\x8b\\xe8\\xbd\\xac\\xe8\\x82\\xa1\\xe6\\x97\\xa5\\xe6\\x9c\\x9f</strong></td>\\r\\n                    <td class=\"kszgrq\">-</td>\\r\\n                    <td><strong>\\xe8\\xbd\\xac\\xe8\\x82\\xa1\\xe4\\xbb\\xb7</strong></td>\\r\\n                    <td class=\"zhguj\">-</td>\\r\\n                    <td><strong>\\xe8\\xbd\\xac\\xe8\\x82\\xa1\\xe4\\xbb\\xb7\\xe5\\x80\\xbc</strong></td>\\r\\n                    <td class=\"zgjz\">-</td>\\r\\n                    <td><strong>\\xe8\\xbd\\xac\\xe8\\x82\\xa1\\xe6\\xba\\xa2\\xe4\\xbb\\xb7\\xe7\\x8e\\x87</strong></td>\\r\\n                    <td class=\"yjl\">-</td>\\r\\n                </tr>\\r\\n                <tr>\\r\\n                    <td class=\"border0\"><strong>\\xe5\\x9b\\x9e\\xe5\\x94\\xae\\xe8\\xa7\\xa6\\xe5\\x8f\\x91\\xe4\\xbb\\xb7</strong></td>\\r\\n                    <td class=\"hscfj\">-</td>\\r\\n                    <td><strong>\\xe5\\xbc\\xba\\xe8\\xb5\\x8e\\xe8\\xa7\\xa6\\xe5\\x8f\\x91\\xe4\\xbb\\xb7</strong></td>\\r\\n                    <td class=\"qscfj\">-</td>\\r\\n                    <td><strong>\\xe5\\x88\\xb0\\xe6\\x9c\\x9f\\xe8\\xb5\\x8e\\xe5\\x9b\\x9e\\xe4\\xbb\\xb7</strong></td>\\r\\n                    <td class=\"dqchj\">-</td>\\r\\n                    <td><strong>\\xe7\\xba\\xaf\\xe5\\x80\\xba\\xe4\\xbb\\xb7\\xe5\\x80\\xbc</strong></td>\\r\\n                    <td class=\"czjg\">-</td>\\r\\n                </tr>\\r\\n            </table>\\r\\n        </div>\\r\\n    </div>  \\r\\n\\r\\n\\r\\n\\r\\n<div id=\"conversion-draw\" class=\"jbzl_div fl kzhzhBox2\" style=\"width:100%;display:none;\">\\r\\n<p><a href=\"#\" class=\"kezhuan\" target=\"_blank\">\\xe5\\x8f\\xaf\\xe8\\xbd\\xac\\xe5\\x80\\xba\\xe6\\x95\\xb0\\xe6\\x8d\\xae</a> <a href=\"#\" class=\"kezhuan_ziliao more\" target=\"_blank\" >\\xe6\\x9b\\xb4\\xe5\\xa4\\x9a</a></p>\\r\\n\\r\\n    <div class=\"info_list\" style=\"min-height: 300px;\">\\r\\n\\r\\n        <div class=\"draw_top\">\\r\\n            <div class=\"nav jiazhi\">\\r\\n                <span class=\"le\">\\xe4\\xbb\\xb7\\xe5\\x80\\xbc\\xe5\\x88\\x86\\xe6\\x9e\\x90</span><span class=\"rig\"></span>\\r\\n            </div>\\r\\n\\r\\n            <div class=\"nav yijia\">\\r\\n                <span class=\"le\">\\xe6\\xba\\xa2\\xe4\\xbb\\xb7\\xe7\\x8e\\x87\\xe5\\x88\\x86\\xe6\\x9e\\x90</span><span class=\"rig\"></span>\\r\\n            </div>\\r\\n\\r\\n            <div class=\"nav shengyu\" style=\"border-right:none;\">\\r\\n                <span class=\"le\">\\xe5\\x89\\xa9\\xe4\\xbd\\x99\\xe4\\xbb\\xbd\\xe9\\xa2\\x9d</span><span class=\"rig\"></span>\\r\\n            </div>\\r\\n\\r\\n\\r\\n        </div>\\r\\n\\r\\n\\r\\n        <div class=\"content jiazhi_pra\" style=\"float:left\">\\r\\n            <div class=\"em_headerOne\">\\r\\n            <span class=\"shou\"></span><span>\\xe6\\x94\\xb6\\xe7\\x9b\\x98\\xe4\\xbb\\xb7</span><span class=\"shoupan valmar\">-</span>\\r\\n            <span class=\"chun\"></span><span>\\xe7\\xba\\xaf\\xe5\\x80\\xba\\xe4\\xbb\\xb7\\xe5\\x80\\xbc</span><span class=\"chunzai valmar\">-</span>\\r\\n            <span class=\"zhuan\"></span><span>\\xe8\\xbd\\xac\\xe8\\x82\\xa1\\xe4\\xbb\\xb7\\xe5\\x80\\xbc</span><span class=\"zhuangu valmar\">-</span>\\r\\n           </div>\\r\\n            <div id=\"chart_1\" style=\"width:331px;height:240px;border-right:1px solid #eee;\">\\r\\n            </div>\\r\\n        </div>\\r\\n\\r\\n        \\r\\n        <div class=\"content yijia_pra\" style=\"float:left\">\\r\\n            <div class=\"em_headerTwo\">\\r\\n                <span class=\"shou\"></span><span class=\"zhuan_yi\"></span><span>\\xe8\\xbd\\xac\\xe8\\x82\\xa1\\xe6\\xba\\xa2\\xe4\\xbb\\xb7\\xe7\\x8e\\x87</span><span class=\"zhuan_yi_val valmar\">-</span>\\r\\n                <span class=\"zhuan\"></span><span class=\"chun_yi\"></span><span>\\xe7\\xba\\xaf\\xe5\\x80\\xba\\xe6\\xba\\xa2\\xe4\\xbb\\xb7\\xe7\\x8e\\x87</span><span class=\"chun_yi_val valmar\">-</span>\\r\\n            </div>\\r\\n            <div id=\"chart_2\" style=\"width:331px;height:240px;border-right:1px solid #eee;\">\\r\\n            </div>\\r\\n        </div>\\r\\n\\r\\n        <div class=\"content shengyu_pra\" style=\"float:left\">\\r\\n        <div class=\"em_headerThird\">\\r\\n            <span class=\"shengyu\"></span><span>\\xe5\\x89\\xa9\\xe4\\xbd\\x99\\xe4\\xbb\\xbd\\xe9\\xa2\\x9d</span><span class=\"shengyu_val valmar\">-</span>\\r\\n        </div>\\r\\n        <div id=\"chart_3\" style=\"width:331px;height:240px;border-right:1px solid #eee;\">\\r\\n        </div>\\r\\n\\r\\n        </div>\\r\\n    </div>\\r\\n\\r\\n       \\r\\n    </div>\\r\\n\\r\\n    \\r\\n</div>\\r\\n<!--\\xe8\\x82\\xa1\\xe5\\x90\\xa7\\xe5\\xbc\\x80\\xe5\\xa7\\x8b-->\\r\\n<div class=\"pge_box guba\">\\r\\n    <!--begin-->\\r\\n    <div class=\"qphox title2 gubamodule2017\" style=\"height: 37px; margin-bottom: 15px;\">\\r\\n        <div class=\"more4 fr mr10\">\\r\\n            <a target=\"_blank\" href=\"http://gb.eastmoney.com/\"><b></b>\\xe8\\x82\\xa1\\xe5\\x90\\xa7\\xe9\\xa6\\x96\\xe9\\xa1\\xb5</a>\\r\\n            &nbsp;|&nbsp;\\r\\n            <a target=\"_blank\" href=\"http://gb.eastmoney.com/remenba.aspx?type=1\">\\xe7\\x83\\xad\\xe9\\x97\\xa8\\xe4\\xb8\\xaa\\xe8\\x82\\xa1\\xe5\\x90\\xa7</a>\\r\\n            &nbsp;|&nbsp;\\r\\n            <a target=\"_blank\" href=\"http://gb.eastmoney.com/remenba.aspx?type=2\">\\xe7\\x83\\xad\\xe9\\x97\\xa8\\xe4\\xb8\\xbb\\xe9\\xa2\\x98\\xe5\\x90\\xa7</a>\\r\\n            &nbsp;|&nbsp;\\r\\n            <a target=\"_blank\" href=\"http://gb.eastmoney.com/list,sz128073.html\">\\xe6\\x9b\\xb4\\xe5\\xa4\\x9a</a>\\r\\n        </div>\\r\\n        <h3 class=\"fd8\" style=\"bottom: -3px;\"><a href=\"http://gb.eastmoney.com/list,sz128073.html\" target=\"_blank\">\\xe5\\x93\\x88\\xe5\\xb0\\x94\\xe8\\xbd\\xac\\xe5\\x80\\xba\\xe5\\x90\\xa7</a></h3>\\r\\n    </div>\\r\\n    <div class=\"qphox layout gubamodule2017\">\\r\\n        <div class=\"fr w200\">\\r\\n            <div class=\"side_box phase_increases lineHeightTb\" style=\"margin-top: 1px;\">\\r\\n                <div class=\"header clearfix\">\\r\\n                    <h2 class=\"title fl\"><a href=\"//gb.eastmoney.com/remenba.aspx?type=1\" target=\"_blank\">\\xe7\\x83\\xad\\xe9\\x97\\xa8\\xe8\\x82\\xa1\\xe5\\x90\\xa7</a></h2>\\r\\n                </div>\\r\\n                <div class=\"info_list\" style=\"_display: block; margin-bottom: 5px;\">\\r\\n                    <table class=\"list\" id=\"hotGuba\">\\r\\n                        <thead>\\r\\n                            <tr><td>\\xe5\\x90\\x8d\\xe7\\xa7\\xb0</td><td>\\xe6\\x9c\\x80\\xe6\\x96\\xb0\\xe4\\xbb\\xb7</td><td>\\xe6\\xb6\\xa8\\xe8\\xb7\\x8c\\xe5\\xb9\\x85</td></tr>\\r\\n                        </thead>\\r\\n                        <tbody>\\r\\n                            <tr><td><a href=\"javascript:;\" target=\"_blank\">-</a></td><td class=\"\">-</td><td class=\"\">-</td></tr>\\r\\n                            <tr><td><a href=\"javascript:;\" target=\"_blank\">-</a></td><td class=\"\">-</td><td class=\"\">-</td></tr>\\r\\n                            <tr><td><a href=\"javascript:;\" target=\"_blank\">-</a></td><td class=\"\">-</td><td class=\"\">-</td></tr>\\r\\n                            <tr><td><a href=\"javascript:;\" target=\"_blank\">-</a></td><td class=\"\">-</td><td class=\"\">-</td></tr>\\r\\n                            <tr><td><a href=\"javascript:;\" target=\"_blank\">-</a></td><td class=\"\">-</td><td class=\"\">-</td></tr>\\r\\n                            <tr><td><a href=\"javascript:;\" target=\"_blank\">-</a></td><td class=\"\">-</td><td class=\"\">-</td></tr>\\r\\n                            <tr><td><a href=\"javascript:;\" target=\"_blank\">-</a></td><td class=\"\">-</td><td class=\"\">-</td></tr>\\r\\n                            <tr><td><a href=\"javascript:;\" target=\"_blank\">-</a></td><td class=\"\">-</td><td class=\"\">-</td></tr>\\r\\n                            <tr><td><a href=\"javascript:;\" target=\"_blank\">-</a></td><td class=\"\">-</td><td class=\"\">-</td></tr>\\r\\n                            <tr><td><a href=\"javascript:;\" target=\"_blank\">-</a></td><td class=\"\">-</td><td class=\"\">-</td></tr>\\r\\n                            <tr><td><a href=\"javascript:;\" target=\"_blank\">-</a></td><td class=\"\">-</td><td class=\"\">-</td></tr>\\r\\n                            <tr><td><a href=\"javascript:;\" target=\"_blank\">-</a></td><td class=\"\">-</td><td class=\"\">-</td></tr>\\r\\n                            <tr><td><a href=\"javascript:;\" target=\"_blank\">-</a></td><td class=\"\">-</td><td class=\"\">-</td></tr>\\r\\n                            <tr><td><a href=\"javascript:;\" target=\"_blank\">-</a></td><td class=\"\">-</td><td class=\"\">-</td></tr>\\r\\n                            <tr><td><a href=\"javascript:;\" target=\"_blank\">-</a></td><td class=\"\">-</td><td class=\"\">-</td></tr>\\r\\n                        </tbody>\\r\\n                    </table>\\r\\n                </div>\\r\\n                <iframe width=\"200\" height=\"200\" frameborder=\"0\" scrolling=\"no\" marginwidth=\"0\" marginheight=\"0\" src=\"//same.eastmoney.com/s?z=eastmoney&c=1422&op=1\"></iframe>\\r\\n            </div>\\r\\n        </div>\\r\\n\\r\\n        <div class=\"fl w790\">\\r\\n            <!--\\xe5\\x85\\xa8\\xe9\\x83\\xa8\\xe5\\x92\\x8c\\xe7\\x83\\xad\\xe5\\xb8\\x96\\xe9\\x83\\xa8\\xe5\\x88\\x86\\xe5\\xbc\\x80\\xe5\\xa7\\x8b-->\\r\\n            <iframe frameborder=\"0\" style=\"width:100%;height:451px\"\\r\\n                    src=\"http://gbfek.dfcfw.com/deploy/article_list/work/article_list.html?code=sz128073&ba_show=false&count=12&stock_type=false\"></iframe>\\r\\n            <iframe width=\"790\" scrolling=\"no\" height=\"240\" frameborder=\"0\" src=\"http://gubawebapi.eastmoney.com/page/fund_editor/dest/editor.html?s=zq&width=788&logincb=http://quote.eastmoney.com/bond/sz128073.html\" marginheight=\"0\" marginwidth=\"0\"></iframe>\\r\\n        </div>\\r\\n    </div>\\r\\n\\t\\t   <div class=\"qphox\">\\r\\n        \\xe9\\x83\\x91\\xe9\\x87\\x8d\\xe5\\xa3\\xb0\\xe6\\x98\\x8e\\xef\\xbc\\x9a\\xe6\\x9c\\xac\\xe7\\xbd\\x91\\xe7\\xab\\x99\\xe6\\x89\\x80\\xe5\\x88\\x8a\\xe8\\xbd\\xbd\\xe7\\x9a\\x84\\xe6\\x89\\x80\\xe6\\x9c\\x89\\xe8\\xb5\\x84\\xe6\\x96\\x99\\xe5\\x8f\\x8a\\xe5\\x9b\\xbe\\xe8\\xa1\\xa8\\xe4\\xbb\\x85\\xe4\\xbe\\x9b\\xe5\\x8f\\x82\\xe8\\x80\\x83\\xe4\\xbd\\xbf\\xe7\\x94\\xa8\\xe3\\x80\\x82\\xe6\\x8a\\x95\\xe8\\xb5\\x84\\xe8\\x80\\x85\\xe4\\xbe\\x9d\\xe6\\x8d\\xae\\xe6\\x9c\\xac\\xe7\\xbd\\x91\\xe7\\xab\\x99\\xe6\\x8f\\x90\\xe4\\xbe\\x9b\\xe7\\x9a\\x84\\xe4\\xbf\\xa1\\xe6\\x81\\xaf\\xe3\\x80\\x81\\xe8\\xb5\\x84\\xe6\\x96\\x99\\xe5\\x8f\\x8a\\xe5\\x9b\\xbe\\xe8\\xa1\\xa8\\xe8\\xbf\\x9b\\xe8\\xa1\\x8c\\xe9\\x87\\x91\\xe8\\x9e\\x8d\\xe3\\x80\\x81\\xe8\\xaf\\x81\\xe5\\x88\\xb8\\xe7\\xad\\x89\\xe6\\x8a\\x95\\xe8\\xb5\\x84\\xe6\\x89\\x80\\xe9\\x80\\xa0\\xe6\\x88\\x90\\xe7\\x9a\\x84\\xe7\\x9b\\x88\\xe4\\xba\\x8f\\xe4\\xb8\\x8e\\xe6\\x9c\\xac\\xe7\\xbd\\x91\\xe7\\xab\\x99\\xe6\\x97\\xa0\\xe5\\x85\\xb3\\xe3\\x80\\x82\\xe6\\x9c\\xac\\xe7\\xbd\\x91\\xe7\\xab\\x99\\xe5\\xa6\\x82\\xe5\\x9b\\xa0\\xe7\\xb3\\xbb\\xe7\\xbb\\x9f\\xe7\\xbb\\xb4\\xe6\\x8a\\xa4\\xe6\\x88\\x96\\xe5\\x8d\\x87\\xe7\\xba\\xa7\\xe8\\x80\\x8c\\xe9\\x9c\\x80\\xe6\\x9a\\x82\\xe5\\x81\\x9c\\xe6\\x9c\\x8d\\xe5\\x8a\\xa1\\xef\\xbc\\x8c\\xe6\\x88\\x96\\xe5\\x9b\\xa0\\xe7\\xba\\xbf\\xe8\\xb7\\xaf\\xe5\\x8f\\x8a\\xe8\\xb6\\x85\\xe5\\x87\\xba\\xe6\\x9c\\xac\\xe5\\x85\\xac\\xe5\\x8f\\xb8\\xe6\\x8e\\xa7\\xe5\\x88\\xb6\\xe8\\x8c\\x83\\xe5\\x9b\\xb4\\xe7\\x9a\\x84\\xe7\\xa1\\xac\\xe4\\xbb\\xb6\\xe6\\x95\\x85\\xe9\\x9a\\x9c\\xe6\\x88\\x96\\xe5\\x85\\xb6\\xe5\\xae\\x83\\xe4\\xb8\\x8d\\xe5\\x8f\\xaf\\xe6\\x8a\\x97\\xe5\\x8a\\x9b\\xe8\\x80\\x8c\\xe5\\xaf\\xbc\\xe8\\x87\\xb4\\xe6\\x9a\\x82\\xe5\\x81\\x9c\\xe6\\x9c\\x8d\\xe5\\x8a\\xa1\\xef\\xbc\\x8c\\xe4\\xba\\x8e\\xe6\\x9a\\x82\\xe5\\x81\\x9c\\xe6\\x9c\\x8d\\xe5\\x8a\\xa1\\xe6\\x9c\\x9f\\xe9\\x97\\xb4\\xe9\\x80\\xa0\\xe6\\x88\\x90\\xe7\\x9a\\x84\\xe4\\xb8\\x80\\xe5\\x88\\x87\\xe4\\xb8\\x8d\\xe4\\xbe\\xbf\\xe4\\xb8\\x8e\\xe6\\x8d\\x9f\\xe5\\xa4\\xb1\\xef\\xbc\\x8c\\xe6\\x9c\\xac\\xe7\\xbd\\x91\\xe7\\xab\\x99\\xe4\\xb8\\x8d\\xe8\\xb4\\x9f\\xe4\\xbb\\xbb\\xe4\\xbd\\x95\\xe8\\xb4\\xa3\\xe4\\xbb\\xbb\\xe3\\x80\\x82\\r\\n    </div>\\r\\n</div>\\r\\n<!--\\xe8\\x82\\xa1\\xe5\\x90\\xa7\\xe7\\xbb\\x93\\xe6\\x9d\\x9f-->\\r\\n<div class=\"dialog\">\\r\\n        <div class=\"markBox\"></div>\\r\\n        <div class=\"dialogCon\">\\r\\n            <div class=\"title_tool\">\\xe6\\x8f\\x90\\xe7\\xa4\\xba</div>\\r\\n            <p>\\r\\n                \\xe4\\xb8\\x9c\\xe8\\xb4\\xa2\\xe8\\xbd\\xac\\xe5\\x80\\xba\\xef\\xbc\\x88123006\\xef\\xbc\\x89\\xe4\\xba\\x8e2018\\xe5\\xb9\\xb46\\xe6\\x9c\\x8826\\xe6\\x97\\xa5\\xe8\\xb5\\xb7\\xe8\\xbf\\x9b\\xe5\\x85\\xa5\\xe8\\xbd\\xac\\xe8\\x82\\xa1\\xe6\\x9c\\x9f\\xef\\xbc\\x8c\\xe5\\x85\\xac\\xe5\\x8f\\xb8\\xe8\\x82\\xa1\\xe7\\xa5\\xa8\\xe8\\x87\\xaa2019\\xe5\\xb9\\xb42\\xe6\\x9c\\x8818\\xe6\\x97\\xa5\\xe8\\x87\\xb32019\\xe5\\xb9\\xb43\\xe6\\x9c\\x8829\\xe6\\x97\\xa5\\xe8\\xbf\\x9e\\xe7\\xbb\\xad30\\xe4\\xb8\\xaa\\xe4\\xba\\xa4\\xe6\\x98\\x93\\xe6\\x97\\xa5\\xe4\\xb8\\xad\\xe8\\x87\\xb3\\xe5\\xb0\\x9115\\xe4\\xb8\\xaa\\xe4\\xba\\xa4\\xe6\\x98\\x93\\xe6\\x97\\xa5\\xe7\\x9a\\x84\\xe6\\x94\\xb6\\xe7\\x9b\\x98\\xe4\\xbb\\xb7\\xe6\\xa0\\xbc\\xe4\\xb8\\x8d\\xe4\\xbd\\x8e\\xe4\\xba\\x8e\\xe5\\xbd\\x93\\xe6\\x9c\\x9f\\xe8\\xbd\\xac\\xe8\\x82\\xa1\\xe4\\xbb\\xb7\\xe6\\xa0\\xbc\\xef\\xbc\\x8811.36\\xe5\\x85\\x83/\\xe8\\x82\\xa1\\xef\\xbc\\x89\\xe7\\x9a\\x84130%\\xe5\\xb7\\xb2\\xe8\\xa7\\xa6\\xe5\\x8f\\x91\\xe8\\xb5\\x8e\\xe5\\x9b\\x9e\\xe6\\x9d\\xa1\\xe6\\xac\\xbe\\xe3\\x80\\x82<br />\\r\\n\\r\\n                \\xe8\\xb5\\x8e\\xe5\\x9b\\x9e\\xe4\\xbb\\xb7\\xe6\\xa0\\xbc\\xef\\xbc\\x9a100.16\\xe5\\x85\\x83/\\xe5\\xbc\\xa0 <br />\\r\\n                \\xe8\\xb5\\x8e\\xe5\\x9b\\x9e\\xe7\\x99\\xbb\\xe8\\xae\\xb0\\xe6\\x97\\xa5\\xef\\xbc\\x9a2019\\xe5\\xb9\\xb45\\xe6\\x9c\\x8810\\xe6\\x97\\xa5 <br />\\r\\n                \\xe8\\xb5\\x8e\\xe5\\x9b\\x9e\\xe6\\x97\\xa5\\xef\\xbc\\x9a2019\\xe5\\xb9\\xb45\\xe6\\x9c\\x8813\\xe6\\x97\\xa5<br />\\r\\n                \\xe5\\x81\\x9c\\xe6\\xad\\xa2\\xe4\\xba\\xa4\\xe6\\x98\\x93\\xe5\\x92\\x8c\\xe8\\xbd\\xac\\xe8\\x82\\xa1\\xe6\\x97\\xa5\\xef\\xbc\\x9a2019\\xe5\\xb9\\xb45\\xe6\\x9c\\x8813\\xe6\\x97\\xa5<br />\\r\\n                \\xe5\\x8f\\x91\\xe8\\xa1\\x8c\\xe4\\xba\\xba\\xe8\\xb5\\x84\\xe9\\x87\\x91\\xe5\\x88\\xb0\\xe8\\xb4\\xa6\\xe6\\x97\\xa5\\xef\\xbc\\x88\\xe5\\x88\\xb0\\xe8\\xbe\\xbe\\xe7\\xbb\\x93\\xe7\\xae\\x97\\xe5\\x85\\xac\\xe5\\x8f\\xb8\\xe8\\xb4\\xa6\\xe6\\x88\\xb7\\xef\\xbc\\x89\\xef\\xbc\\x9a2019\\xe5\\xb9\\xb45\\xe6\\x9c\\x8816\\xe6\\x97\\xa5<br />\\r\\n                \\xe6\\x8a\\x95\\xe8\\xb5\\x84\\xe8\\x80\\x85\\xe8\\xb5\\x8e\\xe5\\x9b\\x9e\\xe6\\xac\\xbe\\xe5\\x88\\xb0\\xe8\\xb4\\xa6\\xe6\\x97\\xa5\\xef\\xbc\\x9a2019\\xe5\\xb9\\xb45\\xe6\\x9c\\x8820\\xe6\\x97\\xa5<br /></p>\\r\\n\\r\\n                <p>\\xe6\\xa0\\xb9\\xe6\\x8d\\xae\\xe5\\xae\\x89\\xe6\\x8e\\x92\\xef\\xbc\\x8c\\xe6\\x88\\xaa\\xe8\\x87\\xb32019\\xe5\\xb9\\xb45\\xe6\\x9c\\x8810\\xe6\\x97\\xa5\\xe6\\x94\\xb6\\xe5\\xb8\\x82\\xe5\\x90\\x8e\\xe4\\xbb\\x8d\\xe6\\x9c\\xaa\\xe8\\xbd\\xac\\xe8\\x82\\xa1\\xe7\\x9a\\x84\\xe2\\x80\\x9c\\xe4\\xb8\\x9c\\xe8\\xb4\\xa2\\xe8\\xbd\\xac\\xe5\\x80\\xba\\xe2\\x80\\x9d\\xe5\\xb0\\x86\\xe8\\xa2\\xab\\xe5\\xbc\\xba\\xe5\\x88\\xb6\\xe8\\xb5\\x8e\\xe5\\x9b\\x9e\\xef\\xbc\\x8c\\xe6\\x9c\\xac\\xe6\\xac\\xa1\\xe8\\xb5\\x8e\\xe5\\x9b\\x9e\\xe5\\xae\\x8c\\xe6\\x88\\x90\\xe5\\x90\\x8e\\xef\\xbc\\x8c\\xe2\\x80\\x9c\\xe4\\xb8\\x9c\\xe8\\xb4\\xa2\\xe8\\xbd\\xac\\xe5\\x80\\xba\\xe2\\x80\\x9d\\xe5\\xb0\\x86\\xe5\\x9c\\xa8\\xe6\\xb7\\xb1\\xe5\\x9c\\xb3\\xe8\\xaf\\x81\\xe5\\x88\\xb8\\xe4\\xba\\xa4\\xe6\\x98\\x93\\xe6\\x89\\x80\\xe6\\x91\\x98\\xe7\\x89\\x8c\\xe3\\x80\\x82\\xe6\\x8c\\x81\\xe6\\x9c\\x89\\xe4\\xba\\xba\\xe6\\x8c\\x81\\xe6\\x9c\\x89\\xe7\\x9a\\x84\\xe2\\x80\\x9c\\xe4\\xb8\\x9c\\xe8\\xb4\\xa2\\xe8\\xbd\\xac\\xe5\\x80\\xba\\xe2\\x80\\x9d\\xe5\\xa6\\x82\\xe5\\xad\\x98\\xe5\\x9c\\xa8\\xe8\\xa2\\xab\\xe8\\xb4\\xa8\\xe6\\x8a\\xbc\\xe6\\x88\\x96\\xe8\\xa2\\xab\\xe5\\x86\\xbb\\xe7\\xbb\\x93\\xe7\\x9a\\x84\\xef\\xbc\\x8c\\xe5\\xbb\\xba\\xe8\\xae\\xae\\xe5\\x9c\\xa8\\xe5\\x81\\x9c\\xe6\\xad\\xa2\\xe4\\xba\\xa4\\xe6\\x98\\x93\\xe5\\x92\\x8c\\xe8\\xbd\\xac\\xe8\\x82\\xa1\\xe6\\x97\\xa5\\xe5\\x89\\x8d\\xe8\\xa7\\xa3\\xe9\\x99\\xa4\\xe8\\xb4\\xa8\\xe6\\x8a\\xbc\\xe5\\x92\\x8c\\xe5\\x86\\xbb\\xe7\\xbb\\x93\\xef\\xbc\\x8c\\xe4\\xbb\\xa5\\xe5\\x85\\x8d\\xe5\\x87\\xba\\xe7\\x8e\\xb0\\xe6\\x97\\xa0\\xe6\\xb3\\x95\\xe8\\xbd\\xac\\xe8\\x82\\xa1\\xe8\\x80\\x8c\\xe8\\xa2\\xab\\xe8\\xb5\\x8e\\xe5\\x9b\\x9e\\xe7\\x9a\\x84\\xe6\\x83\\x85\\xe5\\xbd\\xa2\\xe3\\x80\\x82</p>\\r\\n\\r\\n                <p>\\xe6\\x9c\\xac\\xe6\\xac\\xa1\\xe5\\x8f\\xaf\\xe8\\xbd\\xac\\xe5\\x80\\xba\\xe8\\xb5\\x8e\\xe5\\x9b\\x9e\\xe4\\xbb\\xb7\\xe6\\xa0\\xbc\\xe5\\x8f\\xaf\\xe8\\x83\\xbd\\xe4\\xb8\\x8e\\xe2\\x80\\x9c\\xe4\\xb8\\x9c\\xe8\\xb4\\xa2\\xe8\\xbd\\xac\\xe5\\x80\\xba\\xe2\\x80\\x9d\\xe5\\x81\\x9c\\xe6\\xad\\xa2\\xe4\\xba\\xa4\\xe6\\x98\\x93\\xe5\\x92\\x8c\\xe8\\xbd\\xac\\xe8\\x82\\xa1\\xe5\\x89\\x8d\\xe7\\x9a\\x84\\xe5\\xb8\\x82\\xe5\\x9c\\xba\\xe4\\xbb\\xb7\\xe6\\xa0\\xbc\\xe5\\xad\\x98\\xe5\\x9c\\xa8\\xe8\\xbe\\x83\\xe5\\xa4\\xa7\\xe5\\xb7\\xae\\xe5\\xbc\\x82\\xef\\xbc\\x8c\\xe7\\x89\\xb9\\xe5\\x88\\xab\\xe6\\x8f\\x90\\xe9\\x86\\x92\\xe6\\x8c\\x81\\xe6\\x9c\\x89\\xe4\\xba\\xba\\xe6\\xb3\\xa8\\xe6\\x84\\x8f\\xe5\\x9c\\xa8\\xe9\\x99\\x90\\xe6\\x9c\\x9f\\xe5\\x86\\x85\\xe8\\xbd\\xac\\xe8\\x82\\xa1\\xe3\\x80\\x82</p>\\r\\n\\r\\n                <p>\\xe5\\xa6\\x82\\xe6\\x9e\\x9c\\xe6\\x8a\\x95\\xe8\\xb5\\x84\\xe8\\x80\\x85\\xe4\\xb8\\x8d\\xe8\\x83\\xbd\\xe5\\x9c\\xa82019\\xe5\\xb9\\xb45\\xe6\\x9c\\x8810\\xe6\\x97\\xa5\\xe5\\xbd\\x93\\xe6\\x97\\xa5\\xe5\\x8f\\x8a\\xe4\\xb9\\x8b\\xe5\\x89\\x8d\\xe8\\x87\\xaa\\xe8\\xa1\\x8c\\xe5\\xae\\x8c\\xe6\\x88\\x90\\xe8\\xbd\\xac\\xe8\\x82\\xa1\\xef\\xbc\\x8c\\xe5\\x8f\\xaf\\xe8\\x83\\xbd\\xe9\\x9d\\xa2\\xe4\\xb8\\xb4\\xe6\\x8d\\x9f\\xe5\\xa4\\xb1\\xef\\xbc\\x8c\\xe6\\x95\\xac\\xe8\\xaf\\xb7\\xe6\\x8a\\x95\\xe8\\xb5\\x84\\xe8\\x80\\x85\\xe6\\xb3\\xa8\\xe6\\x84\\x8f\\xe6\\x8a\\x95\\xe8\\xb5\\x84\\xe9\\xa3\\x8e\\xe9\\x99\\xa9\\xe3\\x80\\x82\\xe6\\x95\\xac\\xe8\\xaf\\xb7\\xe6\\x8a\\x95\\xe8\\xb5\\x84\\xe8\\x80\\x85\\xe4\\xbb\\x94\\xe7\\xbb\\x86\\xe9\\x98\\x85\\xe8\\xaf\\xbb\\xe7\\x9b\\xb8\\xe5\\x85\\xb3\\xe5\\x85\\xac\\xe5\\x91\\x8a\\xef\\xbc\\x8c\\xe6\\xb3\\xa8\\xe6\\x84\\x8f\\xe6\\x8a\\x95\\xe8\\xb5\\x84\\xe9\\xa3\\x8e\\xe9\\x99\\xa9\\xe3\\x80\\x82</p>\\r\\n\\r\\n            </p>\\r\\n            <span class=\"closeBtn\"></span>\\r\\n            <div class=\"sureBtnBox\">\\r\\n                <span class=\"sureBtn\">\\xe7\\xa1\\xae\\xe5\\xae\\x9a</span>\\r\\n            </div>     \\r\\n        </div>\\r\\n    </div>\\r\\n  <!-- footer-2016 -->\\r\\n<style>\\r\\n    .footer2016 ul {list-style: none;margin: 0;padding: 0;}\\r\\n    .footer2016 a:hover{color:#ff4901 !important;text-decoration: underline !important;}\\r\\n    .footer2016 .icon, .footer2016 .navlist li a {display: inline-block;}\\r\\n    .footer2016 .icon {background-image: url(//g1.dfcfw.com/g3/201802/20180206095814.png);background-repeat: no-repeat;}\\r\\n    .footer2016 {margin: 0 auto;clear: both;width: 1000px;line-height: 1.1;_line-height: 1.2;font-family: simsun;font-size: 12px;border-top: 2px solid #2F5895;}\\r\\n    .footer2016 .footertg {background-color: #F3F3F3;float: left;width: 100%;padding: 12px 0 0;height: 140px;}\\r\\n    .footer2016 .footertg a:link, .footer2016 .footertg a:visited {color: #676767;text-decoration: none;}\\r\\n    .footer2016 .qr {float: left;width: 80px;height: 140px;line-height: 150%;padding: 0 10px 0 8px;}\\r\\n    .footer2016 .qr .t {font-weight: 700;font-size: 14px;padding-bottom: 10px;}\\r\\n    .footer2016 .icon_qrem80, .footer2016 .icon_qrjj80 {background-image: url(//g1.dfcfw.com/g2/201607/20160728133707.png);width: 80px;height: 80px;}\\r\\n    .footer2016 .icon_qrem80 {background-position: 0 -330px;}\\r\\n    .footer2016 .icon_emwxqr, .footer2016 .icon_jjwxqr {background-image: url(//g1.dfcfw.com/g2/201607/20160728133707.png);width: 86px;height: 106px;}\\r\\n    .footer2016 .icon_emwxqr {background-position: -90px 0;}\\r\\n    .footer2016 .ftglist ul li.qrli {position: relative;}\\r\\n    .footer2016 .ftglist ul li.qrli:hover .icon_qr, .footer2016 .scl-news .name a {display: block;}\\r\\n    .footer2016 .icon_emwxqr, .footer2016 .icon_jjwxqr {display: none;position: absolute;left: 0;top: 24px;}\\r\\n    .footer2016 .ftglist {float: left;height: 140px;padding: 0px 10px;}\\r\\n    .footer2016 .ftglistt {font-size: 14px;font-weight: 700;line-height: 130%;padding-bottom: 6px;text-align: left;}\\r\\n    .footer2016 .ftglist ul li {padding: 5px 0;color: #676767;text-align: left;}\\r\\n    .footer2016 .icon_wb {background-position: -24px 0;width: 14px;height: 12px;}\\r\\n    .footer2016 .icon_wx {background-position: 0 0;width: 14px;height: 11px;}\\r\\n    .footer2016 .icon_note {background-position: -47px 0;width: 13px;height: 11px;}\\r\\n    .footer2016 .ftglist .icon {vertical-align: -1px;margin-right: 2px;}\\r\\n    .footer2016 .footertg a:link, .footer2016 .footertg a:visited {color: #676767;text-decoration: none;}\\r\\n    .footer2016 .qrl {border-left: 1px solid #ddd;margin-left: 10px;padding-left: 20px;}\\r\\n    .footer2016 .icon_qrjj80 {background-position: -90px -330px;}\\r\\n    .footer2016 .footercr {clear: both;text-align: center;line-height: 26px;font-size: 12px;width:1000px;margin: 0 auto;height:26px;overflow:hidden;}\\r\\n    .footer2016 .icon_icp {background-position: -24px -21px;width: 15px;height: 17px;}\\r\\n    .footer2016 .footercr .icon {vertical-align: -3px;margin-right: 2px;}\\r\\n    .footer2016 .icon_pol {background-position: 0 -22px;width: 18px;height: 20px;}\\r\\n    .footer2016 .footerlinks {background-color: #2F5895;height: 30px;text-align: center;line-height: 30px;}\\r\\n    .footer2016 .footerlinks a:link, .footer2016 .footerlinks a:visited, .footer2016 .footerlinks a:hover {color: #fff !important;text-decoration: none;margin: 0 14px;}\\r\\n    .footer2016 .footerbz {text-align: center;padding: 12px 0;}\\r\\n    .footer2016 .footerbz a {margin: 0 4px;}\\r\\n    .footer2016 .footer-police {background-position: 0 -112px;width: 110px;height: 40px;}\\r\\n    .footer2016 .footer-zx110 {background-position: -120px -113px;width: 110px;height: 40px;}\\r\\n    .footer2016 .footer-shjubao {background-position: 0 -172px;width: 110px;height: 40px;}\\r\\n    .footer2016 .footer-cxzx {background-position: -120px -174px;width: 40px;height: 40px;}\\r\\n    .footer2016 .footer-shgs {background-position: -180px -174px;width: 47px;height: 40px;}\\r\\n    .footer2016 .footer-12377 {background-position: 0 -54px;width: 186px;height: 40px;}\\r\\n    .footer2016 .footer-yhjb {background-position: 0 -229px;width: 123px;height: 40px;}\\r\\n    .footer2016 .footer-qrlast {width: 90px;}\\r\\n    .footer2016 .footer-icon-qihuoqr { background: url(https://emcharts.dfcfw.com/images/qihuoqr.png);width: 80px;height: 80px;display: inline-block;background-repeat: no-repeat;vertical-align: -5px;}\\r\\n</style>\\r\\n\\r\\n<div class=\"footer2016\">\\r\\n    <div class=\"footertg\">\\r\\n        <div class=\"qr\">\\r\\n            <div class=\"t\"><a href=\"http://acttg.eastmoney.com/pub/web_dfcfsy_dbtg_wzl_01_01_01_1\" style=\"color:#000\" target=\"_blank\">\\xe4\\xb8\\x9c\\xe6\\x96\\xb9\\xe8\\xb4\\xa2\\xe5\\xaf\\x8c</a></div>\\r\\n            <a href=\"http://acttg.eastmoney.com/pub/web_app_dcsy_2wm_01_01_01_0\" target=\"_blank\"><em class=\"icon icon_qrem80\"></em></a><br />\\xe6\\x89\\xab\\xe4\\xb8\\x80\\xe6\\x89\\xab\\xe4\\xb8\\x8b\\xe8\\xbd\\xbdAPP\\r\\n        </div>\\r\\n\\r\\n        <div class=\"ftglist\">\\r\\n            <div class=\"ftglistt\">\\xe4\\xb8\\x9c\\xe6\\x96\\xb9\\xe8\\xb4\\xa2\\xe5\\xaf\\x8c\\xe4\\xba\\xa7\\xe5\\x93\\x81</div>\\r\\n            <ul>\\r\\n                <li><a href=\"https://acttg.eastmoney.com/pub/pctg_hskh_act_dfcfwmfb_01_01_01_0\" target=\"_blank\">\\xe4\\xb8\\x9c\\xe6\\x96\\xb9\\xe8\\xb4\\xa2\\xe5\\xaf\\x8c\\xe5\\x85\\x8d\\xe8\\xb4\\xb9\\xe7\\x89\\x88</a></li>\\r\\n                <li><a href=\"https://acttg.eastmoney.com/pub/pctg_hskh_act_dfcfwl2_01_01_01_0\" target=\"_blank\">\\xe4\\xb8\\x9c\\xe6\\x96\\xb9\\xe8\\xb4\\xa2\\xe5\\xaf\\x8cLevel-2</a></li>\\r\\n                <li><a href=\"http://js5.eastmoney.com/tg.aspx?ID=1483\" target=\"_blank\">\\xe6\\x8a\\x95\\xe8\\xb5\\x84\\xe5\\xa4\\xa7\\xe5\\xb8\\x88</a></li>\\r\\n                <li><a href=\"http://js5.eastmoney.com/tg.aspx?ID=2749\" target=\"_blank\">Choice\\xe9\\x87\\x91\\xe8\\x9e\\x8d\\xe7\\xbb\\x88\\xe7\\xab\\xaf</a></li>\\r\\n                <li style=\"display: none;\"><a href=\"http://www.langke.com/\" target=\"_blank\">\\xe6\\xb5\\xaa\\xe5\\xae\\xa2 - \\xe8\\xb4\\xa2\\xe7\\xbb\\x8f\\xe8\\xa7\\x86\\xe9\\xa2\\x91</a></li>\\r\\n            </ul>\\r\\n        </div>\\r\\n        <div class=\"ftglist\">\\r\\n            <div class=\"ftglistt\">\\xe8\\xaf\\x81\\xe5\\x88\\xb8\\xe4\\xba\\xa4\\xe6\\x98\\x93</div>\\r\\n            <ul>\\r\\n                <li><a href=\"https://acttg.eastmoney.com/pub/web_kh_dcsy_dbtkwzl_01_01_01_0\" target=\"_blank\">\\xe4\\xb8\\x9c\\xe6\\x96\\xb9\\xe8\\xb4\\xa2\\xe5\\xaf\\x8c\\xe8\\xaf\\x81\\xe5\\x88\\xb8\\xe5\\xbc\\x80\\xe6\\x88\\xb7</a></li>\\r\\n                <li><a href=\"https://jy.xzsec.com/Trade/Buy\" target=\"_blank\">\\xe4\\xb8\\x9c\\xe6\\x96\\xb9\\xe8\\xb4\\xa2\\xe5\\xaf\\x8c\\xe5\\x9c\\xa8\\xe7\\xba\\xbf\\xe4\\xba\\xa4\\xe6\\x98\\x93</a></li>\\r\\n\\t\\t\\t\\t<li><a href=\"https://acttg.eastmoney.com/pub/pctg_hskh_act_dfcfzqjy_01_01_01_0\"  target=\"_blank\">\\xe4\\xb8\\x9c\\xe6\\x96\\xb9\\xe8\\xb4\\xa2\\xe5\\xaf\\x8c\\xe8\\xaf\\x81\\xe5\\x88\\xb8\\xe4\\xba\\xa4\\xe6\\x98\\x93</a></li>\\r\\n            </ul>\\r\\n        </div>\\r\\n        <div class=\"ftglist\">\\r\\n            <div class=\"ftglistt\">\\xe5\\x85\\xb3\\xe6\\xb3\\xa8\\xe4\\xb8\\x9c\\xe6\\x96\\xb9\\xe8\\xb4\\xa2\\xe5\\xaf\\x8c</div>\\r\\n            <ul>\\r\\n                <li><a href=\"http://weibo.com/dfcfw\" target=\"_blank\"><em class=\"icon icon_wb\"></em>\\xe4\\xb8\\x9c\\xe6\\x96\\xb9\\xe8\\xb4\\xa2\\xe5\\xaf\\x8c\\xe7\\xbd\\x91\\xe5\\xbe\\xae\\xe5\\x8d\\x9a</a></li>\\r\\n                <li class=\"qrli\"><a href=\"javascript:;\" target=\"_self\"><em class=\"icon icon_wx\"></em>\\xe4\\xb8\\x9c\\xe6\\x96\\xb9\\xe8\\xb4\\xa2\\xe5\\xaf\\x8c\\xe7\\xbd\\x91\\xe5\\xbe\\xae\\xe4\\xbf\\xa1</a><em class=\"icon icon_qr icon_emwxqr\"></em></li>\\r\\n                <li><a href=\"http://corp.eastmoney.com/Lianxi_liuyan.asp\" target=\"_blank\"><em class=\"icon icon_note\"></em>\\xe6\\x84\\x8f\\xe8\\xa7\\x81\\xe4\\xb8\\x8e\\xe5\\xbb\\xba\\xe8\\xae\\xae</a></li>\\r\\n            </ul>\\r\\n        </div>\\r\\n        <div class=\"qr qrl\">\\r\\n            <div class=\"t\"><a href=\"http://acttg.eastmoney.com/pub/web_ttjjsy_dbtg_wzl_01_01_01_1\" style=\"color:#000\" target=\"_blank\">\\xe5\\xa4\\xa9\\xe5\\xa4\\xa9\\xe5\\x9f\\xba\\xe9\\x87\\x91</a></div>\\r\\n            <a href=\"http://js1.eastmoney.com/tg.aspx?ID=4672\" target=\"_blank\"><em class=\"icon icon_qrjj80\"></em></a><br />\\xe6\\x89\\xab\\xe4\\xb8\\x80\\xe6\\x89\\xab\\xe4\\xb8\\x8b\\xe8\\xbd\\xbdAPP\\r\\n        </div>\\r\\n        <div class=\"ftglist\">\\r\\n            <div class=\"ftglistt\">\\xe5\\x9f\\xba\\xe9\\x87\\x91\\xe4\\xba\\xa4\\xe6\\x98\\x93</div>\\r\\n            <ul>\\r\\n                <li><a href=\"https://trade6.1234567.com.cn/reg/step1\" target=\"_blank\">\\xe5\\x9f\\xba\\xe9\\x87\\x91\\xe5\\xbc\\x80\\xe6\\x88\\xb7</a></li>\\r\\n                <li><a href=\"https://trade.1234567.com.cn/login\" target=\"_blank\">\\xe5\\x9f\\xba\\xe9\\x87\\x91\\xe4\\xba\\xa4\\xe6\\x98\\x93</a></li>\\r\\n                <li><a href=\"http://huoqibao.1234567.com.cn/\" target=\"_blank\">\\xe6\\xb4\\xbb\\xe6\\x9c\\x9f\\xe5\\xae\\x9d</a></li>\\r\\n                <li><a href=\"http://fund.eastmoney.com/trade/default.html\" target=\"_blank\">\\xe5\\x9f\\xba\\xe9\\x87\\x91\\xe4\\xba\\xa7\\xe5\\x93\\x81</a></li>\\r\\n                <li><a href=\"http://fund.eastmoney.com/gslc/\" target=\"_blank\">\\xe7\\xa8\\xb3\\xe5\\x81\\xa5\\xe7\\x90\\x86\\xe8\\xb4\\xa2</a></li>\\r\\n            </ul>\\r\\n        </div>\\r\\n        <div class=\"ftglist\">\\r\\n            <div class=\"ftglistt\">\\xe5\\x85\\xb3\\xe6\\xb3\\xa8\\xe5\\xa4\\xa9\\xe5\\xa4\\xa9\\xe5\\x9f\\xba\\xe9\\x87\\x91</div>\\r\\n            <ul>\\r\\n                <li><a href=\"http://weibo.com/ttfund\" target=\"_blank\"><em class=\"icon icon_wb\"></em>\\xe5\\xa4\\xa9\\xe5\\xa4\\xa9\\xe5\\x9f\\xba\\xe9\\x87\\x91\\xe7\\xbd\\x91\\xe5\\xbe\\xae\\xe5\\x8d\\x9a</a></li>\\r\\n                <li class=\"qrli\"><a href=\"javascript:;\" target=\"_self\"><em class=\"icon icon_wx\"></em>\\xe5\\xa4\\xa9\\xe5\\xa4\\xa9\\xe5\\x9f\\xba\\xe9\\x87\\x91\\xe7\\xbd\\x91\\xe5\\xbe\\xae\\xe4\\xbf\\xa1<em class=\"icon icon_qr icon_jjwxqr\"></em></a></li>\\r\\n            </ul>\\r\\n        </div>\\r\\n        <div class=\"qr qrl footer-qrlast\">\\r\\n            <div class=\"t\"><a href=\"http://acttg.eastmoney.com/pub/web_dfcfqhsy_dbtg_wzl_01_01_01_1\" style=\"color:#000\" target=\"_blank\">\\xe4\\xb8\\x9c\\xe6\\x96\\xb9\\xe8\\xb4\\xa2\\xe5\\xaf\\x8c\\xe6\\x9c\\x9f\\xe8\\xb4\\xa7</a></div>\\r\\n            <a href=\"http://acttg.eastmoney.com/pub/web_kh_dcsy_dibudfcfqh_01_01_01_1\" target=\"_blank\"><em class=\"footer-icon-qihuoqr\"></em></a><br>\\xe6\\x89\\xab\\xe4\\xb8\\x80\\xe6\\x89\\xab\\xe4\\xb8\\x8b\\xe8\\xbd\\xbdAPP\\r\\n        </div>\\r\\n        <div class=\"ftglist\">\\r\\n            <div class=\"ftglistt\">\\xe6\\x9c\\x9f\\xe8\\xb4\\xa7\\xe4\\xba\\xa4\\xe6\\x98\\x93</div>\\r\\n            <ul>\\r\\n                <li><a href=\"http://acttg.eastmoney.com/pub/web_kh_dcsy_dibuqhsjkh_01_01_01_1\" target=\"_blank\">\\xe6\\x9c\\x9f\\xe8\\xb4\\xa7\\xe6\\x89\\x8b\\xe6\\x9c\\xba\\xe5\\xbc\\x80\\xe6\\x88\\xb7</a></li>\\r\\n                <li><a href=\"https://acttg.eastmoney.com/pub/web_kh_dcsy_dibudnkh_01_01_01_1\" target=\"_blank\">\\xe6\\x9c\\x9f\\xe8\\xb4\\xa7\\xe7\\x94\\xb5\\xe8\\x84\\x91\\xe5\\xbc\\x80\\xe6\\x88\\xb7</a></li>\\r\\n                <li><a href=\"http://acttg.eastmoney.com/pub/web_kh_dcsy_dibuqhgfwz_01_01_01_1\" target=\"_blank\">\\xe6\\x9c\\x9f\\xe8\\xb4\\xa7\\xe5\\xae\\x98\\xe6\\x96\\xb9\\xe7\\xbd\\x91\\xe7\\xab\\x99</a></li>\\r\\n            </ul>\\r\\n        </div>\\r\\n    </div>\\r\\n        <div class=\"footercr\" style=\"padding-top:8px;\">\\xe4\\xbf\\xa1\\xe6\\x81\\xaf\\xe7\\xbd\\x91\\xe7\\xbb\\x9c\\xe4\\xbc\\xa0\\xe6\\x92\\xad\\xe8\\xa7\\x86\\xe5\\x90\\xac\\xe8\\x8a\\x82\\xe7\\x9b\\xae\\xe8\\xae\\xb8\\xe5\\x8f\\xaf\\xe8\\xaf\\x81\\xef\\xbc\\x9a0908328\\xe5\\x8f\\xb7 \\xe7\\xbb\\x8f\\xe8\\x90\\xa5\\xe8\\xaf\\x81\\xe5\\x88\\xb8\\xe6\\x9c\\x9f\\xe8\\xb4\\xa7\\xe4\\xb8\\x9a\\xe5\\x8a\\xa1\\xe8\\xae\\xb8\\xe5\\x8f\\xaf\\xe8\\xaf\\x81\\xe7\\xbc\\x96\\xe5\\x8f\\xb7\\xef\\xbc\\x9a913101046312860336 \\xe8\\xbf\\x9d\\xe6\\xb3\\x95\\xe5\\x92\\x8c\\xe4\\xb8\\x8d\\xe8\\x89\\xaf\\xe4\\xbf\\xa1\\xe6\\x81\\xaf\\xe4\\xb8\\xbe\\xe6\\x8a\\xa5:021-34289898 \\xe4\\xb8\\xbe\\xe6\\x8a\\xa5\\xe9\\x82\\xae\\xe7\\xae\\xb1\\xef\\xbc\\x9a<a target=\"_self\" href=\"mailto:jubao@eastmoney.com\">jubao@eastmoney.com</a></div>\\r\\n        <div class=\"footercr\" style=\"padding-bottom:8px;\">\\r\\n            <em class=\"icon icon_icp\"></em>\\xe6\\xb2\\xaaICP\\xe8\\xaf\\x81:\\xe6\\xb2\\xaaB2-20070217 <a target=\"_blank\" rel=\"nofollow\" href=\"http://www.beian.miit.gov.cn/\" style=\"color: #3F3F3F;text-decoration:none;\">\\xe7\\xbd\\x91\\xe7\\xab\\x99\\xe5\\xa4\\x87\\xe6\\xa1\\x88\\xe5\\x8f\\xb7:\\xe6\\xb2\\xaaICP\\xe5\\xa4\\x8705006054\\xe5\\x8f\\xb7-11 </a> <a target=\"_blank\" rel=\"nofollow\" href=\"http://www.beian.gov.cn/portal/registerSystemInfo?recordcode=31010402000120\" target=\"_blank\" style=\"color: #3F3F3F;text-decoration:none;\"><em class=\"icon icon_pol\"></em>\\xe6\\xb2\\xaa\\xe5\\x85\\xac\\xe7\\xbd\\x91\\xe5\\xae\\x89\\xe5\\xa4\\x87 31010402000120\\xe5\\x8f\\xb7</a> \\xe7\\x89\\x88\\xe6\\x9d\\x83\\xe6\\x89\\x80\\xe6\\x9c\\x89:\\xe4\\xb8\\x9c\\xe6\\x96\\xb9\\xe8\\xb4\\xa2\\xe5\\xaf\\x8c\\xe7\\xbd\\x91 \\xe6\\x84\\x8f\\xe8\\xa7\\x81\\xe4\\xb8\\x8e\\xe5\\xbb\\xba\\xe8\\xae\\xae:021-54509966/952500\\r\\n        </div>\\r\\n    <div class=\"footerlinks\">\\r\\n\\t\\t\\t<a href=\"http://about.eastmoney.com\" target=\"_blank\" rel=\"nofollow\">\\xe5\\x85\\xb3\\xe4\\xba\\x8e\\xe6\\x88\\x91\\xe4\\xbb\\xac</a>\\r\\n\\t\\t\\t<a href=\"http://emhd2.eastmoney.com/market\" target=\"_blank\" rel=\"nofollow\">\\xe5\\xb9\\xbf\\xe5\\x91\\x8a\\xe6\\x9c\\x8d\\xe5\\x8a\\xa1</a>\\r\\n\\t\\t\\t<a href=\"http://about.eastmoney.com/home/contact\" target=\"_blank\" rel=\"nofollow\">\\xe8\\x81\\x94\\xe7\\xb3\\xbb\\xe6\\x88\\x91\\xe4\\xbb\\xac</a>\\r\\n\\t\\t\\t<a href=\"http://eastmoney.zhiye.com\" target=\"_blank\" rel=\"nofollow\">\\xe8\\xaf\\x9a\\xe8\\x81\\x98\\xe8\\x8b\\xb1\\xe6\\x89\\x8d</a>\\r\\n\\t\\t\\t<a href=\"http://about.eastmoney.com/home/disclaimer\" target=\"_blank\" rel=\"nofollow\">\\xe5\\x85\\x8d\\xe8\\xb4\\xa3\\xe5\\xa3\\xb0\\xe6\\x98\\x8e</a>\\r\\n\\t\\t\\t<a href=\"http://about.eastmoney.com/home/legal\" target=\"_blank\" rel=\"nofollow\">\\xe6\\xb3\\x95\\xe5\\xbe\\x8b\\xe5\\xa3\\xb0\\xe6\\x98\\x8e</a>\\r\\n            <a href=\"http://about.eastmoney.com/home/conceal\" target=\"_blank\" rel=\"nofollow\">\\xe9\\x9a\\x90\\xe7\\xa7\\x81\\xe4\\xbf\\x9d\\xe6\\x8a\\xa4</a>\\r\\n\\t\\t\\t<a href=\"http://about.eastmoney.com/home/parper\" target=\"_blank\" rel=\"nofollow\">\\xe5\\xbe\\x81\\xe7\\xa8\\xbf\\xe5\\x90\\xaf\\xe4\\xba\\x8b</a>\\r\\n\\t\\t\\t<a href=\"http://www.eastmoney.com/sitemap.html\" target=\"_blank\">\\xe7\\xbd\\x91\\xe7\\xab\\x99\\xe5\\x9c\\xb0\\xe5\\x9b\\xbe</a>\\r\\n\\t\\t\\t<a href=\"http://www.zx110.org/cxs/index.html\" target=\"_blank\" rel=\"nofollow\">\\xe6\\x94\\xbe\\xe5\\xbf\\x83\\xe6\\x90\\x9c</a>\\r\\n\\t\\t\\t<a href=\"http://about.eastmoney.com/home/links\" target=\"_blank\" rel=\"nofollow\">\\xe5\\x8f\\x8b\\xe6\\x83\\x85\\xe9\\x93\\xbe\\xe6\\x8e\\xa5</a>\\r\\n    </div>\\r\\n    <div class=\"footerbz\">\\r\\n        <img src=\"//g1.dfcfw.com/g3/201905/20190531140719.png\" title=\"\\xe4\\xba\\xb2\\xe7\\x88\\xb1\\xe7\\x9a\\x84\\xe5\\xb8\\x82\\xe6\\xb0\\x91\\xe6\\x9c\\x8b\\xe5\\x8f\\x8b\\xef\\xbc\\x8c\\xe4\\xb8\\x8a\\xe6\\xb5\\xb7\\xe8\\xad\\xa6\\xe6\\x96\\xb9\\xe5\\x8f\\x8d\\xe8\\xaf\\x88\\xe5\\x8a\\x9d\\xe9\\x98\\xbb\\xe7\\x94\\xb5\\r\\n\\xe8\\xaf\\x9d\\xe2\\x80\\x9c962110\\xe2\\x80\\x9d\\xe7\\xb3\\xbb\\xe4\\xb8\\x93\\xe9\\x97\\xa8\\xe9\\x92\\x88\\xe5\\xaf\\xb9\\xe9\\x81\\xbf\\xe5\\x85\\x8d\\xe6\\x82\\xa8\\xe8\\xb4\\xa2\\xe4\\xba\\xa7\\xe8\\xa2\\xab\\r\\n\\xe9\\xaa\\x97\\xe5\\x8f\\x97\\xe6\\x8d\\x9f\\xe8\\x80\\x8c\\xe8\\xae\\xbe\\xef\\xbc\\x8c\\xe8\\xaf\\xb7\\xe6\\x82\\xa8\\xe4\\xb8\\x80\\xe6\\x97\\xa6\\xe6\\x94\\xb6\\xe5\\x88\\xb0\\xe6\\x9d\\xa5\\xe7\\x94\\xb5\\xef\\xbc\\x8c\\xe7\\xab\\x8b\\xe5\\x8d\\xb3\\r\\n\\xe6\\x8e\\xa5\\xe5\\x90\\xac\\xe3\\x80\\x82\" style=\"vertical-align: bottom;\">\\r\\n        <a rel=\"nofollow\" href=\"http://www.cyberpolice.cn/\" class=\"icon footer-police\" title=\"\\xe4\\xb8\\x8a\\xe6\\xb5\\xb7\\xe7\\xbd\\x91\\xe8\\xad\\xa6\\xe7\\xbd\\x91\\xe7\\xbb\\x9c110\" target=\"_blank\"></a>\\r\\n        <a rel=\"nofollow\" href=\"http://www.zx110.org/\" class=\"icon footer-zx110\" title=\"\\xe7\\xbd\\x91\\xe7\\xbb\\x9c\\xe7\\xa4\\xbe\\xe4\\xbc\\x9a\\xe5\\xbe\\x81\\xe4\\xbf\\xa1\\xe7\\xbd\\x91\" target=\"_blank\"></a>\\r\\n        <a rel=\"nofollow\" href=\"http://www.shjbzx.cn/\" class=\"icon footer-shjubao\" title=\"\\xe4\\xb8\\x8a\\xe6\\xb5\\xb7\\xe8\\xbf\\x9d\\xe6\\xb3\\x95\\xe5\\x92\\x8c\\xe8\\xbf\\x9d\\xe8\\xa7\\x84\\xe4\\xbf\\xa1\\xe6\\x81\\xaf\\xe4\\xb8\\xbe\\xe6\\x8a\\xa5\\xe4\\xb8\\xad\\xe5\\xbf\\x83\" target=\"_blank\"></a>\\r\\n        <a rel=\"nofollow\" href=\"http://www.12377.cn\" class=\"icon footer-12377\" title=\"\\xe4\\xb8\\xad\\xe5\\x9b\\xbd\\xe4\\xba\\x92\\xe8\\x81\\x94\\xe7\\xbd\\x91\\xe8\\xbf\\x9d\\xe6\\xb3\\x95\\xe5\\x92\\x8c\\xe4\\xb8\\x8d\\xe8\\x89\\xaf\\xe4\\xbf\\xa1\\xe6\\x81\\xaf\\xe4\\xb8\\xbe\\xe6\\x8a\\xa5\\xe4\\xb8\\xad\\xe5\\xbf\\x83\" target=\"_blank\"></a>\\r\\n        <a rel=\"nofollow\" href=\"http://report.12377.cn:13225/toreportinputNormal_anis.do\" class=\"icon footer-yhjb\" title=\"\\xe4\\xb8\\x8a\\xe6\\xb5\\xb7\\xe5\\xb8\\x82\\xe4\\xba\\x92\\xe8\\x81\\x94\\xe7\\xbd\\x91\\xe8\\xbf\\x9d\\xe6\\xb3\\x95\\xe5\\x92\\x8c\\xe4\\xb8\\x8d\\xe8\\x89\\xaf\\xe4\\xbf\\xa1\\xe6\\x81\\xaf\\xe4\\xb8\\xbe\\xe6\\x8a\\xa5\\xe4\\xb8\\xad\\xe5\\xbf\\x83\" target=\"_blank\"></a>\\r\\n\\t</div>\\r\\n</div>\\r\\n\\r\\n<script>\\r\\n    if(document.all && !window.XMLHttpRequest){\\r\\n        $(\".qrli\").hover(function(){\\r\\n            $(\".icon_qr\",this).show();\\r\\n        },function(){\\r\\n            $(\".icon_qr\",this).hide();\\r\\n        });\\r\\n    }\\r\\n</script>\\r\\n</body>\\r\\n</html>\\r\\n<script id=\"tmp_deal_detail\" type=\"text/html\">\\r\\n    {{each list as val idx}}\\r\\n      <tr>\\r\\n        <td>{{val.time}}</td>\\r\\n        <td class=\"{{val.closeCss}}\">{{val.close}}</td>\\r\\n        <td class=\"{{val.volumnCss}}\"><span class=\"{{val.volumnCss}}\">{{val.volumn}}</span><span class=\"arrow {{val.arrowcolor}}\">{{val.dir}}</span></td>\\r\\n    </tr>\\r\\n    {{/each}}\\r\\n</script>\\r\\n<script>\\r\\n  var hotguba = [\"0006512\",\"6001271\",\"0026032\",\"3002922\",\"0025032\",\"0009032\",\"6015581\",\"0000632\",\"6008551\",\"0022232\",\"3000592\",\"0025062\",\"6007451\",\"0006522\",\"3000022\"]\\r\\n</script>\\r\\n<script src=\"//emcharts.dfcfw.com/libs/jquery.1.12.4.js\"></script>\\r\\n<script src=\"//emcharts.dfcfw.com/suggest/stocksuggest2017.min.js\"></script>\\r\\n<script src=\"../newstatic/js/old/qphf.js\"></script>\\r\\n<script src=\"../newstatic/js/old/hisacc.js\"></script>\\r\\n<script>\\r\\n    setTimeout(function () {\\r\\n        /*var arg = {\\r\\n            text: \"\\xe8\\xbe\\x93\\xe4\\xbb\\xa3\\xe7\\xa0\\x81\\xe3\\x80\\x81\\xe5\\x90\\x8d\\xe7\\xa7\\xb0\\xe6\\x88\\x96\\xe7\\xae\\x80\\xe6\\x8b\\xbc\",\\r\\n            autoSubmit: true,\\r\\n            width: 195,\\r\\n            header: [\"\\xe9\\x80\\x89\\xe9\\xa1\\xb9\", \"\\xe4\\xbb\\xa3\\xe7\\xa0\\x81\", \"\\xe5\\x90\\x8d\\xe7\\xa7\\xb0\", \"\\xe7\\xb1\\xbb\\xe5\\x9e\\x8b\"],\\r\\n            body: [-1, 1, 4, -2],\\r\\n            callback: function (arg) { }\\r\\n        };\\r\\n        var ss = new StockSuggest(\"StockCode\", arg);*/\\r\\n        qphf.getIndexQuote(15);\\r\\n        var arg = { def: \"\", set: \"\", lns: 0 };\\r\\n        var HV = new HistoryViews(\"historyest\", arg);\\r\\n\\r\\n    }, 500);\\r\\n</script>\\r\\n<script>\\r\\nvar stockEnity = {\\r\\n    stockId: \"1280732\",\\r\\n    stockCode: \"128073\",\\r\\n    stockName: \"\\xe5\\x93\\x88\\xe5\\xb0\\x94\\xe8\\xbd\\xac\\xe5\\x80\\xba\",\\r\\n    stockMarket: \"2\",\\r\\n    gubaCode: \"sz128073\",\\r\\n    MktNum: \"0\",\\r\\n    fullcode: \"0\" + \".\" + \"128073\"\\r\\n}\\r\\nvar serverTime=\"2020-04-13 19:04:41\"\\r\\nvar IsConversionDebt = true\\r\\n</script>\\r\\n<script src=\"../newstatic/js/bond.js\"></script>\\r\\n\\r\\n<script src=\"../newstatic/js/old/bonddraw.js\"></script>\\r\\n\\r\\n<script>\\r\\n    var startId = stockEnity.stockId.substring(0, 3);\\r\\n    var iszz = startId == \"110\" || startId == \"113\" || startId == \"123\" || startId == \"127\" || startId == \"128\";\\r\\n    if (!iszz) {\\r\\n        $(\"#conversion-info\").css(\"display\", \"none !important\");\\r\\n        $(\"#conversion-draw\").css(\"display\", \"none !important\");\\r\\n    }\\r\\n</script>\\r\\n<script src=\"http://emres.dfcfw.com/public/js/topnav.js\"></script>\\r\\n<script>_cpyno = \"c1\"</script>\\r\\n<script src=\"//emcharts.dfcfw.com/newsts/newsts.min.js\"></script>\\r\\n<script src=\"https://emcharts.dfcfw.com/usercollect/usercollect.min.js\"></script>\\r\\n<script>\\r\\n  var emtj_isUpload = 1;\\r\\n  var emtj_pageId = 113200301358; // \\xe5\\x8f\\xaa\\xe4\\xbf\\xae\\xe6\\x94\\xb9\\xe6\\xad\\xa4\\xe5\\xa4\\x84\\r\\n  var emtj_logSet = \"1111111111\";\\r\\n  var emtj_sampleRate = 1;\\r\\n  var _gglist = \\'128073.2.\\xe5\\x93\\x88\\xe5\\xb0\\x94\\xe8\\xbd\\xac\\xe5\\x80\\xba.1\\';\\r\\n</script>\\r\\n<script src=\"https://bdstatics.eastmoney.com/web/prd/jump_tracker.js\"></script>\\r\\n\\r\\n<!--[if lte IE 11 ]>\\r\\n<script src=\"http://emres.eastmoney.com/ie6/ie6.js\"></script>\\r\\n<![endif]-->'\n"
     ]
    },
    {
     "ename": "JSONDecodeError",
     "evalue": "Expecting value: line 1 column 1 (char 0)",
     "output_type": "error",
     "traceback": [
      "\u001b[1;31m---------------------------------------------------------------------------\u001b[0m",
      "\u001b[1;31mJSONDecodeError\u001b[0m                           Traceback (most recent call last)",
      "\u001b[1;32m<ipython-input-3-96cc26e9f5b4>\u001b[0m in \u001b[0;36m<module>\u001b[1;34m\u001b[0m\n\u001b[0;32m      4\u001b[0m \u001b[0mcontent\u001b[0m\u001b[1;33m=\u001b[0m\u001b[0mhtml\u001b[0m\u001b[1;33m.\u001b[0m\u001b[0mread\u001b[0m\u001b[1;33m(\u001b[0m\u001b[1;33m)\u001b[0m\u001b[1;33m\u001b[0m\u001b[1;33m\u001b[0m\u001b[0m\n\u001b[0;32m      5\u001b[0m \u001b[0mprint\u001b[0m\u001b[1;33m(\u001b[0m\u001b[0mcontent\u001b[0m\u001b[1;33m)\u001b[0m\u001b[1;33m\u001b[0m\u001b[1;33m\u001b[0m\u001b[0m\n\u001b[1;32m----> 6\u001b[1;33m \u001b[0minfo\u001b[0m\u001b[1;33m=\u001b[0m\u001b[0mjson\u001b[0m\u001b[1;33m.\u001b[0m\u001b[0mloads\u001b[0m\u001b[1;33m(\u001b[0m\u001b[0mcontent\u001b[0m\u001b[1;33m)\u001b[0m\u001b[1;33m\u001b[0m\u001b[1;33m\u001b[0m\u001b[0m\n\u001b[0m\u001b[0;32m      7\u001b[0m \u001b[0mprint\u001b[0m\u001b[1;33m(\u001b[0m\u001b[0mhtml\u001b[0m\u001b[1;33m)\u001b[0m\u001b[1;33m\u001b[0m\u001b[1;33m\u001b[0m\u001b[0m\n",
      "\u001b[1;32md:\\ana\\lib\\json\\__init__.py\u001b[0m in \u001b[0;36mloads\u001b[1;34m(s, encoding, cls, object_hook, parse_float, parse_int, parse_constant, object_pairs_hook, **kw)\u001b[0m\n\u001b[0;32m    346\u001b[0m             \u001b[0mparse_int\u001b[0m \u001b[1;32mis\u001b[0m \u001b[1;32mNone\u001b[0m \u001b[1;32mand\u001b[0m \u001b[0mparse_float\u001b[0m \u001b[1;32mis\u001b[0m \u001b[1;32mNone\u001b[0m \u001b[1;32mand\u001b[0m\u001b[1;33m\u001b[0m\u001b[1;33m\u001b[0m\u001b[0m\n\u001b[0;32m    347\u001b[0m             parse_constant is None and object_pairs_hook is None and not kw):\n\u001b[1;32m--> 348\u001b[1;33m         \u001b[1;32mreturn\u001b[0m \u001b[0m_default_decoder\u001b[0m\u001b[1;33m.\u001b[0m\u001b[0mdecode\u001b[0m\u001b[1;33m(\u001b[0m\u001b[0ms\u001b[0m\u001b[1;33m)\u001b[0m\u001b[1;33m\u001b[0m\u001b[1;33m\u001b[0m\u001b[0m\n\u001b[0m\u001b[0;32m    349\u001b[0m     \u001b[1;32mif\u001b[0m \u001b[0mcls\u001b[0m \u001b[1;32mis\u001b[0m \u001b[1;32mNone\u001b[0m\u001b[1;33m:\u001b[0m\u001b[1;33m\u001b[0m\u001b[1;33m\u001b[0m\u001b[0m\n\u001b[0;32m    350\u001b[0m         \u001b[0mcls\u001b[0m \u001b[1;33m=\u001b[0m \u001b[0mJSONDecoder\u001b[0m\u001b[1;33m\u001b[0m\u001b[1;33m\u001b[0m\u001b[0m\n",
      "\u001b[1;32md:\\ana\\lib\\json\\decoder.py\u001b[0m in \u001b[0;36mdecode\u001b[1;34m(self, s, _w)\u001b[0m\n\u001b[0;32m    335\u001b[0m \u001b[1;33m\u001b[0m\u001b[0m\n\u001b[0;32m    336\u001b[0m         \"\"\"\n\u001b[1;32m--> 337\u001b[1;33m         \u001b[0mobj\u001b[0m\u001b[1;33m,\u001b[0m \u001b[0mend\u001b[0m \u001b[1;33m=\u001b[0m \u001b[0mself\u001b[0m\u001b[1;33m.\u001b[0m\u001b[0mraw_decode\u001b[0m\u001b[1;33m(\u001b[0m\u001b[0ms\u001b[0m\u001b[1;33m,\u001b[0m \u001b[0midx\u001b[0m\u001b[1;33m=\u001b[0m\u001b[0m_w\u001b[0m\u001b[1;33m(\u001b[0m\u001b[0ms\u001b[0m\u001b[1;33m,\u001b[0m \u001b[1;36m0\u001b[0m\u001b[1;33m)\u001b[0m\u001b[1;33m.\u001b[0m\u001b[0mend\u001b[0m\u001b[1;33m(\u001b[0m\u001b[1;33m)\u001b[0m\u001b[1;33m)\u001b[0m\u001b[1;33m\u001b[0m\u001b[1;33m\u001b[0m\u001b[0m\n\u001b[0m\u001b[0;32m    338\u001b[0m         \u001b[0mend\u001b[0m \u001b[1;33m=\u001b[0m \u001b[0m_w\u001b[0m\u001b[1;33m(\u001b[0m\u001b[0ms\u001b[0m\u001b[1;33m,\u001b[0m \u001b[0mend\u001b[0m\u001b[1;33m)\u001b[0m\u001b[1;33m.\u001b[0m\u001b[0mend\u001b[0m\u001b[1;33m(\u001b[0m\u001b[1;33m)\u001b[0m\u001b[1;33m\u001b[0m\u001b[1;33m\u001b[0m\u001b[0m\n\u001b[0;32m    339\u001b[0m         \u001b[1;32mif\u001b[0m \u001b[0mend\u001b[0m \u001b[1;33m!=\u001b[0m \u001b[0mlen\u001b[0m\u001b[1;33m(\u001b[0m\u001b[0ms\u001b[0m\u001b[1;33m)\u001b[0m\u001b[1;33m:\u001b[0m\u001b[1;33m\u001b[0m\u001b[1;33m\u001b[0m\u001b[0m\n",
      "\u001b[1;32md:\\ana\\lib\\json\\decoder.py\u001b[0m in \u001b[0;36mraw_decode\u001b[1;34m(self, s, idx)\u001b[0m\n\u001b[0;32m    353\u001b[0m             \u001b[0mobj\u001b[0m\u001b[1;33m,\u001b[0m \u001b[0mend\u001b[0m \u001b[1;33m=\u001b[0m \u001b[0mself\u001b[0m\u001b[1;33m.\u001b[0m\u001b[0mscan_once\u001b[0m\u001b[1;33m(\u001b[0m\u001b[0ms\u001b[0m\u001b[1;33m,\u001b[0m \u001b[0midx\u001b[0m\u001b[1;33m)\u001b[0m\u001b[1;33m\u001b[0m\u001b[1;33m\u001b[0m\u001b[0m\n\u001b[0;32m    354\u001b[0m         \u001b[1;32mexcept\u001b[0m \u001b[0mStopIteration\u001b[0m \u001b[1;32mas\u001b[0m \u001b[0merr\u001b[0m\u001b[1;33m:\u001b[0m\u001b[1;33m\u001b[0m\u001b[1;33m\u001b[0m\u001b[0m\n\u001b[1;32m--> 355\u001b[1;33m             \u001b[1;32mraise\u001b[0m \u001b[0mJSONDecodeError\u001b[0m\u001b[1;33m(\u001b[0m\u001b[1;34m\"Expecting value\"\u001b[0m\u001b[1;33m,\u001b[0m \u001b[0ms\u001b[0m\u001b[1;33m,\u001b[0m \u001b[0merr\u001b[0m\u001b[1;33m.\u001b[0m\u001b[0mvalue\u001b[0m\u001b[1;33m)\u001b[0m \u001b[1;32mfrom\u001b[0m \u001b[1;32mNone\u001b[0m\u001b[1;33m\u001b[0m\u001b[1;33m\u001b[0m\u001b[0m\n\u001b[0m\u001b[0;32m    356\u001b[0m         \u001b[1;32mreturn\u001b[0m \u001b[0mobj\u001b[0m\u001b[1;33m,\u001b[0m \u001b[0mend\u001b[0m\u001b[1;33m\u001b[0m\u001b[1;33m\u001b[0m\u001b[0m\n",
      "\u001b[1;31mJSONDecodeError\u001b[0m: Expecting value: line 1 column 1 (char 0)"
     ]
    }
   ],
   "source": [
    "global headers\n",
    "req=ul.Request(url,headers=headers)\n",
    "html=ul.urlopen(req)\n",
    "content=html.read()\n",
    "print(content)\n",
    "info=json.loads(content)\n",
    "print(html)"
   ]
  },
  {
   "cell_type": "code",
   "execution_count": 4,
   "metadata": {},
   "outputs": [
    {
     "name": "stdout",
     "output_type": "stream",
     "text": [
      "<http.client.HTTPResponse object at 0x00000000098E0648>\n"
     ]
    }
   ],
   "source": [
    "print(html)"
   ]
  },
  {
   "cell_type": "code",
   "execution_count": 6,
   "metadata": {},
   "outputs": [],
   "source": [
    "#设定固定的文件夹\n",
    "in_path='D:/material/'\n",
    "out_path='D:/result/'"
   ]
  },
  {
   "cell_type": "code",
   "execution_count": 3,
   "metadata": {},
   "outputs": [],
   "source": [
    "import xlwt,xlrd\n",
    "import pandas as pd\n",
    "import os"
   ]
  },
  {
   "cell_type": "code",
   "execution_count": null,
   "metadata": {},
   "outputs": [],
   "source": [
    "#下面使用pandas汇总excel数据病进行输出和保存\n",
    "#标准的额时间输出  time.strftime(\"%Y-%m-%d %H:%M:%S\", time.localtime())"
   ]
  },
  {
   "cell_type": "code",
   "execution_count": 16,
   "metadata": {
    "scrolled": true
   },
   "outputs": [
    {
     "name": "stdout",
     "output_type": "stream",
     "text": [
      "      code  name industry area      pe\n",
      "0   688278   N特宝     生物制药   福建  255.91\n",
      "1   688099  晶晨股份      半导体   上海  189.64\n",
      "2   688088  虹软科技     软件服务   浙江  174.04\n",
      "3   688002  睿创微纳     通信设备   山东  168.26\n",
      "4   688012  中微公司     专用机械   上海  582.80\n",
      "5   688028   沃尔德     专用机械   北京  104.31\n",
      "6   688001  华兴源创     专用机械   江苏   91.68\n",
      "7   688058   宝兰德     软件服务   北京  192.11\n",
      "8   600327   大东方     汽车服务   江苏   15.21\n",
      "9     2316  亚联发展     软件服务   深圳   69.31\n",
      "10  603839  安正时尚       服饰   浙江   20.46\n",
      "11  603378  亚士创能     染料涂料   上海   49.68\n",
      "12    2725  跃岭股份     汽车配件   浙江   54.78\n",
      "13    2115  三维通信      互联网   浙江   38.57\n",
      "14  300336   新文化     影视音像   上海   45.72\n",
      "15    2279  久其软件     软件服务   北京  574.77\n",
      "16  300617  安靠智电     电气设备   江苏   48.91\n",
      "0   603158  腾龙股份     汽车配件   江苏   47.91\n",
      "1   600513  联环药业     化学制药   江苏   31.92\n",
      "2   600211  西藏药业      中成药   西藏   19.86\n",
      "3   300731  科创新源       橡胶   深圳   64.88\n",
      "4      860  顺鑫农业       白酒   北京   45.57\n",
      "5   603888   新华网      互联网   北京   82.77\n",
      "6   300603  立昂技术     通信设备   新疆   68.46\n",
      "7     2837   英维克     专用机械   深圳   48.46\n",
      "8   603700  宁波水表     电器仪表   浙江   24.68\n",
      "9   300687  赛意信息     软件服务   广东   57.95\n",
      "10  603600  永艺股份     家居用品   浙江   23.03\n",
      "11    2430  杭氧股份     化工机械   浙江   19.64\n",
      "12    2973  侨银环保     环境保护   广东   60.00\n",
      "13    2971  和远气体     化工原料   湖北   42.73\n",
      "14    2918  蒙娜丽莎     其他建材   广东   21.90\n",
      "15    2969  嘉美包装     广告包装   安徽  144.95\n",
      "16  600215  长春经开     园区开发   吉林   41.30\n",
      "17  300264  佳创视讯     通信设备   深圳    0.00\n",
      "18    2529  海源复材     专用机械   福建    0.00\n",
      "19     700  模塑科技     汽车配件   江苏   58.22\n",
      "20    2504  弘高创意     装修装饰   北京    0.00\n",
      "21     758  中色股份       铅锌   北京    0.00\n",
      "22  688010  福光股份     电器仪表   福建  111.06\n"
     ]
    }
   ],
   "source": [
    "new_name='save.xlsx'\n",
    "file_list=os.listdir(in_path)\n",
    "df=[]\n",
    "for i in file_list:\n",
    "    df.append(pd.read_excel(in_path+i))\n",
    "result=pd.concat(df)\n",
    "k=result.drop_duplicates()\n",
    "print(k)\n",
    "k.to_excel(out_path+new_name)"
   ]
  },
  {
   "cell_type": "code",
   "execution_count": 17,
   "metadata": {},
   "outputs": [
    {
     "name": "stdout",
     "output_type": "stream",
     "text": [
      "请输入需要汇总的excel文件的路径:D:/material/\n",
      "请输入汇总结果的文件的保存路径:D:/result/\n",
      "请输入汇总结果保存的文件名称:汇总结果\n",
      "      code  name industry area      pe\n",
      "0   688278   N特宝     生物制药   福建  255.91\n",
      "1   688099  晶晨股份      半导体   上海  189.64\n",
      "2   688088  虹软科技     软件服务   浙江  174.04\n",
      "3   688002  睿创微纳     通信设备   山东  168.26\n",
      "4   688012  中微公司     专用机械   上海  582.80\n",
      "5   688028   沃尔德     专用机械   北京  104.31\n",
      "6   688001  华兴源创     专用机械   江苏   91.68\n",
      "7   688058   宝兰德     软件服务   北京  192.11\n",
      "8   600327   大东方     汽车服务   江苏   15.21\n",
      "9     2316  亚联发展     软件服务   深圳   69.31\n",
      "10  603839  安正时尚       服饰   浙江   20.46\n",
      "11  603378  亚士创能     染料涂料   上海   49.68\n",
      "12    2725  跃岭股份     汽车配件   浙江   54.78\n",
      "13    2115  三维通信      互联网   浙江   38.57\n",
      "14  300336   新文化     影视音像   上海   45.72\n",
      "15    2279  久其软件     软件服务   北京  574.77\n",
      "16  300617  安靠智电     电气设备   江苏   48.91\n",
      "0   603158  腾龙股份     汽车配件   江苏   47.91\n",
      "1   600513  联环药业     化学制药   江苏   31.92\n",
      "2   600211  西藏药业      中成药   西藏   19.86\n",
      "3   300731  科创新源       橡胶   深圳   64.88\n",
      "4      860  顺鑫农业       白酒   北京   45.57\n",
      "5   603888   新华网      互联网   北京   82.77\n",
      "6   300603  立昂技术     通信设备   新疆   68.46\n",
      "7     2837   英维克     专用机械   深圳   48.46\n",
      "8   603700  宁波水表     电器仪表   浙江   24.68\n",
      "9   300687  赛意信息     软件服务   广东   57.95\n",
      "10  603600  永艺股份     家居用品   浙江   23.03\n",
      "11    2430  杭氧股份     化工机械   浙江   19.64\n",
      "12    2973  侨银环保     环境保护   广东   60.00\n",
      "13    2971  和远气体     化工原料   湖北   42.73\n",
      "14    2918  蒙娜丽莎     其他建材   广东   21.90\n",
      "15    2969  嘉美包装     广告包装   安徽  144.95\n",
      "16  600215  长春经开     园区开发   吉林   41.30\n",
      "17  300264  佳创视讯     通信设备   深圳    0.00\n",
      "18    2529  海源复材     专用机械   福建    0.00\n",
      "19     700  模塑科技     汽车配件   江苏   58.22\n",
      "20    2504  弘高创意     装修装饰   北京    0.00\n",
      "21     758  中色股份       铅锌   北京    0.00\n",
      "22  688010  福光股份     电器仪表   福建  111.06\n"
     ]
    }
   ],
   "source": [
    "def ex_combin():\n",
    "    in_path=input('请输入需要汇总的excel文件的路径:')\n",
    "    out_path=input('请输入汇总结果的文件的保存路径:')\n",
    "    new_name=input('请输入汇总结果保存的文件名称:')+'.xlsx'\n",
    "    file_list=os.listdir(in_path)\n",
    "    df=[]\n",
    "    for i in file_list:\n",
    "        df.append(pd.read_excel(in_path+i))\n",
    "    result=pd.concat(df)\n",
    "    k=result.drop_duplicates()\n",
    "    print(k)\n",
    "    k.to_excel(out_path+new_name)\n",
    "ex_combin()"
   ]
  },
  {
   "cell_type": "code",
   "execution_count": 2,
   "metadata": {},
   "outputs": [
    {
     "name": "stdout",
     "output_type": "stream",
     "text": [
      "请输入需要调查的网页地址:http://quote.eastmoney.com/bond/sz128073.html\n"
     ]
    }
   ],
   "source": [
    "url=input('请输入需要调查的网页地址:')"
   ]
  },
  {
   "cell_type": "code",
   "execution_count": 5,
   "metadata": {},
   "outputs": [
    {
     "ename": "TypeError",
     "evalue": "object of type 'Request' has no len()",
     "output_type": "error",
     "traceback": [
      "\u001b[1;31m---------------------------------------------------------------------------\u001b[0m",
      "\u001b[1;31mTypeError\u001b[0m                                 Traceback (most recent call last)",
      "\u001b[1;32m<ipython-input-5-7a4a55727753>\u001b[0m in \u001b[0;36m<module>\u001b[1;34m\u001b[0m\n\u001b[0;32m      1\u001b[0m \u001b[1;32mglobal\u001b[0m \u001b[0mheaders\u001b[0m\u001b[1;33m\u001b[0m\u001b[1;33m\u001b[0m\u001b[0m\n\u001b[0;32m      2\u001b[0m \u001b[0mreq\u001b[0m\u001b[1;33m=\u001b[0m\u001b[0mul\u001b[0m\u001b[1;33m.\u001b[0m\u001b[0mRequest\u001b[0m\u001b[1;33m(\u001b[0m\u001b[0murl\u001b[0m\u001b[1;33m,\u001b[0m\u001b[0mheaders\u001b[0m\u001b[1;33m=\u001b[0m\u001b[0mheaders\u001b[0m\u001b[1;33m)\u001b[0m\u001b[1;33m\u001b[0m\u001b[1;33m\u001b[0m\u001b[0m\n\u001b[1;32m----> 3\u001b[1;33m \u001b[0mhtml\u001b[0m\u001b[1;33m=\u001b[0m\u001b[0mbl\u001b[0m\u001b[1;33m(\u001b[0m\u001b[0mreq\u001b[0m\u001b[1;33m,\u001b[0m\u001b[1;34m'lxml'\u001b[0m\u001b[1;33m)\u001b[0m\u001b[1;33m\u001b[0m\u001b[1;33m\u001b[0m\u001b[0m\n\u001b[0m\u001b[0;32m      4\u001b[0m \u001b[0mprint\u001b[0m\u001b[1;33m(\u001b[0m\u001b[0mhtml\u001b[0m\u001b[1;33m)\u001b[0m\u001b[1;33m\u001b[0m\u001b[1;33m\u001b[0m\u001b[0m\n",
      "\u001b[1;32md:\\ana\\lib\\site-packages\\bs4\\__init__.py\u001b[0m in \u001b[0;36m__init__\u001b[1;34m(self, markup, features, builder, parse_only, from_encoding, exclude_encodings, element_classes, **kwargs)\u001b[0m\n\u001b[0;32m    273\u001b[0m         \u001b[1;32mif\u001b[0m \u001b[0mhasattr\u001b[0m\u001b[1;33m(\u001b[0m\u001b[0mmarkup\u001b[0m\u001b[1;33m,\u001b[0m \u001b[1;34m'read'\u001b[0m\u001b[1;33m)\u001b[0m\u001b[1;33m:\u001b[0m        \u001b[1;31m# It's a file-type object.\u001b[0m\u001b[1;33m\u001b[0m\u001b[1;33m\u001b[0m\u001b[0m\n\u001b[0;32m    274\u001b[0m             \u001b[0mmarkup\u001b[0m \u001b[1;33m=\u001b[0m \u001b[0mmarkup\u001b[0m\u001b[1;33m.\u001b[0m\u001b[0mread\u001b[0m\u001b[1;33m(\u001b[0m\u001b[1;33m)\u001b[0m\u001b[1;33m\u001b[0m\u001b[1;33m\u001b[0m\u001b[0m\n\u001b[1;32m--> 275\u001b[1;33m         elif len(markup) <= 256 and (\n\u001b[0m\u001b[0;32m    276\u001b[0m                 \u001b[1;33m(\u001b[0m\u001b[0misinstance\u001b[0m\u001b[1;33m(\u001b[0m\u001b[0mmarkup\u001b[0m\u001b[1;33m,\u001b[0m \u001b[0mbytes\u001b[0m\u001b[1;33m)\u001b[0m \u001b[1;32mand\u001b[0m \u001b[1;32mnot\u001b[0m \u001b[1;34mb'<'\u001b[0m \u001b[1;32min\u001b[0m \u001b[0mmarkup\u001b[0m\u001b[1;33m)\u001b[0m\u001b[1;33m\u001b[0m\u001b[1;33m\u001b[0m\u001b[0m\n\u001b[0;32m    277\u001b[0m                 \u001b[1;32mor\u001b[0m \u001b[1;33m(\u001b[0m\u001b[0misinstance\u001b[0m\u001b[1;33m(\u001b[0m\u001b[0mmarkup\u001b[0m\u001b[1;33m,\u001b[0m \u001b[0mstr\u001b[0m\u001b[1;33m)\u001b[0m \u001b[1;32mand\u001b[0m \u001b[1;32mnot\u001b[0m \u001b[1;34m'<'\u001b[0m \u001b[1;32min\u001b[0m \u001b[0mmarkup\u001b[0m\u001b[1;33m)\u001b[0m\u001b[1;33m\u001b[0m\u001b[1;33m\u001b[0m\u001b[0m\n",
      "\u001b[1;31mTypeError\u001b[0m: object of type 'Request' has no len()"
     ]
    }
   ],
   "source": [
    "global headers\n",
    "req=ul.Request(url,headers=headers)\n",
    "html=bl(req,'lxml')\n",
    "print(html)\n"
   ]
  },
  {
   "cell_type": "code",
   "execution_count": 5,
   "metadata": {
    "scrolled": false
   },
   "outputs": [
    {
     "name": "stdout",
     "output_type": "stream",
     "text": [
      "请输入需要查询的股票代码:600000\n",
      "请输入起始日期:2020-03-01\n",
      "请输入终止日期:2020-04-01\n",
      "             open   high  close    low     volume  price_change  p_change  \\\n",
      "date                                                                        \n",
      "2020-04-01  10.11  10.26  10.09  10.09  224791.92         -0.06     -0.59   \n",
      "2020-03-31  10.30  10.36  10.15  10.13  261448.55         -0.13     -1.26   \n",
      "2020-03-30  10.18  10.28  10.28  10.11  260460.19          0.04      0.39   \n",
      "2020-03-27  10.35  10.38  10.24  10.20  271079.50          0.01      0.10   \n",
      "2020-03-26  10.10  10.37  10.23  10.08  309218.03          0.08      0.79   \n",
      "2020-03-25  10.20  10.27  10.15  10.12  321722.78          0.09      0.90   \n",
      "2020-03-24  10.03  10.13  10.06   9.98  289907.53          0.22      2.24   \n",
      "2020-03-23   9.95   9.95   9.84   9.82  282860.31         -0.25     -2.48   \n",
      "2020-03-20  10.12  10.18  10.09   9.96  426093.59          0.15      1.51   \n",
      "2020-03-19  10.19  10.34   9.94   9.86  557071.12         -0.27     -2.64   \n",
      "2020-03-18  10.40  10.50  10.21  10.20  331766.47         -0.22     -2.11   \n",
      "2020-03-17  10.68  10.69  10.43  10.29  421390.09         -0.08     -0.76   \n",
      "2020-03-16  10.70  10.78  10.51  10.50  476499.25         -0.19     -1.78   \n",
      "2020-03-13  10.40  10.73  10.70  10.28  574571.06          0.06      0.56   \n",
      "2020-03-12  10.75  10.75  10.64  10.61  326323.50         -0.13     -1.21   \n",
      "2020-03-11  10.93  10.93  10.77  10.77  316888.25         -0.10     -0.92   \n",
      "2020-03-10  10.71  10.96  10.87  10.70  447617.38          0.09      0.83   \n",
      "2020-03-09  11.00  11.00  10.78  10.75  594952.44         -0.34     -3.06   \n",
      "2020-03-06  11.23  11.28  11.12  11.11  415878.19         -0.20     -1.77   \n",
      "2020-03-05  11.08  11.32  11.32  11.03  730478.81          0.29      2.63   \n",
      "2020-03-04  11.01  11.10  11.03  10.95  346283.59         -0.03     -0.27   \n",
      "2020-03-03  11.13  11.23  11.06  11.04  393324.59          0.02      0.18   \n",
      "2020-03-02  10.95  11.10  11.04  10.92  392450.56          0.19      1.75   \n",
      "\n",
      "               ma5    ma10    ma20      v_ma5     v_ma10     v_ma20  \n",
      "date                                                                 \n",
      "2020-04-01  10.198  10.107  10.421  265399.64  320465.35  392050.95  \n",
      "2020-03-31  10.210  10.119  10.468  284785.81  331162.81  398125.53  \n",
      "2020-03-30  10.192  10.147  10.514  290477.61  347156.96  404719.33  \n",
      "2020-03-27  10.104  10.170  10.552  294957.63  368760.87  411318.85  \n",
      "2020-03-26  10.074  10.216  10.582  325960.45  399110.02  422833.87  \n",
      "2020-03-25  10.016  10.257  10.631  375531.07  400820.57  423887.88  \n",
      "2020-03-24  10.028  10.319  10.684  377539.80  400337.12  433754.89  \n",
      "2020-03-23  10.102  10.400  10.735  403836.32  416108.10  443421.79  \n",
      "2020-03-20  10.236  10.494  10.801  442564.10  447317.32  451648.09  \n",
      "2020-03-19  10.358  10.597  10.862  472259.60  446295.78  449818.12  \n",
      "2020-03-18  10.498  10.735  10.926  426110.07  463636.54  440292.77  \n",
      "2020-03-17  10.610  10.817  10.971  423134.43  465088.26  436254.52  \n",
      "2020-03-16  10.698  10.880  11.003  428379.89  462281.71  430266.37  \n",
      "2020-03-13  10.752  10.933  11.036  452070.53  453876.84  427113.07  \n",
      "2020-03-12  10.836  10.948  11.044  420331.95  446557.72  409564.79  \n",
      "2020-03-11  10.972  11.005  11.050  501163.01  446955.19  404563.92  \n",
      "2020-03-10  11.024  11.048  11.055  507042.08  467172.66  401876.47  \n",
      "2020-03-09  11.062  11.070  11.054  496183.52  470735.48  396923.75  \n",
      "2020-03-06  11.114  11.108  11.054  455683.15  455978.86  384192.19  \n",
      "2020-03-05  11.060  11.126  11.041  472783.49  453340.46  379346.76  \n",
      "2020-03-04  11.038  11.117  11.014  392747.37  416948.99  361834.72  \n",
      "2020-03-03  11.072  11.125  10.998  427303.23  407420.79  367043.87  \n",
      "2020-03-02  11.078  11.125  10.978  445287.44  398251.04  380769.53  \n"
     ]
    }
   ],
   "source": [
    "import tushare as ts\n",
    "import pandas as pd\n",
    "\n",
    "out_path='d:/result/'\n",
    "filetype='.xlsx'\n",
    "code=input('请输入需要查询的股票代码:')\n",
    "start_date=input('请输入起始日期:')\n",
    "end_date=input('请输入终止日期:')\n",
    "df=ts.get_hist_data(code,start=start_date,end=end_date)\n",
    "print(df)\n",
    "df.to_excel(out_path+code+filetype)"
   ]
  },
  {
   "cell_type": "code",
   "execution_count": null,
   "metadata": {},
   "outputs": [],
   "source": []
  }
 ],
 "metadata": {
  "kernelspec": {
   "display_name": "Python 3",
   "language": "python",
   "name": "python3"
  },
  "language_info": {
   "codemirror_mode": {
    "name": "ipython",
    "version": 3
   },
   "file_extension": ".py",
   "mimetype": "text/x-python",
   "name": "python",
   "nbconvert_exporter": "python",
   "pygments_lexer": "ipython3",
   "version": "3.7.6"
  }
 },
 "nbformat": 4,
 "nbformat_minor": 2
}
