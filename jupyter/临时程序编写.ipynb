{
 "cells": [
  {
   "cell_type": "code",
   "execution_count": 9,
   "metadata": {},
   "outputs": [],
   "source": [
    "url='http://www.100ppi.com/mprice/mlist-1.html'"
   ]
  },
  {
   "cell_type": "code",
   "execution_count": 11,
   "metadata": {},
   "outputs": [
    {
     "name": "stdout",
     "output_type": "stream",
     "text": [
      "      品种名称                                                 品牌  \\\n",
      "0       槽钢      \\t唐钢\\n\\r\\n\\t\\t\\t\\t\\t    \\t\\t材质:Q235B ;形状:冷...   \n",
      "1       槽钢      \\t唐钢\\n\\r\\n\\t\\t\\t\\t\\t    \\t\\t材质:Q235B ;形状:冷...   \n",
      "2       槽钢      \\t唐钢\\n\\r\\n\\t\\t\\t\\t\\t    \\t\\t材质:Q235B ;形状:冷...   \n",
      "3       槽钢      \\t唐钢\\n\\r\\n\\t\\t\\t\\t\\t    \\t\\t材质:Q235B ;形状:冷...   \n",
      "4       槽钢      \\t唐钢\\n\\r\\n\\t\\t\\t\\t\\t    \\t\\t材质:Q235B ;形状:冷...   \n",
      "5       槽钢      \\t津西\\n\\r\\n\\t\\t\\t\\t\\t    \\t\\t材质:Q235B ;形状:冷...   \n",
      "6      镀锌板      \\t本钢\\n\\r\\n\\t\\t\\t\\t\\t    \\t\\t品种:热镀锌板;牌号:DX5...   \n",
      "7      镀锌板      \\t武钢\\n\\r\\n\\t\\t\\t\\t\\t    \\t\\t品种:热镀锌板;牌号:DX5...   \n",
      "8       槽钢      \\t鞍山宝得\\n\\r\\n\\t\\t\\t\\t\\t    \\t\\t材质:Q235B ;形状...   \n",
      "9      镀锌板      \\t武钢\\n\\r\\n\\t\\t\\t\\t\\t    \\t\\t品种:热镀锌板;牌号:DX5...   \n",
      "10     镀锌板      \\t邯钢\\n\\r\\n\\t\\t\\t\\t\\t    \\t\\t品种:热镀锌板;牌号:DX5...   \n",
      "11     镀锌板      \\t邯钢\\n\\r\\n\\t\\t\\t\\t\\t    \\t\\t品种:热镀锌板;牌号:DX5...   \n",
      "12     镀锌板      \\t攀华\\n\\r\\n\\t\\t\\t\\t\\t    \\t\\t品种:热镀锌板;牌号:DX5...   \n",
      "13     镀锌板      \\t邯钢\\n\\r\\n\\t\\t\\t\\t\\t    \\t\\t品种:热镀锌板;牌号:DX5...   \n",
      "14     镀锌板      \\t武钢\\n\\r\\n\\t\\t\\t\\t\\t    \\t\\t品种:热镀锌板;牌号:DX5...   \n",
      "15      槽钢      \\t马钢\\n\\r\\n\\t\\t\\t\\t\\t    \\t\\t材质:Q235B ;形状:冷...   \n",
      "16      槽钢      \\t马钢\\n\\r\\n\\t\\t\\t\\t\\t    \\t\\t材质:Q235B ;形状:冷...   \n",
      "17      角钢      \\t唐钢\\n\\r\\n\\t\\t\\t\\t\\t    \\t\\t规格: 5#;材质:Q235...   \n",
      "18  铁矿石(印)      \\t青岛港\\n\\r\\n\\t\\t\\t\\t\\t    \\t\\t品种:粉矿;产地:印度;品...   \n",
      "19  铁矿石(印)      \\t日照港\\n\\r\\n\\t\\t\\t\\t\\t    \\t\\t品种:粉矿;产地:印度;品...   \n",
      "20  铁矿石(印)      \\t京唐港\\n\\r\\n\\t\\t\\t\\t\\t    \\t\\t品种:粉矿;产地:印度;品...   \n",
      "21  铁矿石(印)      \\t天津港\\n\\r\\n\\t\\t\\t\\t\\t    \\t\\t品种:粉矿;产地:印度;品...   \n",
      "22  铁矿石(印)      \\t曹妃甸港\\n\\r\\n\\t\\t\\t\\t\\t    \\t\\t品种:粉矿;产地:印度;...   \n",
      "23  铁矿石(印)      \\t江阴港\\n\\r\\n\\t\\t\\t\\t\\t    \\t\\t品种:粉矿;产地:印度;品...   \n",
      "24  铁矿石(巴)      \\t日照港\\n\\r\\n\\t\\t\\t\\t\\t    \\t\\t品种:粗粉;产地:巴西;品...   \n",
      "25  铁矿石(巴)      \\t青岛港\\n\\r\\n\\t\\t\\t\\t\\t    \\t\\t品种:粗粉;产地:巴西;品...   \n",
      "26  铁矿石(巴)      \\t京唐港\\n\\r\\n\\t\\t\\t\\t\\t    \\t\\t品种:粗粉;产地:巴西;品...   \n",
      "27  铁矿石(巴)      \\t防城港\\n\\r\\n\\t\\t\\t\\t\\t    \\t\\t品种:粗粉;产地:巴西;品...   \n",
      "28  铁矿石(巴)      \\t北仑港\\n\\r\\n\\t\\t\\t\\t\\t    \\t\\t品种:粗粉;产地:巴西;品...   \n",
      "29  铁矿石(巴)      \\t天津港\\n\\r\\n\\t\\t\\t\\t\\t    \\t\\t品种:粗粉;产地:巴西;品...   \n",
      "\n",
      "                                         规格  \\\n",
      "0            材质:Q235B ;形状:冷弯等边槽钢 ;规格: 20#A;   \n",
      "1            材质:Q235B ;形状:冷弯等边槽钢 ;规格: 20#A;   \n",
      "2            材质:Q235B ;形状:冷弯等边槽钢 ;规格: 20#A;   \n",
      "3            材质:Q235B ;形状:冷弯等边槽钢 ;规格: 20#A;   \n",
      "4            材质:Q235B ;形状:冷弯等边槽钢 ;规格: 20#A;   \n",
      "5            材质:Q235B ;形状:冷弯等边槽钢 ;规格: 20#A;   \n",
      "6   品种:热镀锌板;牌号:DX51D+Z;规格:1.0*1250*C;锌层:Z80   \n",
      "7   品种:热镀锌板;牌号:DX51D+Z;规格:1.0*1250*C;锌层:Z80   \n",
      "8            材质:Q235B ;形状:冷弯等边槽钢 ;规格: 20#A;   \n",
      "9   品种:热镀锌板;牌号:DX51D+Z;规格:1.0*1250*C;锌层:Z80   \n",
      "10  品种:热镀锌板;牌号:DX51D+Z;规格:1.0*1250*C;锌层:Z80   \n",
      "11  品种:热镀锌板;牌号:DX51D+Z;规格:1.0*1250*C;锌层:Z80   \n",
      "12  品种:热镀锌板;牌号:DX51D+Z;规格:1.0*1250*C;锌层:Z80   \n",
      "13  品种:热镀锌板;牌号:DX51D+Z;规格:1.0*1250*C;锌层:Z80   \n",
      "14  品种:热镀锌板;牌号:DX51D+Z;规格:1.0*1250*C;锌层:Z80   \n",
      "15           材质:Q235B ;形状:冷弯等边槽钢 ;规格: 20#A;   \n",
      "16           材质:Q235B ;形状:冷弯等边槽钢 ;规格: 20#A;   \n",
      "17               规格: 5#;材质:Q235B ;品种:等边角钢 ;   \n",
      "18                   品种:粉矿;产地:印度;品位:62%;湿吨;   \n",
      "19                   品种:粉矿;产地:印度;品位:62%;湿吨;   \n",
      "20                   品种:粉矿;产地:印度;品位:62%;湿吨;   \n",
      "21                   品种:粉矿;产地:印度;品位:62%;湿吨;   \n",
      "22                   品种:粉矿;产地:印度;品位:62%;湿吨;   \n",
      "23                   品种:粉矿;产地:印度;品位:62%;湿吨;   \n",
      "24                 品种:粗粉;产地:巴西;品位:63.5%;湿吨;   \n",
      "25                 品种:粗粉;产地:巴西;品位:63.5%;湿吨;   \n",
      "26                 品种:粗粉;产地:巴西;品位:63.5%;湿吨;   \n",
      "27                 品种:粗粉;产地:巴西;品位:63.5%;湿吨;   \n",
      "28                 品种:粗粉;产地:巴西;品位:63.5%;湿吨;   \n",
      "29                 品种:粗粉;产地:巴西;品位:63.5%;湿吨;   \n",
      "\n",
      "                                                   报价           报价提供方  \\\n",
      "0       \\t市场价\\r\\n\\t\\t\\t\\t\\t    \\t3790元/吨\\r\\n\\t\\t\\t...    无锡乐源金属材料有限公司   \n",
      "1       \\t市场价\\r\\n\\t\\t\\t\\t\\t    \\t3460元/吨\\r\\n\\t\\t\\t...  唐山市丰润区合鑫贸易有限公司   \n",
      "2       \\t市场价\\r\\n\\t\\t\\t\\t\\t    \\t3690元/吨\\r\\n\\t\\t\\t...      上海卓厚实业有限公司   \n",
      "3       \\t市场价\\r\\n\\t\\t\\t\\t\\t    \\t3760元/吨\\r\\n\\t\\t\\t...      上海锦旺钢铁有限公司   \n",
      "4       \\t市场价\\r\\n\\t\\t\\t\\t\\t    \\t3400元/吨\\r\\n\\t\\t\\t...      上海长轶实业有限公司   \n",
      "5       \\t市场价\\r\\n\\t\\t\\t\\t\\t    \\t3500元/吨\\r\\n\\t\\t\\t...    邯郸市和共元贸易有限公司   \n",
      "6       \\t市场价\\r\\n\\t\\t\\t\\t\\t    \\t4350元/吨\\r\\n\\t\\t\\t...  上海济闽（渊德）实业有限公司   \n",
      "7       \\t市场价\\r\\n\\t\\t\\t\\t\\t    \\t4520元/吨\\r\\n\\t\\t\\t...      上海苏竞实业有限公司   \n",
      "8       \\t市场价\\r\\n\\t\\t\\t\\t\\t    \\t3390元/吨\\r\\n\\t\\t\\t...      鞍山宝得钢铁有限公司   \n",
      "9       \\t市场价\\r\\n\\t\\t\\t\\t\\t    \\t4520元/吨\\r\\n\\t\\t\\t...      上海皖众实业有限公司   \n",
      "10      \\t市场价\\r\\n\\t\\t\\t\\t\\t    \\t4330元/吨\\r\\n\\t\\t\\t...      上海意翔贸易有限公司   \n",
      "11      \\t市场价\\r\\n\\t\\t\\t\\t\\t    \\t4300元/吨\\r\\n\\t\\t\\t...   上海宝源钢国际贸易有限公司   \n",
      "12      \\t市场价\\r\\n\\t\\t\\t\\t\\t    \\t4200元/吨\\r\\n\\t\\t\\t...        攀华集团有限公司   \n",
      "13      \\t市场价\\r\\n\\t\\t\\t\\t\\t    \\t4350元/吨\\r\\n\\t\\t\\t...   邯郸市宝鼎钢铁贸易有限公司   \n",
      "14      \\t市场价\\r\\n\\t\\t\\t\\t\\t    \\t4620元/吨\\r\\n\\t\\t\\t...     武汉市晓俊物资有限公司   \n",
      "15      \\t市场价\\r\\n\\t\\t\\t\\t\\t    \\t3750元/吨\\r\\n\\t\\t\\t...   江苏智恒达钢铁贸易有限公司   \n",
      "16      \\t市场价\\r\\n\\t\\t\\t\\t\\t    \\t3650元/吨\\r\\n\\t\\t\\t...     佛山市联骏贸易有限公司   \n",
      "17      \\t市场价\\r\\n\\t\\t\\t\\t\\t    \\t3720元/吨\\r\\n\\t\\t\\t...    无锡乐源金属材料有限公司   \n",
      "18      \\t市场价\\r\\n\\t\\t\\t\\t\\t    \\t611元/吨\\r\\n\\t\\t\\t\\...             青岛港   \n",
      "19      \\t市场价\\r\\n\\t\\t\\t\\t\\t    \\t611元/吨\\r\\n\\t\\t\\t\\...             日照港   \n",
      "20      \\t市场价\\r\\n\\t\\t\\t\\t\\t    \\t590元/吨\\r\\n\\t\\t\\t\\...             京唐港   \n",
      "21      \\t市场价\\r\\n\\t\\t\\t\\t\\t    \\t600元/吨\\r\\n\\t\\t\\t\\...             天津港   \n",
      "22      \\t市场价\\r\\n\\t\\t\\t\\t\\t    \\t590元/吨\\r\\n\\t\\t\\t\\...            曹妃甸港   \n",
      "23      \\t市场价\\r\\n\\t\\t\\t\\t\\t    \\t613元/吨\\r\\n\\t\\t\\t\\...             江阴港   \n",
      "24      \\t市场价\\r\\n\\t\\t\\t\\t\\t    \\t688元/吨\\r\\n\\t\\t\\t\\...             日照港   \n",
      "25      \\t市场价\\r\\n\\t\\t\\t\\t\\t    \\t688元/吨\\r\\n\\t\\t\\t\\...             青岛港   \n",
      "26      \\t市场价\\r\\n\\t\\t\\t\\t\\t    \\t687元/吨\\r\\n\\t\\t\\t\\...             京唐港   \n",
      "27      \\t市场价\\r\\n\\t\\t\\t\\t\\t    \\t680元/吨\\r\\n\\t\\t\\t\\...             防城港   \n",
      "28      \\t市场价\\r\\n\\t\\t\\t\\t\\t    \\t700元/吨\\r\\n\\t\\t\\t\\...             北仑港   \n",
      "29      \\t市场价\\r\\n\\t\\t\\t\\t\\t    \\t707元/吨\\r\\n\\t\\t\\t\\...             天津港   \n",
      "\n",
      "          发布时间  \n",
      "0   2020-03-13  \n",
      "1   2020-03-13  \n",
      "2   2020-03-13  \n",
      "3   2020-03-13  \n",
      "4   2020-03-13  \n",
      "5   2020-03-13  \n",
      "6   2020-03-13  \n",
      "7   2020-03-13  \n",
      "8   2020-03-13  \n",
      "9   2020-03-13  \n",
      "10  2020-03-13  \n",
      "11  2020-03-13  \n",
      "12  2020-03-13  \n",
      "13  2020-03-13  \n",
      "14  2020-03-13  \n",
      "15  2020-03-13  \n",
      "16  2020-03-13  \n",
      "17  2020-03-13  \n",
      "18  2020-03-13  \n",
      "19  2020-03-13  \n",
      "20  2020-03-13  \n",
      "21  2020-03-13  \n",
      "22  2020-03-13  \n",
      "23  2020-03-13  \n",
      "24  2020-03-13  \n",
      "25  2020-03-13  \n",
      "26  2020-03-13  \n",
      "27  2020-03-13  \n",
      "28  2020-03-13  \n",
      "29  2020-03-13  \n"
     ]
    }
   ],
   "source": [
    "import requests as rq\n",
    "from bs4 import BeautifulSoup as bp\n",
    "import itertools as it\n",
    "import pandas as pd\n",
    "import openpyxl\n",
    "import xlwt\n",
    "def page_price_get(url):\n",
    "    r=rq.get(url)\n",
    "    soup=bp(r.text,'lxml')\n",
    "    infors=soup.find_all('tr')\n",
    "    lst=[]\n",
    "    for infor in infors:\n",
    "        if infor.td==None:\n",
    "            pass\n",
    "        else:\n",
    "            dic={}\n",
    "            dic['品种名称']=infor.find('td',class_=\"p-name a-blue\").text.strip('\\r').strip('\\n').strip('\\t')\n",
    "            dic['品牌']=infor.find_all('td')[1].text.strip('\\r').strip('\\n').strip('\\t')\n",
    "            dic['规格']=infor.find_all('td')[1].attrs['title'].strip('\\r').strip('\\n').strip('\\t')\n",
    "            dic['报价']=infor.find_all('td')[2].text.strip('\\r').strip('\\n').strip('\\t')\n",
    "            dic['报价提供方']=infor.find_all('td')[3].attrs['title'].strip('\\r').strip('\\n').strip('\\t')\n",
    "            dic['发布时间']=infor.find_all('td')[4].text\n",
    "            lst.append(dic)\n",
    "    data=pd.DataFrame(lst)\n",
    "    print(data)\n",
    "url='http://www.100ppi.com/mprice/mlist-1.html'\n",
    "page_price_get(url)"
   ]
  },
  {
   "cell_type": "markdown",
   "metadata": {},
   "source": [
    " <th class=\"tind10 tal\" width=\"18%\">品种名称</th>\n",
    " <th class=\"tal\" width=\"35%\">品牌与规格</th>\n",
    " <th class=\"tal\" width=\"15%\">报价</th>\n",
    " <th class=\"tal\" width=\"15%\">报价提供方</th>\n",
    " <th class=\"tal\" width=\"13%\">发布时间</th>"
   ]
  },
  {
   "cell_type": "code",
   "execution_count": 9,
   "metadata": {},
   "outputs": [],
   "source": [
    "import requests as rq\n",
    "from bs4 import BeautifulSoup as bp\n",
    "import itertools as it\n",
    "import pandas as pd\n",
    "def page_price_get(url):\n",
    "    r=rq.get(url)\n",
    "    soup=bp(r.text,'lxml')\n",
    "    infors=soup.find_all('tr')\n",
    "    print(infos)"
   ]
  },
  {
   "cell_type": "code",
   "execution_count": 1,
   "metadata": {},
   "outputs": [
    {
     "name": "stdout",
     "output_type": "stream",
     "text": [
      "\n",
      "\n",
      "\n",
      "\n",
      "\n",
      "\n",
      "\n",
      "\n",
      "\n",
      "\n",
      "\n",
      "\n",
      "\n",
      "\n",
      "\n",
      "\n",
      "\n",
      "\n",
      "\n",
      "\n",
      "\n",
      "\n",
      "\n",
      "\n",
      "\n",
      "\n",
      "\n",
      "\n",
      "\n",
      "\n",
      "\n",
      "\n",
      "\n",
      "\n",
      "\n",
      "\n",
      "\n",
      "\n",
      "\n",
      "\n",
      "\n",
      "\n",
      "\n",
      "\n",
      "\n",
      "\n",
      "\n",
      "\n",
      "\n",
      "\n",
      "\n",
      "\n",
      "\n",
      "\n",
      "\n",
      "\n",
      "\n",
      "\n",
      "\n",
      "\n",
      "\n",
      "\n",
      "\n",
      "\n",
      "\n",
      "\n",
      "\n",
      "\n",
      "\n",
      "\n",
      "\n",
      "\n",
      "\n",
      "\n",
      "\n",
      "\n",
      "\n",
      "\n",
      "\n",
      "\n",
      "\n",
      "\n",
      "\n",
      "\n",
      "\n",
      "\n",
      "\n",
      "\n",
      "\n",
      "\n",
      "\n",
      "\n",
      "\n",
      "\n",
      "\n",
      "\n",
      "\n",
      "\n",
      "\n",
      "\n",
      "\n",
      "\n",
      "\n",
      "\n",
      "\n",
      "\n",
      "\n",
      "\n",
      "\n",
      "\n",
      "\n",
      "\n",
      "\n",
      "\n",
      "\n",
      "\n",
      "\n",
      "\n",
      "\n",
      "\n",
      "\n",
      "\n",
      "\n",
      "\n",
      "\n",
      "\n",
      "\n",
      "\n",
      "\n",
      "\n",
      "\n",
      "\n",
      "\n",
      "\n",
      "\n",
      "\n",
      "\n",
      "\n",
      "\n",
      "\n",
      "\n",
      "\n",
      "\n",
      "\n",
      "\n",
      "\n",
      "\n",
      "\n",
      "\n",
      "\n",
      "\n",
      "\n",
      "\n",
      "\n",
      "\n",
      "\n",
      "\n",
      "\n",
      "\n",
      "\n",
      "\n",
      "\n",
      "\n",
      "\n",
      "\n",
      "\n",
      "\n",
      "\n",
      "\n",
      "\n",
      "\n",
      "\n",
      "\n"
     ]
    }
   ],
   "source": [
    "import requests as rq\n",
    "from bs4 import BeautifulSoup as bp\n",
    "import json\n",
    "import itertools as it\n",
    "\n",
    "def page_get(url):\n",
    "    r=rq.get(url)\n",
    "    soup=bp(r.text,'lxml')\n",
    "    infors=soup.find_all('br')\n",
    "    for i in infors:\n",
    "        print(i.text)\n",
    "\n",
    "url='https://www.biqugex.com/book_90481/466321262.html'\n",
    "page_get(url)"
   ]
  },
  {
   "cell_type": "code",
   "execution_count": 12,
   "metadata": {},
   "outputs": [
    {
     "name": "stdout",
     "output_type": "stream",
     "text": [
      "2020-03-13\n"
     ]
    }
   ],
   "source": [
    "import time\n",
    "def t_today():\n",
    "    return(time.strftime('%Y-%m-%d',time.localtime(time.time())))\n",
    "print(t_today())\n"
   ]
  },
  {
   "cell_type": "code",
   "execution_count": 16,
   "metadata": {},
   "outputs": [
    {
     "name": "stdout",
     "output_type": "stream",
     "text": [
      "请输入需要查询的历史数据起始日期:2019-09-12\n",
      "请输入需要查询的股票代码:300510\n",
      "<class 'pandas.core.frame.DataFrame'>\n"
     ]
    }
   ],
   "source": [
    "import tushare as ts\n",
    "start_date=input(\"请输入需要查询的历史数据起始日期:\")\n",
    "stock=input(\"请输入需要查询的股票代码:\")\n",
    "end=t_today()\n",
    "df=ts.get_hist_data(stock,start=start_date,end=end)\n",
    "df[['high','low']]"
   ]
  },
  {
   "cell_type": "code",
   "execution_count": 2,
   "metadata": {},
   "outputs": [
    {
     "ename": "Terminator",
     "evalue": "",
     "output_type": "error",
     "traceback": [
      "\u001b[1;31m---------------------------------------------------------------------------\u001b[0m",
      "\u001b[1;31mTerminator\u001b[0m                                Traceback (most recent call last)",
      "\u001b[1;32m<ipython-input-2-5bb12a0d14f3>\u001b[0m in \u001b[0;36m<module>\u001b[1;34m\u001b[0m\n\u001b[0;32m      1\u001b[0m \u001b[1;32mimport\u001b[0m \u001b[0mturtle\u001b[0m\u001b[1;33m\u001b[0m\u001b[1;33m\u001b[0m\u001b[0m\n\u001b[0;32m      2\u001b[0m \u001b[1;33m\u001b[0m\u001b[0m\n\u001b[1;32m----> 3\u001b[1;33m \u001b[0mturtle\u001b[0m\u001b[1;33m.\u001b[0m\u001b[0mpensize\u001b[0m\u001b[1;33m(\u001b[0m\u001b[1;36m4\u001b[0m\u001b[1;33m)\u001b[0m\u001b[1;33m\u001b[0m\u001b[1;33m\u001b[0m\u001b[0m\n\u001b[0m\u001b[0;32m      4\u001b[0m \u001b[0mturtle\u001b[0m\u001b[1;33m.\u001b[0m\u001b[0mpencolor\u001b[0m\u001b[1;33m(\u001b[0m\u001b[1;34m'red'\u001b[0m\u001b[1;33m)\u001b[0m\u001b[1;33m\u001b[0m\u001b[1;33m\u001b[0m\u001b[0m\n\u001b[0;32m      5\u001b[0m \u001b[1;33m\u001b[0m\u001b[0m\n",
      "\u001b[1;32md:\\ana\\lib\\turtle.py\u001b[0m in \u001b[0;36mpensize\u001b[1;34m(width)\u001b[0m\n",
      "\u001b[1;31mTerminator\u001b[0m: "
     ]
    }
   ],
   "source": [
    "import turtle\n",
    "\n",
    "turtle.pensize(4)\n",
    "turtle.pencolor('red')\n",
    "\n",
    "turtle.forward(100)\n",
    "turtle.right(90)\n",
    "turtle.forward(100)\n",
    "turtle.right(90)\n",
    "turtle.forward(100)\n",
    "turtle.right(90)\n",
    "turtle.forward(100)\n",
    "\n",
    "turtle.mainloop()"
   ]
  },
  {
   "cell_type": "code",
   "execution_count": 3,
   "metadata": {},
   "outputs": [
    {
     "name": "stdout",
     "output_type": "stream",
     "text": [
      "153\n",
      "370\n",
      "371\n",
      "407\n"
     ]
    }
   ],
   "source": [
    "#水仙花数\n",
    "for num in range(100, 1000):\n",
    "    low = num % 10\n",
    "    mid = num // 10 % 10\n",
    "    high = num // 100\n",
    "    if num == low ** 3 + mid ** 3 + high ** 3:\n",
    "        print(num)"
   ]
  },
  {
   "cell_type": "code",
   "execution_count": 4,
   "metadata": {},
   "outputs": [
    {
     "name": "stdout",
     "output_type": "stream",
     "text": [
      "num = 37580\n",
      "8573\n"
     ]
    }
   ],
   "source": [
    "#正整数的反转\n",
    "num = int(input('num = '))\n",
    "reversed_num = 0\n",
    "while num > 0:\n",
    "    reversed_num = reversed_num * 10 + num % 10\n",
    "    num //= 10\n",
    "print(reversed_num)"
   ]
  },
  {
   "cell_type": "code",
   "execution_count": 5,
   "metadata": {},
   "outputs": [
    {
     "name": "stdout",
     "output_type": "stream",
     "text": [
      "m = 12\n",
      "n = 8\n",
      "495\n"
     ]
    }
   ],
   "source": [
    "def factorial(num):\n",
    "    \"\"\"求阶乘\"\"\"\n",
    "    result = 1\n",
    "    for n in range(1, num + 1):\n",
    "        result *= n\n",
    "    return result\n",
    "\n",
    "\n",
    "m = int(input('m = '))\n",
    "n = int(input('n = '))\n",
    "# 当需要计算阶乘的时候不用再写循环求阶乘而是直接调用已经定义好的函数\n",
    "print(factorial(m) // factorial(n) // factorial(m - n))"
   ]
  },
  {
   "cell_type": "code",
   "execution_count": 8,
   "metadata": {},
   "outputs": [
    {
     "name": "stdout",
     "output_type": "stream",
     "text": [
      "8\n",
      "12\n",
      "0\n",
      "1\n",
      "3\n",
      "6\n",
      "350\n"
     ]
    }
   ],
   "source": [
    "from random import randint\n",
    "\n",
    "\n",
    "def roll_dice(n=2):\n",
    "    \"\"\"摇色子\"\"\"\n",
    "    total = 0\n",
    "    for _ in range(n):\n",
    "        total += randint(1, 6)\n",
    "    return total\n",
    "\n",
    "\n",
    "def add(a=0, b=0, c=0):\n",
    "    \"\"\"三个数相加\"\"\"\n",
    "    return a + b + c\n",
    "\n",
    "\n",
    "# 如果没有指定参数那么使用默认值摇两颗色子\n",
    "print(roll_dice())\n",
    "# 摇三颗色子\n",
    "print(roll_dice(3))\n",
    "print(add())\n",
    "print(add(1))\n",
    "print(add(1, 2))\n",
    "print(add(1, 2, 3))\n",
    "# 传递参数时可以不按照设定的顺序进行传递\n",
    "print(add(c=50, a=100, b=200))"
   ]
  },
  {
   "cell_type": "code",
   "execution_count": 9,
   "metadata": {},
   "outputs": [
    {
     "name": "stdout",
     "output_type": "stream",
     "text": [
      "0\n",
      "1\n",
      "3\n",
      "6\n",
      "25\n"
     ]
    }
   ],
   "source": [
    "def add(*args):\n",
    "    total = 0\n",
    "    for val in args:\n",
    "        total += val\n",
    "    return total\n",
    "\n",
    "\n",
    "# 在调用add函数时可以传入0个或多个参数\n",
    "print(add())\n",
    "print(add(1))\n",
    "print(add(1, 2))\n",
    "print(add(1, 2, 3))\n",
    "print(add(1, 3, 5, 7, 9))"
   ]
  },
  {
   "cell_type": "code",
   "execution_count": 2,
   "metadata": {},
   "outputs": [
    {
     "name": "stdout",
     "output_type": "stream",
     "text": [
      "13\n",
      "Hello, world!\n",
      "Hello, World!\n",
      "HELLO, WORLD!\n",
      "8\n",
      "-1\n",
      "False\n",
      "True\n",
      "True\n",
      "******************hello, world!*******************\n",
      "                                     hello, world!\n",
      "False\n",
      "False\n",
      "True\n",
      "  jackfrued@126.com \n",
      "jackfrued@126.com\n"
     ]
    }
   ],
   "source": [
    "str1 = 'hello, world!'\n",
    "# 通过内置函数len计算字符串的长度\n",
    "print(len(str1)) # 13\n",
    "# 获得字符串首字母大写的拷贝\n",
    "print(str1.capitalize()) # Hello, world!\n",
    "# 获得字符串每个单词首字母大写的拷贝\n",
    "print(str1.title()) # Hello, World!\n",
    "# 获得字符串变大写后的拷贝\n",
    "print(str1.upper()) # HELLO, WORLD!\n",
    "# 从字符串中查找子串所在位置\n",
    "print(str1.find('or')) # 8\n",
    "print(str1.find('shit')) # -1\n",
    "# 与find类似但找不到子串时会引发异常\n",
    "# print(str1.index('or'))\n",
    "# print(str1.index('shit'))\n",
    "# 检查字符串是否以指定的字符串开头\n",
    "print(str1.startswith('He')) # False\n",
    "print(str1.startswith('hel')) # True\n",
    "# 检查字符串是否以指定的字符串结尾\n",
    "print(str1.endswith('!')) # True\n",
    "# 将字符串以指定的宽度居中并在两侧填充指定的字符\n",
    "print(str1.center(50, '*'))\n",
    "# 将字符串以指定的宽度靠右放置左侧填充指定的字符\n",
    "print(str1.rjust(50, ' '))\n",
    "str2 = 'abc123456'\n",
    "# 检查字符串是否由数字构成\n",
    "print(str2.isdigit())  # False\n",
    "# 检查字符串是否以字母构成\n",
    "print(str2.isalpha())  # False\n",
    "# 检查字符串是否以数字和字母构成\n",
    "print(str2.isalnum())  # True\n",
    "str3 = '  jackfrued@126.com '\n",
    "print(str3)\n",
    "# 获得字符串修剪左右两侧空格之后的拷贝\n",
    "print(str3.strip())"
   ]
  },
  {
   "cell_type": "code",
   "execution_count": null,
   "metadata": {
    "scrolled": true
   },
   "outputs": [
    {
     "name": "stdout",
     "output_type": "stream",
     "text": [
      "<VideoCapture 0000000005FA0670>\n"
     ]
    }
   ],
   "source": [
    "import cv2\n",
    "cap=cv2.VideoCapture(0)\n",
    "print(cap)\n",
    "while (1):\n",
    "    ret, frame = cap.read()\n",
    "    cv2.imshow(\"capture\", frame)"
   ]
  },
  {
   "cell_type": "code",
   "execution_count": 1,
   "metadata": {},
   "outputs": [
    {
     "name": "stdout",
     "output_type": "stream",
     "text": [
      "                             title         ptime  rcounts\n",
      "0                       A股扛住了 玄机乍现  03月13日 15:08   1808.0\n",
      "1                        全球资产跌出新高度  03月13日 12:11   1672.0\n",
      "2                           市场周五邂逅  03月13日 08:12   1986.0\n",
      "3                   转机近在眼前珍惜当前大好时光  03月13日 08:16   2042.0\n",
      "4                   外资抛压能否砸出中线黄金坑？                    0.0\n",
      "5                  放眼全球股市 大A股独特的魅力  03月13日 08:48   1954.0\n",
      "6             宽幅震荡底部探明  科技股比权重更有弹性  03月13日 15:31   2034.0\n",
      "7                     下周A股能否继续独善其中  03月13日 15:35   2235.0\n",
      "8          券商股的价值回归 就在今年放开外资持股比例之时                    0.0\n",
      "9           A股10年罕见地原地踏步必迎来罕见的爆发 个  03月13日 11:52   1915.0\n",
      "10     外围不是很理想，关键看我们开盘，如果开盘大盘跌4%以上                    0.0\n",
      "11  辽宁成大近日屡遭粤民投等众机构巨量扫货冲板！一文读透辽宁成大                    0.0\n",
      "12             国际疫情扩散，国际经济必然受到严重影响                    0.0\n",
      "13     1、松炀资源，上涨速率较快，明显放量，接近时间周期尾端                    0.0\n",
      "14  银河证券：建议布局长期投资以5G网络建设为核心的新基建腾讯自                    0.0\n",
      "15             针对你提出的问题，松炀资源继续持有看涨                    0.0\n",
      "16         老朋友，你的仓位也不高，可以适当减一点就可以了                    0.0\n",
      "17                      沪股通竟然又是加仓？                    0.0\n"
     ]
    }
   ],
   "source": [
    "import tushare as ts\n",
    "df=ts.guba_sina()\n",
    "print(df)"
   ]
  },
  {
   "cell_type": "code",
   "execution_count": 7,
   "metadata": {},
   "outputs": [
    {
     "name": "stdout",
     "output_type": "stream",
     "text": [
      "[Getting data:]##########################################################################        code  name type report_date  pre_eps         range\n",
      "0     002538   司尔特   预降  2020-03-13   0.4200        -20.58\n",
      "1     002941  新疆交建   预降  2020-03-13   0.6000        -49.35\n",
      "2     002244  滨江集团   预升  2020-03-13   0.3900          34.6\n",
      "3     002590  万安科技   预盈  2020-03-13  -0.0700         501.7\n",
      "4     603557  起步股份   预降  2020-03-13   0.3845        -18.76\n",
      "...      ...   ...  ...         ...      ...           ...\n",
      "4433  601099   太平洋   预警  2019-08-17  -0.1940             0\n",
      "4434  600988  赤峰黄金   预盈  2019-07-26  -0.0900             0\n",
      "4435  603687   大胜达   预升  2019-06-17   0.3900  7.31%~15.22%\n",
      "4436  600399  ST抚钢   预减  2019-04-30   2.0100             0\n",
      "4437  600662  强生控股    0  2019-04-27   0.0615             0\n",
      "\n",
      "[4438 rows x 6 columns]\n"
     ]
    }
   ],
   "source": [
    "df2=ts.forecast_data(2019,4)\n",
    "print(df2)\n",
    "df2.to_excel('d:/fore.xlsx')"
   ]
  },
  {
   "cell_type": "code",
   "execution_count": null,
   "metadata": {},
   "outputs": [],
   "source": []
  }
 ],
 "metadata": {
  "kernelspec": {
   "display_name": "Python 3",
   "language": "python",
   "name": "python3"
  },
  "language_info": {
   "codemirror_mode": {
    "name": "ipython",
    "version": 3
   },
   "file_extension": ".py",
   "mimetype": "text/x-python",
   "name": "python",
   "nbconvert_exporter": "python",
   "pygments_lexer": "ipython3",
   "version": "3.7.6"
  }
 },
 "nbformat": 4,
 "nbformat_minor": 2
}
